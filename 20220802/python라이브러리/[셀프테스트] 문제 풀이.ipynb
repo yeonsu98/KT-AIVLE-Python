{
 "cells": [
  {
   "cell_type": "code",
   "execution_count": 85,
   "id": "a7caf688-7987-40fc-90ce-e658cc17c5b0",
   "metadata": {},
   "outputs": [
    {
     "data": {
      "text/plain": [
       "Embarked  Pclass\n",
       "C         1         35.90\n",
       "          2         27.00\n",
       "          3         27.75\n",
       "Q         1         38.50\n",
       "          2         30.00\n",
       "          3         27.00\n",
       "S         1         35.90\n",
       "          2         30.00\n",
       "          3         26.00\n",
       "Name: Age, dtype: float64"
      ]
     },
     "execution_count": 85,
     "metadata": {},
     "output_type": "execute_result"
    }
   ],
   "source": [
    "titanic = pd.read_csv('https://bit.ly/3HaMAtZ')\n",
    "titanic.groupby(['Embarked', 'Pclass'])['Age'].median()"
   ]
  },
  {
   "cell_type": "code",
   "execution_count": 103,
   "id": "ea1e57be-86ce-4562-86dd-33c8e3f494dd",
   "metadata": {},
   "outputs": [
    {
     "data": {
      "text/html": [
       "<div>\n",
       "<style scoped>\n",
       "    .dataframe tbody tr th:only-of-type {\n",
       "        vertical-align: middle;\n",
       "    }\n",
       "\n",
       "    .dataframe tbody tr th {\n",
       "        vertical-align: top;\n",
       "    }\n",
       "\n",
       "    .dataframe thead th {\n",
       "        text-align: right;\n",
       "    }\n",
       "</style>\n",
       "<table border=\"1\" class=\"dataframe\">\n",
       "  <thead>\n",
       "    <tr style=\"text-align: right;\">\n",
       "      <th></th>\n",
       "      <th>Survived</th>\n",
       "      <th>Pclass</th>\n",
       "      <th>Sex</th>\n",
       "      <th>Age</th>\n",
       "      <th>SibSp</th>\n",
       "      <th>Parch</th>\n",
       "      <th>Fare</th>\n",
       "      <th>Embarked</th>\n",
       "      <th>AgeGroup</th>\n",
       "      <th>Family</th>\n",
       "      <th>Age_scale1</th>\n",
       "    </tr>\n",
       "  </thead>\n",
       "  <tbody>\n",
       "    <tr>\n",
       "      <th>0</th>\n",
       "      <td>0</td>\n",
       "      <td>3</td>\n",
       "      <td>male</td>\n",
       "      <td>22.00</td>\n",
       "      <td>1</td>\n",
       "      <td>0</td>\n",
       "      <td>7.2500</td>\n",
       "      <td>S</td>\n",
       "      <td>Age21_30</td>\n",
       "      <td>2</td>\n",
       "      <td>0.271174</td>\n",
       "    </tr>\n",
       "    <tr>\n",
       "      <th>1</th>\n",
       "      <td>1</td>\n",
       "      <td>1</td>\n",
       "      <td>female</td>\n",
       "      <td>38.00</td>\n",
       "      <td>1</td>\n",
       "      <td>0</td>\n",
       "      <td>71.2833</td>\n",
       "      <td>C</td>\n",
       "      <td>Age31_40</td>\n",
       "      <td>2</td>\n",
       "      <td>0.472229</td>\n",
       "    </tr>\n",
       "    <tr>\n",
       "      <th>2</th>\n",
       "      <td>1</td>\n",
       "      <td>3</td>\n",
       "      <td>female</td>\n",
       "      <td>26.00</td>\n",
       "      <td>0</td>\n",
       "      <td>0</td>\n",
       "      <td>7.9250</td>\n",
       "      <td>S</td>\n",
       "      <td>Age21_30</td>\n",
       "      <td>1</td>\n",
       "      <td>0.321438</td>\n",
       "    </tr>\n",
       "    <tr>\n",
       "      <th>3</th>\n",
       "      <td>1</td>\n",
       "      <td>1</td>\n",
       "      <td>female</td>\n",
       "      <td>35.00</td>\n",
       "      <td>1</td>\n",
       "      <td>0</td>\n",
       "      <td>53.1000</td>\n",
       "      <td>S</td>\n",
       "      <td>Age31_40</td>\n",
       "      <td>2</td>\n",
       "      <td>0.434531</td>\n",
       "    </tr>\n",
       "    <tr>\n",
       "      <th>4</th>\n",
       "      <td>0</td>\n",
       "      <td>3</td>\n",
       "      <td>male</td>\n",
       "      <td>35.00</td>\n",
       "      <td>0</td>\n",
       "      <td>0</td>\n",
       "      <td>8.0500</td>\n",
       "      <td>S</td>\n",
       "      <td>Age31_40</td>\n",
       "      <td>1</td>\n",
       "      <td>0.434531</td>\n",
       "    </tr>\n",
       "    <tr>\n",
       "      <th>...</th>\n",
       "      <td>...</td>\n",
       "      <td>...</td>\n",
       "      <td>...</td>\n",
       "      <td>...</td>\n",
       "      <td>...</td>\n",
       "      <td>...</td>\n",
       "      <td>...</td>\n",
       "      <td>...</td>\n",
       "      <td>...</td>\n",
       "      <td>...</td>\n",
       "      <td>...</td>\n",
       "    </tr>\n",
       "    <tr>\n",
       "      <th>886</th>\n",
       "      <td>0</td>\n",
       "      <td>2</td>\n",
       "      <td>male</td>\n",
       "      <td>27.00</td>\n",
       "      <td>0</td>\n",
       "      <td>0</td>\n",
       "      <td>13.0000</td>\n",
       "      <td>S</td>\n",
       "      <td>Age21_30</td>\n",
       "      <td>1</td>\n",
       "      <td>0.334004</td>\n",
       "    </tr>\n",
       "    <tr>\n",
       "      <th>887</th>\n",
       "      <td>1</td>\n",
       "      <td>1</td>\n",
       "      <td>female</td>\n",
       "      <td>19.00</td>\n",
       "      <td>0</td>\n",
       "      <td>0</td>\n",
       "      <td>30.0000</td>\n",
       "      <td>S</td>\n",
       "      <td>Age11_20</td>\n",
       "      <td>1</td>\n",
       "      <td>0.233476</td>\n",
       "    </tr>\n",
       "    <tr>\n",
       "      <th>888</th>\n",
       "      <td>0</td>\n",
       "      <td>3</td>\n",
       "      <td>female</td>\n",
       "      <td>21.77</td>\n",
       "      <td>1</td>\n",
       "      <td>2</td>\n",
       "      <td>23.4500</td>\n",
       "      <td>S</td>\n",
       "      <td>Age21_30</td>\n",
       "      <td>4</td>\n",
       "      <td>0.268283</td>\n",
       "    </tr>\n",
       "    <tr>\n",
       "      <th>889</th>\n",
       "      <td>1</td>\n",
       "      <td>1</td>\n",
       "      <td>male</td>\n",
       "      <td>26.00</td>\n",
       "      <td>0</td>\n",
       "      <td>0</td>\n",
       "      <td>30.0000</td>\n",
       "      <td>C</td>\n",
       "      <td>Age21_30</td>\n",
       "      <td>1</td>\n",
       "      <td>0.321438</td>\n",
       "    </tr>\n",
       "    <tr>\n",
       "      <th>890</th>\n",
       "      <td>0</td>\n",
       "      <td>3</td>\n",
       "      <td>male</td>\n",
       "      <td>32.00</td>\n",
       "      <td>0</td>\n",
       "      <td>0</td>\n",
       "      <td>7.7500</td>\n",
       "      <td>Q</td>\n",
       "      <td>Age31_40</td>\n",
       "      <td>1</td>\n",
       "      <td>0.396833</td>\n",
       "    </tr>\n",
       "  </tbody>\n",
       "</table>\n",
       "<p>891 rows × 11 columns</p>\n",
       "</div>"
      ],
      "text/plain": [
       "     Survived  Pclass     Sex    Age  SibSp  Parch     Fare Embarked  \\\n",
       "0           0       3    male  22.00      1      0   7.2500        S   \n",
       "1           1       1  female  38.00      1      0  71.2833        C   \n",
       "2           1       3  female  26.00      0      0   7.9250        S   \n",
       "3           1       1  female  35.00      1      0  53.1000        S   \n",
       "4           0       3    male  35.00      0      0   8.0500        S   \n",
       "..        ...     ...     ...    ...    ...    ...      ...      ...   \n",
       "886         0       2    male  27.00      0      0  13.0000        S   \n",
       "887         1       1  female  19.00      0      0  30.0000        S   \n",
       "888         0       3  female  21.77      1      2  23.4500        S   \n",
       "889         1       1    male  26.00      0      0  30.0000        C   \n",
       "890         0       3    male  32.00      0      0   7.7500        Q   \n",
       "\n",
       "     AgeGroup  Family  Age_scale1  \n",
       "0    Age21_30       2    0.271174  \n",
       "1    Age31_40       2    0.472229  \n",
       "2    Age21_30       1    0.321438  \n",
       "3    Age31_40       2    0.434531  \n",
       "4    Age31_40       1    0.434531  \n",
       "..        ...     ...         ...  \n",
       "886  Age21_30       1    0.334004  \n",
       "887  Age11_20       1    0.233476  \n",
       "888  Age21_30       4    0.268283  \n",
       "889  Age21_30       1    0.321438  \n",
       "890  Age31_40       1    0.396833  \n",
       "\n",
       "[891 rows x 11 columns]"
      ]
     },
     "execution_count": 103,
     "metadata": {},
     "output_type": "execute_result"
    }
   ],
   "source": [
    "titanic = pd.read_csv('https://bit.ly/3HaMAtZ')\n",
    "titanic"
   ]
  },
  {
   "cell_type": "code",
   "execution_count": 105,
   "id": "35f122de-ea92-42d9-a26c-e73e8d1de2b9",
   "metadata": {},
   "outputs": [
    {
     "data": {
      "text/plain": [
       "30.876481481481477"
      ]
     },
     "execution_count": 105,
     "metadata": {},
     "output_type": "execute_result"
    }
   ],
   "source": [
    "titanic.loc[(titanic['Pclass'] == 2) & (titanic['Sex'] == 'male')]['Age'].mean()"
   ]
  },
  {
   "cell_type": "code",
   "execution_count": 86,
   "id": "c00e087d-ee59-49a8-a6b5-503e9b389610",
   "metadata": {},
   "outputs": [],
   "source": [
    "a = [[11, 12, 13, 14], [15, 16, 17, 18], [19, 20, 21, 22]]"
   ]
  },
  {
   "cell_type": "code",
   "execution_count": 92,
   "id": "a519dd5b-2e72-4a5a-aeac-1e00b1729a20",
   "metadata": {},
   "outputs": [],
   "source": [
    "a = np.array([[11, 12, 13, 14], [15, 16, 17, 18], [19, 20, 21, 22]])"
   ]
  },
  {
   "cell_type": "code",
   "execution_count": 93,
   "id": "65b2f7ce-c239-4a67-a81a-a7740ada99d7",
   "metadata": {},
   "outputs": [
    {
     "data": {
      "text/plain": [
       "array([[16, 17],\n",
       "       [20, 21]])"
      ]
     },
     "execution_count": 93,
     "metadata": {},
     "output_type": "execute_result"
    }
   ],
   "source": [
    "a[1:3, 1:3]"
   ]
  },
  {
   "cell_type": "code",
   "execution_count": 94,
   "id": "438ff2f1-0c4f-4f7f-981f-bbb6c6299a6b",
   "metadata": {},
   "outputs": [
    {
     "data": {
      "text/plain": [
       "array([[16, 17],\n",
       "       [20, 21]])"
      ]
     },
     "execution_count": 94,
     "metadata": {},
     "output_type": "execute_result"
    }
   ],
   "source": [
    "a[1:, 1:3]"
   ]
  },
  {
   "cell_type": "code",
   "execution_count": 95,
   "id": "28a667ff-c94a-42c4-bf18-096a077b0c23",
   "metadata": {},
   "outputs": [
    {
     "data": {
      "text/plain": [
       "array([[16, 17],\n",
       "       [20, 21]])"
      ]
     },
     "execution_count": 95,
     "metadata": {},
     "output_type": "execute_result"
    }
   ],
   "source": [
    "a[-2:, -3:-1]"
   ]
  },
  {
   "cell_type": "code",
   "execution_count": 96,
   "id": "7946bd24-7eba-48d4-bdbd-fa9545e2c462",
   "metadata": {},
   "outputs": [
    {
     "data": {
      "text/plain": [
       "array([[16, 17],\n",
       "       [20, 21]])"
      ]
     },
     "execution_count": 96,
     "metadata": {},
     "output_type": "execute_result"
    }
   ],
   "source": [
    "a[1:3, 1:3]"
   ]
  }
 ],
 "metadata": {
  "kernelspec": {
   "display_name": "Python 3",
   "language": "python",
   "name": "python3"
  },
  "language_info": {
   "codemirror_mode": {
    "name": "ipython",
    "version": 3
   },
   "file_extension": ".py",
   "mimetype": "text/x-python",
   "name": "python",
   "nbconvert_exporter": "python",
   "pygments_lexer": "ipython3",
   "version": "3.8.8"
  }
 },
 "nbformat": 4,
 "nbformat_minor": 5
}
