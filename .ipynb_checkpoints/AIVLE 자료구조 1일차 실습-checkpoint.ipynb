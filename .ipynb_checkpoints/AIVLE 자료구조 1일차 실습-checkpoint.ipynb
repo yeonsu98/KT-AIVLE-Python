{
 "cells": [
  {
   "cell_type": "code",
   "execution_count": 6,
   "id": "5693a2cb",
   "metadata": {},
   "outputs": [
    {
     "name": "stdout",
     "output_type": "stream",
     "text": [
      "네 정수를 입력하세요\n",
      "a 정수를 입력하세요 : 1\n",
      "b 정수를 입력하세요 : 2\n",
      "c 정수를 입력하세요 : 3\n",
      "d 정수를 입력하세요 : 4\n",
      "최대값은 4입니다.\n"
     ]
    }
   ],
   "source": [
    "print(\"네 정수를 입력하세요\")\n",
    "a = input(\"a 정수를 입력하세요 : \")\n",
    "b = input(\"b 정수를 입력하세요 : \")\n",
    "c = input(\"c 정수를 입력하세요 : \")\n",
    "d = input(\"d 정수를 입력하세요 : \")\n",
    "\n",
    "max = a\n",
    "if b > max :\n",
    "    max = b\n",
    "if c > max :\n",
    "    max = c\n",
    "if d > max :\n",
    "    max = d\n",
    "\n",
    "print(f\"최대값은 {max}입니다.\")"
   ]
  },
  {
   "cell_type": "code",
   "execution_count": null,
   "id": "fa8f66e7",
   "metadata": {},
   "outputs": [],
   "source": [
    "f\""
   ]
  }
 ],
 "metadata": {
  "kernelspec": {
   "display_name": "Python 3",
   "language": "python",
   "name": "python3"
  },
  "language_info": {
   "codemirror_mode": {
    "name": "ipython",
    "version": 3
   },
   "file_extension": ".py",
   "mimetype": "text/x-python",
   "name": "python",
   "nbconvert_exporter": "python",
   "pygments_lexer": "ipython3",
   "version": "3.8.8"
  }
 },
 "nbformat": 4,
 "nbformat_minor": 5
}
