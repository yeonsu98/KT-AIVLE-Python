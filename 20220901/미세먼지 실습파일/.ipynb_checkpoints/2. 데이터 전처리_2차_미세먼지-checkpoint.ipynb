{
 "cells": [
  {
   "cell_type": "markdown",
   "id": "55add5c1",
   "metadata": {},
   "source": [
    "# 안녕하세요^^ \n",
    "# AIVLE 미니 프로젝트에 오신 여러분을 환영합니다.\n",
    "* 본 과정에서는 실제 사례와 데이터를 기반으로 문제를 해결하는 전체 과정을 자기 주도형 실습으로 진행해볼 예정입니다.\n",
    "* 앞선 교육과정을 정리하는 마음과 지금까지 배운 내용을 바탕으로 문제 해결을 해볼게요!\n",
    "* 미니 프로젝트를 통한 문제 해결 과정 'A에서 Z까지', 지금부터 시작합니다!"
   ]
  },
  {
   "cell_type": "markdown",
   "id": "84008ade",
   "metadata": {},
   "source": [
    "---"
   ]
  },
  {
   "cell_type": "code",
   "execution_count": null,
   "id": "1cc7de55",
   "metadata": {},
   "outputs": [],
   "source": [
    "# 필요 라이브러리부터 설치할께요.\n",
    "!pip install pandas seaborn"
   ]
  },
  {
   "cell_type": "markdown",
   "id": "74c09d16",
   "metadata": {},
   "source": [
    "---"
   ]
  },
  {
   "cell_type": "markdown",
   "id": "bright-evolution",
   "metadata": {},
   "source": [
    "# (실습준비) 데이터 불러오기부터"
   ]
  },
  {
   "cell_type": "code",
   "execution_count": 1,
   "id": "innocent-token",
   "metadata": {},
   "outputs": [],
   "source": [
    "import pandas as pd\n",
    "\n",
    "# 학습 데이터 로딩\n",
    "air_21 = pd.read_csv(\"air_2021.csv\", sep=',', index_col = 0, encoding = 'utf-8' )\n",
    "air_22 = pd.read_csv(\"air_2022.csv\", sep=',', index_col = 0, encoding = 'utf-8' )\n",
    "weather_21 = pd.read_csv(\"weather_2021.csv\", sep = ',', encoding='cp949')\n",
    "weather_22 = pd.read_csv(\"weather_2022.csv\", sep = ',', encoding='cp949')"
   ]
  },
  {
   "cell_type": "markdown",
   "id": "polished-myrtle",
   "metadata": {},
   "source": [
    "---"
   ]
  },
  {
   "cell_type": "markdown",
   "id": "palestinian-catalog",
   "metadata": {},
   "source": [
    "# 1. 이상치/결측치 처리"
   ]
  },
  {
   "cell_type": "markdown",
   "id": "sublime-extreme",
   "metadata": {},
   "source": [
    "#### [실습문제1] 미세먼지 데이터 결측치 처리\n",
    "* 미세먼지 데이터의 결측치를 확인하고 결측치가 존재한다면 처리해주세요.\n",
    "\n",
    "\n",
    "* 앞서 데이터 불러오기 및 분석 단계에서 확인한 불필요한 변수에 대해 제거 해 주세요. "
   ]
  },
  {
   "cell_type": "code",
   "execution_count": null,
   "id": "f85891aa",
   "metadata": {},
   "outputs": [],
   "source": [
    "# 아래에 실습코드를 작성하고 결과를 확인합니다.\n"
   ]
  },
  {
   "cell_type": "markdown",
   "id": "89892756",
   "metadata": {},
   "source": [
    "#### [실습문제2] 날씨 데이터 결측치 처리\n",
    "* 날씨 데이터의 결측치를 확인하고 결측치가 존재한다면 처리해주세요.\n",
    "\n",
    "* '강우량'을 어떻게 해야할까요?"
   ]
  },
  {
   "cell_type": "code",
   "execution_count": null,
   "id": "3553fb5f",
   "metadata": {},
   "outputs": [],
   "source": [
    "# 아래에 실습코드를 작성하고 결과를 확인합니다.\n",
    "\n",
    "\n",
    "\n"
   ]
  },
  {
   "cell_type": "markdown",
   "id": "c260e7e5",
   "metadata": {},
   "source": [
    "#### [실습문제3] air_21, air_22 의 '측정일시'를 활용하여 'time'변수 생성하기\n",
    "\n",
    "\n",
    "* air_21, air_22 의 '측정일시'를 활용하여 'time'변수 생성\n",
    "\n",
    "\n",
    "* time 변수를 datatime으로 데이터 타입 변경하기"
   ]
  },
  {
   "cell_type": "code",
   "execution_count": 2,
   "id": "banner-nitrogen",
   "metadata": {},
   "outputs": [],
   "source": [
    "# 아래에 실습코드를 작성하고 결과를 확인합니다.\n",
    "air_21['time'] = air_21['측정일시'] - 1\n",
    "air_22['time'] = air_22['측정일시'] - 1\n",
    "air_21['time'] = pd.to_datetime(air_21['time'], format='%Y%m%d%H')\n",
    "air_22['time'] = pd.to_datetime(air_22['time'], format='%Y%m%d%H')\n"
   ]
  },
  {
   "cell_type": "code",
   "execution_count": null,
   "id": "b1065109",
   "metadata": {},
   "outputs": [],
   "source": [
    "# 아래에 실습코드를 작성하고 결과를 확인합니다.\n",
    "\n",
    "\n"
   ]
  },
  {
   "cell_type": "markdown",
   "id": "romantic-johnson",
   "metadata": {},
   "source": [
    "#### [실습문제4] weather_21, weather_22 의 '일시'를 활용하여 'time'변수 생성하기\n",
    "\n",
    "\n",
    "* weather_21, weather_22 의 '측정일시'를 활용하여 'time'변수 생성\n",
    "\n",
    "\n",
    "* time 변수를 datatime으로 데이터 타입 변경하기"
   ]
  },
  {
   "cell_type": "code",
   "execution_count": 3,
   "id": "8ee1bae8",
   "metadata": {},
   "outputs": [],
   "source": [
    "# 아래에 실습코드를 작성하고 결과를 확인합니다.\n",
    "weather_21['time'] = pd.to_datetime(weather_21['일시'])\n",
    "weather_22['time'] = pd.to_datetime(weather_22['일시'])"
   ]
  },
  {
   "cell_type": "markdown",
   "id": "ef9eb7b0",
   "metadata": {},
   "source": [
    "---"
   ]
  },
  {
   "cell_type": "markdown",
   "id": "lyric-response",
   "metadata": {},
   "source": [
    "# 2. 데이터 합치기\n",
    "* 미세먼지 데이터와 날씨 데이터를 'time' 기준으로 합쳐보겠습니다"
   ]
  },
  {
   "cell_type": "markdown",
   "id": "coated-framework",
   "metadata": {},
   "source": [
    "#### [실습문제5] 데이터 합치기\n",
    "* 'df_21','df_22'에 21년도와 22년도의 미세먼지, 날씨 데이터를 합쳐 넣도록 하겠습니다."
   ]
  },
  {
   "cell_type": "code",
   "execution_count": 4,
   "id": "8e77f9fa",
   "metadata": {},
   "outputs": [],
   "source": [
    "# 아래에 실습코드를 작성하고 결과를 확인합니다\n",
    "df_21 = pd.merge(air_21, weather_21, how='inner', on='time')\n",
    "df_22 = pd.merge(air_22, weather_22, how='inner', on='time')"
   ]
  },
  {
   "cell_type": "markdown",
   "id": "8a3e52e4",
   "metadata": {},
   "source": [
    "#### [실습문제6] 각종 인자 추가 및 사용하지 않을 변수 제거\n",
    "\n",
    "* 새로운 인자를 추가 하세요.\n",
    "\n",
    "\n",
    "* 머신러닝에 사용하지 않을 변수들을 제거해줍니다."
   ]
  },
  {
   "cell_type": "code",
   "execution_count": 6,
   "id": "f25792bf-78ca-4821-8ce8-2341939b641f",
   "metadata": {},
   "outputs": [
    {
     "name": "stdout",
     "output_type": "stream",
     "text": [
      "<class 'pandas.core.frame.DataFrame'>\n",
      "Int64Index: 8759 entries, 0 to 8758\n",
      "Data columns (total 51 columns):\n",
      " #   Column         Non-Null Count  Dtype         \n",
      "---  ------         --------------  -----         \n",
      " 0   지역             8759 non-null   object        \n",
      " 1   망              8759 non-null   object        \n",
      " 2   측정소코드          8759 non-null   int64         \n",
      " 3   측정소명           8759 non-null   object        \n",
      " 4   측정일시           8759 non-null   int64         \n",
      " 5   SO2            8647 non-null   float64       \n",
      " 6   CO             8679 non-null   float64       \n",
      " 7   O3             8662 non-null   float64       \n",
      " 8   NO2            8679 non-null   float64       \n",
      " 9   PM10           8654 non-null   float64       \n",
      " 10  PM25           8662 non-null   float64       \n",
      " 11  주소             8759 non-null   object        \n",
      " 12  time           8759 non-null   datetime64[ns]\n",
      " 13  지점             8759 non-null   int64         \n",
      " 14  지점명            8759 non-null   object        \n",
      " 15  일시             8759 non-null   object        \n",
      " 16  기온(°C)         8759 non-null   float64       \n",
      " 17  기온 QC플래그       0 non-null      float64       \n",
      " 18  강수량(mm)        949 non-null    float64       \n",
      " 19  강수량 QC플래그      1763 non-null   float64       \n",
      " 20  풍속(m/s)        8757 non-null   float64       \n",
      " 21  풍속 QC플래그       2 non-null      float64       \n",
      " 22  풍향(16방위)       8757 non-null   float64       \n",
      " 23  풍향 QC플래그       2 non-null      float64       \n",
      " 24  습도(%)          8759 non-null   int64         \n",
      " 25  습도 QC플래그       0 non-null      float64       \n",
      " 26  증기압(hPa)       8759 non-null   float64       \n",
      " 27  이슬점온도(°C)      8759 non-null   float64       \n",
      " 28  현지기압(hPa)      8759 non-null   float64       \n",
      " 29  현지기압 QC플래그     0 non-null      float64       \n",
      " 30  해면기압(hPa)      8759 non-null   float64       \n",
      " 31  해면기압 QC플래그     0 non-null      float64       \n",
      " 32  일조(hr)         4791 non-null   float64       \n",
      " 33  일조 QC플래그       3968 non-null   float64       \n",
      " 34  일사(MJ/m2)      4791 non-null   float64       \n",
      " 35  일사 QC플래그       3968 non-null   float64       \n",
      " 36  적설(cm)         379 non-null    float64       \n",
      " 37  3시간신적설(cm)     29 non-null     float64       \n",
      " 38  전운량(10분위)      8757 non-null   float64       \n",
      " 39  중하층운량(10분위)    8759 non-null   int64         \n",
      " 40  운형(운형약어)       4947 non-null   object        \n",
      " 41  최저운고(100m )    4547 non-null   float64       \n",
      " 42  시정(10m)        8759 non-null   int64         \n",
      " 43  지면상태(지면상태코드)   0 non-null      float64       \n",
      " 44  현상번호(국내식)      2125 non-null   float64       \n",
      " 45  지면온도(°C)       8754 non-null   float64       \n",
      " 46  지면온도 QC플래그     24 non-null     float64       \n",
      " 47  5cm 지중온도(°C)   8754 non-null   float64       \n",
      " 48  10cm 지중온도(°C)  8754 non-null   float64       \n",
      " 49  20cm 지중온도(°C)  8754 non-null   float64       \n",
      " 50  30cm 지중온도(°C)  8754 non-null   float64       \n",
      "dtypes: datetime64[ns](1), float64(37), int64(6), object(7)\n",
      "memory usage: 3.5+ MB\n"
     ]
    }
   ],
   "source": [
    "df_21.info()"
   ]
  },
  {
   "cell_type": "code",
   "execution_count": 7,
   "id": "9beffd04",
   "metadata": {},
   "outputs": [],
   "source": [
    "# 아래에 실습코드를 작성하고 결과를 확인합니다\n",
    "use_cols = ['time', 'SO2', 'CO', 'O3', 'NO2', 'PM10', 'PM25', '기온(°C)', '강수량(mm)', '풍속(m/s)', '습도(%)']\n",
    "df_21 = df_21[use_cols]\n",
    "df_22 = df_22[use_cols]"
   ]
  },
  {
   "cell_type": "code",
   "execution_count": 8,
   "id": "d5ceccfc",
   "metadata": {},
   "outputs": [],
   "source": [
    "# 아래에 실습코드를 작성하고 결과를 확인합니다\n",
    "df_21 = df_21.set_index('time').sort_index()\n",
    "df_22 = df_22.set_index('time').sort_index()"
   ]
  },
  {
   "cell_type": "code",
   "execution_count": 9,
   "id": "e3bd1706",
   "metadata": {},
   "outputs": [],
   "source": [
    "df_21['강수량(mm)'] = df_21['강수량(mm)'].fillna(0)\n",
    "df_22['강수량(mm)'] = df_22['강수량(mm)'].fillna(0)"
   ]
  },
  {
   "cell_type": "code",
   "execution_count": 10,
   "id": "a61d0252",
   "metadata": {},
   "outputs": [],
   "source": [
    "df_21 = df_21.fillna(method='ffill')\n",
    "df_22 = df_22.fillna(method='ffill')"
   ]
  },
  {
   "cell_type": "markdown",
   "id": "38dce622",
   "metadata": {},
   "source": [
    "#### [실습문제7] 미세먼지 농도 다음시점 데이터 생성\n",
    "\n",
    "* t+1 시점 데이터 생성"
   ]
  },
  {
   "cell_type": "code",
   "execution_count": 11,
   "id": "b5003c89",
   "metadata": {},
   "outputs": [],
   "source": [
    "# 아래에 실습코드를 작성하고 결과를 확인합니다\n",
    "df_21['month'] = df_21.index.month\n",
    "df_21['day'] = df_21.index.day\n",
    "df_21['hour'] = df_21.index.hour\n",
    "\n",
    "df_22['month'] = df_22.index.month\n",
    "df_22['day'] = df_22.index.day\n",
    "df_22['hour'] = df_22.index.hour"
   ]
  },
  {
   "cell_type": "code",
   "execution_count": 12,
   "id": "28890492-938e-4314-8ca0-fc217aadb5b7",
   "metadata": {},
   "outputs": [],
   "source": [
    "df_21['PM10_lag1'] = df_21['PM10'].shift(24)\n",
    "df_22['PM10_lag1'] = df_22['PM10'].shift(24)"
   ]
  },
  {
   "cell_type": "code",
   "execution_count": 13,
   "id": "8b2d3133-b284-4d5e-81ce-c667adc777db",
   "metadata": {},
   "outputs": [],
   "source": [
    "df_21['PM10_1'] = df_21['PM10'].shift(-1)\n",
    "df_22['PM10_1'] = df_22['PM10'].shift(-1)"
   ]
  },
  {
   "cell_type": "code",
   "execution_count": 14,
   "id": "4caa0fe6-58cc-44a0-a956-bf7599225663",
   "metadata": {},
   "outputs": [],
   "source": [
    "df_21.dropna(inplace=True)\n",
    "df_22.dropna(inplace=True)"
   ]
  },
  {
   "cell_type": "markdown",
   "id": "27c6c592",
   "metadata": {},
   "source": [
    "---"
   ]
  },
  {
   "cell_type": "markdown",
   "id": "accepting-creativity",
   "metadata": {},
   "source": [
    "# 3. train / test split"
   ]
  },
  {
   "cell_type": "markdown",
   "id": "dependent-motion",
   "metadata": {},
   "source": [
    "#### [실습문제7] 데이터셋 나누기 \n",
    "\n",
    "* 데이터셋을 train(21년도 데이터), test(22년도 데이터)로 나눠 csv로 저장하도록 하겠습니다.\n",
    "\n",
    "\n",
    "* train_x / train_y / test_x / test_y 로 나누세요.\n",
    "\n",
    "\n",
    "* train_x.csv / train_y.csv / test_x.csv / test_y.csv 로 저장하세요."
   ]
  },
  {
   "cell_type": "code",
   "execution_count": 15,
   "id": "92652b6b",
   "metadata": {},
   "outputs": [],
   "source": [
    "# 아래에 실습코드를 작성하고 결과를 확인합니다.\n",
    "target = 'PM10_1'\n",
    "\n",
    "train_x = df_21.drop(target, axis=1)\n",
    "train_y = df_21[target]\n",
    "test_x = df_22.drop(target, axis=1)\n",
    "test_y = df_22[target]"
   ]
  },
  {
   "cell_type": "code",
   "execution_count": 16,
   "id": "db809b0e",
   "metadata": {},
   "outputs": [],
   "source": [
    "# 아래에 실습코드를 작성하고 결과를 확인합니다.\n",
    "train_x.to_csv('train_x.csv', encoding='UTF-8', index=False)\n",
    "train_y.to_csv('train_y.csv', encoding='UTF-8', index=False)\n",
    "test_x.to_csv('test_x.csv', encoding='UTF-8', index=False)\n",
    "test_y.to_csv('test_y.csv', encoding='UTF-8', index=False)\n"
   ]
  },
  {
   "cell_type": "markdown",
   "id": "dramatic-meditation",
   "metadata": {},
   "source": [
    "---"
   ]
  }
 ],
 "metadata": {
  "kernelspec": {
   "display_name": "Python 3",
   "language": "python",
   "name": "python3"
  },
  "language_info": {
   "codemirror_mode": {
    "name": "ipython",
    "version": 3
   },
   "file_extension": ".py",
   "mimetype": "text/x-python",
   "name": "python",
   "nbconvert_exporter": "python",
   "pygments_lexer": "ipython3",
   "version": "3.8.8"
  },
  "vscode": {
   "interpreter": {
    "hash": "f08154012ddadd8e950e6e9e035c7a7b32c136e7647e9b7c77e02eb723a8bedb"
   }
  }
 },
 "nbformat": 4,
 "nbformat_minor": 5
}
