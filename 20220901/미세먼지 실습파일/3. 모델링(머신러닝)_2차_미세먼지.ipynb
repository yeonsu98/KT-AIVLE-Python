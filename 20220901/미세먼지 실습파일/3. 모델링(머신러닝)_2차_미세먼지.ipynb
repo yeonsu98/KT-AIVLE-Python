{
 "cells": [
  {
   "cell_type": "markdown",
   "id": "22f7625f",
   "metadata": {},
   "source": [
    "# 안녕하세요^^ \n",
    "# AIVLE 미니 프로젝트에 오신 여러분을 환영합니다.\n",
    "* 본 과정에서는 실제 사례와 데이터를 기반으로 문제를 해결하는 전체 과정을 자기 주도형 실습으로 진행해볼 예정입니다.\n",
    "* 앞선 교육과정을 정리하는 마음과 지금까지 배운 내용을 바탕으로 문제 해결을 해볼게요!\n",
    "* 미니 프로젝트를 통한 문제 해결 과정 'A에서 Z까지', 지금부터 시작합니다!"
   ]
  },
  {
   "cell_type": "markdown",
   "id": "04b1edbb",
   "metadata": {},
   "source": [
    "---"
   ]
  },
  {
   "cell_type": "code",
   "execution_count": null,
   "id": "3c1789e6",
   "metadata": {},
   "outputs": [],
   "source": [
    "# 필요 라이브러리부터 설치할께요.\n",
    "!pip install pandas seaborn sklearn"
   ]
  },
  {
   "cell_type": "markdown",
   "id": "69d11f7f",
   "metadata": {},
   "source": [
    "---"
   ]
  },
  {
   "cell_type": "markdown",
   "id": "b5cf42a0",
   "metadata": {},
   "source": [
    "---"
   ]
  },
  {
   "cell_type": "markdown",
   "id": "skilled-burden",
   "metadata": {},
   "source": [
    "# 1. 라이브러리 Import 및 데이터 불러오기\n",
    "\n",
    "* sklearn 을 설치 하세요. \n",
    "\n",
    "* 관련 라이브러리들을 불러오세요"
   ]
  },
  {
   "cell_type": "code",
   "execution_count": 1,
   "id": "efficient-minutes",
   "metadata": {},
   "outputs": [],
   "source": [
    "import pandas as pd\n",
    "\n",
    "# 학습/평가 데이터 로딩\n",
    "train_x = pd.read_csv('train_x.csv', encoding='UTF-8')\n",
    "train_y = pd.read_csv('train_y.csv', encoding='UTF-8')\n",
    "test_x = pd.read_csv('test_x.csv', encoding='UTF-8')\n",
    "test_y = pd.read_csv('test_y.csv', encoding='UTF-8')"
   ]
  },
  {
   "cell_type": "markdown",
   "id": "forbidden-course",
   "metadata": {},
   "source": [
    "#### [실습문제1] 라이브러리 불러오기\n",
    "\n"
   ]
  },
  {
   "cell_type": "code",
   "execution_count": 9,
   "id": "changed-arrangement",
   "metadata": {
    "scrolled": true
   },
   "outputs": [],
   "source": [
    "from sklearn.linear_model import LinearRegression\n",
    "from sklearn.metrics import *\n",
    "import joblib\n",
    "from sklearn.ensemble import GradientBoostingRegressor as GBR\n",
    "\n",
    "def perf_check(pred, test_y):\n",
    "    print('RMSE :', round(mean_squared_error(pred, test_y, squared=False), 5))\n",
    "    print('R-squared Score: ', round(mean_squared_error(pred, test_y), 5))\n",
    "    print('MAE : ', round(mean_absolute_error(pred, test_y), 5))\n",
    "    print('MAPE: ', round(mean_absolute_percentage_error(pred, test_y), 5))\n",
    "    print('1-MAPE: ', round(1-mean_absolute_percentage_error(pred, test_y), 5))\n",
    "    print('R2-Score: ', round(r2_score(pred, test_y), 5))"
   ]
  },
  {
   "cell_type": "markdown",
   "id": "2084ca1a",
   "metadata": {},
   "source": [
    "---"
   ]
  },
  {
   "cell_type": "markdown",
   "id": "native-expansion",
   "metadata": {},
   "source": [
    "# 2. Modeling\n",
    "## 이제 모델링을 해봅시다!\n",
    "+ KeyPoint : 머신러닝 라이브러리를 토대로 모델링을 할 수 있다."
   ]
  },
  {
   "cell_type": "markdown",
   "id": "persistent-brighton",
   "metadata": {},
   "source": [
    "### 가. LinearRegression 부터 시작해봅시다."
   ]
  },
  {
   "cell_type": "markdown",
   "id": "joined-client",
   "metadata": {},
   "source": [
    "#### [실습문제2] 머신러닝_1\n",
    "* Train과 Test로 나눈 데이터를 기준으로 LinearRegression 모델링을 진행하고 평가를 해주세요.\n",
    "* 그리고 모델 파일을 pkl로 저장해주세요.\n",
    "* 성능지표 : RMSE, R-squared Score(소수점 5째자리까지, 반올림)"
   ]
  },
  {
   "cell_type": "code",
   "execution_count": 3,
   "id": "willing-disclaimer",
   "metadata": {},
   "outputs": [
    {
     "name": "stdout",
     "output_type": "stream",
     "text": [
      "RMSE : 6.12071\n",
      "R-squared Score:  37.46304\n",
      "MAE :  3.90048\n",
      "MAPE:  0.10857\n",
      "1-MAPE:  0.89143\n",
      "R2-Score:  0.92917\n"
     ]
    }
   ],
   "source": [
    "# 아래에 실습코드를 작성하세요.\n",
    "lr = LinearRegression()\n",
    "lr.fit(train_x, train_y)\n",
    "pred_lr = lr.predict(test_x)\n",
    "perf_check(pred_lr, test_y)"
   ]
  },
  {
   "cell_type": "code",
   "execution_count": 5,
   "id": "0a21d60f",
   "metadata": {},
   "outputs": [
    {
     "data": {
      "text/plain": [
       "['./lr_model.pkl']"
      ]
     },
     "execution_count": 5,
     "metadata": {},
     "output_type": "execute_result"
    }
   ],
   "source": [
    "# Test 데이터로 성능을 평가해보세요.\n",
    "joblib.dump(lr, './lr_model.pkl')"
   ]
  },
  {
   "cell_type": "code",
   "execution_count": null,
   "id": "fe2096b7",
   "metadata": {},
   "outputs": [],
   "source": [
    "# 학습한 모델을 파일로 저장해보세요.\n",
    "\n",
    "\n",
    "\n"
   ]
  },
  {
   "cell_type": "markdown",
   "id": "lesser-universe",
   "metadata": {},
   "source": [
    "### 나. 다음은 앙상블 기법을 토대로 랜덤포레스트와 그라디언브스팅을 활용해봅시다."
   ]
  },
  {
   "cell_type": "markdown",
   "id": "crazy-escape",
   "metadata": {},
   "source": [
    "#### 1) 렌덤포레스트\n",
    "##### 배깅의 일종으로 의사결정나무(Decision Tree) 여러 개를 모아서 숲을 랜덤으로 구성하고 이를 종합해서 최종 모델을 산출하는 기법이라고 할 수 있다."
   ]
  },
  {
   "cell_type": "markdown",
   "id": "dense-eleven",
   "metadata": {},
   "source": [
    "#### [실습문제3] 머신러닝_2\n",
    "* Train과 Test로 나눈 데이터를 기준으로 렌덤포레스트로 모델을 학습을 진행하고 평가를 해주세요.\n",
    "* 그리고 모델 파일을 pkl로 저장해주세요.\n",
    "* 성능지표 : RMSE, R-squared Score(소수점 5째자리까지, 반올림)"
   ]
  },
  {
   "cell_type": "code",
   "execution_count": 7,
   "id": "guilty-score",
   "metadata": {},
   "outputs": [
    {
     "name": "stderr",
     "output_type": "stream",
     "text": [
      "<ipython-input-7-9f3f81edc398>:6: DataConversionWarning: A column-vector y was passed when a 1d array was expected. Please change the shape of y to (n_samples,), for example using ravel().\n",
      "  rf.fit(train_x, train_y)\n"
     ]
    },
    {
     "data": {
      "text/plain": [
       "RandomForestRegressor()"
      ]
     },
     "execution_count": 7,
     "metadata": {},
     "output_type": "execute_result"
    }
   ],
   "source": [
    "# 아래에 실습코드를 작성하세요.\n",
    "from sklearn.ensemble import RandomForestRegressor\n",
    "from sklearn.model_selection import GridSearchCV\n",
    "\n",
    "rf = RandomForestRegressor()\n",
    "rf.fit(train_x, train_y)"
   ]
  },
  {
   "cell_type": "code",
   "execution_count": 8,
   "id": "10b33a11",
   "metadata": {},
   "outputs": [
    {
     "name": "stdout",
     "output_type": "stream",
     "text": [
      "RMSE : 6.35289\n",
      "R-squared Score:  40.35927\n",
      "MAE :  3.99032\n",
      "MAPE:  0.11055\n",
      "1-MAPE:  0.88945\n",
      "R2-Score:  0.92214\n"
     ]
    }
   ],
   "source": [
    "# Test 데이터로 성능을 평가해보세요.\n",
    "pred_rf = rf.predict(test_x)\n",
    "perf_check(pred_rf, test_y)"
   ]
  },
  {
   "cell_type": "code",
   "execution_count": 12,
   "id": "41971ff8",
   "metadata": {},
   "outputs": [
    {
     "data": {
      "text/plain": [
       "['./rf_model.pkl']"
      ]
     },
     "execution_count": 12,
     "metadata": {},
     "output_type": "execute_result"
    }
   ],
   "source": [
    "# 학습한 모델을 파일로 저장해보세요.\n",
    "joblib.dump(rf, './rf_model.pkl')\n",
    "\n",
    "\n"
   ]
  },
  {
   "cell_type": "markdown",
   "id": "788be2bb",
   "metadata": {},
   "source": [
    "#### [실습문제4] 머신러닝_3\n",
    "* 렌덤포레스트로 학습한 모델의 feature_importances 또는 Shap value를 구해보세요.\n",
    "* 확인할 수 있는 내용으로 우리 모델에서의 인사이트를 정리해보세요."
   ]
  },
  {
   "cell_type": "code",
   "execution_count": null,
   "id": "e19f84b0",
   "metadata": {},
   "outputs": [],
   "source": [
    "# Feature의 중요도 확인\n",
    "\n",
    "\n",
    "\n",
    "\n"
   ]
  },
  {
   "cell_type": "code",
   "execution_count": null,
   "id": "af7989f3",
   "metadata": {},
   "outputs": [],
   "source": [
    "# 확인할 수 있는 인사이트\n",
    "# 1.\n",
    "# 2.\n",
    "# 3."
   ]
  },
  {
   "cell_type": "markdown",
   "id": "convinced-vocabulary",
   "metadata": {},
   "source": [
    "#### 2) GradientBoosting\n",
    "##### 앞선 모델의 에러를 다음 모델의 예측 값으로 활용하면서 가중치 업데이트 하는데 경사하강법(Gradient Descent)를 활용해서 최적 모델을 만드는 기법"
   ]
  },
  {
   "cell_type": "markdown",
   "id": "needed-google",
   "metadata": {},
   "source": [
    "#### [실습문제5] 머신러닝_4\n",
    "* Train과 Test로 나눈 데이터를 기준으로 그라디언트부스팅으로 모델을 학습을 진행하고 평가를 해주세요.\n",
    "* 그리고 모델 파일을 pkl로 저장해주세요.\n",
    "* 성능지표 : RMSE, R-squared Score(소수점 5째자리까지, 반올림)"
   ]
  },
  {
   "cell_type": "code",
   "execution_count": 10,
   "id": "continent-olympus",
   "metadata": {},
   "outputs": [
    {
     "name": "stderr",
     "output_type": "stream",
     "text": [
      "C:\\Users\\User\\anaconda3\\lib\\site-packages\\sklearn\\utils\\validation.py:63: DataConversionWarning: A column-vector y was passed when a 1d array was expected. Please change the shape of y to (n_samples, ), for example using ravel().\n",
      "  return f(*args, **kwargs)\n"
     ]
    }
   ],
   "source": [
    "# 아래에 실습코드를 작성하세요.\n",
    "gbr = GBR()\n",
    "gbr.fit(train_x, train_y)\n",
    "pred_gbr = gbr.predict(test_x)"
   ]
  },
  {
   "cell_type": "code",
   "execution_count": 11,
   "id": "241dbcdc",
   "metadata": {},
   "outputs": [
    {
     "name": "stdout",
     "output_type": "stream",
     "text": [
      "RMSE : 7.08571\n",
      "R-squared Score:  50.20728\n",
      "MAE :  3.97862\n",
      "MAPE:  0.1071\n",
      "1-MAPE:  0.8929\n",
      "R2-Score:  0.91287\n"
     ]
    }
   ],
   "source": [
    "# Test 데이터로 성능을 평가해보세요.\n",
    "pred_gbr = gbr.predict(test_x)\n",
    "perf_check(pred_gbr, test_y)"
   ]
  },
  {
   "cell_type": "code",
   "execution_count": 13,
   "id": "9bdccb80",
   "metadata": {},
   "outputs": [
    {
     "data": {
      "text/plain": [
       "['./gbr_model.pkl']"
      ]
     },
     "execution_count": 13,
     "metadata": {},
     "output_type": "execute_result"
    }
   ],
   "source": [
    "# 학습한 모델을 파일로 저장해보세요.\n",
    "joblib.dump(gbr, './gbr_model.pkl')\n",
    "\n",
    "\n"
   ]
  },
  {
   "cell_type": "markdown",
   "id": "04925b45",
   "metadata": {},
   "source": [
    "#### [실습문제6] 머신러닝_5\n",
    "* 그라디언트부스팅으로 학습한 모델의 feature_importances 또는 Shap value를 구해보세요.\n",
    "* 확인할 수 있는 내용으로 우리 모델에서의 인사이트를 정리해보세요."
   ]
  },
  {
   "cell_type": "code",
   "execution_count": null,
   "id": "8deba58d",
   "metadata": {},
   "outputs": [],
   "source": [
    "# Feature의 중요도 확인\n",
    "\n",
    "\n",
    "\n"
   ]
  },
  {
   "cell_type": "code",
   "execution_count": null,
   "id": "9d1bfe7d",
   "metadata": {},
   "outputs": [],
   "source": [
    "# 확인할 수 있는 인사이트\n",
    "# 1.\n",
    "# 2.\n",
    "# 3."
   ]
  },
  {
   "cell_type": "markdown",
   "id": "305bbd5b",
   "metadata": {},
   "source": [
    "#### 3) Self Choice Model\n",
    "##### 앞선 교육과정에서 배운 머신러닝 모델 중 어떤 것이든 좋습니다. 원하는 모델을 선택해서 학습을 시켜보세요."
   ]
  },
  {
   "cell_type": "markdown",
   "id": "fbef7589",
   "metadata": {},
   "source": [
    "#### [실습문제7] 머신러닝_6\n",
    "* Train과 Test로 나눈 데이터를 기준으로 Self Choice Model로 모델을 학습을 진행하고 평가를 해주세요.\n",
    "* 그리고 모델 파일을 pkl로 저장해주세요.\n",
    "* 성능지표 : RMSE, R-squared Score(소수점 5째자리까지, 반올림)"
   ]
  },
  {
   "cell_type": "code",
   "execution_count": null,
   "id": "a2c66605",
   "metadata": {},
   "outputs": [],
   "source": [
    "# 아래에 실습코드를 작성하세요.\n",
    "\n",
    "\n",
    "\n"
   ]
  },
  {
   "cell_type": "code",
   "execution_count": null,
   "id": "546ac8bf",
   "metadata": {},
   "outputs": [],
   "source": [
    "# Test 데이터로 성능을 평가해보세요.\n",
    "\n",
    "\n",
    "\n"
   ]
  },
  {
   "cell_type": "code",
   "execution_count": null,
   "id": "e69d0d7c",
   "metadata": {},
   "outputs": [],
   "source": [
    "# 학습한 모델을 파일로 저장해보세요.\n",
    "\n",
    "\n",
    "\n"
   ]
  },
  {
   "cell_type": "markdown",
   "id": "94cfdb09",
   "metadata": {},
   "source": [
    "#### [실습문제8] 머신러닝_7\n",
    "* Self Choice Model로 학습한 모델의 feature_importances 또는 Shap value를 구해보세요.\n",
    "* 확인할 수 있는 내용으로 우리 모델에서의 인사이트를 정리해보세요."
   ]
  },
  {
   "cell_type": "code",
   "execution_count": null,
   "id": "67e6d924",
   "metadata": {},
   "outputs": [],
   "source": [
    "# Feature의 중요도 확인\n",
    "\n",
    "\n",
    "\n"
   ]
  },
  {
   "cell_type": "code",
   "execution_count": null,
   "id": "a8ac782c",
   "metadata": {},
   "outputs": [],
   "source": [
    "# 확인할 수 있는 인사이트\n",
    "# 1.\n",
    "# 2.\n",
    "# 3."
   ]
  }
 ],
 "metadata": {
  "kernelspec": {
   "display_name": "Python 3",
   "language": "python",
   "name": "python3"
  },
  "language_info": {
   "codemirror_mode": {
    "name": "ipython",
    "version": 3
   },
   "file_extension": ".py",
   "mimetype": "text/x-python",
   "name": "python",
   "nbconvert_exporter": "python",
   "pygments_lexer": "ipython3",
   "version": "3.8.8"
  },
  "vscode": {
   "interpreter": {
    "hash": "f08154012ddadd8e950e6e9e035c7a7b32c136e7647e9b7c77e02eb723a8bedb"
   }
  }
 },
 "nbformat": 4,
 "nbformat_minor": 5
}
