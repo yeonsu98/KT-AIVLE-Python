{
 "cells": [
  {
   "cell_type": "markdown",
   "metadata": {},
   "source": [
    "## [미니프로젝트] 악성사이트 탐지 머신러닝 모델 개발\n",
    "\n",
    "### 여러분은 기업 보안팀에서 근무중인 엔지니어로써, 웹페이지에서 추출한 Feature(특징) 기반으로 악성사이트를 탐지하는 머신러닝 모델 개발 미션을 부여받았습니다.\n",
    "\n",
    "### ▣ 우리가 풀어야 하는 문제는 무엇인가요?\n",
    " - 웹 페이지에서 Feature를 추출하세요.\n",
    " - 악성사이트 여부를 판별하는 성능 좋은 AI모델을 생성하세요.\n",
    "\n",
    "<br>\n",
    "\n",
    "---\n",
    "\n",
    "## ▣ 데이터 소개\n",
    "* 웹 크롤링 데이터셋 : Feature_Website.xlsx\n",
    "\n",
    "## ▣ 웹 크롤링 데이터셋의 변수 소개\n",
    "* html_code : 크롤링을 활용해 수집한 HTML Code 원본\n",
    "* repu : 악성사이트 여부 (malicious : 악성사이트, benign : 정상사이트)\n",
    "<br>\n",
    "\n",
    "---"
   ]
  },
  {
   "cell_type": "markdown",
   "metadata": {},
   "source": [
    "## <b>[1단계] 데이터 수집</b>\n",
    "\n",
    "* 1단계에서는 크롤링으로 수집한 HTML Code를 활용해 Feature를 만드는 과정을 체험합니다."
   ]
  },
  {
   "cell_type": "markdown",
   "metadata": {},
   "source": [
    "# <b>Step 0. 본격적인 실습 전 packages 설치\n",
    "* Beautifulsoup 라이브러리 설치\n",
    "* openpyxl 라이브러리 설치"
   ]
  },
  {
   "cell_type": "code",
   "execution_count": null,
   "metadata": {},
   "outputs": [],
   "source": []
  },
  {
   "cell_type": "markdown",
   "metadata": {},
   "source": [
    "* 데이터 프레임 관련 라이브러리 Import"
   ]
  },
  {
   "cell_type": "code",
   "execution_count": null,
   "metadata": {},
   "outputs": [],
   "source": []
  },
  {
   "cell_type": "markdown",
   "metadata": {},
   "source": [
    "---\n",
    "## <b>Q1. 데이터 불러오기\n",
    "### 정상/악성 HTML Code가 저장된 엑셀파일 불러오기\n",
    "- 파일명 : Feature Website.xlsx\n"
   ]
  },
  {
   "cell_type": "markdown",
   "metadata": {},
   "source": [
    "### <span style=\"color:darkred\">[문제1] Pandas 라이브러리를 활용해서 'Feature Website.xlsx'파일을 'df' 변수에 저장하고 그 info()및 head()를 통해 데이터를 확인하세요.<span>"
   ]
  },
  {
   "cell_type": "code",
   "execution_count": 1,
   "metadata": {},
   "outputs": [],
   "source": [
    "# 아래에 실습코드를 작성하고 결과를 확인합니다."
   ]
  },
  {
   "cell_type": "code",
   "execution_count": 2,
   "metadata": {},
   "outputs": [],
   "source": [
    "# 데이터 프레임의 info를 확인합니다."
   ]
  },
  {
   "cell_type": "code",
   "execution_count": 3,
   "metadata": {},
   "outputs": [],
   "source": [
    "# 불러온 데이터를 확인합니다."
   ]
  },
  {
   "cell_type": "markdown",
   "metadata": {},
   "source": [
    "---\n",
    "# <b>Step 1. 데이터 수집\n",
    "\n",
    "### 주어진 데이터로만 모델링 하는 경우는 드뭅니다.\n",
    "### 주어진 데이터 외 추가로 데이터를 수집 또는 생성해야 하는 경우가 많습니다.\n",
    "### 이번 과정에서는 웹 크롤러를 통해 수집된 정상/악성 사이트 HTML 데이터에서\n",
    "### BeatifulSoup 라이브러리를 활용 필요한 Feature(특징)를 추출해 보도록 하겠습니다.\n",
    "### 정상/악성 사이트 HTML Code는 사전에 수집하여 'Feature Website.xlsx' 파일에 저장해 두었습니다.\n"
   ]
  },
  {
   "cell_type": "markdown",
   "metadata": {},
   "source": [
    "### <span style=\"color:blue\">[예시] Beatuifulsoup 라이브러리를 활용 HTML code를 출력하고 \\<title> 태그 길이를 계산합니다.<span>"
   ]
  },
  {
   "cell_type": "code",
   "execution_count": null,
   "metadata": {},
   "outputs": [],
   "source": [
    "from bs4 import BeautifulSoup\n",
    "\n",
    "soup = BeautifulSoup(df['html_code'][0], 'html.parser')"
   ]
  },
  {
   "cell_type": "markdown",
   "metadata": {},
   "source": [
    "*<span style=\"color:blue\"> html code 출력<span>"
   ]
  },
  {
   "cell_type": "code",
   "execution_count": null,
   "metadata": {},
   "outputs": [
    {
     "name": "stdout",
     "output_type": "stream",
     "text": [
      "<!DOCTYPE html>\n",
      "\n",
      "<!--[if lt IE 7]> <html lang=\"en-us\" class=\"a-no-js a-lt-ie9 a-lt-ie8 a-lt-ie7\"> <![endif]-->\n",
      "<!--[if IE 7]>    <html lang=\"en-us\" class=\"a-no-js a-lt-ie9 a-lt-ie8\"> <![endif]-->\n",
      "<!--[if IE 8]>    <html lang=\"en-us\" class=\"a-no-js a-lt-ie9\"> <![endif]-->\n",
      "<!--[if gt IE 8]><!-->\n",
      "<html class=\"a-no-js\" lang=\"en-us\"><!--<![endif]--><head>\n",
      "<meta content=\"text/html; charset=utf-8\" http-equiv=\"content-type\"/>\n",
      "<meta charset=\"utf-8\"/>\n",
      "<meta content=\"IE=edge,chrome=1\" http-equiv=\"X-UA-Compatible\"/>\n",
      "<title dir=\"ltr\">Amazon.com</title>\n",
      "<meta content=\"width=device-width\" name=\"viewport\"/>\n",
      "<link href=\"https://images-na.ssl-images-amazon.com/images/G/01/AUIClients/AmazonUI-3c913031596ca78a3768f4e934b1cc02ce238101.secure.min._V1_.css\" rel=\"stylesheet\"/>\n",
      "<script>\n",
      "\n",
      "if (true === true) {\n",
      "    var ue_t0 = (+ new Date()),\n",
      "        ue_csm = window,\n",
      "        ue = { t0: ue_t0, d: function() { return (+new Date() - ue_t0); } },\n",
      "        ue_furl = \"fls-na.amazon.com\",\n",
      "        ue_mid = \"ATVPDKIKX0DER\",\n",
      "        ue_sid = (document.cookie.match(/session-id=([0-9-]+)/) || [])[1],\n",
      "        ue_sn = \"opfcaptcha.amazon.com\",\n",
      "        ue_id = 'BY6PY7346W2THV0MAFYZ';\n",
      "}\n",
      "</script>\n",
      "</head>\n",
      "<body>\n",
      "<!--\n",
      "        To discuss automated access to Amazon data please contact api-services-support@amazon.com.\n",
      "        For information about migrating to our APIs refer to our Marketplace APIs at https://developer.amazonservices.com/ref=rm_c_sv, or our Product Advertising API at https://affiliate-program.amazon.com/gp/advertising/api/detail/main.html/ref=rm_c_ac for advertising use cases.\n",
      "-->\n",
      "<!--\n",
      "Correios.DoNotSend\n",
      "-->\n",
      "<div class=\"a-container a-padding-double-large\" style=\"min-width:350px;padding:44px 0 !important\">\n",
      "<div class=\"a-row a-spacing-double-large\" style=\"width: 350px; margin: 0 auto\">\n",
      "<div class=\"a-row a-spacing-medium a-text-center\"><i class=\"a-icon a-logo\"></i></div>\n",
      "<div class=\"a-box a-alert a-alert-info a-spacing-base\">\n",
      "<div class=\"a-box-inner\">\n",
      "<i class=\"a-icon a-icon-alert\"></i>\n",
      "<h4>Enter the characters you see below</h4>\n",
      "<p class=\"a-last\">Sorry, we just need to make sure you're not a robot. For best results, please make sure your browser is accepting cookies.</p>\n",
      "</div>\n",
      "</div>\n",
      "<div class=\"a-section\">\n",
      "<div class=\"a-box a-color-offset-background\">\n",
      "<div class=\"a-box-inner a-padding-extra-large\">\n",
      "<form action=\"/errors/validateCaptcha\" method=\"get\" name=\"\">\n",
      "<input name=\"amzn\" type=\"hidden\" value=\"l4ZbaPUKjIME467w2sDxhg==\"/><input name=\"amzn-r\" type=\"hidden\" value=\"/\"/>\n",
      "<div class=\"a-row a-spacing-large\">\n",
      "<div class=\"a-box\">\n",
      "<div class=\"a-box-inner\">\n",
      "<h4>Type the characters you see in this image:</h4>\n",
      "<div class=\"a-row a-text-center\">\n",
      "<img src=\"https://images-na.ssl-images-amazon.com/captcha/wxvwzfzh/Captcha_tujfcmjndm.jpg\"/>\n",
      "</div>\n",
      "<div class=\"a-row a-spacing-base\">\n",
      "<div class=\"a-row\">\n",
      "<div class=\"a-column a-span6\">\n",
      "</div>\n",
      "<div class=\"a-column a-span6 a-span-last a-text-right\">\n",
      "<a onclick=\"window.location.reload()\">Try different image</a>\n",
      "</div>\n",
      "</div>\n",
      "<input autocapitalize=\"off\" autocomplete=\"off\" autocorrect=\"off\" class=\"a-span12\" id=\"captchacharacters\" name=\"field-keywords\" placeholder=\"Type characters\" spellcheck=\"false\" type=\"text\"/>\n",
      "</div>\n",
      "</div>\n",
      "</div>\n",
      "</div>\n",
      "<div class=\"a-section a-spacing-extra-large\">\n",
      "<div class=\"a-row\">\n",
      "<span class=\"a-button a-button-primary a-span12\">\n",
      "<span class=\"a-button-inner\">\n",
      "<button class=\"a-button-text\" type=\"submit\">Continue shopping</button>\n",
      "</span>\n",
      "</span>\n",
      "</div>\n",
      "</div>\n",
      "</form>\n",
      "</div>\n",
      "</div>\n",
      "</div>\n",
      "</div>\n",
      "<div class=\"a-divider a-divider-section\"><div class=\"a-divider-inner\"></div></div>\n",
      "<div class=\"a-text-center a-spacing-small a-size-mini\">\n",
      "<a href=\"https://www.amazon.com/gp/help/customer/display.html/ref=footer_cou?ie=UTF8&amp;nodeId=508088\">Conditions of Use</a>\n",
      "<span class=\"a-letter-space\"></span>\n",
      "<span class=\"a-letter-space\"></span>\n",
      "<span class=\"a-letter-space\"></span>\n",
      "<span class=\"a-letter-space\"></span>\n",
      "<a href=\"https://www.amazon.com/gp/help/customer/display.html/ref=footer_privacy?ie=UTF8&amp;nodeId=468496\">Privacy Policy</a>\n",
      "</div>\n",
      "<div class=\"a-text-center a-size-mini a-color-secondary\">\n",
      "          © 1996-2014, Amazon.com, Inc. or its affiliates\n",
      "          <script>\n",
      "           if (true === true) {\n",
      "             document.write('<img src=\"https://fls-na.amaz'+'on.com/'+'1/oc-csi/1/OP/requestId=BY6PY7346W2THV0MAFYZ&js=1\" />');\n",
      "           };\n",
      "          </script>\n",
      "<noscript>\n",
      "<img src=\"https://fls-na.amazon.com/1/oc-csi/1/OP/requestId=BY6PY7346W2THV0MAFYZ&amp;js=0\">\n",
      "</img></noscript>\n",
      "</div>\n",
      "</div>\n",
      "<script>\n",
      "    if (true === true) {\n",
      "        var head = document.getElementsByTagName('head')[0],\n",
      "            prefix = \"https://images-na.ssl-images-amazon.com/images/G/01/csminstrumentation/\",\n",
      "            elem = document.createElement(\"script\");\n",
      "        elem.src = prefix + \"csm-captcha-instrumentation.min.js\";\n",
      "        head.appendChild(elem);\n",
      "\n",
      "        elem = document.createElement(\"script\");\n",
      "        elem.src = prefix + \"rd-script-6d68177fa6061598e9509dc4b5bdd08d.js\";\n",
      "        head.appendChild(elem);\n",
      "    }\n",
      "    </script>\n",
      "</body></html>\n",
      "\n"
     ]
    }
   ],
   "source": [
    "print(soup)"
   ]
  },
  {
   "cell_type": "markdown",
   "metadata": {},
   "source": [
    "* <span style=\"color:blue\"> \\<title> 태그 출력 및 길이 계산<span>"
   ]
  },
  {
   "cell_type": "code",
   "execution_count": null,
   "metadata": {},
   "outputs": [
    {
     "name": "stdout",
     "output_type": "stream",
     "text": [
      "* title : <title dir=\"ltr\">Amazon.com</title>\n",
      "* title 길이 : 10\n"
     ]
    }
   ],
   "source": [
    "# <title> 태그 출력\n",
    "print(\"* title :\",soup.head.title)\n",
    "\n",
    "# <title> 태그 길이 출력\n",
    "print(\"* title 길이 :\", len(str(soup.head.title.getText())))"
   ]
  },
  {
   "cell_type": "markdown",
   "metadata": {},
   "source": [
    "---"
   ]
  },
  {
   "cell_type": "markdown",
   "metadata": {},
   "source": [
    "## <b>Q2. html 에서 \\<script>...\\</script> 태그 길이 계산\n",
    "- BeautifulSoup으로 html소스를 python 객체로 변환\n",
    "- 함수로 구현하기\n",
    "- float으로 return 받기"
   ]
  },
  {
   "cell_type": "markdown",
   "metadata": {},
   "source": [
    "### <span style=\"color:darkred\">[문제2] Beatuifulsoup 라이브러리를 활용 HTML code에서 \\<script> 태그 길이를 계산하는 함수를 완성하고 결과를 확인하세요.<span>"
   ]
  },
  {
   "cell_type": "code",
   "execution_count": 5,
   "metadata": {},
   "outputs": [],
   "source": [
    "# Feature(특징) 데이터를 추출는 함수를 작성합니다.\n",
    "\n"
   ]
  },
  {
   "cell_type": "code",
   "execution_count": 6,
   "metadata": {},
   "outputs": [],
   "source": [
    "# 데이터 프레임의 html_code 컬럼에서 Feature(특징) 데이터를 추출합니다.\n",
    "\n"
   ]
  },
  {
   "cell_type": "code",
   "execution_count": 5,
   "metadata": {},
   "outputs": [],
   "source": [
    "# 추출한 Feature(특징) 데이터를 확인합니다.\n",
    "\n"
   ]
  },
  {
   "cell_type": "markdown",
   "metadata": {},
   "source": [
    "---"
   ]
  },
  {
   "cell_type": "markdown",
   "metadata": {},
   "source": [
    "## <b>Q3. html에서 공백 수 계산\n",
    "\n",
    "- BeautifulSoup으로 html소스를 python 객체로 변환\n",
    "- 함수로 구현하기\n",
    "- float으로 return 받기"
   ]
  },
  {
   "cell_type": "markdown",
   "metadata": {},
   "source": [
    "### <span style=\"color:darkred\">[문제3] Beatuifulsoup 라이브러리를 활용 HTML Code에서 \\<html> 태그 공백 수를 계산하는 함수를 완성하고 결과를 확인하세요.<span>"
   ]
  },
  {
   "cell_type": "code",
   "execution_count": 6,
   "metadata": {},
   "outputs": [],
   "source": [
    "# Feature(특징) 데이터를 추출하는 함수를 작성합니다.\n",
    "\n",
    "    "
   ]
  },
  {
   "cell_type": "code",
   "execution_count": 7,
   "metadata": {},
   "outputs": [],
   "source": [
    "# 데이터 프레임의 html_code 컬럼에서 Feature(특징) 데이터를 추출합니다.\n",
    "\n"
   ]
  },
  {
   "cell_type": "code",
   "execution_count": 8,
   "metadata": {},
   "outputs": [],
   "source": [
    "# 추출한 Feature(특징) 데이터를 확인합니다.\n"
   ]
  },
  {
   "cell_type": "markdown",
   "metadata": {},
   "source": [
    "---"
   ]
  },
  {
   "cell_type": "markdown",
   "metadata": {},
   "source": [
    "## <b>Q4. html 에서 body 길이 계산\n",
    "\n",
    "- BeautifulSoup으로 html소스를 python 객체로 변환\n",
    "- 함수로 구현하기\n",
    "- float으로 return 받기"
   ]
  },
  {
   "cell_type": "markdown",
   "metadata": {},
   "source": [
    "### <span style=\"color:darkred\">[문제4] Beatuifulsoup 라이브러리를 활용 HTML code에서 \\<body> 태그 길이를 계산하는 함수를 완성하고 결과를 확인하세요.<span>"
   ]
  },
  {
   "cell_type": "code",
   "execution_count": 11,
   "metadata": {},
   "outputs": [],
   "source": [
    "# Feature(특징) 데이터를 추출하는 함수를 작성합니다.\n",
    "\n",
    "    "
   ]
  },
  {
   "cell_type": "code",
   "execution_count": 12,
   "metadata": {},
   "outputs": [],
   "source": [
    "# 데이터 프레임의 html_code 컬럼에서 Feature(특징) 데이터를 추출합니다.\n"
   ]
  },
  {
   "cell_type": "code",
   "execution_count": 14,
   "metadata": {},
   "outputs": [],
   "source": [
    "# 추출한 Feature(특징) 데이터를 확인합니다.\n",
    "\n"
   ]
  },
  {
   "cell_type": "markdown",
   "metadata": {},
   "source": [
    "---"
   ]
  },
  {
   "cell_type": "markdown",
   "metadata": {},
   "source": [
    "## <b>Q5. script 에서 src, href 속성을 가진 태그수\n",
    "\n",
    "- BeautifulSoup으로 html소스를 python 객체로 변환\n",
    "- 함수로 구현하기\n",
    "- float으로 return 받기"
   ]
  },
  {
   "cell_type": "markdown",
   "metadata": {},
   "source": [
    "### <span style=\"color:darkred\">[문제5] Beatuifulsoup 라이브러리를 활용 HTML code에서 \\<script> 태그에서 src, href 속성을 가진 태그수를 계산하는 함수를 완성하고 결과를 확인하세요. <span>\n"
   ]
  },
  {
   "cell_type": "code",
   "execution_count": 13,
   "metadata": {},
   "outputs": [],
   "source": [
    "# Feature(특징) 데이터를 추출하는 함수를 작성합니다.\n"
   ]
  },
  {
   "cell_type": "code",
   "execution_count": 3,
   "metadata": {},
   "outputs": [],
   "source": [
    "# 데이터 프레임의 html_code 컬럼에서 Feature(특징) 데이터를 추출합니다\n"
   ]
  },
  {
   "cell_type": "code",
   "execution_count": 1,
   "metadata": {},
   "outputs": [],
   "source": [
    "# 추출한 Feature(특징) 데이터를 확인합니다.\n",
    "\n"
   ]
  },
  {
   "cell_type": "markdown",
   "metadata": {},
   "source": [
    "## <b>Q6. 추가적으로 도출 가능한 Feature\n",
    "\n",
    "- BeautifulSoup으로 html소스를 python 객체로 변환\n",
    "- 함수로 구현하기\n",
    "- 적절한 자료형으로 return 받기"
   ]
  },
  {
   "cell_type": "markdown",
   "metadata": {},
   "source": [
    "### <span style=\"color:darkred\">[문제6] Beatuifulsoup 라이브러리를 활용 HTML code에서 추가로 만들수 있는 Feature를 찾아보고 결과를 확인하세요. <span>\n"
   ]
  },
  {
   "cell_type": "code",
   "execution_count": 12,
   "metadata": {},
   "outputs": [],
   "source": [
    "# Feature(특징) 데이터를 추출하는 함수를 작성합니다.\n"
   ]
  },
  {
   "cell_type": "code",
   "execution_count": null,
   "metadata": {},
   "outputs": [],
   "source": [
    "# 데이터 프레임의 html_code 컬럼에서 Feature(특징) 데이터를 추출합니다\n"
   ]
  },
  {
   "cell_type": "code",
   "execution_count": null,
   "metadata": {},
   "outputs": [],
   "source": [
    "# 추출한 Feature(특징) 데이터를 확인합니다.\n",
    "\n"
   ]
  }
 ],
 "metadata": {
  "kernelspec": {
   "display_name": "Python 3.8.8 64-bit",
   "language": "python",
   "name": "python3"
  },
  "language_info": {
   "codemirror_mode": {
    "name": "ipython",
    "version": 3
   },
   "file_extension": ".py",
   "mimetype": "text/x-python",
   "name": "python",
   "nbconvert_exporter": "python",
   "pygments_lexer": "ipython3",
   "version": "3.8.8"
  },
  "vscode": {
   "interpreter": {
    "hash": "f08154012ddadd8e950e6e9e035c7a7b32c136e7647e9b7c77e02eb723a8bedb"
   }
  }
 },
 "nbformat": 4,
 "nbformat_minor": 4
}
