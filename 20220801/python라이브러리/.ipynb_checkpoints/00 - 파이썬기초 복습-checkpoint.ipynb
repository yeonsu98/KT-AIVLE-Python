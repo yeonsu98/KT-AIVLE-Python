{
 "cells": [
  {
   "cell_type": "markdown",
   "metadata": {
    "id": "BFhIXgdYoYGp"
   },
   "source": [
    "# 00. 파이썬기초 복습"
   ]
  },
  {
   "cell_type": "markdown",
   "metadata": {
    "id": "zAt73WbLVkBh"
   },
   "source": [
    "1) range()를 사용하여, 100이하의 수 중, 7의 배수를 리스트 a 에 담으시오.  "
   ]
  },
  {
   "cell_type": "code",
   "execution_count": 15,
   "metadata": {
    "id": "vkK6pHxZPLRc"
   },
   "outputs": [],
   "source": [
    "a = []\n",
    "for i in range(1, 101):\n",
    "    if i % 7 == 0:\n",
    "      a.append(i)  "
   ]
  },
  {
   "cell_type": "code",
   "execution_count": 16,
   "metadata": {},
   "outputs": [
    {
     "data": {
      "text/plain": [
       "[7, 14, 21, 28, 35, 42, 49, 56, 63, 70, 77, 84, 91, 98]"
      ]
     },
     "execution_count": 16,
     "metadata": {},
     "output_type": "execute_result"
    }
   ],
   "source": [
    "a"
   ]
  },
  {
   "cell_type": "markdown",
   "metadata": {
    "id": "Qgti38DEVkZp"
   },
   "source": [
    "2) a에서 인덱스 4~ 7까지 조회하시오."
   ]
  },
  {
   "cell_type": "code",
   "execution_count": 17,
   "metadata": {
    "id": "GUVp68uHYCW4"
   },
   "outputs": [
    {
     "data": {
      "text/plain": [
       "[35, 42, 49, 56]"
      ]
     },
     "execution_count": 17,
     "metadata": {},
     "output_type": "execute_result"
    }
   ],
   "source": [
    "a[4:8]"
   ]
  },
  {
   "cell_type": "markdown",
   "metadata": {
    "id": "-bV36ehSV5Va"
   },
   "source": [
    "3) a에서, 끝에서 세번째 값을 조회하시오."
   ]
  },
  {
   "cell_type": "code",
   "execution_count": 18,
   "metadata": {
    "id": "7F7TSz1lVjpC"
   },
   "outputs": [
    {
     "data": {
      "text/plain": [
       "84"
      ]
     },
     "execution_count": 18,
     "metadata": {},
     "output_type": "execute_result"
    }
   ],
   "source": [
    "a[-3]"
   ]
  },
  {
   "cell_type": "markdown",
   "metadata": {
    "id": "DawMpmAuWBxB"
   },
   "source": [
    "4) a에 데이터 갯수(길이)는?"
   ]
  },
  {
   "cell_type": "code",
   "execution_count": 19,
   "metadata": {
    "id": "b9p5iNbRVjmR"
   },
   "outputs": [
    {
     "data": {
      "text/plain": [
       "14"
      ]
     },
     "execution_count": 19,
     "metadata": {},
     "output_type": "execute_result"
    }
   ],
   "source": [
    "len(a)"
   ]
  },
  {
   "cell_type": "markdown",
   "metadata": {
    "id": "TCKZzGQa_Tnb"
   },
   "source": [
    "5) a 값들의 합과 평균을 구하시오."
   ]
  },
  {
   "cell_type": "code",
   "execution_count": 20,
   "metadata": {
    "id": "Bk6duuvY_Yei"
   },
   "outputs": [
    {
     "data": {
      "text/plain": [
       "52.5"
      ]
     },
     "execution_count": 20,
     "metadata": {},
     "output_type": "execute_result"
    }
   ],
   "source": [
    "sum(a)\n",
    "avg = sum(a)/len(a)\n",
    "avg"
   ]
  },
  {
   "cell_type": "markdown",
   "metadata": {
    "id": "LcKh8Vh9WXXs"
   },
   "source": [
    "6) 반복문을 이용하여 100이하의 소수(prime number)를 리스트에 담아 봅시다.\n",
    "* 소수(prime number) : 약수가 오직 1과 자기자신 만 존재하는 수. "
   ]
  },
  {
   "cell_type": "code",
   "execution_count": null,
   "metadata": {
    "id": "62qfCsxsVjgS"
   },
   "outputs": [],
   "source": []
  },
  {
   "cell_type": "markdown",
   "metadata": {
    "id": "7emtv8XYXW1Z"
   },
   "source": [
    "7) 아래 값으로 딕셔너리 d를 생성해 봅시다.\n",
    "\n",
    "|key | value|\n",
    "|----|----|\n",
    "|v1 | [1,2,3]|\n",
    "|v2 | {'a':23, 'b':[4,5]}|\n",
    "\n"
   ]
  },
  {
   "cell_type": "code",
   "execution_count": null,
   "metadata": {
    "id": "TS98pEKWXWjR"
   },
   "outputs": [],
   "source": []
  },
  {
   "cell_type": "markdown",
   "metadata": {
    "id": "IjiAQmdUXWap"
   },
   "source": [
    "8) d에서 [1,2,3]을 출력해 봅시다."
   ]
  },
  {
   "cell_type": "code",
   "execution_count": null,
   "metadata": {
    "id": "z4RaaUBsXw2p"
   },
   "outputs": [],
   "source": []
  },
  {
   "cell_type": "markdown",
   "metadata": {
    "id": "wdwyaB2IXV_J"
   },
   "source": [
    "9) d에서 23을 출력해 봅시다."
   ]
  },
  {
   "cell_type": "code",
   "execution_count": null,
   "metadata": {
    "id": "DYEB5fuTX3UH"
   },
   "outputs": [],
   "source": []
  },
  {
   "cell_type": "markdown",
   "metadata": {
    "id": "aG6yjO1wX4B5"
   },
   "source": [
    "10) d에서 5를 출력해봅시다."
   ]
  },
  {
   "cell_type": "code",
   "execution_count": null,
   "metadata": {
    "id": "0TYAb7WPX4qS"
   },
   "outputs": [],
   "source": []
  },
  {
   "cell_type": "markdown",
   "metadata": {
    "id": "ES1kG2HCADx9"
   },
   "source": [
    "11) d에 key 'newKey' , value (1,2) 를 추가하고 출력해봅시다."
   ]
  },
  {
   "cell_type": "code",
   "execution_count": null,
   "metadata": {
    "id": "_otugN4jADyQ"
   },
   "outputs": [],
   "source": []
  }
 ],
 "metadata": {
  "colab": {
   "collapsed_sections": [],
   "name": "00 - 파이썬기초 복습.ipynb",
   "provenance": []
  },
  "kernelspec": {
   "display_name": "Python 3",
   "language": "python",
   "name": "python3"
  },
  "language_info": {
   "codemirror_mode": {
    "name": "ipython",
    "version": 3
   },
   "file_extension": ".py",
   "mimetype": "text/x-python",
   "name": "python",
   "nbconvert_exporter": "python",
   "pygments_lexer": "ipython3",
   "version": "3.8.8"
  }
 },
 "nbformat": 4,
 "nbformat_minor": 4
}
