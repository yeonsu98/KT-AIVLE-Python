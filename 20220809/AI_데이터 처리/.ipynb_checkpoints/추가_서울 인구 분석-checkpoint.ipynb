{
 "cells": [
  {
   "cell_type": "markdown",
   "metadata": {
    "id": "Xi_yurwiORB7"
   },
   "source": [
    "# 서울시 인구 분석"
   ]
  },
  {
   "cell_type": "markdown",
   "metadata": {
    "id": "4wk8yXgF1FYk"
   },
   "source": [
    "<img src='https://raw.githubusercontent.com/Jangrae/img/master/people2.png' width=\"650\" align=\"left\">"
   ]
  },
  {
   "cell_type": "markdown",
   "metadata": {
    "id": "0uNXxebRGrd8"
   },
   "source": [
    "## 1. 라이브러리 불러오기\n",
    "\n",
    "- 사용할 라이브러리를 불러옵니다."
   ]
  },
  {
   "cell_type": "code",
   "execution_count": 1,
   "metadata": {
    "id": "p3lUS_fyqvnh"
   },
   "outputs": [],
   "source": [
    "import pandas as pd"
   ]
  },
  {
   "cell_type": "markdown",
   "metadata": {
    "id": "ul8zKgxCqvnh"
   },
   "source": [
    "* 데이터 불러오기\n",
    "\n",
    "    - 다음 경로의 파일을 읽어와 pop01, pop02, pop03 데이터프레임을 만듭니다.\n",
    "    - 파일 경로1: https://raw.githubusercontent.com/Jangrae/csv/master/seoul_pop_h01.csv\n",
    "    - 파일 경로2: https://raw.githubusercontent.com/Jangrae/csv/master/seoul_pop_h02.csv\n",
    "    - 파일 경로3: https://raw.githubusercontent.com/Jangrae/csv/master/seoul_pop_h03.csv"
   ]
  },
  {
   "cell_type": "code",
   "execution_count": 2,
   "metadata": {
    "id": "91c9vKQ0E1A4"
   },
   "outputs": [],
   "source": [
    "pop01 = pd.read_csv('https://raw.githubusercontent.com/Jangrae/csv/master/seoul_pop_h01.csv')"
   ]
  },
  {
   "cell_type": "code",
   "execution_count": 3,
   "metadata": {
    "id": "QSedynVWEp3W"
   },
   "outputs": [],
   "source": [
    "pop02 = pd.read_csv('https://raw.githubusercontent.com/Jangrae/csv/master/seoul_pop_h02.csv')"
   ]
  },
  {
   "cell_type": "code",
   "execution_count": 4,
   "metadata": {
    "id": "OPfgGedaEqnw"
   },
   "outputs": [],
   "source": [
    "pop03 = pd.read_csv('https://raw.githubusercontent.com/Jangrae/csv/master/seoul_pop_h03.csv')"
   ]
  },
  {
   "cell_type": "markdown",
   "metadata": {
    "id": "YskAXv8avBKD"
   },
   "source": [
    "## 2. 데이터 탐색\n",
    "\n",
    "다음과 같은 정보 확인을 통해 처리할 대상 데이터를 이해합니다.\n",
    "- 상/하위 데이터 확인\n",
    "- 데이터프레임 크기 확인\n",
    "- 열 이름, 데이터 형식, 값 개수 등 확인\n",
    "- 기초 통계정보 확인\n",
    "- 결측치 확인\n",
    "- 범주형 데이터 확인\n",
    "- 개별 열 값 상세 확인 등"
   ]
  },
  {
   "cell_type": "markdown",
   "metadata": {
    "id": "DGGFZli-V9pv"
   },
   "source": [
    "**1) 데이터프레임 크기 확인**\n",
    "\n",
    "- 세 개의 데이터프레임 크기(행 수, 열 수)를 확인합니다."
   ]
  },
  {
   "cell_type": "code",
   "execution_count": 5,
   "metadata": {
    "id": "rLzk_ydnvQzs"
   },
   "outputs": [
    {
     "data": {
      "text/plain": [
       "((40, 3), (36, 3), (40, 3))"
      ]
     },
     "execution_count": 5,
     "metadata": {},
     "output_type": "execute_result"
    }
   ],
   "source": [
    "pop01.shape, pop02.shape, pop03.shape"
   ]
  },
  {
   "cell_type": "markdown",
   "metadata": {
    "id": "PvfJBoYFWD7d"
   },
   "source": [
    "**2) year 최솟값, 최댓값 확인**\n",
    "\n",
    "- 세 개의 데이터프레임 year열 최솟값, 최댓값 크기를 비교해 차이가 있는 지 각각 확인합니다."
   ]
  },
  {
   "cell_type": "code",
   "execution_count": 7,
   "metadata": {
    "id": "HLYDQZLSwlic",
    "scrolled": true
   },
   "outputs": [
    {
     "data": {
      "text/html": [
       "<div>\n",
       "<style scoped>\n",
       "    .dataframe tbody tr th:only-of-type {\n",
       "        vertical-align: middle;\n",
       "    }\n",
       "\n",
       "    .dataframe tbody tr th {\n",
       "        vertical-align: top;\n",
       "    }\n",
       "\n",
       "    .dataframe thead th {\n",
       "        text-align: right;\n",
       "    }\n",
       "</style>\n",
       "<table border=\"1\" class=\"dataframe\">\n",
       "  <thead>\n",
       "    <tr style=\"text-align: right;\">\n",
       "      <th></th>\n",
       "      <th>year</th>\n",
       "      <th>k_male</th>\n",
       "      <th>k_female</th>\n",
       "    </tr>\n",
       "  </thead>\n",
       "  <tbody>\n",
       "    <tr>\n",
       "      <th>count</th>\n",
       "      <td>40.000000</td>\n",
       "      <td>40.000000</td>\n",
       "      <td>40.000000</td>\n",
       "    </tr>\n",
       "    <tr>\n",
       "      <th>mean</th>\n",
       "      <td>2000.500000</td>\n",
       "      <td>4982.550000</td>\n",
       "      <td>5025.525000</td>\n",
       "    </tr>\n",
       "    <tr>\n",
       "      <th>std</th>\n",
       "      <td>11.690452</td>\n",
       "      <td>365.083408</td>\n",
       "      <td>339.917485</td>\n",
       "    </tr>\n",
       "    <tr>\n",
       "      <th>min</th>\n",
       "      <td>1981.000000</td>\n",
       "      <td>4160.000000</td>\n",
       "      <td>4191.000000</td>\n",
       "    </tr>\n",
       "    <tr>\n",
       "      <th>25%</th>\n",
       "      <td>1990.750000</td>\n",
       "      <td>4893.500000</td>\n",
       "      <td>5018.250000</td>\n",
       "    </tr>\n",
       "    <tr>\n",
       "      <th>50%</th>\n",
       "      <td>2000.500000</td>\n",
       "      <td>5062.500000</td>\n",
       "      <td>5122.500000</td>\n",
       "    </tr>\n",
       "    <tr>\n",
       "      <th>75%</th>\n",
       "      <td>2010.250000</td>\n",
       "      <td>5158.750000</td>\n",
       "      <td>5159.500000</td>\n",
       "    </tr>\n",
       "    <tr>\n",
       "      <th>max</th>\n",
       "      <td>2020.000000</td>\n",
       "      <td>5500.000000</td>\n",
       "      <td>5435.000000</td>\n",
       "    </tr>\n",
       "  </tbody>\n",
       "</table>\n",
       "</div>"
      ],
      "text/plain": [
       "              year       k_male     k_female\n",
       "count    40.000000    40.000000    40.000000\n",
       "mean   2000.500000  4982.550000  5025.525000\n",
       "std      11.690452   365.083408   339.917485\n",
       "min    1981.000000  4160.000000  4191.000000\n",
       "25%    1990.750000  4893.500000  5018.250000\n",
       "50%    2000.500000  5062.500000  5122.500000\n",
       "75%    2010.250000  5158.750000  5159.500000\n",
       "max    2020.000000  5500.000000  5435.000000"
      ]
     },
     "execution_count": 7,
     "metadata": {},
     "output_type": "execute_result"
    }
   ],
   "source": [
    "pop01.describe() #1981-2020"
   ]
  },
  {
   "cell_type": "code",
   "execution_count": 9,
   "metadata": {},
   "outputs": [
    {
     "data": {
      "text/html": [
       "<div>\n",
       "<style scoped>\n",
       "    .dataframe tbody tr th:only-of-type {\n",
       "        vertical-align: middle;\n",
       "    }\n",
       "\n",
       "    .dataframe tbody tr th {\n",
       "        vertical-align: top;\n",
       "    }\n",
       "\n",
       "    .dataframe thead th {\n",
       "        text-align: right;\n",
       "    }\n",
       "</style>\n",
       "<table border=\"1\" class=\"dataframe\">\n",
       "  <thead>\n",
       "    <tr style=\"text-align: right;\">\n",
       "      <th></th>\n",
       "      <th>year</th>\n",
       "      <th>f_male</th>\n",
       "      <th>f_female</th>\n",
       "    </tr>\n",
       "  </thead>\n",
       "  <tbody>\n",
       "    <tr>\n",
       "      <th>count</th>\n",
       "      <td>36.000000</td>\n",
       "      <td>36.000000</td>\n",
       "      <td>36.000000</td>\n",
       "    </tr>\n",
       "    <tr>\n",
       "      <th>mean</th>\n",
       "      <td>2002.500000</td>\n",
       "      <td>65.472222</td>\n",
       "      <td>69.472222</td>\n",
       "    </tr>\n",
       "    <tr>\n",
       "      <th>std</th>\n",
       "      <td>10.535654</td>\n",
       "      <td>51.371747</td>\n",
       "      <td>57.121168</td>\n",
       "    </tr>\n",
       "    <tr>\n",
       "      <th>min</th>\n",
       "      <td>1985.000000</td>\n",
       "      <td>5.000000</td>\n",
       "      <td>4.000000</td>\n",
       "    </tr>\n",
       "    <tr>\n",
       "      <th>25%</th>\n",
       "      <td>1993.750000</td>\n",
       "      <td>20.500000</td>\n",
       "      <td>18.500000</td>\n",
       "    </tr>\n",
       "    <tr>\n",
       "      <th>50%</th>\n",
       "      <td>2002.500000</td>\n",
       "      <td>42.500000</td>\n",
       "      <td>45.500000</td>\n",
       "    </tr>\n",
       "    <tr>\n",
       "      <th>75%</th>\n",
       "      <td>2011.250000</td>\n",
       "      <td>122.250000</td>\n",
       "      <td>132.500000</td>\n",
       "    </tr>\n",
       "    <tr>\n",
       "      <th>max</th>\n",
       "      <td>2020.000000</td>\n",
       "      <td>137.000000</td>\n",
       "      <td>148.000000</td>\n",
       "    </tr>\n",
       "  </tbody>\n",
       "</table>\n",
       "</div>"
      ],
      "text/plain": [
       "              year      f_male    f_female\n",
       "count    36.000000   36.000000   36.000000\n",
       "mean   2002.500000   65.472222   69.472222\n",
       "std      10.535654   51.371747   57.121168\n",
       "min    1985.000000    5.000000    4.000000\n",
       "25%    1993.750000   20.500000   18.500000\n",
       "50%    2002.500000   42.500000   45.500000\n",
       "75%    2011.250000  122.250000  132.500000\n",
       "max    2020.000000  137.000000  148.000000"
      ]
     },
     "execution_count": 9,
     "metadata": {},
     "output_type": "execute_result"
    }
   ],
   "source": [
    "pop02.describe() #1985-2020"
   ]
  },
  {
   "cell_type": "code",
   "execution_count": 8,
   "metadata": {},
   "outputs": [
    {
     "data": {
      "text/html": [
       "<div>\n",
       "<style scoped>\n",
       "    .dataframe tbody tr th:only-of-type {\n",
       "        vertical-align: middle;\n",
       "    }\n",
       "\n",
       "    .dataframe tbody tr th {\n",
       "        vertical-align: top;\n",
       "    }\n",
       "\n",
       "    .dataframe thead th {\n",
       "        text-align: right;\n",
       "    }\n",
       "</style>\n",
       "<table border=\"1\" class=\"dataframe\">\n",
       "  <thead>\n",
       "    <tr style=\"text-align: right;\">\n",
       "      <th></th>\n",
       "      <th>year</th>\n",
       "      <th>household</th>\n",
       "      <th>older_65</th>\n",
       "    </tr>\n",
       "  </thead>\n",
       "  <tbody>\n",
       "    <tr>\n",
       "      <th>count</th>\n",
       "      <td>40.000000</td>\n",
       "      <td>40.000000</td>\n",
       "      <td>40.000000</td>\n",
       "    </tr>\n",
       "    <tr>\n",
       "      <th>mean</th>\n",
       "      <td>2000.500000</td>\n",
       "      <td>3493.300000</td>\n",
       "      <td>711.150000</td>\n",
       "    </tr>\n",
       "    <tr>\n",
       "      <th>std</th>\n",
       "      <td>11.690452</td>\n",
       "      <td>732.856624</td>\n",
       "      <td>398.925644</td>\n",
       "    </tr>\n",
       "    <tr>\n",
       "      <th>min</th>\n",
       "      <td>1981.000000</td>\n",
       "      <td>1915.000000</td>\n",
       "      <td>211.000000</td>\n",
       "    </tr>\n",
       "    <tr>\n",
       "      <th>25%</th>\n",
       "      <td>1990.750000</td>\n",
       "      <td>3202.500000</td>\n",
       "      <td>408.750000</td>\n",
       "    </tr>\n",
       "    <tr>\n",
       "      <th>50%</th>\n",
       "      <td>2000.500000</td>\n",
       "      <td>3555.000000</td>\n",
       "      <td>573.000000</td>\n",
       "    </tr>\n",
       "    <tr>\n",
       "      <th>75%</th>\n",
       "      <td>2010.250000</td>\n",
       "      <td>4179.000000</td>\n",
       "      <td>1018.250000</td>\n",
       "    </tr>\n",
       "    <tr>\n",
       "      <th>max</th>\n",
       "      <td>2020.000000</td>\n",
       "      <td>4418.000000</td>\n",
       "      <td>1568.000000</td>\n",
       "    </tr>\n",
       "  </tbody>\n",
       "</table>\n",
       "</div>"
      ],
      "text/plain": [
       "              year    household     older_65\n",
       "count    40.000000    40.000000    40.000000\n",
       "mean   2000.500000  3493.300000   711.150000\n",
       "std      11.690452   732.856624   398.925644\n",
       "min    1981.000000  1915.000000   211.000000\n",
       "25%    1990.750000  3202.500000   408.750000\n",
       "50%    2000.500000  3555.000000   573.000000\n",
       "75%    2010.250000  4179.000000  1018.250000\n",
       "max    2020.000000  4418.000000  1568.000000"
      ]
     },
     "execution_count": 8,
     "metadata": {},
     "output_type": "execute_result"
    }
   ],
   "source": [
    "pop03.describe() #1981-2020"
   ]
  },
  {
   "cell_type": "markdown",
   "metadata": {
    "id": "ia5a8bYdWRRY"
   },
   "source": [
    "**3) 결측치 확인**\n",
    "\n",
    "- 세 개의 데이터프레임에 결측치가 있는 지 각각 확인합니다."
   ]
  },
  {
   "cell_type": "code",
   "execution_count": 10,
   "metadata": {
    "id": "eGIIvQrPx1aj"
   },
   "outputs": [
    {
     "data": {
      "text/plain": [
       "year        0\n",
       "k_male      0\n",
       "k_female    0\n",
       "dtype: int64"
      ]
     },
     "execution_count": 10,
     "metadata": {},
     "output_type": "execute_result"
    }
   ],
   "source": [
    "pop01.isna().sum()"
   ]
  },
  {
   "cell_type": "code",
   "execution_count": 12,
   "metadata": {},
   "outputs": [
    {
     "data": {
      "text/plain": [
       "year        0\n",
       "f_male      0\n",
       "f_female    0\n",
       "dtype: int64"
      ]
     },
     "execution_count": 12,
     "metadata": {},
     "output_type": "execute_result"
    }
   ],
   "source": [
    "pop02.isna().sum()"
   ]
  },
  {
   "cell_type": "code",
   "execution_count": 11,
   "metadata": {},
   "outputs": [
    {
     "data": {
      "text/plain": [
       "year         0\n",
       "household    0\n",
       "older_65     0\n",
       "dtype: int64"
      ]
     },
     "execution_count": 11,
     "metadata": {},
     "output_type": "execute_result"
    }
   ],
   "source": [
    "pop03.isna().sum()"
   ]
  },
  {
   "cell_type": "markdown",
   "metadata": {
    "id": "1OSzZhf-7oqD"
   },
   "source": [
    "**4) 열 정보 확인**\n",
    "\n",
    "- 세 개의 데이터프레임의 열 정보를 확인합니다."
   ]
  },
  {
   "cell_type": "code",
   "execution_count": 13,
   "metadata": {
    "id": "HXq3am7Q7oqD",
    "scrolled": false
   },
   "outputs": [
    {
     "name": "stdout",
     "output_type": "stream",
     "text": [
      "<class 'pandas.core.frame.DataFrame'>\n",
      "RangeIndex: 40 entries, 0 to 39\n",
      "Data columns (total 3 columns):\n",
      " #   Column    Non-Null Count  Dtype\n",
      "---  ------    --------------  -----\n",
      " 0   year      40 non-null     int64\n",
      " 1   k_male    40 non-null     int64\n",
      " 2   k_female  40 non-null     int64\n",
      "dtypes: int64(3)\n",
      "memory usage: 1.1 KB\n"
     ]
    }
   ],
   "source": [
    "pop01.info()"
   ]
  },
  {
   "cell_type": "code",
   "execution_count": 14,
   "metadata": {},
   "outputs": [
    {
     "name": "stdout",
     "output_type": "stream",
     "text": [
      "<class 'pandas.core.frame.DataFrame'>\n",
      "RangeIndex: 36 entries, 0 to 35\n",
      "Data columns (total 3 columns):\n",
      " #   Column    Non-Null Count  Dtype\n",
      "---  ------    --------------  -----\n",
      " 0   year      36 non-null     int64\n",
      " 1   f_male    36 non-null     int64\n",
      " 2   f_female  36 non-null     int64\n",
      "dtypes: int64(3)\n",
      "memory usage: 992.0 bytes\n"
     ]
    }
   ],
   "source": [
    "pop02.info()"
   ]
  },
  {
   "cell_type": "code",
   "execution_count": 15,
   "metadata": {},
   "outputs": [
    {
     "name": "stdout",
     "output_type": "stream",
     "text": [
      "<class 'pandas.core.frame.DataFrame'>\n",
      "RangeIndex: 40 entries, 0 to 39\n",
      "Data columns (total 3 columns):\n",
      " #   Column     Non-Null Count  Dtype\n",
      "---  ------     --------------  -----\n",
      " 0   year       40 non-null     int64\n",
      " 1   household  40 non-null     int64\n",
      " 2   older_65   40 non-null     int64\n",
      "dtypes: int64(3)\n",
      "memory usage: 1.1 KB\n"
     ]
    }
   ],
   "source": [
    "pop03.info()"
   ]
  },
  {
   "cell_type": "markdown",
   "metadata": {
    "id": "90Xyn_eRsjM1"
   },
   "source": [
    "## 3. 데이터 전처리\n",
    "\n",
    "전처리 과정에서 다음과 같은 처리를 할 수 있습니다.\n",
    "\n",
    "- 결측치 처리\n",
    "- 값 변경\n",
    "- 열 추가\n",
    "- 불필요한 열 제거\n",
    "- 열 이름 변경\n",
    "- 데이터 통합(연결 또는 조인)\n",
    "- 가변수화 등"
   ]
  },
  {
   "cell_type": "markdown",
   "metadata": {
    "id": "RVYiMiblt05b"
   },
   "source": [
    "**1) 데이터 통합**\n",
    "\n",
    "- concat을 사용해 연결하면 인덱스 값을 기준으로 연결되어 데이터가 어긋납니다.\n",
    "- **year** 열을 기준으로 **outer** 방식으로 조인(병합)합니다.\n",
    "- 외국인 정보가 1981 ~ 1984년이 누락되어 결측치가 발생할 것입니다.\n",
    "- 세 개의 데이터프레임을 병합(조인)하여 pop 데이터프레임을 선언합니다.\n",
    "- 이후의 모든 작업은 pop 데이터프레임을 대상으로 진행합니다."
   ]
  },
  {
   "cell_type": "code",
   "execution_count": 26,
   "metadata": {
    "id": "oQVSJrJishiQ",
    "scrolled": true
   },
   "outputs": [],
   "source": [
    "pop_temp = pd.merge(pop01, pop03, how='outer', on='year')"
   ]
  },
  {
   "cell_type": "code",
   "execution_count": 27,
   "metadata": {},
   "outputs": [
    {
     "data": {
      "text/plain": [
       "(40, 5)"
      ]
     },
     "execution_count": 27,
     "metadata": {},
     "output_type": "execute_result"
    }
   ],
   "source": [
    "pop_temp.shape"
   ]
  },
  {
   "cell_type": "code",
   "execution_count": 28,
   "metadata": {},
   "outputs": [],
   "source": [
    "pop = pd.merge(pop_temp, pop02, how='outer', on='year')"
   ]
  },
  {
   "cell_type": "markdown",
   "metadata": {
    "id": "hdjxpxxFzxCT"
   },
   "source": [
    "**2) 결측치 확인**\n",
    "\n",
    "- 결측치가 있는지 확인합니다."
   ]
  },
  {
   "cell_type": "code",
   "execution_count": 29,
   "metadata": {},
   "outputs": [
    {
     "data": {
      "text/plain": [
       "(40, 7)"
      ]
     },
     "execution_count": 29,
     "metadata": {},
     "output_type": "execute_result"
    }
   ],
   "source": [
    "pop.shape"
   ]
  },
  {
   "cell_type": "code",
   "execution_count": 30,
   "metadata": {
    "id": "NyjTg23zz5XS"
   },
   "outputs": [
    {
     "data": {
      "text/plain": [
       "year         0\n",
       "k_male       0\n",
       "k_female     0\n",
       "household    0\n",
       "older_65     0\n",
       "f_male       4\n",
       "f_female     4\n",
       "dtype: int64"
      ]
     },
     "execution_count": 30,
     "metadata": {},
     "output_type": "execute_result"
    }
   ],
   "source": [
    "pop.isna().sum()"
   ]
  },
  {
   "cell_type": "code",
   "execution_count": 31,
   "metadata": {},
   "outputs": [
    {
     "data": {
      "text/html": [
       "<div>\n",
       "<style scoped>\n",
       "    .dataframe tbody tr th:only-of-type {\n",
       "        vertical-align: middle;\n",
       "    }\n",
       "\n",
       "    .dataframe tbody tr th {\n",
       "        vertical-align: top;\n",
       "    }\n",
       "\n",
       "    .dataframe thead th {\n",
       "        text-align: right;\n",
       "    }\n",
       "</style>\n",
       "<table border=\"1\" class=\"dataframe\">\n",
       "  <thead>\n",
       "    <tr style=\"text-align: right;\">\n",
       "      <th></th>\n",
       "      <th>year</th>\n",
       "      <th>k_male</th>\n",
       "      <th>k_female</th>\n",
       "      <th>household</th>\n",
       "      <th>older_65</th>\n",
       "      <th>f_male</th>\n",
       "      <th>f_female</th>\n",
       "    </tr>\n",
       "  </thead>\n",
       "  <tbody>\n",
       "    <tr>\n",
       "      <th>0</th>\n",
       "      <td>1981</td>\n",
       "      <td>4160</td>\n",
       "      <td>4191</td>\n",
       "      <td>1915</td>\n",
       "      <td>246</td>\n",
       "      <td>NaN</td>\n",
       "      <td>NaN</td>\n",
       "    </tr>\n",
       "    <tr>\n",
       "      <th>1</th>\n",
       "      <td>1982</td>\n",
       "      <td>4160</td>\n",
       "      <td>4191</td>\n",
       "      <td>2001</td>\n",
       "      <td>260</td>\n",
       "      <td>NaN</td>\n",
       "      <td>NaN</td>\n",
       "    </tr>\n",
       "    <tr>\n",
       "      <th>2</th>\n",
       "      <td>1983</td>\n",
       "      <td>4160</td>\n",
       "      <td>4191</td>\n",
       "      <td>2116</td>\n",
       "      <td>260</td>\n",
       "      <td>NaN</td>\n",
       "      <td>NaN</td>\n",
       "    </tr>\n",
       "    <tr>\n",
       "      <th>3</th>\n",
       "      <td>1984</td>\n",
       "      <td>4160</td>\n",
       "      <td>4191</td>\n",
       "      <td>2246</td>\n",
       "      <td>275</td>\n",
       "      <td>NaN</td>\n",
       "      <td>NaN</td>\n",
       "    </tr>\n",
       "    <tr>\n",
       "      <th>4</th>\n",
       "      <td>1985</td>\n",
       "      <td>4160</td>\n",
       "      <td>4191</td>\n",
       "      <td>2338</td>\n",
       "      <td>211</td>\n",
       "      <td>7.0</td>\n",
       "      <td>6.0</td>\n",
       "    </tr>\n",
       "  </tbody>\n",
       "</table>\n",
       "</div>"
      ],
      "text/plain": [
       "   year  k_male  k_female  household  older_65  f_male  f_female\n",
       "0  1981    4160      4191       1915       246     NaN       NaN\n",
       "1  1982    4160      4191       2001       260     NaN       NaN\n",
       "2  1983    4160      4191       2116       260     NaN       NaN\n",
       "3  1984    4160      4191       2246       275     NaN       NaN\n",
       "4  1985    4160      4191       2338       211     7.0       6.0"
      ]
     },
     "execution_count": 31,
     "metadata": {},
     "output_type": "execute_result"
    }
   ],
   "source": [
    "pop.head()"
   ]
  },
  {
   "cell_type": "markdown",
   "metadata": {
    "id": "E6MZV3nW0QUv"
   },
   "source": [
    "**3) 결측치 처리**\n",
    "\n",
    "- 연도별 인구 현황이므로 임의의 값을 채우는 것이 바람직하지 않아 보입니다.\n",
    "- 이후 값, 즉 1985년 값으로 채우는 것도 정확한 분석을 방해할 것 같습니다.\n",
    "- 이에 결측치가 있는 1981년~1984년 행을 제거할 것입니다."
   ]
  },
  {
   "cell_type": "code",
   "execution_count": 32,
   "metadata": {
    "id": "TZ38gSP31CYM",
    "scrolled": true
   },
   "outputs": [
    {
     "data": {
      "text/html": [
       "<div>\n",
       "<style scoped>\n",
       "    .dataframe tbody tr th:only-of-type {\n",
       "        vertical-align: middle;\n",
       "    }\n",
       "\n",
       "    .dataframe tbody tr th {\n",
       "        vertical-align: top;\n",
       "    }\n",
       "\n",
       "    .dataframe thead th {\n",
       "        text-align: right;\n",
       "    }\n",
       "</style>\n",
       "<table border=\"1\" class=\"dataframe\">\n",
       "  <thead>\n",
       "    <tr style=\"text-align: right;\">\n",
       "      <th></th>\n",
       "      <th>year</th>\n",
       "      <th>k_male</th>\n",
       "      <th>k_female</th>\n",
       "      <th>household</th>\n",
       "      <th>older_65</th>\n",
       "      <th>f_male</th>\n",
       "      <th>f_female</th>\n",
       "    </tr>\n",
       "  </thead>\n",
       "  <tbody>\n",
       "    <tr>\n",
       "      <th>4</th>\n",
       "      <td>1985</td>\n",
       "      <td>4160</td>\n",
       "      <td>4191</td>\n",
       "      <td>2338</td>\n",
       "      <td>211</td>\n",
       "      <td>7.0</td>\n",
       "      <td>6.0</td>\n",
       "    </tr>\n",
       "    <tr>\n",
       "      <th>5</th>\n",
       "      <td>1986</td>\n",
       "      <td>4899</td>\n",
       "      <td>4888</td>\n",
       "      <td>2428</td>\n",
       "      <td>305</td>\n",
       "      <td>7.0</td>\n",
       "      <td>5.0</td>\n",
       "    </tr>\n",
       "    <tr>\n",
       "      <th>6</th>\n",
       "      <td>1987</td>\n",
       "      <td>5000</td>\n",
       "      <td>4979</td>\n",
       "      <td>2518</td>\n",
       "      <td>329</td>\n",
       "      <td>6.0</td>\n",
       "      <td>5.0</td>\n",
       "    </tr>\n",
       "    <tr>\n",
       "      <th>7</th>\n",
       "      <td>1988</td>\n",
       "      <td>5156</td>\n",
       "      <td>5120</td>\n",
       "      <td>2658</td>\n",
       "      <td>349</td>\n",
       "      <td>5.0</td>\n",
       "      <td>5.0</td>\n",
       "    </tr>\n",
       "    <tr>\n",
       "      <th>8</th>\n",
       "      <td>1989</td>\n",
       "      <td>5305</td>\n",
       "      <td>5261</td>\n",
       "      <td>2817</td>\n",
       "      <td>363</td>\n",
       "      <td>6.0</td>\n",
       "      <td>5.0</td>\n",
       "    </tr>\n",
       "    <tr>\n",
       "      <th>9</th>\n",
       "      <td>1990</td>\n",
       "      <td>5321</td>\n",
       "      <td>5282</td>\n",
       "      <td>2820</td>\n",
       "      <td>363</td>\n",
       "      <td>5.0</td>\n",
       "      <td>4.0</td>\n",
       "    </tr>\n",
       "    <tr>\n",
       "      <th>10</th>\n",
       "      <td>1991</td>\n",
       "      <td>5468</td>\n",
       "      <td>5405</td>\n",
       "      <td>3330</td>\n",
       "      <td>424</td>\n",
       "      <td>18.0</td>\n",
       "      <td>14.0</td>\n",
       "    </tr>\n",
       "    <tr>\n",
       "      <th>11</th>\n",
       "      <td>1992</td>\n",
       "      <td>5500</td>\n",
       "      <td>5435</td>\n",
       "      <td>3383</td>\n",
       "      <td>434</td>\n",
       "      <td>19.0</td>\n",
       "      <td>16.0</td>\n",
       "    </tr>\n",
       "    <tr>\n",
       "      <th>12</th>\n",
       "      <td>1993</td>\n",
       "      <td>5478</td>\n",
       "      <td>5412</td>\n",
       "      <td>3431</td>\n",
       "      <td>445</td>\n",
       "      <td>19.0</td>\n",
       "      <td>17.0</td>\n",
       "    </tr>\n",
       "    <tr>\n",
       "      <th>13</th>\n",
       "      <td>1994</td>\n",
       "      <td>5409</td>\n",
       "      <td>5351</td>\n",
       "      <td>3456</td>\n",
       "      <td>454</td>\n",
       "      <td>21.0</td>\n",
       "      <td>19.0</td>\n",
       "    </tr>\n",
       "    <tr>\n",
       "      <th>14</th>\n",
       "      <td>1995</td>\n",
       "      <td>5302</td>\n",
       "      <td>5249</td>\n",
       "      <td>3448</td>\n",
       "      <td>460</td>\n",
       "      <td>24.0</td>\n",
       "      <td>21.0</td>\n",
       "    </tr>\n",
       "    <tr>\n",
       "      <th>15</th>\n",
       "      <td>1996</td>\n",
       "      <td>5231</td>\n",
       "      <td>5187</td>\n",
       "      <td>3457</td>\n",
       "      <td>469</td>\n",
       "      <td>27.0</td>\n",
       "      <td>25.0</td>\n",
       "    </tr>\n",
       "    <tr>\n",
       "      <th>16</th>\n",
       "      <td>1997</td>\n",
       "      <td>5187</td>\n",
       "      <td>5150</td>\n",
       "      <td>3499</td>\n",
       "      <td>485</td>\n",
       "      <td>28.0</td>\n",
       "      <td>25.0</td>\n",
       "    </tr>\n",
       "    <tr>\n",
       "      <th>17</th>\n",
       "      <td>1998</td>\n",
       "      <td>5147</td>\n",
       "      <td>5124</td>\n",
       "      <td>3459</td>\n",
       "      <td>505</td>\n",
       "      <td>27.0</td>\n",
       "      <td>24.0</td>\n",
       "    </tr>\n",
       "    <tr>\n",
       "      <th>18</th>\n",
       "      <td>1999</td>\n",
       "      <td>5141</td>\n",
       "      <td>5123</td>\n",
       "      <td>3491</td>\n",
       "      <td>530</td>\n",
       "      <td>30.0</td>\n",
       "      <td>28.0</td>\n",
       "    </tr>\n",
       "    <tr>\n",
       "      <th>19</th>\n",
       "      <td>2000</td>\n",
       "      <td>5167</td>\n",
       "      <td>5145</td>\n",
       "      <td>3540</td>\n",
       "      <td>560</td>\n",
       "      <td>32.0</td>\n",
       "      <td>30.0</td>\n",
       "    </tr>\n",
       "    <tr>\n",
       "      <th>20</th>\n",
       "      <td>2001</td>\n",
       "      <td>5142</td>\n",
       "      <td>5122</td>\n",
       "      <td>3570</td>\n",
       "      <td>586</td>\n",
       "      <td>34.0</td>\n",
       "      <td>34.0</td>\n",
       "    </tr>\n",
       "    <tr>\n",
       "      <th>21</th>\n",
       "      <td>2002</td>\n",
       "      <td>5109</td>\n",
       "      <td>5098</td>\n",
       "      <td>3624</td>\n",
       "      <td>613</td>\n",
       "      <td>36.0</td>\n",
       "      <td>37.0</td>\n",
       "    </tr>\n",
       "    <tr>\n",
       "      <th>22</th>\n",
       "      <td>2003</td>\n",
       "      <td>5085</td>\n",
       "      <td>5089</td>\n",
       "      <td>3715</td>\n",
       "      <td>650</td>\n",
       "      <td>49.0</td>\n",
       "      <td>54.0</td>\n",
       "    </tr>\n",
       "    <tr>\n",
       "      <th>23</th>\n",
       "      <td>2004</td>\n",
       "      <td>5075</td>\n",
       "      <td>5098</td>\n",
       "      <td>3780</td>\n",
       "      <td>693</td>\n",
       "      <td>54.0</td>\n",
       "      <td>61.0</td>\n",
       "    </tr>\n",
       "    <tr>\n",
       "      <th>24</th>\n",
       "      <td>2005</td>\n",
       "      <td>5062</td>\n",
       "      <td>5105</td>\n",
       "      <td>3871</td>\n",
       "      <td>736</td>\n",
       "      <td>61.0</td>\n",
       "      <td>68.0</td>\n",
       "    </tr>\n",
       "    <tr>\n",
       "      <th>25</th>\n",
       "      <td>2006</td>\n",
       "      <td>5062</td>\n",
       "      <td>5119</td>\n",
       "      <td>3979</td>\n",
       "      <td>787</td>\n",
       "      <td>83.0</td>\n",
       "      <td>92.0</td>\n",
       "    </tr>\n",
       "    <tr>\n",
       "      <th>26</th>\n",
       "      <td>2007</td>\n",
       "      <td>5063</td>\n",
       "      <td>5130</td>\n",
       "      <td>4046</td>\n",
       "      <td>852</td>\n",
       "      <td>111.0</td>\n",
       "      <td>118.0</td>\n",
       "    </tr>\n",
       "    <tr>\n",
       "      <th>27</th>\n",
       "      <td>2008</td>\n",
       "      <td>5062</td>\n",
       "      <td>5139</td>\n",
       "      <td>4098</td>\n",
       "      <td>899</td>\n",
       "      <td>123.0</td>\n",
       "      <td>132.0</td>\n",
       "    </tr>\n",
       "    <tr>\n",
       "      <th>28</th>\n",
       "      <td>2009</td>\n",
       "      <td>5059</td>\n",
       "      <td>5149</td>\n",
       "      <td>4117</td>\n",
       "      <td>943</td>\n",
       "      <td>122.0</td>\n",
       "      <td>134.0</td>\n",
       "    </tr>\n",
       "    <tr>\n",
       "      <th>29</th>\n",
       "      <td>2010</td>\n",
       "      <td>5111</td>\n",
       "      <td>5201</td>\n",
       "      <td>4224</td>\n",
       "      <td>1008</td>\n",
       "      <td>125.0</td>\n",
       "      <td>137.0</td>\n",
       "    </tr>\n",
       "    <tr>\n",
       "      <th>30</th>\n",
       "      <td>2011</td>\n",
       "      <td>5074</td>\n",
       "      <td>5176</td>\n",
       "      <td>4193</td>\n",
       "      <td>1049</td>\n",
       "      <td>135.0</td>\n",
       "      <td>145.0</td>\n",
       "    </tr>\n",
       "    <tr>\n",
       "      <th>31</th>\n",
       "      <td>2012</td>\n",
       "      <td>5041</td>\n",
       "      <td>5154</td>\n",
       "      <td>4178</td>\n",
       "      <td>1111</td>\n",
       "      <td>118.0</td>\n",
       "      <td>129.0</td>\n",
       "    </tr>\n",
       "    <tr>\n",
       "      <th>32</th>\n",
       "      <td>2013</td>\n",
       "      <td>5008</td>\n",
       "      <td>5136</td>\n",
       "      <td>4182</td>\n",
       "      <td>1167</td>\n",
       "      <td>118.0</td>\n",
       "      <td>126.0</td>\n",
       "    </tr>\n",
       "    <tr>\n",
       "      <th>33</th>\n",
       "      <td>2014</td>\n",
       "      <td>4980</td>\n",
       "      <td>5123</td>\n",
       "      <td>4194</td>\n",
       "      <td>1222</td>\n",
       "      <td>129.0</td>\n",
       "      <td>137.0</td>\n",
       "    </tr>\n",
       "    <tr>\n",
       "      <th>34</th>\n",
       "      <td>2015</td>\n",
       "      <td>4931</td>\n",
       "      <td>5091</td>\n",
       "      <td>4190</td>\n",
       "      <td>1268</td>\n",
       "      <td>133.0</td>\n",
       "      <td>142.0</td>\n",
       "    </tr>\n",
       "    <tr>\n",
       "      <th>35</th>\n",
       "      <td>2016</td>\n",
       "      <td>4877</td>\n",
       "      <td>5054</td>\n",
       "      <td>4190</td>\n",
       "      <td>1301</td>\n",
       "      <td>131.0</td>\n",
       "      <td>143.0</td>\n",
       "    </tr>\n",
       "    <tr>\n",
       "      <th>36</th>\n",
       "      <td>2017</td>\n",
       "      <td>4830</td>\n",
       "      <td>5027</td>\n",
       "      <td>4220</td>\n",
       "      <td>1365</td>\n",
       "      <td>128.0</td>\n",
       "      <td>140.0</td>\n",
       "    </tr>\n",
       "    <tr>\n",
       "      <th>37</th>\n",
       "      <td>2018</td>\n",
       "      <td>4774</td>\n",
       "      <td>4992</td>\n",
       "      <td>4264</td>\n",
       "      <td>1416</td>\n",
       "      <td>137.0</td>\n",
       "      <td>147.0</td>\n",
       "    </tr>\n",
       "    <tr>\n",
       "      <th>38</th>\n",
       "      <td>2019</td>\n",
       "      <td>4744</td>\n",
       "      <td>4985</td>\n",
       "      <td>4328</td>\n",
       "      <td>1485</td>\n",
       "      <td>134.0</td>\n",
       "      <td>148.0</td>\n",
       "    </tr>\n",
       "    <tr>\n",
       "      <th>39</th>\n",
       "      <td>2020</td>\n",
       "      <td>4702</td>\n",
       "      <td>4967</td>\n",
       "      <td>4418</td>\n",
       "      <td>1568</td>\n",
       "      <td>115.0</td>\n",
       "      <td>128.0</td>\n",
       "    </tr>\n",
       "  </tbody>\n",
       "</table>\n",
       "</div>"
      ],
      "text/plain": [
       "    year  k_male  k_female  household  older_65  f_male  f_female\n",
       "4   1985    4160      4191       2338       211     7.0       6.0\n",
       "5   1986    4899      4888       2428       305     7.0       5.0\n",
       "6   1987    5000      4979       2518       329     6.0       5.0\n",
       "7   1988    5156      5120       2658       349     5.0       5.0\n",
       "8   1989    5305      5261       2817       363     6.0       5.0\n",
       "9   1990    5321      5282       2820       363     5.0       4.0\n",
       "10  1991    5468      5405       3330       424    18.0      14.0\n",
       "11  1992    5500      5435       3383       434    19.0      16.0\n",
       "12  1993    5478      5412       3431       445    19.0      17.0\n",
       "13  1994    5409      5351       3456       454    21.0      19.0\n",
       "14  1995    5302      5249       3448       460    24.0      21.0\n",
       "15  1996    5231      5187       3457       469    27.0      25.0\n",
       "16  1997    5187      5150       3499       485    28.0      25.0\n",
       "17  1998    5147      5124       3459       505    27.0      24.0\n",
       "18  1999    5141      5123       3491       530    30.0      28.0\n",
       "19  2000    5167      5145       3540       560    32.0      30.0\n",
       "20  2001    5142      5122       3570       586    34.0      34.0\n",
       "21  2002    5109      5098       3624       613    36.0      37.0\n",
       "22  2003    5085      5089       3715       650    49.0      54.0\n",
       "23  2004    5075      5098       3780       693    54.0      61.0\n",
       "24  2005    5062      5105       3871       736    61.0      68.0\n",
       "25  2006    5062      5119       3979       787    83.0      92.0\n",
       "26  2007    5063      5130       4046       852   111.0     118.0\n",
       "27  2008    5062      5139       4098       899   123.0     132.0\n",
       "28  2009    5059      5149       4117       943   122.0     134.0\n",
       "29  2010    5111      5201       4224      1008   125.0     137.0\n",
       "30  2011    5074      5176       4193      1049   135.0     145.0\n",
       "31  2012    5041      5154       4178      1111   118.0     129.0\n",
       "32  2013    5008      5136       4182      1167   118.0     126.0\n",
       "33  2014    4980      5123       4194      1222   129.0     137.0\n",
       "34  2015    4931      5091       4190      1268   133.0     142.0\n",
       "35  2016    4877      5054       4190      1301   131.0     143.0\n",
       "36  2017    4830      5027       4220      1365   128.0     140.0\n",
       "37  2018    4774      4992       4264      1416   137.0     147.0\n",
       "38  2019    4744      4985       4328      1485   134.0     148.0\n",
       "39  2020    4702      4967       4418      1568   115.0     128.0"
      ]
     },
     "execution_count": 32,
     "metadata": {},
     "output_type": "execute_result"
    }
   ],
   "source": [
    "pop = pop.dropna(axis=0)\n",
    "pop"
   ]
  },
  {
   "cell_type": "markdown",
   "metadata": {
    "id": "WAGgvzDv2klV"
   },
   "source": [
    "**3) 열 추가**\n",
    "\n",
    "- 이후 분석의 편의를 위해 다음과 같은 의미를 갖는 열을 추가하고자 합니다.\n",
    "    - k_total = 전체 한국인 인구수\n",
    "    - f_total = 전체 외국인 인구수\n",
    "    - male = 전체 남자 인구수\n",
    "    - female = 전체 여자 인구수\n",
    "    - total = 전체 인구수\n",
    "- 추가할 열에 대한 공식은 다음과 같습니다.\n",
    "    - k_total = k_male + k_female\n",
    "    - f_total = f_male + f_female\n",
    "    - male = k_male + f_male\n",
    "    - female = k_female + f_female\n",
    "    - total = k_total + f_total\n",
    "- 정리한 공식에 따라 데이터프레임에 열을 추가합니다."
   ]
  },
  {
   "cell_type": "code",
   "execution_count": 33,
   "metadata": {
    "id": "_2UJfoL4Deyq"
   },
   "outputs": [
    {
     "data": {
      "text/html": [
       "<div>\n",
       "<style scoped>\n",
       "    .dataframe tbody tr th:only-of-type {\n",
       "        vertical-align: middle;\n",
       "    }\n",
       "\n",
       "    .dataframe tbody tr th {\n",
       "        vertical-align: top;\n",
       "    }\n",
       "\n",
       "    .dataframe thead th {\n",
       "        text-align: right;\n",
       "    }\n",
       "</style>\n",
       "<table border=\"1\" class=\"dataframe\">\n",
       "  <thead>\n",
       "    <tr style=\"text-align: right;\">\n",
       "      <th></th>\n",
       "      <th>year</th>\n",
       "      <th>k_male</th>\n",
       "      <th>k_female</th>\n",
       "      <th>household</th>\n",
       "      <th>older_65</th>\n",
       "      <th>f_male</th>\n",
       "      <th>f_female</th>\n",
       "      <th>k_total</th>\n",
       "      <th>f_total</th>\n",
       "      <th>male</th>\n",
       "      <th>female</th>\n",
       "      <th>total</th>\n",
       "    </tr>\n",
       "  </thead>\n",
       "  <tbody>\n",
       "    <tr>\n",
       "      <th>4</th>\n",
       "      <td>1985</td>\n",
       "      <td>4160</td>\n",
       "      <td>4191</td>\n",
       "      <td>2338</td>\n",
       "      <td>211</td>\n",
       "      <td>7.0</td>\n",
       "      <td>6.0</td>\n",
       "      <td>8351</td>\n",
       "      <td>13.0</td>\n",
       "      <td>4167.0</td>\n",
       "      <td>4197.0</td>\n",
       "      <td>8364.0</td>\n",
       "    </tr>\n",
       "    <tr>\n",
       "      <th>5</th>\n",
       "      <td>1986</td>\n",
       "      <td>4899</td>\n",
       "      <td>4888</td>\n",
       "      <td>2428</td>\n",
       "      <td>305</td>\n",
       "      <td>7.0</td>\n",
       "      <td>5.0</td>\n",
       "      <td>9787</td>\n",
       "      <td>12.0</td>\n",
       "      <td>4906.0</td>\n",
       "      <td>4893.0</td>\n",
       "      <td>9799.0</td>\n",
       "    </tr>\n",
       "    <tr>\n",
       "      <th>6</th>\n",
       "      <td>1987</td>\n",
       "      <td>5000</td>\n",
       "      <td>4979</td>\n",
       "      <td>2518</td>\n",
       "      <td>329</td>\n",
       "      <td>6.0</td>\n",
       "      <td>5.0</td>\n",
       "      <td>9979</td>\n",
       "      <td>11.0</td>\n",
       "      <td>5006.0</td>\n",
       "      <td>4984.0</td>\n",
       "      <td>9990.0</td>\n",
       "    </tr>\n",
       "    <tr>\n",
       "      <th>7</th>\n",
       "      <td>1988</td>\n",
       "      <td>5156</td>\n",
       "      <td>5120</td>\n",
       "      <td>2658</td>\n",
       "      <td>349</td>\n",
       "      <td>5.0</td>\n",
       "      <td>5.0</td>\n",
       "      <td>10276</td>\n",
       "      <td>10.0</td>\n",
       "      <td>5161.0</td>\n",
       "      <td>5125.0</td>\n",
       "      <td>10286.0</td>\n",
       "    </tr>\n",
       "    <tr>\n",
       "      <th>8</th>\n",
       "      <td>1989</td>\n",
       "      <td>5305</td>\n",
       "      <td>5261</td>\n",
       "      <td>2817</td>\n",
       "      <td>363</td>\n",
       "      <td>6.0</td>\n",
       "      <td>5.0</td>\n",
       "      <td>10566</td>\n",
       "      <td>11.0</td>\n",
       "      <td>5311.0</td>\n",
       "      <td>5266.0</td>\n",
       "      <td>10577.0</td>\n",
       "    </tr>\n",
       "  </tbody>\n",
       "</table>\n",
       "</div>"
      ],
      "text/plain": [
       "   year  k_male  k_female  household  older_65  f_male  f_female  k_total  \\\n",
       "4  1985    4160      4191       2338       211     7.0       6.0     8351   \n",
       "5  1986    4899      4888       2428       305     7.0       5.0     9787   \n",
       "6  1987    5000      4979       2518       329     6.0       5.0     9979   \n",
       "7  1988    5156      5120       2658       349     5.0       5.0    10276   \n",
       "8  1989    5305      5261       2817       363     6.0       5.0    10566   \n",
       "\n",
       "   f_total    male  female    total  \n",
       "4     13.0  4167.0  4197.0   8364.0  \n",
       "5     12.0  4906.0  4893.0   9799.0  \n",
       "6     11.0  5006.0  4984.0   9990.0  \n",
       "7     10.0  5161.0  5125.0  10286.0  \n",
       "8     11.0  5311.0  5266.0  10577.0  "
      ]
     },
     "execution_count": 33,
     "metadata": {},
     "output_type": "execute_result"
    }
   ],
   "source": [
    "pop['k_total'] = pop['k_female'] + pop['k_male']\n",
    "pop['f_total'] = pop['f_female'] + pop['f_male']\n",
    "pop['male'] = pop['k_male'] + pop['f_male']\n",
    "pop['female'] = pop['k_female'] + pop['f_female']\n",
    "pop['total'] = pop['k_total'] + pop['f_total']\n",
    "pop.head()"
   ]
  },
  {
   "cell_type": "markdown",
   "metadata": {
    "id": "BUlYrjII22qA"
   },
   "source": [
    "**4) 열 순서 변경**\n",
    "\n",
    "- 데이터 이해를 돕기 위해 다음과 같은 순서로 데이터프레임 열 순서를 변경합니다.\n",
    "- year, household, total, male, female, k_total, k_male, k_female, f_total, f_male, f_female, older_65\n"
   ]
  },
  {
   "cell_type": "code",
   "execution_count": 34,
   "metadata": {
    "id": "w_e2NR6W3Sw0"
   },
   "outputs": [
    {
     "data": {
      "text/html": [
       "<div>\n",
       "<style scoped>\n",
       "    .dataframe tbody tr th:only-of-type {\n",
       "        vertical-align: middle;\n",
       "    }\n",
       "\n",
       "    .dataframe tbody tr th {\n",
       "        vertical-align: top;\n",
       "    }\n",
       "\n",
       "    .dataframe thead th {\n",
       "        text-align: right;\n",
       "    }\n",
       "</style>\n",
       "<table border=\"1\" class=\"dataframe\">\n",
       "  <thead>\n",
       "    <tr style=\"text-align: right;\">\n",
       "      <th></th>\n",
       "      <th>year</th>\n",
       "      <th>household</th>\n",
       "      <th>total</th>\n",
       "      <th>male</th>\n",
       "      <th>female</th>\n",
       "      <th>k_total</th>\n",
       "      <th>k_male</th>\n",
       "      <th>k_female</th>\n",
       "      <th>f_total</th>\n",
       "      <th>f_male</th>\n",
       "      <th>f_female</th>\n",
       "      <th>older_65</th>\n",
       "    </tr>\n",
       "  </thead>\n",
       "  <tbody>\n",
       "    <tr>\n",
       "      <th>4</th>\n",
       "      <td>1985</td>\n",
       "      <td>2338</td>\n",
       "      <td>8364.0</td>\n",
       "      <td>4167.0</td>\n",
       "      <td>4197.0</td>\n",
       "      <td>8351</td>\n",
       "      <td>4160</td>\n",
       "      <td>4191</td>\n",
       "      <td>13.0</td>\n",
       "      <td>7.0</td>\n",
       "      <td>6.0</td>\n",
       "      <td>211</td>\n",
       "    </tr>\n",
       "    <tr>\n",
       "      <th>5</th>\n",
       "      <td>1986</td>\n",
       "      <td>2428</td>\n",
       "      <td>9799.0</td>\n",
       "      <td>4906.0</td>\n",
       "      <td>4893.0</td>\n",
       "      <td>9787</td>\n",
       "      <td>4899</td>\n",
       "      <td>4888</td>\n",
       "      <td>12.0</td>\n",
       "      <td>7.0</td>\n",
       "      <td>5.0</td>\n",
       "      <td>305</td>\n",
       "    </tr>\n",
       "    <tr>\n",
       "      <th>6</th>\n",
       "      <td>1987</td>\n",
       "      <td>2518</td>\n",
       "      <td>9990.0</td>\n",
       "      <td>5006.0</td>\n",
       "      <td>4984.0</td>\n",
       "      <td>9979</td>\n",
       "      <td>5000</td>\n",
       "      <td>4979</td>\n",
       "      <td>11.0</td>\n",
       "      <td>6.0</td>\n",
       "      <td>5.0</td>\n",
       "      <td>329</td>\n",
       "    </tr>\n",
       "    <tr>\n",
       "      <th>7</th>\n",
       "      <td>1988</td>\n",
       "      <td>2658</td>\n",
       "      <td>10286.0</td>\n",
       "      <td>5161.0</td>\n",
       "      <td>5125.0</td>\n",
       "      <td>10276</td>\n",
       "      <td>5156</td>\n",
       "      <td>5120</td>\n",
       "      <td>10.0</td>\n",
       "      <td>5.0</td>\n",
       "      <td>5.0</td>\n",
       "      <td>349</td>\n",
       "    </tr>\n",
       "    <tr>\n",
       "      <th>8</th>\n",
       "      <td>1989</td>\n",
       "      <td>2817</td>\n",
       "      <td>10577.0</td>\n",
       "      <td>5311.0</td>\n",
       "      <td>5266.0</td>\n",
       "      <td>10566</td>\n",
       "      <td>5305</td>\n",
       "      <td>5261</td>\n",
       "      <td>11.0</td>\n",
       "      <td>6.0</td>\n",
       "      <td>5.0</td>\n",
       "      <td>363</td>\n",
       "    </tr>\n",
       "  </tbody>\n",
       "</table>\n",
       "</div>"
      ],
      "text/plain": [
       "   year  household    total    male  female  k_total  k_male  k_female  \\\n",
       "4  1985       2338   8364.0  4167.0  4197.0     8351    4160      4191   \n",
       "5  1986       2428   9799.0  4906.0  4893.0     9787    4899      4888   \n",
       "6  1987       2518   9990.0  5006.0  4984.0     9979    5000      4979   \n",
       "7  1988       2658  10286.0  5161.0  5125.0    10276    5156      5120   \n",
       "8  1989       2817  10577.0  5311.0  5266.0    10566    5305      5261   \n",
       "\n",
       "   f_total  f_male  f_female  older_65  \n",
       "4     13.0     7.0       6.0       211  \n",
       "5     12.0     7.0       5.0       305  \n",
       "6     11.0     6.0       5.0       329  \n",
       "7     10.0     5.0       5.0       349  \n",
       "8     11.0     6.0       5.0       363  "
      ]
     },
     "execution_count": 34,
     "metadata": {},
     "output_type": "execute_result"
    }
   ],
   "source": [
    "pop = pop[['year', 'household', 'total', 'male', 'female', 'k_total', 'k_male', 'k_female', 'f_total', 'f_male', 'f_female', 'older_65']]\n",
    "pop.head()"
   ]
  },
  {
   "cell_type": "markdown",
   "metadata": {
    "id": "YqROKu_R3t03"
   },
   "source": [
    "**5) 인덱스 초기화**\n",
    "\n",
    "\n",
    "\n",
    "- 인덱스가 0부터 시작하는 일련 변호를 갖지 않는다면 인덱스를 초기화합니다."
   ]
  },
  {
   "cell_type": "code",
   "execution_count": 35,
   "metadata": {
    "id": "E6hQeKB533r9"
   },
   "outputs": [
    {
     "data": {
      "text/html": [
       "<div>\n",
       "<style scoped>\n",
       "    .dataframe tbody tr th:only-of-type {\n",
       "        vertical-align: middle;\n",
       "    }\n",
       "\n",
       "    .dataframe tbody tr th {\n",
       "        vertical-align: top;\n",
       "    }\n",
       "\n",
       "    .dataframe thead th {\n",
       "        text-align: right;\n",
       "    }\n",
       "</style>\n",
       "<table border=\"1\" class=\"dataframe\">\n",
       "  <thead>\n",
       "    <tr style=\"text-align: right;\">\n",
       "      <th></th>\n",
       "      <th>year</th>\n",
       "      <th>household</th>\n",
       "      <th>total</th>\n",
       "      <th>male</th>\n",
       "      <th>female</th>\n",
       "      <th>k_total</th>\n",
       "      <th>k_male</th>\n",
       "      <th>k_female</th>\n",
       "      <th>f_total</th>\n",
       "      <th>f_male</th>\n",
       "      <th>f_female</th>\n",
       "      <th>older_65</th>\n",
       "    </tr>\n",
       "  </thead>\n",
       "  <tbody>\n",
       "    <tr>\n",
       "      <th>0</th>\n",
       "      <td>1985</td>\n",
       "      <td>2338</td>\n",
       "      <td>8364.0</td>\n",
       "      <td>4167.0</td>\n",
       "      <td>4197.0</td>\n",
       "      <td>8351</td>\n",
       "      <td>4160</td>\n",
       "      <td>4191</td>\n",
       "      <td>13.0</td>\n",
       "      <td>7.0</td>\n",
       "      <td>6.0</td>\n",
       "      <td>211</td>\n",
       "    </tr>\n",
       "    <tr>\n",
       "      <th>1</th>\n",
       "      <td>1986</td>\n",
       "      <td>2428</td>\n",
       "      <td>9799.0</td>\n",
       "      <td>4906.0</td>\n",
       "      <td>4893.0</td>\n",
       "      <td>9787</td>\n",
       "      <td>4899</td>\n",
       "      <td>4888</td>\n",
       "      <td>12.0</td>\n",
       "      <td>7.0</td>\n",
       "      <td>5.0</td>\n",
       "      <td>305</td>\n",
       "    </tr>\n",
       "    <tr>\n",
       "      <th>2</th>\n",
       "      <td>1987</td>\n",
       "      <td>2518</td>\n",
       "      <td>9990.0</td>\n",
       "      <td>5006.0</td>\n",
       "      <td>4984.0</td>\n",
       "      <td>9979</td>\n",
       "      <td>5000</td>\n",
       "      <td>4979</td>\n",
       "      <td>11.0</td>\n",
       "      <td>6.0</td>\n",
       "      <td>5.0</td>\n",
       "      <td>329</td>\n",
       "    </tr>\n",
       "    <tr>\n",
       "      <th>3</th>\n",
       "      <td>1988</td>\n",
       "      <td>2658</td>\n",
       "      <td>10286.0</td>\n",
       "      <td>5161.0</td>\n",
       "      <td>5125.0</td>\n",
       "      <td>10276</td>\n",
       "      <td>5156</td>\n",
       "      <td>5120</td>\n",
       "      <td>10.0</td>\n",
       "      <td>5.0</td>\n",
       "      <td>5.0</td>\n",
       "      <td>349</td>\n",
       "    </tr>\n",
       "    <tr>\n",
       "      <th>4</th>\n",
       "      <td>1989</td>\n",
       "      <td>2817</td>\n",
       "      <td>10577.0</td>\n",
       "      <td>5311.0</td>\n",
       "      <td>5266.0</td>\n",
       "      <td>10566</td>\n",
       "      <td>5305</td>\n",
       "      <td>5261</td>\n",
       "      <td>11.0</td>\n",
       "      <td>6.0</td>\n",
       "      <td>5.0</td>\n",
       "      <td>363</td>\n",
       "    </tr>\n",
       "  </tbody>\n",
       "</table>\n",
       "</div>"
      ],
      "text/plain": [
       "   year  household    total    male  female  k_total  k_male  k_female  \\\n",
       "0  1985       2338   8364.0  4167.0  4197.0     8351    4160      4191   \n",
       "1  1986       2428   9799.0  4906.0  4893.0     9787    4899      4888   \n",
       "2  1987       2518   9990.0  5006.0  4984.0     9979    5000      4979   \n",
       "3  1988       2658  10286.0  5161.0  5125.0    10276    5156      5120   \n",
       "4  1989       2817  10577.0  5311.0  5266.0    10566    5305      5261   \n",
       "\n",
       "   f_total  f_male  f_female  older_65  \n",
       "0     13.0     7.0       6.0       211  \n",
       "1     12.0     7.0       5.0       305  \n",
       "2     11.0     6.0       5.0       329  \n",
       "3     10.0     5.0       5.0       349  \n",
       "4     11.0     6.0       5.0       363  "
      ]
     },
     "execution_count": 35,
     "metadata": {},
     "output_type": "execute_result"
    }
   ],
   "source": [
    "pop.reset_index(drop=True, inplace=True)\n",
    "pop.head()"
   ]
  },
  {
   "cell_type": "markdown",
   "metadata": {
    "id": "gVFIrpZmrsjq"
   },
   "source": [
    "## 4. 추가 전처리"
   ]
  },
  {
   "cell_type": "markdown",
   "metadata": {
    "id": "kdnCJKxP-GiC"
   },
   "source": [
    "* x, y 구분\n",
    "\n",
    "    - x : feature\n",
    "    - y : target <- total"
   ]
  },
  {
   "cell_type": "code",
   "execution_count": 36,
   "metadata": {
    "id": "eg2YEK6-8k9c"
   },
   "outputs": [],
   "source": [
    "x = pop.drop('total', axis=1)\n",
    "y = pop['total']"
   ]
  },
  {
   "cell_type": "code",
   "execution_count": 37,
   "metadata": {
    "id": "bqB7UDBj8k96"
   },
   "outputs": [
    {
     "data": {
      "text/plain": [
       "(    year  household    male  female  k_total  k_male  k_female  f_total  \\\n",
       " 0   1985       2338  4167.0  4197.0     8351    4160      4191     13.0   \n",
       " 1   1986       2428  4906.0  4893.0     9787    4899      4888     12.0   \n",
       " 2   1987       2518  5006.0  4984.0     9979    5000      4979     11.0   \n",
       " 3   1988       2658  5161.0  5125.0    10276    5156      5120     10.0   \n",
       " 4   1989       2817  5311.0  5266.0    10566    5305      5261     11.0   \n",
       " 5   1990       2820  5326.0  5286.0    10603    5321      5282      9.0   \n",
       " 6   1991       3330  5486.0  5419.0    10873    5468      5405     32.0   \n",
       " 7   1992       3383  5519.0  5451.0    10935    5500      5435     35.0   \n",
       " 8   1993       3431  5497.0  5429.0    10890    5478      5412     36.0   \n",
       " 9   1994       3456  5430.0  5370.0    10760    5409      5351     40.0   \n",
       " 10  1995       3448  5326.0  5270.0    10551    5302      5249     45.0   \n",
       " 11  1996       3457  5258.0  5212.0    10418    5231      5187     52.0   \n",
       " 12  1997       3499  5215.0  5175.0    10337    5187      5150     53.0   \n",
       " 13  1998       3459  5174.0  5148.0    10271    5147      5124     51.0   \n",
       " 14  1999       3491  5171.0  5151.0    10264    5141      5123     58.0   \n",
       " 15  2000       3540  5199.0  5175.0    10312    5167      5145     62.0   \n",
       " 16  2001       3570  5176.0  5156.0    10264    5142      5122     68.0   \n",
       " 17  2002       3624  5145.0  5135.0    10207    5109      5098     73.0   \n",
       " 18  2003       3715  5134.0  5143.0    10174    5085      5089    103.0   \n",
       " 19  2004       3780  5129.0  5159.0    10173    5075      5098    115.0   \n",
       " 20  2005       3871  5123.0  5173.0    10167    5062      5105    129.0   \n",
       " 21  2006       3979  5145.0  5211.0    10181    5062      5119    175.0   \n",
       " 22  2007       4046  5174.0  5248.0    10193    5063      5130    229.0   \n",
       " 23  2008       4098  5185.0  5271.0    10201    5062      5139    255.0   \n",
       " 24  2009       4117  5181.0  5283.0    10208    5059      5149    256.0   \n",
       " 25  2010       4224  5236.0  5338.0    10312    5111      5201    262.0   \n",
       " 26  2011       4193  5209.0  5321.0    10250    5074      5176    280.0   \n",
       " 27  2012       4178  5159.0  5283.0    10195    5041      5154    247.0   \n",
       " 28  2013       4182  5126.0  5262.0    10144    5008      5136    244.0   \n",
       " 29  2014       4194  5109.0  5260.0    10103    4980      5123    266.0   \n",
       " 30  2015       4190  5064.0  5233.0    10022    4931      5091    275.0   \n",
       " 31  2016       4190  5008.0  5197.0     9931    4877      5054    274.0   \n",
       " 32  2017       4220  4958.0  5167.0     9857    4830      5027    268.0   \n",
       " 33  2018       4264  4911.0  5139.0     9766    4774      4992    284.0   \n",
       " 34  2019       4328  4878.0  5133.0     9729    4744      4985    282.0   \n",
       " 35  2020       4418  4817.0  5095.0     9669    4702      4967    243.0   \n",
       " \n",
       "     f_male  f_female  older_65  \n",
       " 0      7.0       6.0       211  \n",
       " 1      7.0       5.0       305  \n",
       " 2      6.0       5.0       329  \n",
       " 3      5.0       5.0       349  \n",
       " 4      6.0       5.0       363  \n",
       " 5      5.0       4.0       363  \n",
       " 6     18.0      14.0       424  \n",
       " 7     19.0      16.0       434  \n",
       " 8     19.0      17.0       445  \n",
       " 9     21.0      19.0       454  \n",
       " 10    24.0      21.0       460  \n",
       " 11    27.0      25.0       469  \n",
       " 12    28.0      25.0       485  \n",
       " 13    27.0      24.0       505  \n",
       " 14    30.0      28.0       530  \n",
       " 15    32.0      30.0       560  \n",
       " 16    34.0      34.0       586  \n",
       " 17    36.0      37.0       613  \n",
       " 18    49.0      54.0       650  \n",
       " 19    54.0      61.0       693  \n",
       " 20    61.0      68.0       736  \n",
       " 21    83.0      92.0       787  \n",
       " 22   111.0     118.0       852  \n",
       " 23   123.0     132.0       899  \n",
       " 24   122.0     134.0       943  \n",
       " 25   125.0     137.0      1008  \n",
       " 26   135.0     145.0      1049  \n",
       " 27   118.0     129.0      1111  \n",
       " 28   118.0     126.0      1167  \n",
       " 29   129.0     137.0      1222  \n",
       " 30   133.0     142.0      1268  \n",
       " 31   131.0     143.0      1301  \n",
       " 32   128.0     140.0      1365  \n",
       " 33   137.0     147.0      1416  \n",
       " 34   134.0     148.0      1485  \n",
       " 35   115.0     128.0      1568  ,\n",
       " 0      8364.0\n",
       " 1      9799.0\n",
       " 2      9990.0\n",
       " 3     10286.0\n",
       " 4     10577.0\n",
       " 5     10612.0\n",
       " 6     10905.0\n",
       " 7     10970.0\n",
       " 8     10926.0\n",
       " 9     10800.0\n",
       " 10    10596.0\n",
       " 11    10470.0\n",
       " 12    10390.0\n",
       " 13    10322.0\n",
       " 14    10322.0\n",
       " 15    10374.0\n",
       " 16    10332.0\n",
       " 17    10280.0\n",
       " 18    10277.0\n",
       " 19    10288.0\n",
       " 20    10296.0\n",
       " 21    10356.0\n",
       " 22    10422.0\n",
       " 23    10456.0\n",
       " 24    10464.0\n",
       " 25    10574.0\n",
       " 26    10530.0\n",
       " 27    10442.0\n",
       " 28    10388.0\n",
       " 29    10369.0\n",
       " 30    10297.0\n",
       " 31    10205.0\n",
       " 32    10125.0\n",
       " 33    10050.0\n",
       " 34    10011.0\n",
       " 35     9912.0\n",
       " Name: total, dtype: float64)"
      ]
     },
     "execution_count": 37,
     "metadata": {},
     "output_type": "execute_result"
    }
   ],
   "source": [
    "x, y"
   ]
  },
  {
   "cell_type": "markdown",
   "metadata": {
    "id": "w6LVMNBb-EYK"
   },
   "source": [
    "* train test split"
   ]
  },
  {
   "cell_type": "code",
   "execution_count": 38,
   "metadata": {},
   "outputs": [],
   "source": [
    "from sklearn.model_selection import train_test_split"
   ]
  },
  {
   "cell_type": "code",
   "execution_count": 39,
   "metadata": {
    "id": "ldUH83Zh9gdE"
   },
   "outputs": [],
   "source": [
    "train_x, test_x, train_y, test_y = train_test_split(x, y, test_size=0.3, random_state=42)"
   ]
  },
  {
   "cell_type": "code",
   "execution_count": 40,
   "metadata": {
    "id": "ePTa2bih9JRU"
   },
   "outputs": [
    {
     "data": {
      "text/plain": [
       "(25, 11)"
      ]
     },
     "execution_count": 40,
     "metadata": {},
     "output_type": "execute_result"
    }
   ],
   "source": [
    "train_x.shape"
   ]
  },
  {
   "cell_type": "code",
   "execution_count": 42,
   "metadata": {
    "id": "CuSR6VJ89X4J"
   },
   "outputs": [
    {
     "data": {
      "text/plain": [
       "(25,)"
      ]
     },
     "execution_count": 42,
     "metadata": {},
     "output_type": "execute_result"
    }
   ],
   "source": [
    "train_y.shape"
   ]
  },
  {
   "cell_type": "markdown",
   "metadata": {
    "id": "Q898Fe_Y9b4B"
   },
   "source": [
    "* Scaling\n",
    "\n",
    "    - min-max scaling"
   ]
  },
  {
   "cell_type": "code",
   "execution_count": 43,
   "metadata": {
    "id": "Z6xdipwP9ZTq"
   },
   "outputs": [],
   "source": [
    "from sklearn.preprocessing import MinMaxScaler"
   ]
  },
  {
   "cell_type": "code",
   "execution_count": 44,
   "metadata": {
    "id": "NBXz7AVZ9npr"
   },
   "outputs": [],
   "source": [
    "mmscaler = MinMaxScaler()"
   ]
  },
  {
   "cell_type": "code",
   "execution_count": 47,
   "metadata": {
    "id": "0MsrmONV96Cd"
   },
   "outputs": [],
   "source": [
    "train_x = mmscaler.fit_transform(train_x)\n",
    "test_x = mmscaler.fit_transform(test_x)"
   ]
  },
  {
   "cell_type": "code",
   "execution_count": 48,
   "metadata": {
    "id": "jaAGAJ9S97uK"
   },
   "outputs": [
    {
     "data": {
      "text/html": [
       "<div>\n",
       "<style scoped>\n",
       "    .dataframe tbody tr th:only-of-type {\n",
       "        vertical-align: middle;\n",
       "    }\n",
       "\n",
       "    .dataframe tbody tr th {\n",
       "        vertical-align: top;\n",
       "    }\n",
       "\n",
       "    .dataframe thead th {\n",
       "        text-align: right;\n",
       "    }\n",
       "</style>\n",
       "<table border=\"1\" class=\"dataframe\">\n",
       "  <thead>\n",
       "    <tr style=\"text-align: right;\">\n",
       "      <th></th>\n",
       "      <th>0</th>\n",
       "      <th>1</th>\n",
       "      <th>2</th>\n",
       "      <th>3</th>\n",
       "      <th>4</th>\n",
       "      <th>5</th>\n",
       "      <th>6</th>\n",
       "      <th>7</th>\n",
       "      <th>8</th>\n",
       "      <th>9</th>\n",
       "      <th>10</th>\n",
       "    </tr>\n",
       "  </thead>\n",
       "  <tbody>\n",
       "    <tr>\n",
       "      <th>count</th>\n",
       "      <td>25.000000</td>\n",
       "      <td>25.000000</td>\n",
       "      <td>25.000000</td>\n",
       "      <td>25.000000</td>\n",
       "      <td>25.000000</td>\n",
       "      <td>25.000000</td>\n",
       "      <td>25.000000</td>\n",
       "      <td>25.000000</td>\n",
       "      <td>25.000000</td>\n",
       "      <td>25.000000</td>\n",
       "      <td>25.000000</td>\n",
       "    </tr>\n",
       "    <tr>\n",
       "      <th>mean</th>\n",
       "      <td>0.484706</td>\n",
       "      <td>0.623015</td>\n",
       "      <td>0.708994</td>\n",
       "      <td>0.777129</td>\n",
       "      <td>0.702198</td>\n",
       "      <td>0.672955</td>\n",
       "      <td>0.733698</td>\n",
       "      <td>0.445818</td>\n",
       "      <td>0.445455</td>\n",
       "      <td>0.443056</td>\n",
       "      <td>0.410330</td>\n",
       "    </tr>\n",
       "    <tr>\n",
       "      <th>std</th>\n",
       "      <td>0.324099</td>\n",
       "      <td>0.324631</td>\n",
       "      <td>0.188880</td>\n",
       "      <td>0.187415</td>\n",
       "      <td>0.187714</td>\n",
       "      <td>0.198041</td>\n",
       "      <td>0.182179</td>\n",
       "      <td>0.404781</td>\n",
       "      <td>0.400179</td>\n",
       "      <td>0.406329</td>\n",
       "      <td>0.304512</td>\n",
       "    </tr>\n",
       "    <tr>\n",
       "      <th>min</th>\n",
       "      <td>0.000000</td>\n",
       "      <td>0.000000</td>\n",
       "      <td>0.000000</td>\n",
       "      <td>0.000000</td>\n",
       "      <td>0.000000</td>\n",
       "      <td>0.000000</td>\n",
       "      <td>0.000000</td>\n",
       "      <td>0.000000</td>\n",
       "      <td>0.000000</td>\n",
       "      <td>0.000000</td>\n",
       "      <td>0.000000</td>\n",
       "    </tr>\n",
       "    <tr>\n",
       "      <th>25%</th>\n",
       "      <td>0.176471</td>\n",
       "      <td>0.498492</td>\n",
       "      <td>0.696746</td>\n",
       "      <td>0.754386</td>\n",
       "      <td>0.678019</td>\n",
       "      <td>0.626866</td>\n",
       "      <td>0.721865</td>\n",
       "      <td>0.083636</td>\n",
       "      <td>0.098485</td>\n",
       "      <td>0.069444</td>\n",
       "      <td>0.167190</td>\n",
       "    </tr>\n",
       "    <tr>\n",
       "      <th>50%</th>\n",
       "      <td>0.529412</td>\n",
       "      <td>0.691960</td>\n",
       "      <td>0.735207</td>\n",
       "      <td>0.809410</td>\n",
       "      <td>0.713622</td>\n",
       "      <td>0.673881</td>\n",
       "      <td>0.754823</td>\n",
       "      <td>0.341818</td>\n",
       "      <td>0.333333</td>\n",
       "      <td>0.347222</td>\n",
       "      <td>0.344584</td>\n",
       "    </tr>\n",
       "    <tr>\n",
       "      <th>75%</th>\n",
       "      <td>0.735294</td>\n",
       "      <td>0.924623</td>\n",
       "      <td>0.790680</td>\n",
       "      <td>0.856459</td>\n",
       "      <td>0.758901</td>\n",
       "      <td>0.751493</td>\n",
       "      <td>0.800643</td>\n",
       "      <td>0.894545</td>\n",
       "      <td>0.886364</td>\n",
       "      <td>0.888889</td>\n",
       "      <td>0.625589</td>\n",
       "    </tr>\n",
       "    <tr>\n",
       "      <th>max</th>\n",
       "      <td>1.000000</td>\n",
       "      <td>1.000000</td>\n",
       "      <td>1.000000</td>\n",
       "      <td>1.000000</td>\n",
       "      <td>1.000000</td>\n",
       "      <td>1.000000</td>\n",
       "      <td>1.000000</td>\n",
       "      <td>1.000000</td>\n",
       "      <td>1.000000</td>\n",
       "      <td>1.000000</td>\n",
       "      <td>1.000000</td>\n",
       "    </tr>\n",
       "  </tbody>\n",
       "</table>\n",
       "</div>"
      ],
      "text/plain": [
       "              0          1          2          3          4          5   \\\n",
       "count  25.000000  25.000000  25.000000  25.000000  25.000000  25.000000   \n",
       "mean    0.484706   0.623015   0.708994   0.777129   0.702198   0.672955   \n",
       "std     0.324099   0.324631   0.188880   0.187415   0.187714   0.198041   \n",
       "min     0.000000   0.000000   0.000000   0.000000   0.000000   0.000000   \n",
       "25%     0.176471   0.498492   0.696746   0.754386   0.678019   0.626866   \n",
       "50%     0.529412   0.691960   0.735207   0.809410   0.713622   0.673881   \n",
       "75%     0.735294   0.924623   0.790680   0.856459   0.758901   0.751493   \n",
       "max     1.000000   1.000000   1.000000   1.000000   1.000000   1.000000   \n",
       "\n",
       "              6          7          8          9          10  \n",
       "count  25.000000  25.000000  25.000000  25.000000  25.000000  \n",
       "mean    0.733698   0.445818   0.445455   0.443056   0.410330  \n",
       "std     0.182179   0.404781   0.400179   0.406329   0.304512  \n",
       "min     0.000000   0.000000   0.000000   0.000000   0.000000  \n",
       "25%     0.721865   0.083636   0.098485   0.069444   0.167190  \n",
       "50%     0.754823   0.341818   0.333333   0.347222   0.344584  \n",
       "75%     0.800643   0.894545   0.886364   0.888889   0.625589  \n",
       "max     1.000000   1.000000   1.000000   1.000000   1.000000  "
      ]
     },
     "execution_count": 48,
     "metadata": {},
     "output_type": "execute_result"
    }
   ],
   "source": [
    "pd.DataFrame(train_x).describe()"
   ]
  },
  {
   "cell_type": "code",
   "execution_count": null,
   "metadata": {
    "id": "3kG4eVvD_NJi"
   },
   "outputs": [],
   "source": []
  },
  {
   "cell_type": "markdown",
   "metadata": {
    "id": "RunXx5ob-L9j"
   },
   "source": [
    "## 5. 모델링"
   ]
  },
  {
   "cell_type": "markdown",
   "metadata": {
    "id": "KpBgwLU5-b7m"
   },
   "source": [
    "* 모델 선언"
   ]
  },
  {
   "cell_type": "code",
   "execution_count": 49,
   "metadata": {
    "id": "xJivOe31-DMG"
   },
   "outputs": [],
   "source": [
    "from sklearn.linear_model import LinearRegression"
   ]
  },
  {
   "cell_type": "code",
   "execution_count": 51,
   "metadata": {},
   "outputs": [],
   "source": [
    "model = LinearRegression()"
   ]
  },
  {
   "cell_type": "markdown",
   "metadata": {
    "id": "ByOJ40rx-aBU"
   },
   "source": [
    "* 모델 학습"
   ]
  },
  {
   "cell_type": "code",
   "execution_count": 52,
   "metadata": {
    "id": "7BZYUjNt-WRT"
   },
   "outputs": [
    {
     "data": {
      "text/plain": [
       "LinearRegression()"
      ]
     },
     "execution_count": 52,
     "metadata": {},
     "output_type": "execute_result"
    }
   ],
   "source": [
    "model.fit(train_x, train_y)"
   ]
  },
  {
   "cell_type": "markdown",
   "metadata": {
    "id": "NaGKHZJS-ktc"
   },
   "source": [
    "* 학습한 모델 기반으로 예측값 생성"
   ]
  },
  {
   "cell_type": "code",
   "execution_count": 53,
   "metadata": {
    "id": "AtqR6q1u-pYA"
   },
   "outputs": [],
   "source": [
    "test_predict = model.predict(test_x)"
   ]
  },
  {
   "cell_type": "code",
   "execution_count": 54,
   "metadata": {
    "id": "AyJLAYoN-s3r"
   },
   "outputs": [
    {
     "data": {
      "text/plain": [
       "(11,)"
      ]
     },
     "execution_count": 54,
     "metadata": {},
     "output_type": "execute_result"
    }
   ],
   "source": [
    "test_predict.shape"
   ]
  },
  {
   "cell_type": "code",
   "execution_count": 58,
   "metadata": {},
   "outputs": [
    {
     "data": {
      "text/plain": [
       "35     9912.0\n",
       "13    10322.0\n",
       "26    10530.0\n",
       "30    10297.0\n",
       "16    10332.0\n",
       "31    10205.0\n",
       "21    10356.0\n",
       "12    10390.0\n",
       "8     10926.0\n",
       "17    10280.0\n",
       "9     10800.0\n",
       "Name: total, dtype: float64"
      ]
     },
     "execution_count": 58,
     "metadata": {},
     "output_type": "execute_result"
    }
   ],
   "source": [
    "test_y"
   ]
  },
  {
   "cell_type": "code",
   "execution_count": 57,
   "metadata": {
    "id": "DMlL2Z-N-wRq"
   },
   "outputs": [
    {
     "data": {
      "text/plain": [
       "array([ 8523.85621779,  9509.99221401,  9902.41993779,  9373.80927122,\n",
       "        9523.5837625 ,  9162.4280387 ,  9540.75660245,  9665.18425978,\n",
       "       10951.93730439,  9399.49626314, 10650.07743244])"
      ]
     },
     "execution_count": 57,
     "metadata": {},
     "output_type": "execute_result"
    }
   ],
   "source": [
    "test_predict"
   ]
  },
  {
   "cell_type": "markdown",
   "metadata": {
    "id": "_rDg0DGJ-2vp"
   },
   "source": [
    "## 6. 평가"
   ]
  },
  {
   "cell_type": "code",
   "execution_count": 50,
   "metadata": {
    "id": "A1a9ZTWi-Tah"
   },
   "outputs": [],
   "source": [
    "from sklearn.metrics   import mean_squared_error "
   ]
  },
  {
   "cell_type": "code",
   "execution_count": 56,
   "metadata": {
    "id": "7PmPZpse-2D2"
   },
   "outputs": [
    {
     "data": {
      "text/plain": [
       "829.0929750194039"
      ]
     },
     "execution_count": 56,
     "metadata": {},
     "output_type": "execute_result"
    }
   ],
   "source": [
    "mean_squared_error(test_predict, test_y, squared=False )"
   ]
  },
  {
   "cell_type": "code",
   "execution_count": null,
   "metadata": {
    "id": "jBiVt9Uv_WXG"
   },
   "outputs": [],
   "source": []
  },
  {
   "cell_type": "code",
   "execution_count": null,
   "metadata": {
    "id": "d0TSKy87_gCL"
   },
   "outputs": [],
   "source": []
  }
 ],
 "metadata": {
  "colab": {
   "collapsed_sections": [],
   "name": "추가_서울 인구 분석.ipynb",
   "provenance": []
  },
  "kernelspec": {
   "display_name": "Python 3",
   "language": "python",
   "name": "python3"
  },
  "language_info": {
   "codemirror_mode": {
    "name": "ipython",
    "version": 3
   },
   "file_extension": ".py",
   "mimetype": "text/x-python",
   "name": "python",
   "nbconvert_exporter": "python",
   "pygments_lexer": "ipython3",
   "version": "3.8.8"
  }
 },
 "nbformat": 4,
 "nbformat_minor": 1
}
