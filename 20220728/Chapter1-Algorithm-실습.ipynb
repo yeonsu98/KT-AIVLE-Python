{
 "cells": [
  {
   "cell_type": "code",
   "execution_count": 7,
   "id": "2605a730",
   "metadata": {},
   "outputs": [
    {
     "name": "stdout",
     "output_type": "stream",
     "text": [
      "전기 요금을 계산합니다.\n",
      "전기사용량을 입력하세요 : 250\n",
      "전기 요금은 33717원 입니다.\n"
     ]
    }
   ],
   "source": [
    "# 실습 1 전기요금 계산하기\n",
    "\n",
    "def electricPay(usage):\n",
    "    \n",
    "    pay = 0\n",
    "    \n",
    "    if usage < 100:\n",
    "        pay = 410 + usage*60.7\n",
    "    elif usage >= 100 and usage <= 200:\n",
    "        pay = 910 + 100*60.7 + (usage - 100)*125.9\n",
    "    else: \n",
    "        pay = 1600 + 100*60.7 + 100*125.9 + (usage - 200)*187.9\n",
    "    \n",
    "    pay += pay*0.137\n",
    "    \n",
    "    return int(pay)\n",
    "\n",
    "print(\"전기 요금을 계산합니다.\")\n",
    "\n",
    "usage = int(input(\"전기사용량을 입력하세요 : \"))\n",
    "\n",
    "print(f\"전기 요금은 {electricPay(usage)}원 입니다.\")"
   ]
  },
  {
   "cell_type": "code",
   "execution_count": 19,
   "id": "f8731110",
   "metadata": {},
   "outputs": [
    {
     "name": "stdout",
     "output_type": "stream",
     "text": [
      "+와 -를 번갈아 출력합니다.\n",
      "몇 개를 출력할까요? 1\n",
      "+"
     ]
    }
   ],
   "source": [
    "# 실습 2-1 +, - 번갈아서 찍기\n",
    "\n",
    "print(\"+와 -를 번갈아 출력합니다.\")\n",
    "num = int(input(\"몇 개를 출력할까요? \"))\n",
    "\n",
    "a = num // 2\n",
    "r = num % 2\n",
    "\n",
    "if a == 0 and r == 0:\n",
    "    print(\"0 이상의 수를 입력하세요 !\")\n",
    "    \n",
    "print('+-'*a, end='')\n",
    "print('+'*r, end='')"
   ]
  },
  {
   "cell_type": "code",
   "execution_count": 27,
   "id": "204cfbe8",
   "metadata": {},
   "outputs": [
    {
     "name": "stdout",
     "output_type": "stream",
     "text": [
      "+와 -를 번갈아 출력합니다.\n",
      "몇 개를 출력할까요? 12\n",
      "+-+-+-+-+-+-"
     ]
    }
   ],
   "source": [
    "# 실습 2-2\n",
    "\n",
    "print(\"+와 -를 번갈아 출력합니다.\")\n",
    "num = int(input(\"몇 개를 출력할까요? \"))\n",
    "\n",
    "for _ in range (num//2):\n",
    "    print('+-', end='')\n",
    "    \n",
    "if num%2:\n",
    "    print('+', end='')"
   ]
  },
  {
   "cell_type": "code",
   "execution_count": 24,
   "id": "8a949ab8",
   "metadata": {},
   "outputs": [
    {
     "name": "stdout",
     "output_type": "stream",
     "text": [
      "+와 -를 번갈아 출력합니다.\n",
      "몇 개를 출력할까요? 12\n",
      "+-+-+-+-+-+-"
     ]
    }
   ],
   "source": [
    "# 실습 2-3\n",
    "\n",
    "print(\"+와 -를 번갈아 출력합니다.\")\n",
    "num = int(input(\"몇 개를 출력할까요? \"))\n",
    "\n",
    "for i in range(num//2):\n",
    "    \n",
    "    print('+-', end='')\n",
    "    if num % 2 == 1:\n",
    "        print('+', end='')"
   ]
  },
  {
   "cell_type": "code",
   "execution_count": 26,
   "id": "28c7cf61",
   "metadata": {},
   "outputs": [
    {
     "name": "stdout",
     "output_type": "stream",
     "text": [
      "+와 -를 번갈아 출력합니다.\n",
      "몇 개를 출력할까요? 12\n",
      "+-+-+-+-+-+-\n"
     ]
    }
   ],
   "source": [
    "# 실습 2-4\n",
    "\n",
    "print(\"+와 -를 번갈아 출력합니다.\")\n",
    "num = int(input(\"몇 개를 출력할까요? \"))\n",
    "\n",
    "for i in range(1, num+1):\n",
    "    if i%2:\n",
    "        print('+', end='') #홀수인 경우 + 출력\n",
    "    else:\n",
    "        print('-', end='') #짝수인 경우 + 출력\n",
    "        \n",
    "print()"
   ]
  },
  {
   "cell_type": "code",
   "execution_count": 20,
   "id": "1125e5c9",
   "metadata": {},
   "outputs": [
    {
     "name": "stdout",
     "output_type": "stream",
     "text": [
      "1 2 3 4 5 6 7 9 10 11 12 "
     ]
    }
   ],
   "source": [
    "# 실습 3-1 8을 제외하고 1-12까지 출력\n",
    "\n",
    "for i in range(1, 13):\n",
    "    if i != 8:\n",
    "        print(i, end=' ')"
   ]
  },
  {
   "cell_type": "code",
   "execution_count": 30,
   "id": "ce954750",
   "metadata": {},
   "outputs": [
    {
     "name": "stdout",
     "output_type": "stream",
     "text": [
      "1 2 3 4 5 6 7 9 10 11 12 "
     ]
    }
   ],
   "source": [
    "# 실습 3-2 8을 제외하고 1-12까지 출력\n",
    "\n",
    "for i in range(1, 13):\n",
    "    if i == 8: \n",
    "        continue\n",
    "    print(i, end=' ')"
   ]
  },
  {
   "cell_type": "code",
   "execution_count": 36,
   "id": "43ebb1bd",
   "metadata": {},
   "outputs": [
    {
     "name": "stdout",
     "output_type": "stream",
     "text": [
      "정수를 입력하세요 : 16\n",
      "2**4 = 16 입니다.\n",
      "4**2 = 16 입니다.\n"
     ]
    }
   ],
   "source": [
    "# 실습 4 root ** pwr ( 1 < pwr < 6)\n",
    "\n",
    "num = int(input(\"정수를 입력하세요 : \"))\n",
    "flag = 0\n",
    "\n",
    "for root in range(1, num+1):\n",
    "    for pwr in range(2, 6):\n",
    "        if root ** pwr == num:\n",
    "            print(f'{root}**{pwr} = {num} 입니다.')\n",
    "            flag = 1\n",
    "            \n",
    "if flag == 0:\n",
    "    print(\"해당하는 결과가 없습니다.\")"
   ]
  },
  {
   "cell_type": "code",
   "execution_count": null,
   "id": "fb9293b7",
   "metadata": {},
   "outputs": [],
   "source": []
  }
 ],
 "metadata": {
  "kernelspec": {
   "display_name": "Python 3",
   "language": "python",
   "name": "python3"
  },
  "language_info": {
   "codemirror_mode": {
    "name": "ipython",
    "version": 3
   },
   "file_extension": ".py",
   "mimetype": "text/x-python",
   "name": "python",
   "nbconvert_exporter": "python",
   "pygments_lexer": "ipython3",
   "version": "3.8.8"
  }
 },
 "nbformat": 4,
 "nbformat_minor": 5
}
