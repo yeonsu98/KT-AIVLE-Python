{
 "cells": [
  {
   "cell_type": "markdown",
   "id": "0ffcf51b",
   "metadata": {},
   "source": [
    "### 20220728 AIVLE 자료구조 1일차 미니실습입니다 ~"
   ]
  },
  {
   "cell_type": "markdown",
   "id": "c718863c",
   "metadata": {},
   "source": [
    "## 미니실습 1\n",
    "***\n",
    "네 정수의 최댓값을 구하는 코드와 함수 만들기"
   ]
  },
  {
   "cell_type": "code",
   "execution_count": 16,
   "id": "d8b46a31",
   "metadata": {},
   "outputs": [
    {
     "name": "stdout",
     "output_type": "stream",
     "text": [
      "네 정수를 입력하세요.\n",
      "a 정수를 입력하세요 : 4\n",
      "b 정수를 입력하세요 : 3\n",
      "c 정수를 입력하세요 : 2\n",
      "d 정수를 입력하세요 : 2\n",
      "최대값은 4 입니다.\n"
     ]
    }
   ],
   "source": [
    "## 네 정수의 최댓값을 구하는 코드\n",
    "def max4():\n",
    "    print(\"네 정수를 입력하세요.\")\n",
    "    a = input(\"a 정수를 입력하세요 : \")\n",
    "    b = input(\"b 정수를 입력하세요 : \")\n",
    "    c = input(\"c 정수를 입력하세요 : \")\n",
    "    d = input(\"d 정수를 입력하세요 : \")\n",
    "    \n",
    "    maximum = a\n",
    "    if b > maximum :\n",
    "        maximum = b\n",
    "    if c > maximum :\n",
    "        maximum = c\n",
    "    if d > maximum :\n",
    "        maximum = d\n",
    "        \n",
    "    return maximum\n",
    "\n",
    "print(f\"최대값은 {max4()} 입니다.\")"
   ]
  },
  {
   "cell_type": "markdown",
   "id": "4aa52281",
   "metadata": {},
   "source": [
    "## 미니실습 2\n",
    "***\n",
    "다음은 A, B 두 수도회사의 요금체계이다.  \n",
    "\n",
    "    A: 1L당 100원\n",
    "    B: 50L 이하 150원, 50L 초과분 75원\n",
    "    \n",
    "수도회사와 수도 사용량을 입력받아 지불해야하는 수도요금을 계산하는 함수를 만들고,\n",
    "수도회사와 수도 사용량을 입력받아 요금을 출력"
   ]
  },
  {
   "cell_type": "code",
   "execution_count": null,
   "id": "44bdb01b",
   "metadata": {},
   "outputs": [],
   "source": [
    "def waterPay(c, w):\n",
    "    \n",
    "    pay = 0 \n",
    "    \n",
    "    if c == \"A\":\n",
    "        pay = w*100\n",
    "    elif c == \"B\":\n",
    "        if w <= 50:\n",
    "            pay = w*150\n",
    "        else : pay = 50*150 + (w-50)*75\n",
    "    else : \n",
    "        print(\"잘못입력하셨습니다.\")\n",
    "        return\n",
    "    return pay\n",
    "    \n",
    "print(\"수도요금을 계산합니다.\")\n",
    "c = input(\"수도회사를 입력하세요 : \")\n",
    "w = int(input(\"수도사용량을 입력하세요 : \"))\n",
    "\n",
    "print(f\"요금은 {waterPay(c, w)}원 입니다.\")"
   ]
  },
  {
   "cell_type": "markdown",
   "id": "44bb1006",
   "metadata": {},
   "source": [
    "## 미니실습 3\n",
    "***\n",
    "앞 페이지 코드에서 for 안의 if문에서 앞부분 if는 반복시에 대부분 시행되지만 else 부분은 맨 마지막에만 시행된다.  \n",
    "else에 해당하는 부분을 반복부분이 아니고 반복이 끝난 이후에 시행되도록 코드를 변경"
   ]
  },
  {
   "cell_type": "code",
   "execution_count": 2,
   "id": "abc79802",
   "metadata": {},
   "outputs": [
    {
     "name": "stdout",
     "output_type": "stream",
     "text": [
      "a부터 b까지 정수의 합을 구합니다.\n",
      "정수 a를 입력하세요.: 4\n",
      "정수 b를 입력하세요.: 7\n",
      "4 + 5 + 6 + 7 = 22\n"
     ]
    }
   ],
   "source": [
    "print('a부터 b까지 정수의 합을 구합니다.')\n",
    "\n",
    "a = int(input('정수 a를 입력하세요.: '))\n",
    "b = int(input('정수 b를 입력하세요.: '))\n",
    "\n",
    "if a > b:\n",
    "    a, b = b, a\n",
    "    \n",
    "sum = 0\n",
    "\n",
    "for i in range(a, b):\n",
    "    print(f'{i} + ', end='')\n",
    "    sum +=i\n",
    "    \n",
    "print(f'{b} = ', end='')\n",
    "sum += b\n",
    "\n",
    "print(sum)"
   ]
  },
  {
   "cell_type": "markdown",
   "id": "1bbc9ad4",
   "metadata": {},
   "source": [
    "## 미니실습 4\n",
    "***\n",
    "앞 페이지 코드에서 두변의 길이 순서를 고려하지 않고 가능한 조합만 표시  \n",
    "앞 변과 뒷 변의 길이를 고려하여 가능한 모든 경우가 표시되게 수정하라"
   ]
  },
  {
   "cell_type": "code",
   "execution_count": 12,
   "id": "5fbe69eb",
   "metadata": {},
   "outputs": [
    {
     "name": "stdout",
     "output_type": "stream",
     "text": [
      "직사각형의 넓이를 입력하세요.: 36\n",
      "1 x 36\n",
      "2 x 18\n",
      "3 x 12\n",
      "4 x 9\n",
      "9 x 4\n",
      "12 x 3\n",
      "18 x 2\n",
      "36 x 1\n"
     ]
    }
   ],
   "source": [
    "area = int(input('직사각형의 넓이를 입력하세요.: '))\n",
    "\n",
    "for i in range(1, area + 1):\n",
    "    if area % i or i*i == area: continue\n",
    "    print(f'{i} x {area // i}')"
   ]
  }
 ],
 "metadata": {
  "kernelspec": {
   "display_name": "Python 3",
   "language": "python",
   "name": "python3"
  },
  "language_info": {
   "codemirror_mode": {
    "name": "ipython",
    "version": 3
   },
   "file_extension": ".py",
   "mimetype": "text/x-python",
   "name": "python",
   "nbconvert_exporter": "python",
   "pygments_lexer": "ipython3",
   "version": "3.8.8"
  }
 },
 "nbformat": 4,
 "nbformat_minor": 5
}
