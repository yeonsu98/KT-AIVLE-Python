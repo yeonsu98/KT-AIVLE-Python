{
 "cells": [
  {
   "cell_type": "markdown",
   "id": "26beb033-806c-4021-bca0-6207f3e836c1",
   "metadata": {},
   "source": [
    "### WebCrawing\n",
    "- 웹페이지의 종류\n",
    "    - 정적페이지 : 페이지의 데이터가 변경될 때 URL이 변경 : Html\n",
    "    - 동적페이지 : 페이지의 데이터가 변경될 때 URL이 변경 X : Json\n",
    "- requests package\n",
    "    - 브라우져의 URL을 입력하면 서버에서 데이터를 다운받아 화면에 출력 : URL입력 > Data 가져옴\n",
    "    - requests 패키지 : URL > Data\n",
    "    "
   ]
  },
  {
   "cell_type": "markdown",
   "id": "1c94567c-1fe0-4312-8efb-beda56af5046",
   "metadata": {},
   "source": [
    "### Naver Stock Data\n",
    "- Kospi 주가 지수\n",
    "- Kosdaq 주가 지수\n",
    "- USD : 원달러 환율 \n"
   ]
  },
  {
   "cell_type": "code",
   "execution_count": 2,
   "id": "9e952a57-836e-4315-8c5d-7217dc188bbf",
   "metadata": {},
   "outputs": [],
   "source": [
    "# 필요한 패키지 import\n",
    "import requests\n",
    "import pandas as pd"
   ]
  },
  {
   "cell_type": "code",
   "execution_count": null,
   "id": "16cfd2ee-e8a9-47b0-84f6-dc0e7b41c5cb",
   "metadata": {},
   "outputs": [],
   "source": [
    "# 1. ** 웹서비스를 분석 ** : 크롬 개발자도구 사용(트래픽 확인) > URL 얻음\n",
    "# https://m.stock.naver.com/"
   ]
  },
  {
   "cell_type": "code",
   "execution_count": 3,
   "id": "0733514e-06a4-48b5-aa87-89520ad30073",
   "metadata": {},
   "outputs": [],
   "source": [
    "url = \"https://m.stock.naver.com/api/index/KOSPI/price?pageSize=10&page=4\""
   ]
  },
  {
   "cell_type": "code",
   "execution_count": null,
   "id": "0025302d-ecef-4558-be10-dd46e5742b3b",
   "metadata": {},
   "outputs": [],
   "source": [
    "# 2. requests > response : JSON(str)"
   ]
  },
  {
   "cell_type": "code",
   "execution_count": 5,
   "id": "7e5b8ff1-eca3-4d3c-a76a-a0e144fab106",
   "metadata": {},
   "outputs": [
    {
     "data": {
      "text/plain": [
       "<Response [200]>"
      ]
     },
     "execution_count": 5,
     "metadata": {},
     "output_type": "execute_result"
    }
   ],
   "source": [
    "response = requests.get(url)\n",
    "response"
   ]
  },
  {
   "cell_type": "code",
   "execution_count": 7,
   "id": "e9025335-97a0-4ac8-a4f3-2c76d6c0fec2",
   "metadata": {},
   "outputs": [
    {
     "data": {
      "text/plain": [
       "'[{\"localTradedAt\":\"2022-06-22\",\"closePrice\":\"2,342.81\",\"compareToPreviousClosePrice\":\"-66.12\",\"compareToPreviousPrice\":{\"code\":\"5\",\"text\":\"하락\",\"name\":\"FALLING\"},\"fluctuationsRatio\":\"-2.74\",\"openPrice\"'"
      ]
     },
     "execution_count": 7,
     "metadata": {},
     "output_type": "execute_result"
    }
   ],
   "source": [
    "response.text[:200]"
   ]
  },
  {
   "cell_type": "code",
   "execution_count": null,
   "id": "37eee047-2647-4d67-aacc-a243428a0689",
   "metadata": {},
   "outputs": [],
   "source": [
    "# 3. JSON(str) > list, dict > DataFrame 출력"
   ]
  },
  {
   "cell_type": "code",
   "execution_count": 8,
   "id": "f47cf2fb-a86c-484b-866b-9b9ece12860a",
   "metadata": {},
   "outputs": [
    {
     "data": {
      "text/plain": [
       "(list,\n",
       " [{'localTradedAt': '2022-06-22',\n",
       "   'closePrice': '2,342.81',\n",
       "   'compareToPreviousClosePrice': '-66.12',\n",
       "   'compareToPreviousPrice': {'code': '5', 'text': '하락', 'name': 'FALLING'},\n",
       "   'fluctuationsRatio': '-2.74',\n",
       "   'openPrice': '2,417.11',\n",
       "   'highPrice': '2,418.05',\n",
       "   'lowPrice': '2,342.81'}])"
      ]
     },
     "execution_count": 8,
     "metadata": {},
     "output_type": "execute_result"
    }
   ],
   "source": [
    "data = response.json()\n",
    "type(data), data[:1]"
   ]
  },
  {
   "cell_type": "code",
   "execution_count": 12,
   "id": "b37dcacc-5dca-4241-bc18-d5dfd569aced",
   "metadata": {},
   "outputs": [
    {
     "data": {
      "text/html": [
       "<div>\n",
       "<style scoped>\n",
       "    .dataframe tbody tr th:only-of-type {\n",
       "        vertical-align: middle;\n",
       "    }\n",
       "\n",
       "    .dataframe tbody tr th {\n",
       "        vertical-align: top;\n",
       "    }\n",
       "\n",
       "    .dataframe thead th {\n",
       "        text-align: right;\n",
       "    }\n",
       "</style>\n",
       "<table border=\"1\" class=\"dataframe\">\n",
       "  <thead>\n",
       "    <tr style=\"text-align: right;\">\n",
       "      <th></th>\n",
       "      <th>localTradedAt</th>\n",
       "      <th>closePrice</th>\n",
       "    </tr>\n",
       "  </thead>\n",
       "  <tbody>\n",
       "    <tr>\n",
       "      <th>8</th>\n",
       "      <td>2022-06-10</td>\n",
       "      <td>2,595.87</td>\n",
       "    </tr>\n",
       "    <tr>\n",
       "      <th>9</th>\n",
       "      <td>2022-06-09</td>\n",
       "      <td>2,625.44</td>\n",
       "    </tr>\n",
       "  </tbody>\n",
       "</table>\n",
       "</div>"
      ],
      "text/plain": [
       "  localTradedAt closePrice\n",
       "8    2022-06-10   2,595.87\n",
       "9    2022-06-09   2,625.44"
      ]
     },
     "execution_count": 12,
     "metadata": {},
     "output_type": "execute_result"
    }
   ],
   "source": [
    "df = pd.DataFrame(data)[[\"localTradedAt\", \"closePrice\"]]\n",
    "df.tail(2)"
   ]
  },
  {
   "cell_type": "code",
   "execution_count": null,
   "id": "74cf3646-ea4d-407e-b552-5e669b16d234",
   "metadata": {},
   "outputs": [],
   "source": [
    "# 4. 함수 만들기\n",
    "# param : pagesize, page"
   ]
  },
  {
   "cell_type": "code",
   "execution_count": 20,
   "id": "f6f7a2e5-0366-49a8-8276-0ea54d4cd7d9",
   "metadata": {},
   "outputs": [],
   "source": [
    "def stock_price(pagesize, page):\n",
    "    url = f\"https://m.stock.naver.com/api/index/KOSPI/price?pageSize={pagesize}&page={page}\"\n",
    "    \n",
    "    response = requests.get(url)\n",
    "    data = response.json()\n",
    "    \n",
    "    return pd.DataFrame(data)[[\"localTradedAt\", \"closePrice\"]]"
   ]
  },
  {
   "cell_type": "code",
   "execution_count": 21,
   "id": "a71ee406-7469-4386-9d34-a841d426ca83",
   "metadata": {},
   "outputs": [
    {
     "data": {
      "text/html": [
       "<div>\n",
       "<style scoped>\n",
       "    .dataframe tbody tr th:only-of-type {\n",
       "        vertical-align: middle;\n",
       "    }\n",
       "\n",
       "    .dataframe tbody tr th {\n",
       "        vertical-align: top;\n",
       "    }\n",
       "\n",
       "    .dataframe thead th {\n",
       "        text-align: right;\n",
       "    }\n",
       "</style>\n",
       "<table border=\"1\" class=\"dataframe\">\n",
       "  <thead>\n",
       "    <tr style=\"text-align: right;\">\n",
       "      <th></th>\n",
       "      <th>localTradedAt</th>\n",
       "      <th>closePrice</th>\n",
       "    </tr>\n",
       "  </thead>\n",
       "  <tbody>\n",
       "    <tr>\n",
       "      <th>0</th>\n",
       "      <td>2022-03-25</td>\n",
       "      <td>2,729.98</td>\n",
       "    </tr>\n",
       "    <tr>\n",
       "      <th>1</th>\n",
       "      <td>2022-03-24</td>\n",
       "      <td>2,729.66</td>\n",
       "    </tr>\n",
       "    <tr>\n",
       "      <th>2</th>\n",
       "      <td>2022-03-23</td>\n",
       "      <td>2,735.05</td>\n",
       "    </tr>\n",
       "    <tr>\n",
       "      <th>3</th>\n",
       "      <td>2022-03-22</td>\n",
       "      <td>2,710.00</td>\n",
       "    </tr>\n",
       "    <tr>\n",
       "      <th>4</th>\n",
       "      <td>2022-03-21</td>\n",
       "      <td>2,686.05</td>\n",
       "    </tr>\n",
       "    <tr>\n",
       "      <th>5</th>\n",
       "      <td>2022-03-18</td>\n",
       "      <td>2,707.02</td>\n",
       "    </tr>\n",
       "    <tr>\n",
       "      <th>6</th>\n",
       "      <td>2022-03-17</td>\n",
       "      <td>2,694.51</td>\n",
       "    </tr>\n",
       "    <tr>\n",
       "      <th>7</th>\n",
       "      <td>2022-03-16</td>\n",
       "      <td>2,659.23</td>\n",
       "    </tr>\n",
       "    <tr>\n",
       "      <th>8</th>\n",
       "      <td>2022-03-15</td>\n",
       "      <td>2,621.53</td>\n",
       "    </tr>\n",
       "    <tr>\n",
       "      <th>9</th>\n",
       "      <td>2022-03-14</td>\n",
       "      <td>2,645.65</td>\n",
       "    </tr>\n",
       "    <tr>\n",
       "      <th>10</th>\n",
       "      <td>2022-03-11</td>\n",
       "      <td>2,661.28</td>\n",
       "    </tr>\n",
       "    <tr>\n",
       "      <th>11</th>\n",
       "      <td>2022-03-10</td>\n",
       "      <td>2,680.32</td>\n",
       "    </tr>\n",
       "    <tr>\n",
       "      <th>12</th>\n",
       "      <td>2022-03-08</td>\n",
       "      <td>2,622.40</td>\n",
       "    </tr>\n",
       "    <tr>\n",
       "      <th>13</th>\n",
       "      <td>2022-03-07</td>\n",
       "      <td>2,651.31</td>\n",
       "    </tr>\n",
       "    <tr>\n",
       "      <th>14</th>\n",
       "      <td>2022-03-04</td>\n",
       "      <td>2,713.43</td>\n",
       "    </tr>\n",
       "    <tr>\n",
       "      <th>15</th>\n",
       "      <td>2022-03-03</td>\n",
       "      <td>2,747.08</td>\n",
       "    </tr>\n",
       "    <tr>\n",
       "      <th>16</th>\n",
       "      <td>2022-03-02</td>\n",
       "      <td>2,703.52</td>\n",
       "    </tr>\n",
       "    <tr>\n",
       "      <th>17</th>\n",
       "      <td>2022-02-28</td>\n",
       "      <td>2,699.18</td>\n",
       "    </tr>\n",
       "    <tr>\n",
       "      <th>18</th>\n",
       "      <td>2022-02-25</td>\n",
       "      <td>2,676.76</td>\n",
       "    </tr>\n",
       "    <tr>\n",
       "      <th>19</th>\n",
       "      <td>2022-02-24</td>\n",
       "      <td>2,648.80</td>\n",
       "    </tr>\n",
       "    <tr>\n",
       "      <th>20</th>\n",
       "      <td>2022-02-23</td>\n",
       "      <td>2,719.53</td>\n",
       "    </tr>\n",
       "    <tr>\n",
       "      <th>21</th>\n",
       "      <td>2022-02-22</td>\n",
       "      <td>2,706.79</td>\n",
       "    </tr>\n",
       "    <tr>\n",
       "      <th>22</th>\n",
       "      <td>2022-02-21</td>\n",
       "      <td>2,743.80</td>\n",
       "    </tr>\n",
       "    <tr>\n",
       "      <th>23</th>\n",
       "      <td>2022-02-18</td>\n",
       "      <td>2,744.52</td>\n",
       "    </tr>\n",
       "    <tr>\n",
       "      <th>24</th>\n",
       "      <td>2022-02-17</td>\n",
       "      <td>2,744.09</td>\n",
       "    </tr>\n",
       "    <tr>\n",
       "      <th>25</th>\n",
       "      <td>2022-02-16</td>\n",
       "      <td>2,729.68</td>\n",
       "    </tr>\n",
       "    <tr>\n",
       "      <th>26</th>\n",
       "      <td>2022-02-15</td>\n",
       "      <td>2,676.54</td>\n",
       "    </tr>\n",
       "    <tr>\n",
       "      <th>27</th>\n",
       "      <td>2022-02-14</td>\n",
       "      <td>2,704.48</td>\n",
       "    </tr>\n",
       "    <tr>\n",
       "      <th>28</th>\n",
       "      <td>2022-02-11</td>\n",
       "      <td>2,747.71</td>\n",
       "    </tr>\n",
       "    <tr>\n",
       "      <th>29</th>\n",
       "      <td>2022-02-10</td>\n",
       "      <td>2,771.93</td>\n",
       "    </tr>\n",
       "  </tbody>\n",
       "</table>\n",
       "</div>"
      ],
      "text/plain": [
       "   localTradedAt closePrice\n",
       "0     2022-03-25   2,729.98\n",
       "1     2022-03-24   2,729.66\n",
       "2     2022-03-23   2,735.05\n",
       "3     2022-03-22   2,710.00\n",
       "4     2022-03-21   2,686.05\n",
       "5     2022-03-18   2,707.02\n",
       "6     2022-03-17   2,694.51\n",
       "7     2022-03-16   2,659.23\n",
       "8     2022-03-15   2,621.53\n",
       "9     2022-03-14   2,645.65\n",
       "10    2022-03-11   2,661.28\n",
       "11    2022-03-10   2,680.32\n",
       "12    2022-03-08   2,622.40\n",
       "13    2022-03-07   2,651.31\n",
       "14    2022-03-04   2,713.43\n",
       "15    2022-03-03   2,747.08\n",
       "16    2022-03-02   2,703.52\n",
       "17    2022-02-28   2,699.18\n",
       "18    2022-02-25   2,676.76\n",
       "19    2022-02-24   2,648.80\n",
       "20    2022-02-23   2,719.53\n",
       "21    2022-02-22   2,706.79\n",
       "22    2022-02-21   2,743.80\n",
       "23    2022-02-18   2,744.52\n",
       "24    2022-02-17   2,744.09\n",
       "25    2022-02-16   2,729.68\n",
       "26    2022-02-15   2,676.54\n",
       "27    2022-02-14   2,704.48\n",
       "28    2022-02-11   2,747.71\n",
       "29    2022-02-10   2,771.93"
      ]
     },
     "execution_count": 21,
     "metadata": {},
     "output_type": "execute_result"
    }
   ],
   "source": [
    "stock_price(30, 4)"
   ]
  },
  {
   "cell_type": "code",
   "execution_count": null,
   "id": "447fafc9-3d62-4b62-83fd-0b5e5124bd68",
   "metadata": {},
   "outputs": [],
   "source": []
  }
 ],
 "metadata": {
  "kernelspec": {
   "display_name": "Python 3",
   "language": "python",
   "name": "python3"
  },
  "language_info": {
   "codemirror_mode": {
    "name": "ipython",
    "version": 3
   },
   "file_extension": ".py",
   "mimetype": "text/x-python",
   "name": "python",
   "nbconvert_exporter": "python",
   "pygments_lexer": "ipython3",
   "version": "3.8.8"
  }
 },
 "nbformat": 4,
 "nbformat_minor": 5
}
