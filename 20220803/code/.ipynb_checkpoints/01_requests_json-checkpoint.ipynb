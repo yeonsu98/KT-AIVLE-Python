{
 "cells": [
  {
   "cell_type": "markdown",
   "id": "26beb033-806c-4021-bca0-6207f3e836c1",
   "metadata": {},
   "source": [
    "### WebCrawing\n",
    "- 웹페이지의 종류\n",
    "    - 정적페이지 : 페이지의 데이터가 변경될 때 URL이 변경 : Html\n",
    "    - 동적페이지 : 페이지의 데이터가 변경될 때 URL이 변경 X : Json\n",
    "- requests package\n",
    "    - 브라우져의 URL을 입력하면 서버에서 데이터를 다운받아 화면에 출력 : URL입력 > Data 가져옴\n",
    "    - requests 패키지 : URL > Data\n",
    "    "
   ]
  },
  {
   "cell_type": "markdown",
   "id": "1c94567c-1fe0-4312-8efb-beda56af5046",
   "metadata": {},
   "source": [
    "### Naver Stock Data\n",
    "- Kospi 주가 지수\n",
    "- Kosdaq 주가 지수\n",
    "- USD : 원달러 환율 \n"
   ]
  },
  {
   "cell_type": "code",
   "execution_count": 1,
   "id": "9e952a57-836e-4315-8c5d-7217dc188bbf",
   "metadata": {},
   "outputs": [],
   "source": [
    "# 필요한 패키지 import\n",
    "import requests\n",
    "import pandas as pd"
   ]
  },
  {
   "cell_type": "code",
   "execution_count": null,
   "id": "16cfd2ee-e8a9-47b0-84f6-dc0e7b41c5cb",
   "metadata": {},
   "outputs": [],
   "source": [
    "# 1. ** 웹서비스를 분석 ** : 크롬 개발자도구 사용(트래픽 확인) > URL 얻음"
   ]
  },
  {
   "cell_type": "code",
   "execution_count": null,
   "id": "0025302d-ecef-4558-be10-dd46e5742b3b",
   "metadata": {},
   "outputs": [],
   "source": [
    "# 2. requests > response : JSON(str)"
   ]
  },
  {
   "cell_type": "code",
   "execution_count": null,
   "id": "37eee047-2647-4d67-aacc-a243428a0689",
   "metadata": {},
   "outputs": [],
   "source": [
    "# 3. JSON(str) > list, dict > DataFrame 출력"
   ]
  },
  {
   "cell_type": "code",
   "execution_count": null,
   "id": "b37dcacc-5dca-4241-bc18-d5dfd569aced",
   "metadata": {},
   "outputs": [],
   "source": []
  },
  {
   "cell_type": "code",
   "execution_count": null,
   "id": "74cf3646-ea4d-407e-b552-5e669b16d234",
   "metadata": {},
   "outputs": [],
   "source": []
  },
  {
   "cell_type": "code",
   "execution_count": null,
   "id": "f6f7a2e5-0366-49a8-8276-0ea54d4cd7d9",
   "metadata": {},
   "outputs": [],
   "source": []
  },
  {
   "cell_type": "code",
   "execution_count": null,
   "id": "a71ee406-7469-4386-9d34-a841d426ca83",
   "metadata": {},
   "outputs": [],
   "source": []
  }
 ],
 "metadata": {
  "kernelspec": {
   "display_name": "Python 3",
   "language": "python",
   "name": "python3"
  },
  "language_info": {
   "codemirror_mode": {
    "name": "ipython",
    "version": 3
   },
   "file_extension": ".py",
   "mimetype": "text/x-python",
   "name": "python",
   "nbconvert_exporter": "python",
   "pygments_lexer": "ipython3",
   "version": "3.8.8"
  }
 },
 "nbformat": 4,
 "nbformat_minor": 5
}
