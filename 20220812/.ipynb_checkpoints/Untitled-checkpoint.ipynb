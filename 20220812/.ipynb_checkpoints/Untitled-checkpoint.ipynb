{
 "cells": [
  {
   "cell_type": "code",
   "execution_count": 39,
   "id": "c4df188c-5547-4a41-b46b-eea839ba588a",
   "metadata": {},
   "outputs": [
    {
     "name": "stdin",
     "output_type": "stream",
     "text": [
      " 6 3\n",
      " 5 10\n"
     ]
    },
    {
     "name": "stdout",
     "output_type": "stream",
     "text": [
      "NO\n"
     ]
    }
   ],
   "source": [
    "# 3270\n",
    "t, b = map(int, input().split())\n",
    "tn, bn = map(int, input().split())\n",
    "\n",
    "if (bn-b) < 0:\n",
    "    total = (tn-t) + (bn-b)\n",
    "else: total = tn-t\n",
    "    \n",
    "if total >= 0:\n",
    "    print('YES')\n",
    "else: print('NO')"
   ]
  },
  {
   "cell_type": "code",
   "execution_count": 40,
   "id": "e5f47d54-ddd7-4f1d-bf96-63734dffd4e2",
   "metadata": {},
   "outputs": [],
   "source": [
    "import numpy as np\n"
   ]
  },
  {
   "cell_type": "code",
   "execution_count": 41,
   "id": "d969f439-0f42-48fc-a191-c4570a82db99",
   "metadata": {},
   "outputs": [
    {
     "ename": "AxisError",
     "evalue": "axis 3000 is out of bounds for array of dimension 0",
     "output_type": "error",
     "traceback": [
      "\u001b[1;31m---------------------------------------------------------------------------\u001b[0m",
      "\u001b[1;31mAxisError\u001b[0m                                 Traceback (most recent call last)",
      "\u001b[1;32m<ipython-input-41-10f1eed494bd>\u001b[0m in \u001b[0;36m<module>\u001b[1;34m\u001b[0m\n\u001b[1;32m----> 1\u001b[1;33m \u001b[0mnp\u001b[0m\u001b[1;33m.\u001b[0m\u001b[0mmean\u001b[0m\u001b[1;33m(\u001b[0m\u001b[1;36m1000\u001b[0m\u001b[1;33m,\u001b[0m \u001b[1;36m3000\u001b[0m\u001b[1;33m)\u001b[0m\u001b[1;33m\u001b[0m\u001b[1;33m\u001b[0m\u001b[0m\n\u001b[0m",
      "\u001b[1;32m<__array_function__ internals>\u001b[0m in \u001b[0;36mmean\u001b[1;34m(*args, **kwargs)\u001b[0m\n",
      "\u001b[1;32m~\\anaconda3\\lib\\site-packages\\numpy\\core\\fromnumeric.py\u001b[0m in \u001b[0;36mmean\u001b[1;34m(a, axis, dtype, out, keepdims, where)\u001b[0m\n\u001b[0;32m   3417\u001b[0m             \u001b[1;32mreturn\u001b[0m \u001b[0mmean\u001b[0m\u001b[1;33m(\u001b[0m\u001b[0maxis\u001b[0m\u001b[1;33m=\u001b[0m\u001b[0maxis\u001b[0m\u001b[1;33m,\u001b[0m \u001b[0mdtype\u001b[0m\u001b[1;33m=\u001b[0m\u001b[0mdtype\u001b[0m\u001b[1;33m,\u001b[0m \u001b[0mout\u001b[0m\u001b[1;33m=\u001b[0m\u001b[0mout\u001b[0m\u001b[1;33m,\u001b[0m \u001b[1;33m**\u001b[0m\u001b[0mkwargs\u001b[0m\u001b[1;33m)\u001b[0m\u001b[1;33m\u001b[0m\u001b[1;33m\u001b[0m\u001b[0m\n\u001b[0;32m   3418\u001b[0m \u001b[1;33m\u001b[0m\u001b[0m\n\u001b[1;32m-> 3419\u001b[1;33m     return _methods._mean(a, axis=axis, dtype=dtype,\n\u001b[0m\u001b[0;32m   3420\u001b[0m                           out=out, **kwargs)\n\u001b[0;32m   3421\u001b[0m \u001b[1;33m\u001b[0m\u001b[0m\n",
      "\u001b[1;32m~\\anaconda3\\lib\\site-packages\\numpy\\core\\_methods.py\u001b[0m in \u001b[0;36m_mean\u001b[1;34m(a, axis, dtype, out, keepdims, where)\u001b[0m\n\u001b[0;32m    164\u001b[0m     \u001b[0mis_float16_result\u001b[0m \u001b[1;33m=\u001b[0m \u001b[1;32mFalse\u001b[0m\u001b[1;33m\u001b[0m\u001b[1;33m\u001b[0m\u001b[0m\n\u001b[0;32m    165\u001b[0m \u001b[1;33m\u001b[0m\u001b[0m\n\u001b[1;32m--> 166\u001b[1;33m     \u001b[0mrcount\u001b[0m \u001b[1;33m=\u001b[0m \u001b[0m_count_reduce_items\u001b[0m\u001b[1;33m(\u001b[0m\u001b[0marr\u001b[0m\u001b[1;33m,\u001b[0m \u001b[0maxis\u001b[0m\u001b[1;33m,\u001b[0m \u001b[0mkeepdims\u001b[0m\u001b[1;33m=\u001b[0m\u001b[0mkeepdims\u001b[0m\u001b[1;33m,\u001b[0m \u001b[0mwhere\u001b[0m\u001b[1;33m=\u001b[0m\u001b[0mwhere\u001b[0m\u001b[1;33m)\u001b[0m\u001b[1;33m\u001b[0m\u001b[1;33m\u001b[0m\u001b[0m\n\u001b[0m\u001b[0;32m    167\u001b[0m     \u001b[1;32mif\u001b[0m \u001b[0mrcount\u001b[0m \u001b[1;33m==\u001b[0m \u001b[1;36m0\u001b[0m \u001b[1;32mif\u001b[0m \u001b[0mwhere\u001b[0m \u001b[1;32mis\u001b[0m \u001b[1;32mTrue\u001b[0m \u001b[1;32melse\u001b[0m \u001b[0mumr_any\u001b[0m\u001b[1;33m(\u001b[0m\u001b[0mrcount\u001b[0m \u001b[1;33m==\u001b[0m \u001b[1;36m0\u001b[0m\u001b[1;33m)\u001b[0m\u001b[1;33m:\u001b[0m\u001b[1;33m\u001b[0m\u001b[1;33m\u001b[0m\u001b[0m\n\u001b[0;32m    168\u001b[0m         \u001b[0mwarnings\u001b[0m\u001b[1;33m.\u001b[0m\u001b[0mwarn\u001b[0m\u001b[1;33m(\u001b[0m\u001b[1;34m\"Mean of empty slice.\"\u001b[0m\u001b[1;33m,\u001b[0m \u001b[0mRuntimeWarning\u001b[0m\u001b[1;33m,\u001b[0m \u001b[0mstacklevel\u001b[0m\u001b[1;33m=\u001b[0m\u001b[1;36m2\u001b[0m\u001b[1;33m)\u001b[0m\u001b[1;33m\u001b[0m\u001b[1;33m\u001b[0m\u001b[0m\n",
      "\u001b[1;32m~\\anaconda3\\lib\\site-packages\\numpy\\core\\_methods.py\u001b[0m in \u001b[0;36m_count_reduce_items\u001b[1;34m(arr, axis, keepdims, where)\u001b[0m\n\u001b[0;32m     73\u001b[0m         \u001b[0mitems\u001b[0m \u001b[1;33m=\u001b[0m \u001b[0mnt\u001b[0m\u001b[1;33m.\u001b[0m\u001b[0mintp\u001b[0m\u001b[1;33m(\u001b[0m\u001b[1;36m1\u001b[0m\u001b[1;33m)\u001b[0m\u001b[1;33m\u001b[0m\u001b[1;33m\u001b[0m\u001b[0m\n\u001b[0;32m     74\u001b[0m         \u001b[1;32mfor\u001b[0m \u001b[0max\u001b[0m \u001b[1;32min\u001b[0m \u001b[0maxis\u001b[0m\u001b[1;33m:\u001b[0m\u001b[1;33m\u001b[0m\u001b[1;33m\u001b[0m\u001b[0m\n\u001b[1;32m---> 75\u001b[1;33m             \u001b[0mitems\u001b[0m \u001b[1;33m*=\u001b[0m \u001b[0marr\u001b[0m\u001b[1;33m.\u001b[0m\u001b[0mshape\u001b[0m\u001b[1;33m[\u001b[0m\u001b[0mmu\u001b[0m\u001b[1;33m.\u001b[0m\u001b[0mnormalize_axis_index\u001b[0m\u001b[1;33m(\u001b[0m\u001b[0max\u001b[0m\u001b[1;33m,\u001b[0m \u001b[0marr\u001b[0m\u001b[1;33m.\u001b[0m\u001b[0mndim\u001b[0m\u001b[1;33m)\u001b[0m\u001b[1;33m]\u001b[0m\u001b[1;33m\u001b[0m\u001b[1;33m\u001b[0m\u001b[0m\n\u001b[0m\u001b[0;32m     76\u001b[0m     \u001b[1;32melse\u001b[0m\u001b[1;33m:\u001b[0m\u001b[1;33m\u001b[0m\u001b[1;33m\u001b[0m\u001b[0m\n\u001b[0;32m     77\u001b[0m         \u001b[1;31m# TODO: Optimize case when `where` is broadcast along a non-reduction\u001b[0m\u001b[1;33m\u001b[0m\u001b[1;33m\u001b[0m\u001b[1;33m\u001b[0m\u001b[0m\n",
      "\u001b[1;31mAxisError\u001b[0m: axis 3000 is out of bounds for array of dimension 0"
     ]
    }
   ],
   "source": [
    "np.mean(1000, 3000)"
   ]
  },
  {
   "cell_type": "code",
   "execution_count": 44,
   "id": "27a37b7e-b25c-4d16-ae82-bc1c3fdf548a",
   "metadata": {},
   "outputs": [
    {
     "name": "stdout",
     "output_type": "stream",
     "text": [
      "314.0 307.72 NO\n"
     ]
    }
   ],
   "source": [
    "a, b, c = 10, 7, 2\n",
    "pi = 3.14\n",
    "if (a**2)*pi <= (b**2)*c*pi:\n",
    "    print((a**2)*pi, (b**2)*c*pi, 'YES')\n",
    "else: print((a**2)*pi, (b**2)*c*pi,'NO')"
   ]
  },
  {
   "cell_type": "code",
   "execution_count": 5,
   "id": "494b339f-6cf2-469b-8ecb-d50013dfeaf1",
   "metadata": {},
   "outputs": [
    {
     "name": "stdout",
     "output_type": "stream",
     "text": [
      "?id=\"&pw=%231%20ro\n",
      "?id=\\\\\"&pw=%231%20ro\n"
     ]
    }
   ],
   "source": [
    "s = input()\n",
    "s1 = s.replace('\\\"', '\\\\\"')\n",
    "s2 = s1.replace(\"\\'\", \"\\\\'\")\n",
    "s3 = s2.replace('\\\\', \"\\\\\"*2)\n",
    "print(s3)"
   ]
  },
  {
   "cell_type": "code",
   "execution_count": null,
   "id": "313de5ee",
   "metadata": {},
   "outputs": [],
   "source": [
    "s = input()\n",
    "s1 = s.replace('\\\"', '\\\\\\\"')\n",
    "s2 = s1.replace(\"\\'\", \"\\\\\\'\")\n",
    "s3 = s2.replace('\\\\', '\\\\\\\\')\n",
    "print(s3)\n"
   ]
  },
  {
   "cell_type": "code",
   "execution_count": 7,
   "id": "8caa794c",
   "metadata": {},
   "outputs": [
    {
     "name": "stdout",
     "output_type": "stream",
     "text": [
      "3\n",
      "1 3\n"
     ]
    },
    {
     "ename": "TypeError",
     "evalue": "cannot unpack non-iterable NoneType object",
     "output_type": "error",
     "traceback": [
      "\u001b[1;31m---------------------------------------------------------------------------\u001b[0m",
      "\u001b[1;31mTypeError\u001b[0m                                 Traceback (most recent call last)",
      "\u001b[1;32m<ipython-input-7-094e043a5dce>\u001b[0m in \u001b[0;36m<module>\u001b[1;34m\u001b[0m\n\u001b[0;32m     20\u001b[0m \u001b[1;32mfor\u001b[0m \u001b[0mi\u001b[0m \u001b[1;32min\u001b[0m \u001b[0mrange\u001b[0m\u001b[1;33m(\u001b[0m\u001b[0mnum\u001b[0m\u001b[1;33m)\u001b[0m\u001b[1;33m:\u001b[0m\u001b[1;33m\u001b[0m\u001b[1;33m\u001b[0m\u001b[0m\n\u001b[0;32m     21\u001b[0m     \u001b[0ma\u001b[0m\u001b[1;33m,\u001b[0m \u001b[0mb\u001b[0m \u001b[1;33m=\u001b[0m \u001b[0mmap\u001b[0m\u001b[1;33m(\u001b[0m\u001b[0mint\u001b[0m\u001b[1;33m,\u001b[0m \u001b[0minput\u001b[0m\u001b[1;33m(\u001b[0m\u001b[1;33m)\u001b[0m\u001b[1;33m.\u001b[0m\u001b[0msplit\u001b[0m\u001b[1;33m(\u001b[0m\u001b[1;33m)\u001b[0m\u001b[1;33m)\u001b[0m\u001b[1;33m\u001b[0m\u001b[1;33m\u001b[0m\u001b[0m\n\u001b[1;32m---> 22\u001b[1;33m     \u001b[0mp1\u001b[0m\u001b[1;33m,\u001b[0m \u001b[0mp2\u001b[0m \u001b[1;33m=\u001b[0m \u001b[0mrcp\u001b[0m\u001b[1;33m(\u001b[0m\u001b[0ma\u001b[0m\u001b[1;33m,\u001b[0m \u001b[0mb\u001b[0m\u001b[1;33m)\u001b[0m\u001b[1;33m\u001b[0m\u001b[1;33m\u001b[0m\u001b[0m\n\u001b[0m\u001b[0;32m     23\u001b[0m     \u001b[0mprint\u001b[0m\u001b[1;33m(\u001b[0m\u001b[0mp1\u001b[0m\u001b[1;33m,\u001b[0m \u001b[0mp2\u001b[0m\u001b[1;33m)\u001b[0m\u001b[1;33m\u001b[0m\u001b[1;33m\u001b[0m\u001b[0m\n\u001b[0;32m     24\u001b[0m \u001b[1;33m\u001b[0m\u001b[0m\n",
      "\u001b[1;31mTypeError\u001b[0m: cannot unpack non-iterable NoneType object"
     ]
    }
   ],
   "source": [
    "def rcp(a, b):\n",
    "    if a == b:\n",
    "        return 0, 0\n",
    "    elif a == 1 & b == 2:\n",
    "        return 0, 1\n",
    "    elif a == 1 & b == 3:\n",
    "        return 1, 0\n",
    "    elif a == 2 & b == 1:\n",
    "        return 1, 0\n",
    "    elif a == 2 & b == 3:\n",
    "        return 0, 1\n",
    "    elif a == 3 & b == 1:\n",
    "        return 0, 1\n",
    "    elif a == 3 & b == 2:\n",
    "        return 1, 0\n",
    "    \n",
    "num = int(input())\n",
    "p1, p2, tot1, tot2 = 0, 0, 0, 0\n",
    " \n",
    "for i in range(num):\n",
    "    a, b = map(int, input().split())\n",
    "    p1, p2 = rcp(a, b)\n",
    "    print(p1, p2)\n",
    "\n",
    "print(str(tot1) + ' ' + str(tot2))"
   ]
  },
  {
   "cell_type": "code",
   "execution_count": 23,
   "id": "a441aa84",
   "metadata": {},
   "outputs": [
    {
     "name": "stdout",
     "output_type": "stream",
     "text": [
      "3\n",
      "1 3\n",
      "1 0\n",
      "2 2\n",
      "0 0\n",
      "2 1\n",
      "1 0\n",
      "2 0\n"
     ]
    }
   ],
   "source": [
    "num = int(input())\n",
    "tot1, tot2 = 0, 0\n",
    " \n",
    "for i in range(num):\n",
    "    a, b = map(int, input().split())\n",
    "    i1, i2 = 0, 0\n",
    "    if a == b:\n",
    "        i1, i2 = 0, 0\n",
    "    elif ((a == 1) & (b == 2)) | ((a == 2) & (b == 3)) | ((a == 3) & (b == 1)):\n",
    "        i1, i2 = 0, 1\n",
    "    elif ((a == 1) & (b == 3)) | ((a == 2) & (b == 1)) | ((a == 3) & (b == 2)):\n",
    "        i1, i2 = 1, 0\n",
    "    print(i1, i2)\n",
    "    tot1 += i1\n",
    "    tot2 += i2\n",
    "\n",
    "print(str(tot1) + ' ' + str(tot2))"
   ]
  },
  {
   "cell_type": "code",
   "execution_count": 29,
   "id": "1cbf500f",
   "metadata": {},
   "outputs": [
    {
     "name": "stdout",
     "output_type": "stream",
     "text": [
      "[[2, 4]]\n"
     ]
    }
   ],
   "source": [
    "a = [[1, 2],[2, 4]]\n",
    "print(a[1])"
   ]
  },
  {
   "cell_type": "code",
   "execution_count": 31,
   "id": "9e10948d",
   "metadata": {},
   "outputs": [
    {
     "name": "stdout",
     "output_type": "stream",
     "text": [
      "[0, 0]\n"
     ]
    }
   ],
   "source": [
    "a = [0]*2\n",
    "print(a)"
   ]
  },
  {
   "cell_type": "code",
   "execution_count": null,
   "id": "870dd856",
   "metadata": {},
   "outputs": [],
   "source": [
    "a = input().split()"
   ]
  },
  {
   "cell_type": "code",
   "execution_count": null,
   "id": "e1cd88d2-f7a3-497b-bda2-c6146629f157",
   "metadata": {},
   "outputs": [],
   "source": []
  },
  {
   "cell_type": "code",
   "execution_count": null,
   "id": "c7acd663-c608-4c8f-8278-3ff917c7ded2",
   "metadata": {},
   "outputs": [],
   "source": [
    "num = int(input())\n",
    "mint, maxt = map(int, input().split())\n",
    "for _ in range(num-1):\n",
    "    lt, rt = map(int, input().split())\n",
    "    if mint < lt : mint = lt\n",
    "    elif maxt > rt: maxt = rt\n",
    "print(mint if mint <= maxt else maxt)"
   ]
  },
  {
   "cell_type": "code",
   "execution_count": null,
   "id": "28e4172a",
   "metadata": {},
   "outputs": [],
   "source": [
    "from datetime import datetime\n",
    "time = datetime.strptime(input(), '%H:%M:%S')\n",
    "s = int(input())\n",
    "n = int(input())\n",
    "import datetime\n",
    "print(str(time + datetime.timedelta(seconds=s*(n-1))).split(' ')[1])\n"
   ]
  },
  {
   "cell_type": "code",
   "execution_count": 3,
   "id": "a417558a",
   "metadata": {},
   "outputs": [
    {
     "data": {
      "text/plain": [
       "{'0000': '12:00'}"
      ]
     },
     "execution_count": 3,
     "metadata": {},
     "output_type": "execute_result"
    }
   ],
   "source": [
    "dic = {}\n",
    "dic['0000'] = '12:00'\n",
    "dic"
   ]
  },
  {
   "cell_type": "code",
   "execution_count": 6,
   "id": "08207776",
   "metadata": {},
   "outputs": [
    {
     "name": "stdout",
     "output_type": "stream",
     "text": [
      "1000\n",
      "1\n",
      "0000 12:00:00\n",
      "0000 12:30:00\n",
      "0000 8:20:00\n"
     ]
    }
   ],
   "source": [
    "meter = int(input())\n",
    "num = int(input())\n",
    "dic = {}\n",
    "from datetime import datetime\n",
    "for n in range(num):\n",
    "    car, time = map(str, input().split())\n",
    "    dic[car] = datetime.strptime(time, '%H:%M:%S')\n",
    "for n in range(num):\n",
    "    car, time = map(str, input().split())\n",
    "    ans = meter*((datetime.strptime(time, '%H:%M:%S') - dic[car]))/60    \n",
    "    print(car, ans)"
   ]
  },
  {
   "cell_type": "code",
   "execution_count": 8,
   "id": "e76f36be",
   "metadata": {},
   "outputs": [
    {
     "name": "stdout",
     "output_type": "stream",
     "text": [
      "1000\n",
      "1\n",
      "0000 12:00:05\n",
      "0000 12:30:05\n",
      "0000 30000.0\n"
     ]
    }
   ],
   "source": [
    "meter = int(input())\n",
    "num = int(input())\n",
    "dic = {}\n",
    "from datetime import datetime\n",
    "for n in range(num):\n",
    "    car, time = map(str, input().split())\n",
    "    dic[car] = datetime.strptime(time, '%H:%M:%S')\n",
    "for n in range(num):\n",
    "    car, time = map(str, input().split())\n",
    "    ans = meter*((datetime.strptime(time, '%H:%M:%S') - dic[car]).seconds/60)  \n",
    "    print(car, int(ans))"
   ]
  },
  {
   "cell_type": "code",
   "execution_count": null,
   "id": "36837884",
   "metadata": {},
   "outputs": [],
   "source": [
    "meter = int(input())\n",
    "num = int(input())\n",
    "dic = {}\n",
    "from datetime import datetime\n",
    "for n in range(num):\n",
    "    car, time = map(str, input().split())\n",
    "    dic[car] = datetime.strptime(time, '%H:%M:%S')\n",
    "for n in range(num):\n",
    "    car, time = map(str, input().split())\n",
    "    ans = meter/((datetime.strptime(time, '%H:%M:%S') - dic[car]).seconds/3600)\n",
    "    dic[car] = int(ans)\n",
    "for i in sorted(dic.items()):\n",
    "    print(i[0], i[1])"
   ]
  },
  {
   "cell_type": "code",
   "execution_count": 17,
   "id": "90966419",
   "metadata": {},
   "outputs": [
    {
     "ename": "TypeError",
     "evalue": "must assign iterable to extended slice",
     "output_type": "error",
     "traceback": [
      "\u001b[1;31m---------------------------------------------------------------------------\u001b[0m",
      "\u001b[1;31mTypeError\u001b[0m                                 Traceback (most recent call last)",
      "\u001b[1;32m<ipython-input-17-607f3d9f7e9f>\u001b[0m in \u001b[0;36m<module>\u001b[1;34m\u001b[0m\n\u001b[0;32m      1\u001b[0m \u001b[0ma\u001b[0m \u001b[1;33m=\u001b[0m \u001b[1;33m[\u001b[0m\u001b[1;36m1\u001b[0m\u001b[1;33m,\u001b[0m \u001b[1;36m2\u001b[0m\u001b[1;33m,\u001b[0m \u001b[1;36m3\u001b[0m\u001b[1;33m,\u001b[0m \u001b[1;36m4\u001b[0m\u001b[1;33m]\u001b[0m\u001b[1;33m\u001b[0m\u001b[1;33m\u001b[0m\u001b[0m\n\u001b[1;32m----> 2\u001b[1;33m \u001b[0ma\u001b[0m\u001b[1;33m[\u001b[0m\u001b[1;36m0\u001b[0m\u001b[1;33m:\u001b[0m\u001b[1;33m:\u001b[0m\u001b[1;36m2\u001b[0m\u001b[1;33m]\u001b[0m \u001b[1;33m=\u001b[0m \u001b[1;36m0\u001b[0m\u001b[1;33m\u001b[0m\u001b[1;33m\u001b[0m\u001b[0m\n\u001b[0m\u001b[0;32m      3\u001b[0m \u001b[0ma\u001b[0m\u001b[1;33m[\u001b[0m\u001b[1;36m0\u001b[0m\u001b[1;33m:\u001b[0m\u001b[1;33m:\u001b[0m\u001b[1;36m2\u001b[0m\u001b[1;33m]\u001b[0m\u001b[1;33m\u001b[0m\u001b[1;33m\u001b[0m\u001b[0m\n",
      "\u001b[1;31mTypeError\u001b[0m: must assign iterable to extended slice"
     ]
    }
   ],
   "source": [
    "a = [1, 2, 3, 4]\n",
    "a[0::2] = 0\n",
    "a[0::2]"
   ]
  },
  {
   "cell_type": "code",
   "execution_count": null,
   "id": "e53ec491",
   "metadata": {},
   "outputs": [],
   "source": [
    "num = int(input())\n",
    "arrwl = []\n",
    "a = [0, 0, 0, 0]\n",
    "for n in range(num):\n",
    "    wl = input()\n",
    "    arrwl.append(wl)\n",
    "maxw, maxl = 0, 0\n",
    "if arrwl[0] == 'WIN':\n",
    "    a[0] += 1\n",
    "    a[2] += 1\n",
    "    maxw = a[2]\n",
    "else: \n",
    "    a[1] += 1\n",
    "    a[3] += 1\n",
    "    a[0] = 0\n",
    "    maxl = a[3]\n",
    "print(\" \".join(str(i) for i in a))\n",
    "for i in range(1, num):\n",
    "    if arrwl[i] == 'WIN':\n",
    "        a[0] += 1\n",
    "        a[1] = 0\n",
    "        if arrwl[i-1] == 'WIN':\n",
    "            a[2] += 1\n",
    "            maxw = max(maxw, a[2])\n",
    "            a[2] = maxw\n",
    "        elif a[2] == 0: a[2] = 1\n",
    "    else: \n",
    "        a[1] += 1\n",
    "        a[0] = 0\n",
    "        if arrwl[i-1] != 'WIN':\n",
    "            a[3] += 1\n",
    "            maxl = max(maxl, a[3])\n",
    "            a[3] = maxl\n",
    "        elif a[3] == 0: a[3] = 1\n",
    "    print(\" \".join(str(i) for i in a))"
   ]
  },
  {
   "cell_type": "code",
   "execution_count": null,
   "id": "fedc8c3f",
   "metadata": {},
   "outputs": [],
   "source": [
    "num = int(input())\n",
    "arrwl = []\n",
    "a = [0, 0, 0, 0]\n",
    "for n in range(num):\n",
    "    wl = input()\n",
    "    arrwl.append(wl)\n",
    "if arrwl[0] == 'WIN': a[0], a[2] = 1, 1\n",
    "else: a[1], a[3] = 1, 1\n",
    "print(\" \".join(str(i) for i in a))\n",
    "\n",
    "for i in range(1, num):\n",
    "    if arrwl[i] == 'WIN':\n",
    "        a[0] += 1\n",
    "        a[1] = 0\n",
    "        a[2] = (a[2]+1) if a[0] == (a[2]+1) else max(a[0], a[2])\n",
    "    elif arrwl[i] == 'LOSE':\n",
    "        a[1] += 1\n",
    "        a[0] = 0\n",
    "        a[3] = (a[3]+1) if a[1] == (a[3]+1) else max(a[1], a[3])\n",
    "    print(\" \".join(str(i) for i in a))"
   ]
  },
  {
   "cell_type": "code",
   "execution_count": 21,
   "id": "c5f1f15d",
   "metadata": {},
   "outputs": [
    {
     "name": "stdout",
     "output_type": "stream",
     "text": [
      "4\n",
      "1 8 2 9\n",
      "2\n"
     ]
    }
   ],
   "source": [
    "l = int(input())\n",
    "arr = list(map(int, input().split()))\n",
    "arrs = sorted(arr)\n",
    "idx = 0\n",
    "for i in range(l):\n",
    "    if arr[i] != arrs[i]:\n",
    "        idx += 1\n",
    "print(idx)"
   ]
  },
  {
   "cell_type": "code",
   "execution_count": 11,
   "id": "542f9abe",
   "metadata": {},
   "outputs": [
    {
     "name": "stdout",
     "output_type": "stream",
     "text": [
      "\\\"\n",
      "\\'\n",
      "\\\\\n"
     ]
    }
   ],
   "source": [
    "print('\\\\\"')\n",
    "print(\"\\\\'\")\n",
    "print('\\\\\\\\')"
   ]
  },
  {
   "cell_type": "code",
   "execution_count": 15,
   "id": "daa4060e",
   "metadata": {},
   "outputs": [],
   "source": [
    "a = ['sts.' , 'see']\n",
    "b = ['dd', 'dd']"
   ]
  },
  {
   "cell_type": "code",
   "execution_count": 27,
   "id": "82b509eb",
   "metadata": {},
   "outputs": [
    {
     "name": "stdout",
     "output_type": "stream",
     "text": [
      "s\n",
      "t\n",
      "s\n",
      ".\n"
     ]
    }
   ],
   "source": [
    "for i in range(len(a[0])): \n",
    "    print(a[0][i])"
   ]
  },
  {
   "cell_type": "code",
   "execution_count": 24,
   "id": "b6624a29",
   "metadata": {},
   "outputs": [
    {
     "data": {
      "text/plain": [
       "'t'"
      ]
     },
     "execution_count": 24,
     "metadata": {},
     "output_type": "execute_result"
    }
   ],
   "source": [
    "a[0][True]"
   ]
  },
  {
   "cell_type": "code",
   "execution_count": 46,
   "id": "4fc8647f",
   "metadata": {},
   "outputs": [
    {
     "name": "stdout",
     "output_type": "stream",
     "text": [
      "2 2\n",
      "ac\n",
      "as\n",
      "1 1\n",
      "k\n",
      "['a', 's'] ['k']\n",
      "ac\n",
      "ak\n"
     ]
    }
   ],
   "source": [
    "r1, r2 = map(int, input().split())\n",
    "arr1 = []\n",
    "arr2 = []\n",
    "for r in range(r1):\n",
    "    a = input()\n",
    "    arr1.append(a)\n",
    "v1, v2 = map(int, input().split())\n",
    "for v in range(v1):\n",
    "    a = input()\n",
    "    arr2.append(a)\n",
    "    \n",
    "for i in range(r1-v1, v1+1):\n",
    "    temp1 = list(arr1[i])\n",
    "    temp2 = list(arr2[i-1])\n",
    "    for j in range(r2-v2, v2+1):\n",
    "        if temp2[j-1] == '.':\n",
    "            temp1[j] == temp1[j]\n",
    "        else: temp1[j] = temp2[j-1]\n",
    "    arr1[i] = ''.join(temp1)\n",
    "    \n",
    "for a in arr1:\n",
    "    print(a)"
   ]
  },
  {
   "cell_type": "code",
   "execution_count": 42,
   "id": "e08d58a7",
   "metadata": {},
   "outputs": [
    {
     "name": "stdout",
     "output_type": "stream",
     "text": [
      "1\n"
     ]
    }
   ],
   "source": [
    "for i in range(1, 2): print('1')"
   ]
  },
  {
   "cell_type": "code",
   "execution_count": null,
   "id": "dde6bfde",
   "metadata": {},
   "outputs": [],
   "source": [
    "a = list(map(int, input().split()))\n",
    "ans = ['R' if a[0]=='3' else 'L']\n",
    "b = ans[0]\n",
    "for i in range(1, len(a)):\n",
    "    if a[i] == 1: \n",
    "        ans.append('L')\n",
    "        b = 'L'\n",
    "    elif a[i] == 3: \n",
    "        ans.append('R')\n",
    "        b = 'R'\n",
    "    elif a[i] == 2:\n",
    "        ans.append('R' if b=='L' else 'L')\n",
    "        b = ans[i]\n",
    "print(' '.join(ans))"
   ]
  },
  {
   "cell_type": "code",
   "execution_count": 49,
   "id": "bb875f90",
   "metadata": {},
   "outputs": [
    {
     "name": "stdout",
     "output_type": "stream",
     "text": [
      "abcabc\n",
      "abcabcabcabc\n",
      "abc\n"
     ]
    }
   ],
   "source": [
    "s = input()\n",
    "i = (s+s).find(s, 1, -1)\n",
    "print(s if i == -1 else s[:i])"
   ]
  },
  {
   "cell_type": "code",
   "execution_count": 14,
   "id": "54ba2ad5",
   "metadata": {},
   "outputs": [
    {
     "name": "stdout",
     "output_type": "stream",
     "text": [
      "4\n",
      "1 4 2 4\n",
      "1 4\n",
      "1 2\n",
      "2 4\n",
      "[4, 4]\n"
     ]
    }
   ],
   "source": [
    "n = int(input())\n",
    "arr = list(map(int, input().split()))\n",
    "for i in range(0, n-2):\n",
    "    cnt = 0\n",
    "    for j in range(i+1, n-1):\n",
    "        if arr[i] == arr[j]: \n",
    "                cnt += 1\n",
    "        print(arr[i], arr[j])\n",
    "    if cnt == 0: \n",
    "        arr.remove(arr[i])\n",
    "print(arr)\n",
    "#print(a[-1]*a[-3] if len(a) != 1 else 0)"
   ]
  },
  {
   "cell_type": "code",
   "execution_count": 1,
   "id": "aff8658d",
   "metadata": {},
   "outputs": [
    {
     "name": "stdout",
     "output_type": "stream",
     "text": [
      "0\n",
      "1\n",
      "2\n",
      "3\n",
      "4\n",
      "5\n",
      "6\n",
      "7\n",
      "8\n"
     ]
    }
   ],
   "source": [
    "for i in range(9):\n",
    "    print(i)"
   ]
  },
  {
   "cell_type": "code",
   "execution_count": 15,
   "id": "e7678f9b",
   "metadata": {},
   "outputs": [
    {
     "name": "stdout",
     "output_type": "stream",
     "text": [
      "{3: 3, 4: 3, 10: 3, 9: 1}\n",
      "[9]\n",
      "[3, 3, 3, 4, 4, 4, 10, 10, 10]\n"
     ]
    }
   ],
   "source": [
    "from collections import Counter\n",
    "a = [3, 3, 3, 4, 4, 4, 10, 10, 10, 9]\n",
    "idx = []\n",
    "counter = Counter(a)\n",
    "print(dict(counter))\n",
    "for i in range(0, len(a)-1):\n",
    "    if dict(counter)[a[i]] == 1: \n",
    "        idx.append(a[i])\n",
    "if dict(counter)[a[-1]] == 1:\n",
    "    idx.append(a[-1])\n",
    "print(idx)\n",
    "for i in idx:\n",
    "    a.remove(i)\n",
    "print(a)"
   ]
  },
  {
   "cell_type": "code",
   "execution_count": null,
   "id": "3ac21a9c",
   "metadata": {},
   "outputs": [],
   "source": [
    "from collections import Counter\n",
    "num = int(input())\n",
    "a = list(map(int, input().split()))\n",
    "idx = []\n",
    "if len(a) < 4: print(0)\n",
    "else:\n",
    "    counter = Counter(a)\n",
    "    for i in range(0, len(a)-1):\n",
    "        if dict(counter)[a[i]] == 1: \n",
    "            idx.append(a[i])\n",
    "    if dict(counter)[a[-1]] == 1:\n",
    "        idx.append(a[-1])\n",
    "    for i in idx:\n",
    "        a.remove(i)      \n",
    "    if dict(counter)[max(a)] >= 4: \n",
    "        print(max(a)**2)\n",
    "    elif len(a) < 4: print(0)\n",
    "    else:\n",
    "        b = []\n",
    "        for i in a: \n",
    "            if i != max(a): b.append(i)\n",
    "        print(max(a)*max(b))"
   ]
  },
  {
   "cell_type": "code",
   "execution_count": 25,
   "id": "7fd8e839",
   "metadata": {},
   "outputs": [
    {
     "data": {
      "text/plain": [
       "[[1, 1, 3], [2, 1, 4], [5, 1, 3], [5, 2, 1], [5, 2, 4]]"
      ]
     },
     "execution_count": 25,
     "metadata": {},
     "output_type": "execute_result"
    }
   ],
   "source": [
    "a = [1, 1, 3]\n",
    "c = [2, 1, 4]\n",
    "b = [5, 1, 3]\n",
    "d = [5, 2, 1]\n",
    "e = [5, 2, 4]\n",
    "f = [a, b, c, d, e]\n",
    "sorted(f)"
   ]
  },
  {
   "cell_type": "code",
   "execution_count": 33,
   "id": "d4b19137",
   "metadata": {},
   "outputs": [
    {
     "data": {
      "text/plain": [
       "[[5, 1, 3], [5, 2, 4], [5, 2, 1], [2, 1, 4], [1, 1, 3]]"
      ]
     },
     "execution_count": 33,
     "metadata": {},
     "output_type": "execute_result"
    }
   ],
   "source": [
    "f.sort(key=lambda x:x[0], reverse=True)\n",
    "f"
   ]
  },
  {
   "cell_type": "code",
   "execution_count": 34,
   "id": "ecad7e8a",
   "metadata": {},
   "outputs": [
    {
     "data": {
      "text/plain": [
       "[[5, 3, 1], [3, 5, 1], [1, 3, 5]]"
      ]
     },
     "execution_count": 34,
     "metadata": {},
     "output_type": "execute_result"
    }
   ],
   "source": [
    "a = [1, 3, 5]\n",
    "b = [3, 5, 1]\n",
    "c = [5, 3, 1]\n",
    "f = [a, b, c]\n",
    "f.sort(key=lambda x:x[0], reverse=True)\n",
    "f"
   ]
  },
  {
   "cell_type": "code",
   "execution_count": null,
   "id": "dd78a5e3",
   "metadata": {},
   "outputs": [],
   "source": [
    "num = int(input())\n",
    "dic = {}\n",
    "arr = []\n",
    "ans = []\n",
    "def get_key(dic, val):\n",
    "    for key, value in dic.items():\n",
    "        if val == value: return key\n",
    "for n in range(num):\n",
    "    dic[n+1] = (list(map(int, input().split())))\n",
    "    arr.append(dic[n+1])\n",
    "a = arr[0][0]\n",
    "cnt = 0\n",
    "for i in range(num):\n",
    "    if arr[i][0] == a: cnt += 1\n",
    "if cnt == num:\n",
    "    arr.sort(reverse=True)\n",
    "    for i in arr:\n",
    "        ans.append(get_key(dic, i))\n",
    "    print(' '.join(str(ans)))\n",
    "else: \n",
    "    arr.sort()\n",
    "    for i in arr:\n",
    "        ans.append(get_key(dic, i))\n",
    "    print(' '.join(str(ans)))"
   ]
  },
  {
   "cell_type": "code",
   "execution_count": null,
   "id": "3ac09774",
   "metadata": {},
   "outputs": [],
   "source": [
    "num = int(input())\n",
    "arr = []\n",
    "ans = ['0']\n",
    "temp = 0\n",
    "for n in range(num):\n",
    "    arr.append(input())\n",
    "for n in range(1, num+1):\n",
    "    if arr[n-1] == 'U':\n",
    "        ans.append(str(n))\n",
    "    else:\n",
    "        ans.insert(0, str(n))\n",
    "print(' '.join(ans))"
   ]
  }
 ],
 "metadata": {
  "kernelspec": {
   "display_name": "Python 3",
   "language": "python",
   "name": "python3"
  },
  "language_info": {
   "codemirror_mode": {
    "name": "ipython",
    "version": 3
   },
   "file_extension": ".py",
   "mimetype": "text/x-python",
   "name": "python",
   "nbconvert_exporter": "python",
   "pygments_lexer": "ipython3",
   "version": "3.8.8"
  }
 },
 "nbformat": 4,
 "nbformat_minor": 5
}
