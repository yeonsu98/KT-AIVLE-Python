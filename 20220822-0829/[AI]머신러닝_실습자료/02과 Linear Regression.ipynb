{
 "cells": [
  {
   "cell_type": "markdown",
   "metadata": {
    "id": "cVB9pY-v8uv5"
   },
   "source": [
    "# Linear Regression\n",
    "다음의 항목들에 대해서 학습합니다.\n",
    "\n",
    "* 선형회귀(Linear Regression)\n",
    "* 회귀모델 평가\n"
   ]
  },
  {
   "cell_type": "markdown",
   "metadata": {
    "id": "jnCv9u_Wy9e1"
   },
   "source": [
    "## 1.환경준비"
   ]
  },
  {
   "cell_type": "markdown",
   "metadata": {
    "id": "O1uL0UIEzBPw"
   },
   "source": [
    "### (1) Import"
   ]
  },
  {
   "cell_type": "code",
   "execution_count": 1,
   "metadata": {
    "id": "GVvCef6A8uv6"
   },
   "outputs": [],
   "source": [
    "#라이브러리들을 불러오자.\n",
    "import numpy as np\n",
    "import pandas as pd\n",
    "import matplotlib.pyplot as plt\n",
    "\n",
    "from sklearn.model_selection import train_test_split\n",
    "\n",
    "import warnings    # 경고메시지 제외\n",
    "warnings.filterwarnings(action='ignore')"
   ]
  },
  {
   "cell_type": "markdown",
   "metadata": {
    "id": "VHy5s1OOzItm"
   },
   "source": [
    "### (2) data loading"
   ]
  },
  {
   "cell_type": "code",
   "execution_count": 2,
   "metadata": {
    "id": "petnBApUBvYf"
   },
   "outputs": [],
   "source": [
    "path = 'https://raw.githubusercontent.com/DA4BAM/dataset/master/boston.csv'\n",
    "data = pd.read_csv(path)"
   ]
  },
  {
   "cell_type": "markdown",
   "metadata": {
    "id": "W07fwF8zeix4"
   },
   "source": [
    "|\t변수\t|\t설명\t|\n",
    "|\t----\t|\t----\t|\n",
    "|\t**medv**\t|\t**타운별 집값(중위수), target**\t|\n",
    "|\tcrim\t|\t범죄율\t|\n",
    "|\tzn\t|\t25,000 평방피트를 초과 거주지역 비율\t|\n",
    "|\tindus\t|\t비소매상업지역 면적 비율, 편의시설(관공서, 주요 시설)\t|\n",
    "|\tchas\t|\t찰스강변 위치(범주 : 강변1, 아니면 0)\t|\n",
    "|\tnox\t|\t일산화질소 농도\t|\n",
    "|\trm\t|\t주택당 방 수\t|\n",
    "|\tage\t|\t1940년 이전에 건축된 주택의 비율\t|\n",
    "|\tdis\t|\t직업센터의 거리\t|\n",
    "|\trad\t|\t방사형 고속도로까지의 거리\t|\n",
    "|\ttax\t|\t재산세율\t|\n",
    "|\tptratio\t|\t학생/교사 비율\t|\n",
    "|\tblack\t|\t인구 중 흑인 비율\t|\n",
    "|\tlstat\t|\t인구 중 하위 계층 비율\t|\n"
   ]
  },
  {
   "cell_type": "markdown",
   "metadata": {
    "id": "ZJOddHq2zfcU"
   },
   "source": [
    "## 2.데이터 이해"
   ]
  },
  {
   "cell_type": "markdown",
   "metadata": {
    "id": "Vqr7zY5r8uwC"
   },
   "source": [
    "### (1) 둘러보기"
   ]
  },
  {
   "cell_type": "code",
   "execution_count": 3,
   "metadata": {
    "id": "Wzs1nS348uwE"
   },
   "outputs": [
    {
     "data": {
      "text/html": [
       "<div>\n",
       "<style scoped>\n",
       "    .dataframe tbody tr th:only-of-type {\n",
       "        vertical-align: middle;\n",
       "    }\n",
       "\n",
       "    .dataframe tbody tr th {\n",
       "        vertical-align: top;\n",
       "    }\n",
       "\n",
       "    .dataframe thead th {\n",
       "        text-align: right;\n",
       "    }\n",
       "</style>\n",
       "<table border=\"1\" class=\"dataframe\">\n",
       "  <thead>\n",
       "    <tr style=\"text-align: right;\">\n",
       "      <th></th>\n",
       "      <th>crim</th>\n",
       "      <th>zn</th>\n",
       "      <th>indus</th>\n",
       "      <th>chas</th>\n",
       "      <th>nox</th>\n",
       "      <th>rm</th>\n",
       "      <th>age</th>\n",
       "      <th>dis</th>\n",
       "      <th>rad</th>\n",
       "      <th>tax</th>\n",
       "      <th>ptratio</th>\n",
       "      <th>black</th>\n",
       "      <th>lstat</th>\n",
       "      <th>medv</th>\n",
       "    </tr>\n",
       "  </thead>\n",
       "  <tbody>\n",
       "    <tr>\n",
       "      <th>0</th>\n",
       "      <td>0.00632</td>\n",
       "      <td>18.0</td>\n",
       "      <td>2.31</td>\n",
       "      <td>0</td>\n",
       "      <td>0.538</td>\n",
       "      <td>6.575</td>\n",
       "      <td>65.2</td>\n",
       "      <td>4.0900</td>\n",
       "      <td>1</td>\n",
       "      <td>296</td>\n",
       "      <td>15.3</td>\n",
       "      <td>396.90</td>\n",
       "      <td>4.98</td>\n",
       "      <td>24.0</td>\n",
       "    </tr>\n",
       "    <tr>\n",
       "      <th>1</th>\n",
       "      <td>0.02731</td>\n",
       "      <td>0.0</td>\n",
       "      <td>7.07</td>\n",
       "      <td>0</td>\n",
       "      <td>0.469</td>\n",
       "      <td>6.421</td>\n",
       "      <td>78.9</td>\n",
       "      <td>4.9671</td>\n",
       "      <td>2</td>\n",
       "      <td>242</td>\n",
       "      <td>17.8</td>\n",
       "      <td>396.90</td>\n",
       "      <td>9.14</td>\n",
       "      <td>21.6</td>\n",
       "    </tr>\n",
       "    <tr>\n",
       "      <th>2</th>\n",
       "      <td>0.02729</td>\n",
       "      <td>0.0</td>\n",
       "      <td>7.07</td>\n",
       "      <td>0</td>\n",
       "      <td>0.469</td>\n",
       "      <td>7.185</td>\n",
       "      <td>61.1</td>\n",
       "      <td>4.9671</td>\n",
       "      <td>2</td>\n",
       "      <td>242</td>\n",
       "      <td>17.8</td>\n",
       "      <td>392.83</td>\n",
       "      <td>4.03</td>\n",
       "      <td>34.7</td>\n",
       "    </tr>\n",
       "    <tr>\n",
       "      <th>3</th>\n",
       "      <td>0.03237</td>\n",
       "      <td>0.0</td>\n",
       "      <td>2.18</td>\n",
       "      <td>0</td>\n",
       "      <td>0.458</td>\n",
       "      <td>6.998</td>\n",
       "      <td>45.8</td>\n",
       "      <td>6.0622</td>\n",
       "      <td>3</td>\n",
       "      <td>222</td>\n",
       "      <td>18.7</td>\n",
       "      <td>394.63</td>\n",
       "      <td>2.94</td>\n",
       "      <td>33.4</td>\n",
       "    </tr>\n",
       "    <tr>\n",
       "      <th>4</th>\n",
       "      <td>0.06905</td>\n",
       "      <td>0.0</td>\n",
       "      <td>2.18</td>\n",
       "      <td>0</td>\n",
       "      <td>0.458</td>\n",
       "      <td>7.147</td>\n",
       "      <td>54.2</td>\n",
       "      <td>6.0622</td>\n",
       "      <td>3</td>\n",
       "      <td>222</td>\n",
       "      <td>18.7</td>\n",
       "      <td>396.90</td>\n",
       "      <td>5.33</td>\n",
       "      <td>36.2</td>\n",
       "    </tr>\n",
       "  </tbody>\n",
       "</table>\n",
       "</div>"
      ],
      "text/plain": [
       "      crim    zn  indus  chas    nox     rm   age     dis  rad  tax  ptratio  \\\n",
       "0  0.00632  18.0   2.31     0  0.538  6.575  65.2  4.0900    1  296     15.3   \n",
       "1  0.02731   0.0   7.07     0  0.469  6.421  78.9  4.9671    2  242     17.8   \n",
       "2  0.02729   0.0   7.07     0  0.469  7.185  61.1  4.9671    2  242     17.8   \n",
       "3  0.03237   0.0   2.18     0  0.458  6.998  45.8  6.0622    3  222     18.7   \n",
       "4  0.06905   0.0   2.18     0  0.458  7.147  54.2  6.0622    3  222     18.7   \n",
       "\n",
       "    black  lstat  medv  \n",
       "0  396.90   4.98  24.0  \n",
       "1  396.90   9.14  21.6  \n",
       "2  392.83   4.03  34.7  \n",
       "3  394.63   2.94  33.4  \n",
       "4  396.90   5.33  36.2  "
      ]
     },
     "execution_count": 3,
     "metadata": {},
     "output_type": "execute_result"
    }
   ],
   "source": [
    "# 상/하위 몇개 행을 살펴 봅시다.\n",
    "data.head()"
   ]
  },
  {
   "cell_type": "code",
   "execution_count": 4,
   "metadata": {
    "id": "1ZsXdcfp8uwI"
   },
   "outputs": [
    {
     "name": "stdout",
     "output_type": "stream",
     "text": [
      "<class 'pandas.core.frame.DataFrame'>\n",
      "RangeIndex: 506 entries, 0 to 505\n",
      "Data columns (total 14 columns):\n",
      " #   Column   Non-Null Count  Dtype  \n",
      "---  ------   --------------  -----  \n",
      " 0   crim     506 non-null    float64\n",
      " 1   zn       506 non-null    float64\n",
      " 2   indus    506 non-null    float64\n",
      " 3   chas     506 non-null    int64  \n",
      " 4   nox      506 non-null    float64\n",
      " 5   rm       506 non-null    float64\n",
      " 6   age      506 non-null    float64\n",
      " 7   dis      506 non-null    float64\n",
      " 8   rad      506 non-null    int64  \n",
      " 9   tax      506 non-null    int64  \n",
      " 10  ptratio  506 non-null    float64\n",
      " 11  black    506 non-null    float64\n",
      " 12  lstat    506 non-null    float64\n",
      " 13  medv     506 non-null    float64\n",
      "dtypes: float64(11), int64(3)\n",
      "memory usage: 55.5 KB\n"
     ]
    }
   ],
   "source": [
    "# 각 칼럼의 타입을 살펴 봅시다.\n",
    "data.info()"
   ]
  },
  {
   "cell_type": "markdown",
   "metadata": {
    "id": "wW0d0eGmCYJM"
   },
   "source": [
    "## 3.데이터 준비"
   ]
  },
  {
   "cell_type": "markdown",
   "metadata": {
    "id": "y9Q6jR6OZjUk"
   },
   "source": [
    "### (1) 데이터 정리"
   ]
  },
  {
   "cell_type": "code",
   "execution_count": 5,
   "metadata": {
    "id": "xkc_d-sFCMBo"
   },
   "outputs": [
    {
     "data": {
      "text/html": [
       "<div>\n",
       "<style scoped>\n",
       "    .dataframe tbody tr th:only-of-type {\n",
       "        vertical-align: middle;\n",
       "    }\n",
       "\n",
       "    .dataframe tbody tr th {\n",
       "        vertical-align: top;\n",
       "    }\n",
       "\n",
       "    .dataframe thead th {\n",
       "        text-align: right;\n",
       "    }\n",
       "</style>\n",
       "<table border=\"1\" class=\"dataframe\">\n",
       "  <thead>\n",
       "    <tr style=\"text-align: right;\">\n",
       "      <th></th>\n",
       "      <th>crim</th>\n",
       "      <th>zn</th>\n",
       "      <th>indus</th>\n",
       "      <th>chas</th>\n",
       "      <th>nox</th>\n",
       "      <th>rm</th>\n",
       "      <th>age</th>\n",
       "      <th>dis</th>\n",
       "      <th>rad</th>\n",
       "      <th>tax</th>\n",
       "      <th>ptratio</th>\n",
       "      <th>black</th>\n",
       "      <th>lstat</th>\n",
       "      <th>medv</th>\n",
       "    </tr>\n",
       "  </thead>\n",
       "  <tbody>\n",
       "    <tr>\n",
       "      <th>0</th>\n",
       "      <td>0.00632</td>\n",
       "      <td>18.0</td>\n",
       "      <td>2.31</td>\n",
       "      <td>0</td>\n",
       "      <td>0.538</td>\n",
       "      <td>6.575</td>\n",
       "      <td>65.2</td>\n",
       "      <td>4.0900</td>\n",
       "      <td>1</td>\n",
       "      <td>296</td>\n",
       "      <td>15.3</td>\n",
       "      <td>396.90</td>\n",
       "      <td>4.98</td>\n",
       "      <td>24.0</td>\n",
       "    </tr>\n",
       "    <tr>\n",
       "      <th>1</th>\n",
       "      <td>0.02731</td>\n",
       "      <td>0.0</td>\n",
       "      <td>7.07</td>\n",
       "      <td>0</td>\n",
       "      <td>0.469</td>\n",
       "      <td>6.421</td>\n",
       "      <td>78.9</td>\n",
       "      <td>4.9671</td>\n",
       "      <td>2</td>\n",
       "      <td>242</td>\n",
       "      <td>17.8</td>\n",
       "      <td>396.90</td>\n",
       "      <td>9.14</td>\n",
       "      <td>21.6</td>\n",
       "    </tr>\n",
       "    <tr>\n",
       "      <th>2</th>\n",
       "      <td>0.02729</td>\n",
       "      <td>0.0</td>\n",
       "      <td>7.07</td>\n",
       "      <td>0</td>\n",
       "      <td>0.469</td>\n",
       "      <td>7.185</td>\n",
       "      <td>61.1</td>\n",
       "      <td>4.9671</td>\n",
       "      <td>2</td>\n",
       "      <td>242</td>\n",
       "      <td>17.8</td>\n",
       "      <td>392.83</td>\n",
       "      <td>4.03</td>\n",
       "      <td>34.7</td>\n",
       "    </tr>\n",
       "    <tr>\n",
       "      <th>3</th>\n",
       "      <td>0.03237</td>\n",
       "      <td>0.0</td>\n",
       "      <td>2.18</td>\n",
       "      <td>0</td>\n",
       "      <td>0.458</td>\n",
       "      <td>6.998</td>\n",
       "      <td>45.8</td>\n",
       "      <td>6.0622</td>\n",
       "      <td>3</td>\n",
       "      <td>222</td>\n",
       "      <td>18.7</td>\n",
       "      <td>394.63</td>\n",
       "      <td>2.94</td>\n",
       "      <td>33.4</td>\n",
       "    </tr>\n",
       "    <tr>\n",
       "      <th>4</th>\n",
       "      <td>0.06905</td>\n",
       "      <td>0.0</td>\n",
       "      <td>2.18</td>\n",
       "      <td>0</td>\n",
       "      <td>0.458</td>\n",
       "      <td>7.147</td>\n",
       "      <td>54.2</td>\n",
       "      <td>6.0622</td>\n",
       "      <td>3</td>\n",
       "      <td>222</td>\n",
       "      <td>18.7</td>\n",
       "      <td>396.90</td>\n",
       "      <td>5.33</td>\n",
       "      <td>36.2</td>\n",
       "    </tr>\n",
       "  </tbody>\n",
       "</table>\n",
       "</div>"
      ],
      "text/plain": [
       "      crim    zn  indus  chas    nox     rm   age     dis  rad  tax  ptratio  \\\n",
       "0  0.00632  18.0   2.31     0  0.538  6.575  65.2  4.0900    1  296     15.3   \n",
       "1  0.02731   0.0   7.07     0  0.469  6.421  78.9  4.9671    2  242     17.8   \n",
       "2  0.02729   0.0   7.07     0  0.469  7.185  61.1  4.9671    2  242     17.8   \n",
       "3  0.03237   0.0   2.18     0  0.458  6.998  45.8  6.0622    3  222     18.7   \n",
       "4  0.06905   0.0   2.18     0  0.458  7.147  54.2  6.0622    3  222     18.7   \n",
       "\n",
       "    black  lstat  medv  \n",
       "0  396.90   4.98  24.0  \n",
       "1  396.90   9.14  21.6  \n",
       "2  392.83   4.03  34.7  \n",
       "3  394.63   2.94  33.4  \n",
       "4  396.90   5.33  36.2  "
      ]
     },
     "execution_count": 5,
     "metadata": {},
     "output_type": "execute_result"
    }
   ],
   "source": [
    "data.head()"
   ]
  },
  {
   "cell_type": "code",
   "execution_count": 6,
   "metadata": {
    "id": "5iTdsYqWsjoG"
   },
   "outputs": [],
   "source": [
    "data.drop(['black'], axis = 1, inplace = True) # 인종차별적인 요소가 있어서 제외"
   ]
  },
  {
   "cell_type": "markdown",
   "metadata": {
    "id": "WpJEGpUuuVWm"
   },
   "source": [
    "### (2) 데이터분할1 : x, y 나누기"
   ]
  },
  {
   "cell_type": "code",
   "execution_count": 7,
   "metadata": {
    "id": "N-4Msv8VsQ3R"
   },
   "outputs": [],
   "source": [
    "target = 'medv'\n",
    "x = data.drop(target, axis=1)\n",
    "y = data.loc[:, target]"
   ]
  },
  {
   "cell_type": "markdown",
   "metadata": {
    "id": "mp_5volyuaA1"
   },
   "source": [
    "### (3) NA 조치"
   ]
  },
  {
   "cell_type": "code",
   "execution_count": 9,
   "metadata": {},
   "outputs": [
    {
     "data": {
      "text/plain": [
       "crim       0\n",
       "zn         0\n",
       "indus      0\n",
       "chas       0\n",
       "nox        0\n",
       "rm         0\n",
       "age        0\n",
       "dis        0\n",
       "rad        0\n",
       "tax        0\n",
       "ptratio    0\n",
       "lstat      0\n",
       "medv       0\n",
       "dtype: int64"
      ]
     },
     "execution_count": 9,
     "metadata": {},
     "output_type": "execute_result"
    }
   ],
   "source": [
    "data.isna().sum()"
   ]
  },
  {
   "cell_type": "markdown",
   "metadata": {
    "id": "nOF9fSLQugGf"
   },
   "source": [
    "### (4) 가변수화"
   ]
  },
  {
   "cell_type": "code",
   "execution_count": null,
   "metadata": {},
   "outputs": [],
   "source": [
    "# 할게 없음"
   ]
  },
  {
   "cell_type": "markdown",
   "metadata": {
    "id": "VBwpOKgkf5Am"
   },
   "source": [
    "### (5) 데이터분할2 : train : validation 나누기"
   ]
  },
  {
   "cell_type": "code",
   "execution_count": 8,
   "metadata": {
    "id": "1iHmTnHCgBw5"
   },
   "outputs": [],
   "source": [
    "x_train, x_val, y_train, y_val = train_test_split(x, y, test_size = .3, random_state = 2022)"
   ]
  },
  {
   "cell_type": "markdown",
   "metadata": {
    "id": "MXUC5Yi3um81"
   },
   "source": [
    "### (6) Scaling"
   ]
  },
  {
   "cell_type": "code",
   "execution_count": null,
   "metadata": {},
   "outputs": [],
   "source": []
  },
  {
   "cell_type": "markdown",
   "metadata": {
    "id": "BYr1vtpd8uw4"
   },
   "source": [
    "## 4.모델링 : 단순회귀"
   ]
  },
  {
   "cell_type": "markdown",
   "metadata": {
    "id": "UYfHl4megf06"
   },
   "source": [
    "### (1)학습할 데이터 준비"
   ]
  },
  {
   "cell_type": "markdown",
   "metadata": {
    "id": "T8eEIRzCSHsT"
   },
   "source": [
    "* 모델링을 시작하기 전에...\n",
    "    * 데이터를 살펴보면서, 어떤 변수가 집값을 예측하는데 가장 중요할까요?"
   ]
  },
  {
   "cell_type": "code",
   "execution_count": null,
   "metadata": {
    "id": "AgPsrsHsSO5w"
   },
   "outputs": [],
   "source": [
    "# lstat"
   ]
  },
  {
   "cell_type": "markdown",
   "metadata": {
    "id": "4HrWfOGyDd8y"
   },
   "source": [
    "* lstat(하위계층 비율)로만 집값(medv)을 예측하는 모델을 만들어 봅시다."
   ]
  },
  {
   "cell_type": "code",
   "execution_count": 10,
   "metadata": {
    "id": "2XS3E6xADnqD"
   },
   "outputs": [],
   "source": [
    "# 학습에 사용할 변수를 지정합니다.\n",
    "features = ['lstat']\n",
    "\n",
    "# 지정된 변수로 데이터셋을 만듭니다. \n",
    "# 학습과 검증시 아래 데이터셋 이름을 사용합니다.\n",
    "x_train1 = x_train[features]\n",
    "x_val1 = x_val[features]"
   ]
  },
  {
   "cell_type": "code",
   "execution_count": 11,
   "metadata": {
    "id": "LYh2Xut7jp3p"
   },
   "outputs": [
    {
     "data": {
      "text/html": [
       "<div>\n",
       "<style scoped>\n",
       "    .dataframe tbody tr th:only-of-type {\n",
       "        vertical-align: middle;\n",
       "    }\n",
       "\n",
       "    .dataframe tbody tr th {\n",
       "        vertical-align: top;\n",
       "    }\n",
       "\n",
       "    .dataframe thead th {\n",
       "        text-align: right;\n",
       "    }\n",
       "</style>\n",
       "<table border=\"1\" class=\"dataframe\">\n",
       "  <thead>\n",
       "    <tr style=\"text-align: right;\">\n",
       "      <th></th>\n",
       "      <th>lstat</th>\n",
       "    </tr>\n",
       "  </thead>\n",
       "  <tbody>\n",
       "    <tr>\n",
       "      <th>257</th>\n",
       "      <td>5.12</td>\n",
       "    </tr>\n",
       "    <tr>\n",
       "      <th>371</th>\n",
       "      <td>9.53</td>\n",
       "    </tr>\n",
       "    <tr>\n",
       "      <th>253</th>\n",
       "      <td>3.54</td>\n",
       "    </tr>\n",
       "    <tr>\n",
       "      <th>332</th>\n",
       "      <td>7.83</td>\n",
       "    </tr>\n",
       "    <tr>\n",
       "      <th>454</th>\n",
       "      <td>18.71</td>\n",
       "    </tr>\n",
       "  </tbody>\n",
       "</table>\n",
       "</div>"
      ],
      "text/plain": [
       "     lstat\n",
       "257   5.12\n",
       "371   9.53\n",
       "253   3.54\n",
       "332   7.83\n",
       "454  18.71"
      ]
     },
     "execution_count": 11,
     "metadata": {},
     "output_type": "execute_result"
    }
   ],
   "source": [
    "x_train1.head()"
   ]
  },
  {
   "cell_type": "markdown",
   "metadata": {
    "id": "Z31_h2AHGsjB"
   },
   "source": [
    "### (2) 필요한 함수 불러오기\n",
    "이 부분은 파일의 제일 첫 부분에서 한꺼번에 수행해도 좋습니다."
   ]
  },
  {
   "cell_type": "code",
   "execution_count": 12,
   "metadata": {
    "id": "oRB84_HE8uw5"
   },
   "outputs": [],
   "source": [
    "# 모델링용\n",
    "from sklearn.linear_model import LinearRegression\n",
    "\n",
    "# 회귀모델 평가용\n",
    "from sklearn.metrics import r2_score, mean_squared_error, mean_absolute_error, mean_absolute_percentage_error"
   ]
  },
  {
   "cell_type": "markdown",
   "metadata": {
    "id": "AvxoQdSTG1aV"
   },
   "source": [
    "### (3) 모델선언"
   ]
  },
  {
   "cell_type": "code",
   "execution_count": 13,
   "metadata": {
    "id": "UCEKvUAu8uw7"
   },
   "outputs": [],
   "source": [
    "model1 = LinearRegression()"
   ]
  },
  {
   "cell_type": "markdown",
   "metadata": {
    "id": "muxufxrDG6k0"
   },
   "source": [
    "### (4) 모델링(학습)"
   ]
  },
  {
   "cell_type": "code",
   "execution_count": 14,
   "metadata": {
    "id": "HtRz5Gw6G7IH"
   },
   "outputs": [
    {
     "data": {
      "text/plain": [
       "LinearRegression()"
      ]
     },
     "execution_count": 14,
     "metadata": {},
     "output_type": "execute_result"
    }
   ],
   "source": [
    "model1.fit(x_train1, y_train)"
   ]
  },
  {
   "cell_type": "markdown",
   "metadata": {
    "id": "U3O7R-OnELWO"
   },
   "source": [
    "* 회귀계수 확인하기"
   ]
  },
  {
   "cell_type": "code",
   "execution_count": 15,
   "metadata": {
    "id": "5qEJH2JKENcf"
   },
   "outputs": [
    {
     "name": "stdout",
     "output_type": "stream",
     "text": [
      "회귀계수 :  [-0.9568563]\n",
      "절편 :  34.676249051494665\n"
     ]
    }
   ],
   "source": [
    "print('회귀계수 : ', model1.coef_)\n",
    "print('절편 : ', model1.intercept_)"
   ]
  },
  {
   "cell_type": "markdown",
   "metadata": {
    "id": "p1wxcuSHHC9N"
   },
   "source": [
    "### (5) 검증 : 예측"
   ]
  },
  {
   "cell_type": "code",
   "execution_count": 16,
   "metadata": {
    "id": "UgX-l3rgHDI7"
   },
   "outputs": [],
   "source": [
    "pred1 = model1.predict(x_val1)"
   ]
  },
  {
   "cell_type": "markdown",
   "metadata": {
    "id": "iiGs0Vn1HJdj"
   },
   "source": [
    "### (6) 검증 : 평가\n",
    "\n",
    "* 평가용 함수들은 대부분 (실제값, 예측값)"
   ]
  },
  {
   "cell_type": "code",
   "execution_count": 17,
   "metadata": {
    "id": "artgABU2hbUR"
   },
   "outputs": [
    {
     "data": {
      "text/plain": [
       "4.138380487348265"
      ]
     },
     "execution_count": 17,
     "metadata": {},
     "output_type": "execute_result"
    }
   ],
   "source": [
    "# 평균오차\n",
    "mean_absolute_error(y_val   , pred1   )"
   ]
  },
  {
   "cell_type": "markdown",
   "metadata": {
    "id": "YBfaWD22hrZ2"
   },
   "source": [
    "## 5.평가"
   ]
  },
  {
   "cell_type": "markdown",
   "metadata": {
    "id": "z1kNNMuNh-PI"
   },
   "source": [
    "### (1) 오차의 비로 평가하기 : R2 Score\n",
    "\n",
    "* 평균 모델의 오차와 회귀모델 오차\n",
    "    * 평균 모델과 실제 값 과의 차이(SST)\n",
    "    * 평균 모델과 회귀모델 과의 차이(SSR)\n",
    "    * 실제 값과 회귀모델 과의 차이(SSE)\n"
   ]
  },
  {
   "cell_type": "code",
   "execution_count": 29,
   "metadata": {},
   "outputs": [
    {
     "name": "stdout",
     "output_type": "stream",
     "text": [
      "104    20.1\n",
      "406    11.9\n",
      "487    20.6\n",
      "276    33.2\n",
      "422    20.8\n",
      "Name: medv, dtype: float64\n",
      "[22.87821089 12.34322304 23.72024443 28.88726844 21.18457524]\n"
     ]
    }
   ],
   "source": [
    "# 이해를 돕기위해 데이터를 5개씩 뽑음\n",
    "tmp_y = y_val[:5]\n",
    "tmp_p = pred1[:5]\n",
    "print(tmp_y)\n",
    "print(tmp_p)"
   ]
  },
  {
   "cell_type": "code",
   "execution_count": 27,
   "metadata": {
    "id": "dkKi4wIXiXSo"
   },
   "outputs": [],
   "source": [
    "# 실제와 예측 데이터 5건씩 저장\n",
    "tmp_y = y_val[:5]\n",
    "tmp_p = pred1[:5]\n",
    "\n",
    "# 실제값의 평균오차 저장\n",
    "tmp_y_mean = tmp_y.mean()"
   ]
  },
  {
   "cell_type": "code",
   "execution_count": 23,
   "metadata": {
    "id": "j3AAKUUbicFw"
   },
   "outputs": [
    {
     "data": {
      "text/plain": [
       "232.14800000000005"
      ]
     },
     "execution_count": 23,
     "metadata": {},
     "output_type": "execute_result"
    }
   ],
   "source": [
    "# SST\n",
    "sst = np.sum(np.power(tmp_y - tmp_y_mean, 2))\n",
    "sst"
   ]
  },
  {
   "cell_type": "code",
   "execution_count": 24,
   "metadata": {
    "id": "01lwgnO-icCv"
   },
   "outputs": [
    {
     "data": {
      "text/plain": [
       "36.39837929489292"
      ]
     },
     "execution_count": 24,
     "metadata": {},
     "output_type": "execute_result"
    }
   ],
   "source": [
    "# SSE\n",
    "sse = np.sum(np.power(tmp_y - tmp_p, 2))\n",
    "sse"
   ]
  },
  {
   "cell_type": "code",
   "execution_count": 21,
   "metadata": {
    "id": "_2kiQ_HQib-6"
   },
   "outputs": [
    {
     "data": {
      "text/plain": [
       "0.8432104549903815"
      ]
     },
     "execution_count": 21,
     "metadata": {},
     "output_type": "execute_result"
    }
   ],
   "source": [
    "# R2 Score = 1- SSE/SST\n",
    "1 - (sse/sst)"
   ]
  },
  {
   "cell_type": "code",
   "execution_count": 22,
   "metadata": {
    "id": "FuP4e_eqja-j"
   },
   "outputs": [
    {
     "data": {
      "text/plain": [
       "0.8432104549903815"
      ]
     },
     "execution_count": 22,
     "metadata": {},
     "output_type": "execute_result"
    }
   ],
   "source": [
    "# 제공된 함수와 비교해 봅시다.\n",
    "r2_score(tmp_y, tmp_p)"
   ]
  },
  {
   "cell_type": "code",
   "execution_count": 26,
   "metadata": {},
   "outputs": [
    {
     "data": {
      "text/plain": [
       "0.6315401111275217"
      ]
     },
     "execution_count": 26,
     "metadata": {},
     "output_type": "execute_result"
    }
   ],
   "source": [
    "r2_score(y_val, pred1) # r2_score(실제값, 예측값)"
   ]
  },
  {
   "cell_type": "markdown",
   "metadata": {
    "id": "gjQUhBi2juub"
   },
   "source": [
    "### (2)오차의 양과 율로 평가하기"
   ]
  },
  {
   "cell_type": "code",
   "execution_count": 30,
   "metadata": {
    "id": "0ZRwQJXY8uw9"
   },
   "outputs": [
    {
     "data": {
      "text/plain": [
       "31.563327757446412"
      ]
     },
     "execution_count": 30,
     "metadata": {},
     "output_type": "execute_result"
    }
   ],
   "source": [
    "# MSE\n",
    "mean_squared_error( y_val   , pred1   ) "
   ]
  },
  {
   "cell_type": "code",
   "execution_count": 31,
   "metadata": {
    "id": "jpOB4fla6HH7"
   },
   "outputs": [
    {
     "data": {
      "text/plain": [
       "5.618124932523877"
      ]
     },
     "execution_count": 31,
     "metadata": {},
     "output_type": "execute_result"
    }
   ],
   "source": [
    "# RMSE\n",
    "mean_squared_error( y_val   , pred1  , squared = False)"
   ]
  },
  {
   "cell_type": "code",
   "execution_count": 32,
   "metadata": {
    "id": "8n3pKTe8FcZ0"
   },
   "outputs": [
    {
     "data": {
      "text/plain": [
       "4.138380487348265"
      ]
     },
     "execution_count": 32,
     "metadata": {},
     "output_type": "execute_result"
    }
   ],
   "source": [
    "# MAE(평균오차)\n",
    "mean_absolute_error(y_val   , pred1   )"
   ]
  },
  {
   "cell_type": "code",
   "execution_count": 35,
   "metadata": {
    "id": "A2gcrt2UqmkG"
   },
   "outputs": [
    {
     "data": {
      "text/plain": [
       "22.398686231166277"
      ]
     },
     "execution_count": 35,
     "metadata": {},
     "output_type": "execute_result"
    }
   ],
   "source": [
    "# MAPE(평균오차율) : 원래 개념은 100을 곱해야 한다. Sklearn 함수는 100 안 곱한 채로 결과를 준다.\n",
    "mean_absolute_percentage_error(y_val   , pred1  )# * 100"
   ]
  },
  {
   "cell_type": "code",
   "execution_count": 34,
   "metadata": {
    "id": "h5ltiOpyq9QG"
   },
   "outputs": [
    {
     "data": {
      "text/plain": [
       "0.7760131376883372"
      ]
     },
     "execution_count": 34,
     "metadata": {},
     "output_type": "execute_result"
    }
   ],
   "source": [
    "# 1 - MAPE : 회귀모델의 정확도\n",
    "1 -  mean_absolute_percentage_error(y_val   , pred1   )"
   ]
  },
  {
   "cell_type": "markdown",
   "metadata": {
    "id": "z7r3eKmJSCvv"
   },
   "source": [
    "## 6.연습문제\n",
    "* 모델을 2개 더 만들어 봅시다. 여러분이 중요하다고 생각한 변수로 모델2, 모델3을 만들어 봅시다.\n",
    "    * model2 : 중요하다고 생각한 변수1  --> medv\n",
    "    * model3 : 중요하다고 생각한 변수2  --> medv\n",
    "* 모델1,2,3의 성능을 비교해 봅시다.\n",
    "* 평가는 RMSE, MAE, MAPE로 사용"
   ]
  },
  {
   "cell_type": "markdown",
   "metadata": {
    "id": "U2b_7nwZSm0a"
   },
   "source": [
    "### (1) 모델2"
   ]
  },
  {
   "cell_type": "code",
   "execution_count": 89,
   "metadata": {
    "id": "NRAS1FkOSkGM"
   },
   "outputs": [],
   "source": [
    "# 학습에 사용할 변수를 지정합니다.\n",
    "features = ['crim']\n",
    "x_train2 = x_train[features]\n",
    "x_val2 = x_val[features]"
   ]
  },
  {
   "cell_type": "code",
   "execution_count": 90,
   "metadata": {
    "id": "Rn1EJxWLSkDg"
   },
   "outputs": [],
   "source": [
    "model2 = LinearRegression()\n",
    "model2.fit(x_train2, y_train)\n",
    "pred2 = model2.predict(x_val2)"
   ]
  },
  {
   "cell_type": "code",
   "execution_count": 93,
   "metadata": {},
   "outputs": [
    {
     "data": {
      "text/plain": [
       "(array([-0.3570669]), 24.214633238567504)"
      ]
     },
     "execution_count": 93,
     "metadata": {},
     "output_type": "execute_result"
    }
   ],
   "source": [
    "model2.coef_, model2.intercept_"
   ]
  },
  {
   "cell_type": "code",
   "execution_count": 94,
   "metadata": {
    "id": "Zjgfs8ybSj99"
   },
   "outputs": [
    {
     "name": "stdout",
     "output_type": "stream",
     "text": [
      "8.278901155364965\n",
      "6.480426640219394\n",
      "0.40490343077615576\n"
     ]
    }
   ],
   "source": [
    "print(mean_squared_error(y_val, pred2, squared=False))\n",
    "print(mean_absolute_error(y_val, pred2))\n",
    "print(mean_absolute_percentage_error(y_val, pred2))"
   ]
  },
  {
   "cell_type": "markdown",
   "metadata": {
    "id": "pEyC2NYcSu7E"
   },
   "source": [
    "### (2) 모델3"
   ]
  },
  {
   "cell_type": "code",
   "execution_count": 84,
   "metadata": {
    "id": "bibeY57cSu7E"
   },
   "outputs": [],
   "source": [
    "# 학습에 사용할 변수를 지정합니다.\n",
    "features = ['indus']\n",
    "x_train3 = x_train[features] # .fit에서 x는 반드시 2차원이여야 한다 !\n",
    "x_val3 = x_val[features]"
   ]
  },
  {
   "cell_type": "code",
   "execution_count": 85,
   "metadata": {
    "id": "cxLTjKzzzRrF"
   },
   "outputs": [
    {
     "data": {
      "text/plain": [
       "LinearRegression()"
      ]
     },
     "execution_count": 85,
     "metadata": {},
     "output_type": "execute_result"
    }
   ],
   "source": [
    "model3 = LinearRegression()\n",
    "model3.fit(x_train3, y_train)\n",
    "pred3 = model3.predict(x_val3)"
   ]
  },
  {
   "cell_type": "code",
   "execution_count": 87,
   "metadata": {},
   "outputs": [
    {
     "data": {
      "text/plain": [
       "(array([-0.56062887]), 29.100504261766933)"
      ]
     },
     "execution_count": 87,
     "metadata": {},
     "output_type": "execute_result"
    }
   ],
   "source": [
    "model3.coef_, model3.intercept_"
   ]
  },
  {
   "cell_type": "code",
   "execution_count": 88,
   "metadata": {
    "id": "UAPgRjOIzRrI"
   },
   "outputs": [
    {
     "name": "stdout",
     "output_type": "stream",
     "text": [
      "7.641651069897593\n",
      "5.963610772485113\n",
      "0.38145650203040055\n"
     ]
    }
   ],
   "source": [
    "print(mean_squared_error(y_val, pred3, squared=False))\n",
    "print(mean_absolute_error(y_val, pred3))\n",
    "print(mean_absolute_percentage_error(y_val, pred3))"
   ]
  },
  {
   "cell_type": "code",
   "execution_count": null,
   "metadata": {},
   "outputs": [],
   "source": []
  },
  {
   "cell_type": "code",
   "execution_count": 80,
   "metadata": {},
   "outputs": [],
   "source": [
    "# 학습에 사용할 변수를 지정합니다.\n",
    "features = ['ptratio']\n",
    "x_train4 = x_train[features]\n",
    "x_val4 = x_val[features]"
   ]
  },
  {
   "cell_type": "code",
   "execution_count": 81,
   "metadata": {},
   "outputs": [],
   "source": [
    "model4 = LinearRegression()\n",
    "model4.fit(x_train4, y_train)\n",
    "pred4 = model4.predict(x_val4)"
   ]
  },
  {
   "cell_type": "code",
   "execution_count": 82,
   "metadata": {},
   "outputs": [
    {
     "data": {
      "text/plain": [
       "(array([-2.05584572]), 60.84272914488734)"
      ]
     },
     "execution_count": 82,
     "metadata": {},
     "output_type": "execute_result"
    }
   ],
   "source": [
    "model4.coef_, model4.intercept_"
   ]
  },
  {
   "cell_type": "code",
   "execution_count": 83,
   "metadata": {},
   "outputs": [
    {
     "name": "stdout",
     "output_type": "stream",
     "text": [
      "7.949490419426821\n",
      "6.117069282243945\n",
      "0.3936662503977873\n"
     ]
    }
   ],
   "source": [
    "print(mean_squared_error(y_val, pred4, squared=False))\n",
    "print(mean_absolute_error(y_val, pred4))\n",
    "print(mean_absolute_percentage_error(y_val, pred4))"
   ]
  },
  {
   "cell_type": "code",
   "execution_count": null,
   "metadata": {},
   "outputs": [],
   "source": [
    "# 회귀계수만 보고 값의 중요성을 평가할 수 있다? -> 모른다 왜냐하면 값들의 범위가 다르기 때문에 맞을 수도 있지만 그것만으로는 판단하기 어렵다.\n",
    "# 범위를 맞추면 직접비교 가능할 수도 있음..."
   ]
  },
  {
   "cell_type": "code",
   "execution_count": 96,
   "metadata": {},
   "outputs": [
    {
     "name": "stdout",
     "output_type": "stream",
     "text": [
      "lstat [-0.9568563] 34.676249051494665\n",
      "crim [-0.3570669] 24.214633238567504\n",
      "indus [-0.56062887] 29.100504261766933\n",
      "ptratio [-2.05584572] 60.84272914488734\n"
     ]
    }
   ],
   "source": [
    "print('lstat', model1.coef_, model1.intercept_)\n",
    "print('crim', model2.coef_, model2.intercept_)\n",
    "print('indus', model3.coef_, model3.intercept_)\n",
    "print('ptratio', model4.coef_, model4.intercept_)"
   ]
  },
  {
   "cell_type": "markdown",
   "metadata": {},
   "source": [
    "* 오차 비교(모델 성능 비교)"
   ]
  },
  {
   "cell_type": "code",
   "execution_count": 98,
   "metadata": {},
   "outputs": [
    {
     "name": "stdout",
     "output_type": "stream",
     "text": [
      "0.6315401111275217 0.19988423690315305 0.31831798175330883\n"
     ]
    }
   ],
   "source": [
    "# 설명력 r2 score\n",
    "print(r2_score(y_val, pred1), r2_score(y_val, pred2), r2_score(y_val, pred3))"
   ]
  },
  {
   "cell_type": "code",
   "execution_count": 99,
   "metadata": {},
   "outputs": [
    {
     "name": "stdout",
     "output_type": "stream",
     "text": [
      "5.618124932523877 8.278901155364965 7.641651069897593\n"
     ]
    }
   ],
   "source": [
    "# rmse - 적을수록 좋음(오차의 양)\n",
    "print(mean_squared_error(y_val, pred1, squared=False), mean_squared_error(y_val, pred2, squared=False), mean_squared_error(y_val, pred3, squared=False))"
   ]
  },
  {
   "cell_type": "code",
   "execution_count": 102,
   "metadata": {},
   "outputs": [
    {
     "name": "stdout",
     "output_type": "stream",
     "text": [
      "0.22398686231166276 0.40490343077615576 0.38145650203040055\n"
     ]
    }
   ],
   "source": [
    "# mae - 오차율 \n",
    "print(mean_absolute_percentage_error(y_val, pred1), mean_absolute_percentage_error(y_val, pred2), mean_absolute_percentage_error(y_val, pred3))"
   ]
  },
  {
   "cell_type": "markdown",
   "metadata": {
    "id": "u4OoYOUkEjDZ"
   },
   "source": [
    "## 7.모델링2 : 다중회귀"
   ]
  },
  {
   "cell_type": "markdown",
   "metadata": {
    "id": "hTfqENr-EjDa"
   },
   "source": [
    "* 이번에는 다음의 변수로 예측하는 모델을 각각 만들어 봅시다.\n",
    "    * model4 : lstat + ptratio \n",
    "    * model5 : lstat + ptratio + crim\n",
    "    * model6 : 전체 변수"
   ]
  },
  {
   "cell_type": "markdown",
   "metadata": {
    "id": "07jIXeRogp4R"
   },
   "source": [
    "### (1) 모델4 "
   ]
  },
  {
   "cell_type": "code",
   "execution_count": 122,
   "metadata": {
    "id": "HPqQUSO40xZJ"
   },
   "outputs": [],
   "source": [
    "# 학습에 사용할 변수를 지정합니다.\n",
    "features = ['lstat', 'ptratio']\n",
    "x_train4 = x_train[features]\n",
    "x_val4 = x_val[features]"
   ]
  },
  {
   "cell_type": "code",
   "execution_count": 123,
   "metadata": {
    "id": "FuV6Z_Ej0xZR"
   },
   "outputs": [],
   "source": [
    "model4 = LinearRegression()\n",
    "model4.fit(x_train4, y_train)\n",
    "pred4 = model4.predict(x_val4)"
   ]
  },
  {
   "cell_type": "code",
   "execution_count": 124,
   "metadata": {},
   "outputs": [
    {
     "name": "stdout",
     "output_type": "stream",
     "text": [
      "['lstat', 'ptratio']\n",
      "[-0.82877003 -1.25776375] 56.231763304678594\n"
     ]
    }
   ],
   "source": [
    "print(list(x_train4))\n",
    "print(model4.coef_, model4.intercept_)"
   ]
  },
  {
   "cell_type": "code",
   "execution_count": 125,
   "metadata": {
    "id": "RDtLhKbh1yvB"
   },
   "outputs": [
    {
     "name": "stdout",
     "output_type": "stream",
     "text": [
      "0.6480829901967096\n",
      "5.4905571146353465\n",
      "0.21174387997152602\n"
     ]
    }
   ],
   "source": [
    "print(r2_score(y_val, pred4))\n",
    "print(mean_squared_error(y_val, pred4, squared=False))\n",
    "print(mean_absolute_percentage_error(y_val, pred4))"
   ]
  },
  {
   "cell_type": "code",
   "execution_count": null,
   "metadata": {
    "id": "VdxIoh2E0xZR"
   },
   "outputs": [],
   "source": []
  },
  {
   "cell_type": "code",
   "execution_count": null,
   "metadata": {
    "id": "xHf4K9_R0xZS"
   },
   "outputs": [],
   "source": []
  },
  {
   "cell_type": "markdown",
   "metadata": {
    "id": "ubvVpbWDjDpQ"
   },
   "source": [
    "### (2) 모델5 "
   ]
  },
  {
   "cell_type": "code",
   "execution_count": 110,
   "metadata": {
    "id": "smUk2b5A3tU9"
   },
   "outputs": [],
   "source": [
    "# 학습에 사용할 변수를 지정합니다.\n",
    "features = ['lstat', 'ptratio', 'crim']\n",
    "x_train5 = x_train[features]\n",
    "x_val5 = x_val[features]"
   ]
  },
  {
   "cell_type": "code",
   "execution_count": 111,
   "metadata": {
    "id": "kDu4Y03X3tU-"
   },
   "outputs": [],
   "source": [
    "model5 = LinearRegression()\n",
    "model5.fit(x_train5, y_train)\n",
    "pred5 = model5.predict(x_val4)"
   ]
  },
  {
   "cell_type": "code",
   "execution_count": 126,
   "metadata": {
    "id": "dm3STzFq3tU-"
   },
   "outputs": [
    {
     "name": "stdout",
     "output_type": "stream",
     "text": [
      "['lstat', 'ptratio', 'crim']\n",
      "[-0.82488373 -1.252952   -0.00844337] 56.12327702981514\n"
     ]
    }
   ],
   "source": [
    "print(list(x_train5))\n",
    "print(model5.coef_, model5.intercept_)"
   ]
  },
  {
   "cell_type": "code",
   "execution_count": 113,
   "metadata": {
    "id": "tcoZmOfg3tU-"
   },
   "outputs": [
    {
     "name": "stdout",
     "output_type": "stream",
     "text": [
      "0.6488328396334714\n",
      "5.48470447535616\n",
      "0.21112168445263685\n"
     ]
    }
   ],
   "source": [
    "print(r2_score(y_val, pred5))\n",
    "print(mean_squared_error(y_val, pred5, squared=False))\n",
    "print(mean_absolute_percentage_error(y_val, pred5))"
   ]
  },
  {
   "cell_type": "code",
   "execution_count": null,
   "metadata": {
    "id": "9ZD1diq_3tU_"
   },
   "outputs": [],
   "source": []
  },
  {
   "cell_type": "markdown",
   "metadata": {
    "id": "WwwyRbzEkWid"
   },
   "source": [
    "### (3) 모델6"
   ]
  },
  {
   "cell_type": "code",
   "execution_count": 114,
   "metadata": {
    "id": "JfNZmZFX3vAd"
   },
   "outputs": [],
   "source": [
    "model6 = LinearRegression()\n",
    "model6.fit(x_train, y_train)\n",
    "pred6 = model6.predict(x_val)"
   ]
  },
  {
   "cell_type": "code",
   "execution_count": 128,
   "metadata": {
    "id": "lM8myCn_3vAe"
   },
   "outputs": [
    {
     "name": "stdout",
     "output_type": "stream",
     "text": [
      "['crim', 'zn', 'indus', 'chas', 'nox', 'rm', 'age', 'dis', 'rad', 'tax', 'ptratio', 'lstat']\n",
      "[-1.22425848e-01  3.82348308e-02  4.22856876e-02  3.20133717e+00\n",
      " -1.41572526e+01  4.39944607e+00 -5.77366256e-03 -1.33095603e+00\n",
      "  2.89257050e-01 -1.22428947e-02 -9.32466444e-01 -5.53256396e-01] 34.03070580007187\n"
     ]
    }
   ],
   "source": [
    "print(list(x_train))\n",
    "print(model6.coef_, model6.intercept_)"
   ]
  },
  {
   "cell_type": "code",
   "execution_count": 116,
   "metadata": {
    "id": "ShbseUsk3vAe"
   },
   "outputs": [
    {
     "name": "stdout",
     "output_type": "stream",
     "text": [
      "0.7311699031280621\n",
      "4.798828488866633\n",
      "0.21138270282541866\n"
     ]
    }
   ],
   "source": [
    "print(r2_score(y_val, pred6))\n",
    "print(mean_squared_error(y_val, pred6, squared=False))\n",
    "print(mean_absolute_percentage_error(y_val, pred6))"
   ]
  },
  {
   "cell_type": "code",
   "execution_count": null,
   "metadata": {
    "id": "D9-CbCgr3vAe"
   },
   "outputs": [],
   "source": []
  },
  {
   "cell_type": "markdown",
   "metadata": {
    "id": "CkOq7trbEjDb"
   },
   "source": [
    "### (4) 성능 비교 평가\n",
    "지금까지 모델들에 대해서 성능 비교를 해 봅시다."
   ]
  },
  {
   "cell_type": "markdown",
   "metadata": {
    "id": "fjqVB3nrl22H"
   },
   "source": [
    "* 결과를 하나의 데이터프레임으로 저장해서 비교해 봅시다."
   ]
  },
  {
   "cell_type": "code",
   "execution_count": 134,
   "metadata": {
    "id": "IiGtEgyjl-Zz"
   },
   "outputs": [
    {
     "data": {
      "text/html": [
       "<div>\n",
       "<style scoped>\n",
       "    .dataframe tbody tr th:only-of-type {\n",
       "        vertical-align: middle;\n",
       "    }\n",
       "\n",
       "    .dataframe tbody tr th {\n",
       "        vertical-align: top;\n",
       "    }\n",
       "\n",
       "    .dataframe thead th {\n",
       "        text-align: right;\n",
       "    }\n",
       "</style>\n",
       "<table border=\"1\" class=\"dataframe\">\n",
       "  <thead>\n",
       "    <tr style=\"text-align: right;\">\n",
       "      <th></th>\n",
       "      <th>model_no</th>\n",
       "      <th>rmse</th>\n",
       "      <th>mse</th>\n",
       "      <th>mape</th>\n",
       "    </tr>\n",
       "  </thead>\n",
       "  <tbody>\n",
       "    <tr>\n",
       "      <th>0</th>\n",
       "      <td>1</td>\n",
       "      <td>5.618125</td>\n",
       "      <td>4.138380</td>\n",
       "      <td>0.223987</td>\n",
       "    </tr>\n",
       "    <tr>\n",
       "      <th>1</th>\n",
       "      <td>2</td>\n",
       "      <td>8.278901</td>\n",
       "      <td>6.480427</td>\n",
       "      <td>0.404903</td>\n",
       "    </tr>\n",
       "    <tr>\n",
       "      <th>2</th>\n",
       "      <td>3</td>\n",
       "      <td>7.641651</td>\n",
       "      <td>5.963611</td>\n",
       "      <td>0.381457</td>\n",
       "    </tr>\n",
       "    <tr>\n",
       "      <th>3</th>\n",
       "      <td>4</td>\n",
       "      <td>5.490557</td>\n",
       "      <td>4.039846</td>\n",
       "      <td>0.211744</td>\n",
       "    </tr>\n",
       "    <tr>\n",
       "      <th>4</th>\n",
       "      <td>5</td>\n",
       "      <td>5.484704</td>\n",
       "      <td>4.037551</td>\n",
       "      <td>0.211122</td>\n",
       "    </tr>\n",
       "    <tr>\n",
       "      <th>5</th>\n",
       "      <td>6</td>\n",
       "      <td>4.798828</td>\n",
       "      <td>3.566514</td>\n",
       "      <td>0.211383</td>\n",
       "    </tr>\n",
       "  </tbody>\n",
       "</table>\n",
       "</div>"
      ],
      "text/plain": [
       "   model_no      rmse       mse      mape\n",
       "0         1  5.618125  4.138380  0.223987\n",
       "1         2  8.278901  6.480427  0.404903\n",
       "2         3  7.641651  5.963611  0.381457\n",
       "3         4  5.490557  4.039846  0.211744\n",
       "4         5  5.484704  4.037551  0.211122\n",
       "5         6  4.798828  3.566514  0.211383"
      ]
     },
     "execution_count": 134,
     "metadata": {},
     "output_type": "execute_result"
    }
   ],
   "source": [
    "model_no, rmse, mae, mape = [], [], [], []\n",
    "pred = [pred1, pred2, pred3, pred4, pred5, pred6]\n",
    "for i, p in enumerate(pred):\n",
    "    model_no.append(i+1)\n",
    "    rmse.append(mean_squared_error(y_val, p, squared=False))\n",
    "    mae.append(mean_absolute_error(y_val, p))\n",
    "    mape.append(mean_absolute_percentage_error(y_val, p))\n",
    "\n",
    "perf = pd.DataFrame({'model_no' : model_no,\n",
    "                     'rmse' : rmse,\n",
    "                     'mse' : mae,\n",
    "                     'mape' : mape,              \n",
    "                    })\n",
    "perf"
   ]
  },
  {
   "cell_type": "code",
   "execution_count": 140,
   "metadata": {
    "id": "zdpFkJ5n3yyD"
   },
   "outputs": [],
   "source": [
    "import seaborn as sns\n",
    "def plot_feature_importance(importance, names):\n",
    "    feature_importance = np.array(importance)\n",
    "    feature_names = np.array(names)\n",
    "\n",
    "    data={'feature_names':feature_names,'feature_importance':feature_importance}\n",
    "    fi_df = pd.DataFrame(data)\n",
    "\n",
    "    fi_df.sort_values(by=['feature_importance'], ascending=False,inplace=True)\n",
    "    fi_df.reset_index(drop=True, inplace = True)\n",
    "\n",
    "    plt.figure(figsize=(10,8))\n",
    "    sns.barplot(x='feature_importance', y='feature_names', data = fi_df)\n",
    "\n",
    "    plt.xlabel('FEATURE IMPORTANCE')\n",
    "    plt.ylabel('FEATURE NAMES')\n",
    "    plt.grid()\n",
    "\n",
    "    return fi_df"
   ]
  },
  {
   "cell_type": "code",
   "execution_count": 141,
   "metadata": {},
   "outputs": [
    {
     "data": {
      "text/plain": [
       "array([-1.22425848e-01,  3.82348308e-02,  4.22856876e-02,  3.20133717e+00,\n",
       "       -1.41572526e+01,  4.39944607e+00, -5.77366256e-03, -1.33095603e+00,\n",
       "        2.89257050e-01, -1.22428947e-02, -9.32466444e-01, -5.53256396e-01])"
      ]
     },
     "execution_count": 141,
     "metadata": {},
     "output_type": "execute_result"
    }
   ],
   "source": [
    "model6.coef_"
   ]
  },
  {
   "cell_type": "code",
   "execution_count": 142,
   "metadata": {},
   "outputs": [
    {
     "data": {
      "image/png": "[encoded data removed]",
      "text/plain": [
       "<Figure size 720x576 with 1 Axes>"
      ]
     },
     "metadata": {
      "needs_background": "light"
     },
     "output_type": "display_data"
    }
   ],
   "source": [
    "result = plot_feature_importance(model6.coef_, list(x_train))"
   ]
  },
  {
   "cell_type": "code",
   "execution_count": 144,
   "metadata": {},
   "outputs": [
    {
     "data": {
      "image/png": "[encoded data removed]",
      "text/plain": [
       "<Figure size 720x576 with 1 Axes>"
      ]
     },
     "metadata": {
      "needs_background": "light"
     },
     "output_type": "display_data"
    }
   ],
   "source": [
    "# MinMaxScaler를 이용하여 스케일링\n",
    "from sklearn.preprocessing import MinMaxScaler\n",
    "scaler = MinMaxScaler()\n",
    "x_train_s = scaler.fit_transform(x_train)\n",
    "\n",
    "# 다시 모델링\n",
    "model7 = LinearRegression()\n",
    "model7.fit(x_train_s, y_train)\n",
    "\n",
    "r = plot_feature_importance(model7.coef_, list(x_train))"
   ]
  },
  {
   "cell_type": "code",
   "execution_count": null,
   "metadata": {},
   "outputs": [],
   "source": []
  }
 ],
 "metadata": {
  "colab": {
   "collapsed_sections": [],
   "name": "02과 Linear Regression.ipynb",
   "provenance": [],
   "toc_visible": true
  },
  "kernelspec": {
   "display_name": "Python 3",
   "language": "python",
   "name": "python3"
  },
  "language_info": {
   "codemirror_mode": {
    "name": "ipython",
    "version": 3
   },
   "file_extension": ".py",
   "mimetype": "text/x-python",
   "name": "python",
   "nbconvert_exporter": "python",
   "pygments_lexer": "ipython3",
   "version": "3.8.8"
  }
 },
 "nbformat": 4,
 "nbformat_minor": 4
}
