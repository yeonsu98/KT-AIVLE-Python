{
 "cells": [
  {
   "cell_type": "markdown",
   "metadata": {
    "id": "cVB9pY-v8uv5"
   },
   "source": [
    "# 성능튜닝"
   ]
  },
  {
   "cell_type": "markdown",
   "metadata": {
    "id": "O1uL0UIEzBPw"
   },
   "source": [
    "## 1.환경준비"
   ]
  },
  {
   "cell_type": "markdown",
   "metadata": {
    "id": "vNt997De17qz"
   },
   "source": [
    "### (1) import"
   ]
  },
  {
   "cell_type": "code",
   "execution_count": 1,
   "metadata": {
    "id": "GugpCLBiVHzd"
   },
   "outputs": [],
   "source": [
    "#라이브러리들을 불러오자.\n",
    "import numpy as np\n",
    "import pandas as pd\n",
    "import matplotlib.pyplot as plt\n",
    "import seaborn as sns\n",
    "\n",
    "# 전처리\n",
    "from sklearn.model_selection import train_test_split\n",
    "from sklearn.preprocessing import MinMaxScaler\n",
    "\n",
    "# 모델링\n",
    "from sklearn.linear_model import LogisticRegression\n",
    "from sklearn.tree import DecisionTreeClassifier, plot_tree\n",
    "from sklearn.neighbors import KNeighborsClassifier\n",
    "from sklearn.svm import SVC\n",
    "from sklearn.metrics import * \n",
    "\n",
    "import warnings    # 경고메시지 제외\n",
    "warnings.filterwarnings(action='ignore')"
   ]
  },
  {
   "cell_type": "markdown",
   "metadata": {
    "id": "CG-FeAY4f25C"
   },
   "source": [
    "### (2) 데이터 준비"
   ]
  },
  {
   "cell_type": "markdown",
   "metadata": {
    "id": "LBOR4ttK_6JA"
   },
   "source": [
    "* 변수설명\n",
    "    * COLLEGE : 대학 졸업여부\n",
    "    * INCOME : 연수입\n",
    "    * OVERAGE : 월평균 초과사용 시간(분)\n",
    "    * LEFTOVER : 월평균 잔여시간비율(%)\n",
    "    * HOUSE : 집값\n",
    "    * HANDSET_PRICE : 스마트폰 가격\n",
    "    * OVER_15MINS_CALLS_PER_MONTH : 월평균 장기통화(15분이상) 횟수\n",
    "    * AVERAGE_CALL_DURATION : 평균 통화 시간\n",
    "    * REPORTED_SATISFACTION : 만족도 설문조사 결과\n",
    "    * REPORTED_USAGE_LEVEL : 사용도 자가진단 결과\n",
    "    * CONSIDERING_CHANGE_OF_PLAN : 향후 변경계획 설문조사 결과\n",
    "    * CHURN : 이탈(번호이동) 여부 (1-이탈, 0-잔류, Target 변수)\n"
   ]
  },
  {
   "cell_type": "code",
   "execution_count": 2,
   "metadata": {
    "id": "pl1Ar13F_6JB"
   },
   "outputs": [
    {
     "data": {
      "text/html": [
       "<div>\n",
       "<style scoped>\n",
       "    .dataframe tbody tr th:only-of-type {\n",
       "        vertical-align: middle;\n",
       "    }\n",
       "\n",
       "    .dataframe tbody tr th {\n",
       "        vertical-align: top;\n",
       "    }\n",
       "\n",
       "    .dataframe thead th {\n",
       "        text-align: right;\n",
       "    }\n",
       "</style>\n",
       "<table border=\"1\" class=\"dataframe\">\n",
       "  <thead>\n",
       "    <tr style=\"text-align: right;\">\n",
       "      <th></th>\n",
       "      <th>id</th>\n",
       "      <th>COLLEGE</th>\n",
       "      <th>INCOME</th>\n",
       "      <th>OVERAGE</th>\n",
       "      <th>LEFTOVER</th>\n",
       "      <th>HOUSE</th>\n",
       "      <th>HANDSET_PRICE</th>\n",
       "      <th>OVER_15MINS_CALLS_PER_MONTH</th>\n",
       "      <th>AVERAGE_CALL_DURATION</th>\n",
       "      <th>REPORTED_SATISFACTION</th>\n",
       "      <th>REPORTED_USAGE_LEVEL</th>\n",
       "      <th>CONSIDERING_CHANGE_OF_PLAN</th>\n",
       "      <th>CHURN</th>\n",
       "    </tr>\n",
       "  </thead>\n",
       "  <tbody>\n",
       "    <tr>\n",
       "      <th>3178</th>\n",
       "      <td>3179</td>\n",
       "      <td>0</td>\n",
       "      <td>119512</td>\n",
       "      <td>51</td>\n",
       "      <td>31</td>\n",
       "      <td>248566</td>\n",
       "      <td>229</td>\n",
       "      <td>5</td>\n",
       "      <td>2</td>\n",
       "      <td>very_sat</td>\n",
       "      <td>very_high</td>\n",
       "      <td>considering</td>\n",
       "      <td>1</td>\n",
       "    </tr>\n",
       "    <tr>\n",
       "      <th>14926</th>\n",
       "      <td>14927</td>\n",
       "      <td>1</td>\n",
       "      <td>142144</td>\n",
       "      <td>192</td>\n",
       "      <td>15</td>\n",
       "      <td>774317</td>\n",
       "      <td>581</td>\n",
       "      <td>29</td>\n",
       "      <td>4</td>\n",
       "      <td>unsat</td>\n",
       "      <td>very_little</td>\n",
       "      <td>never_thought</td>\n",
       "      <td>1</td>\n",
       "    </tr>\n",
       "    <tr>\n",
       "      <th>15116</th>\n",
       "      <td>15117</td>\n",
       "      <td>1</td>\n",
       "      <td>142308</td>\n",
       "      <td>0</td>\n",
       "      <td>79</td>\n",
       "      <td>306426</td>\n",
       "      <td>497</td>\n",
       "      <td>1</td>\n",
       "      <td>1</td>\n",
       "      <td>sat</td>\n",
       "      <td>little</td>\n",
       "      <td>considering</td>\n",
       "      <td>0</td>\n",
       "    </tr>\n",
       "    <tr>\n",
       "      <th>12733</th>\n",
       "      <td>12734</td>\n",
       "      <td>1</td>\n",
       "      <td>113385</td>\n",
       "      <td>0</td>\n",
       "      <td>0</td>\n",
       "      <td>333599</td>\n",
       "      <td>819</td>\n",
       "      <td>1</td>\n",
       "      <td>6</td>\n",
       "      <td>very_unsat</td>\n",
       "      <td>very_high</td>\n",
       "      <td>considering</td>\n",
       "      <td>1</td>\n",
       "    </tr>\n",
       "    <tr>\n",
       "      <th>14032</th>\n",
       "      <td>14033</td>\n",
       "      <td>1</td>\n",
       "      <td>90348</td>\n",
       "      <td>209</td>\n",
       "      <td>10</td>\n",
       "      <td>637286</td>\n",
       "      <td>360</td>\n",
       "      <td>26</td>\n",
       "      <td>4</td>\n",
       "      <td>unsat</td>\n",
       "      <td>little</td>\n",
       "      <td>actively_looking_into_it</td>\n",
       "      <td>0</td>\n",
       "    </tr>\n",
       "  </tbody>\n",
       "</table>\n",
       "</div>"
      ],
      "text/plain": [
       "          id  COLLEGE  INCOME  OVERAGE  LEFTOVER   HOUSE  HANDSET_PRICE  \\\n",
       "3178    3179        0  119512       51        31  248566            229   \n",
       "14926  14927        1  142144      192        15  774317            581   \n",
       "15116  15117        1  142308        0        79  306426            497   \n",
       "12733  12734        1  113385        0         0  333599            819   \n",
       "14032  14033        1   90348      209        10  637286            360   \n",
       "\n",
       "       OVER_15MINS_CALLS_PER_MONTH  AVERAGE_CALL_DURATION  \\\n",
       "3178                             5                      2   \n",
       "14926                           29                      4   \n",
       "15116                            1                      1   \n",
       "12733                            1                      6   \n",
       "14032                           26                      4   \n",
       "\n",
       "      REPORTED_SATISFACTION REPORTED_USAGE_LEVEL CONSIDERING_CHANGE_OF_PLAN  \\\n",
       "3178               very_sat            very_high                considering   \n",
       "14926                 unsat          very_little              never_thought   \n",
       "15116                   sat               little                considering   \n",
       "12733            very_unsat            very_high                considering   \n",
       "14032                 unsat               little   actively_looking_into_it   \n",
       "\n",
       "       CHURN  \n",
       "3178       1  \n",
       "14926      1  \n",
       "15116      0  \n",
       "12733      1  \n",
       "14032      0  "
      ]
     },
     "execution_count": 2,
     "metadata": {},
     "output_type": "execute_result"
    }
   ],
   "source": [
    "# 데이터를 불러옵시다.\n",
    "path = 'https://raw.githubusercontent.com/DA4BAM/dataset/master/mobile_cust_churn.csv'\n",
    "data = pd.read_csv(path)\n",
    "data = data.sample(5000, random_state = 2022)\n",
    "data['CHURN'] = data['CHURN'].map({'LEAVE':1, 'STAY':0}) # 1, 0으로 변경 (sklearn에서는 가변수화할 필요 없음),  statsmodels/tensorflow(keras)에서는 반드시 필요\n",
    "data.head()"
   ]
  },
  {
   "cell_type": "markdown",
   "metadata": {
    "id": "wW0d0eGmCYJM"
   },
   "source": [
    "## 2.데이터 준비"
   ]
  },
  {
   "cell_type": "markdown",
   "metadata": {
    "id": "y9Q6jR6OZjUk"
   },
   "source": [
    "### (1) 데이터 정리"
   ]
  },
  {
   "cell_type": "code",
   "execution_count": 3,
   "metadata": {
    "id": "Dhi6-3jgrEgQ"
   },
   "outputs": [],
   "source": [
    "drop_cols = ['id']\n",
    "data.drop(drop_cols, axis = 1, inplace = True )"
   ]
  },
  {
   "cell_type": "markdown",
   "metadata": {
    "id": "WpJEGpUuuVWm"
   },
   "source": [
    "### (2) 데이터분할1 : x, y 나누기"
   ]
  },
  {
   "cell_type": "code",
   "execution_count": 4,
   "metadata": {
    "id": "3u8-Ovu4ADVn"
   },
   "outputs": [],
   "source": [
    "target = 'CHURN'\n",
    "x = data.drop(target, axis = 1)\n",
    "y = data.loc[:, target]"
   ]
  },
  {
   "cell_type": "markdown",
   "metadata": {
    "id": "mp_5volyuaA1"
   },
   "source": [
    "### (3) NA 조치"
   ]
  },
  {
   "cell_type": "markdown",
   "metadata": {
    "id": "nOF9fSLQugGf"
   },
   "source": [
    "### (4) 가변수화"
   ]
  },
  {
   "cell_type": "code",
   "execution_count": 5,
   "metadata": {
    "id": "CZgBC2QSoKc8"
   },
   "outputs": [],
   "source": [
    "dumm_cols = ['REPORTED_SATISFACTION','REPORTED_USAGE_LEVEL','CONSIDERING_CHANGE_OF_PLAN']\n",
    "x = pd.get_dummies(x, columns = dumm_cols, drop_first = True)"
   ]
  },
  {
   "cell_type": "markdown",
   "metadata": {
    "id": "VBwpOKgkf5Am"
   },
   "source": [
    "### (5) 데이터분할2 : train : validation 나누기"
   ]
  },
  {
   "cell_type": "code",
   "execution_count": 6,
   "metadata": {
    "id": "1iHmTnHCgBw5"
   },
   "outputs": [],
   "source": [
    "x_train, x_val, y_train, y_val = train_test_split(x, y, test_size = .3, random_state = 20)"
   ]
  },
  {
   "cell_type": "markdown",
   "metadata": {
    "id": "59bBv0a8heYh"
   },
   "source": [
    "### (6) Scaling"
   ]
  },
  {
   "cell_type": "code",
   "execution_count": 7,
   "metadata": {
    "id": "vA28buJg9GpV"
   },
   "outputs": [],
   "source": [
    "scaler = MinMaxScaler()\n",
    "x_train_s = scaler.fit_transform(x_train)\n",
    "x_val_s = scaler.transform(x_val)"
   ]
  },
  {
   "cell_type": "markdown",
   "metadata": {
    "id": "Db2kkXxgf25E"
   },
   "source": [
    "## 3.선형모델 튜닝\n",
    "\n",
    "Logistic Regression : 전진선택법\n",
    "* 변수를 하나씩 늘려가면서\n",
    "* AIC를 가장 낮추는 모델 찾기"
   ]
  },
  {
   "cell_type": "markdown",
   "metadata": {
    "id": "IUfTRB1AZnKM"
   },
   "source": [
    "### (1) 전진선택을 수행할 함수 만들기( **로지스틱 회귀** 용)"
   ]
  },
  {
   "cell_type": "code",
   "execution_count": 8,
   "metadata": {
    "id": "JtuIPRybXPKE"
   },
   "outputs": [],
   "source": [
    "# 아래 함수는 로지스틱 회귀를 위한 전진선택법 함수 입니다.\n",
    "import statsmodels.api as sm\n",
    "\n",
    "def forward_stepwise_logistic(x_train, y_train):\n",
    "\n",
    "    # 변수목록, 선택된 변수 목록, 단계별 모델과 AIC 저장소 정의\n",
    "    features = list(x_train)\n",
    "    selected = []\n",
    "    step_df = pd.DataFrame({ 'step':[], 'feature':[],'aic':[]})\n",
    "\n",
    "    # \n",
    "    for s in range(0, len(features)) :\n",
    "        result =  { 'step':[], 'feature':[],'aic':[]}\n",
    "\n",
    "        # 변수 목록에서 변수 한개씩 뽑아서 모델에 추가\n",
    "        for f in features :\n",
    "            vars = selected + [f]\n",
    "            x_tr = x_train[vars]\n",
    "            model = sm.Logit(y_train, x_tr).fit()\n",
    "            result['step'].append(s+1)\n",
    "            result['feature'].append(vars)\n",
    "            result['aic'].append(model.aic)\n",
    "        \n",
    "        # 모델별 aic 집계\n",
    "        temp = pd.DataFrame(result).sort_values('aic').reset_index(drop = True)\n",
    "\n",
    "        # 만약 이전 aic보다 새로운 aic 가 크다면 멈추기\n",
    "        if step_df['aic'].min() < temp['aic'].min() :\n",
    "            break\n",
    "        step_df = pd.concat([step_df, temp], axis = 0).reset_index(drop = True)\n",
    "\n",
    "        # 선택된 변수 제거\n",
    "        v = temp.loc[0,'feature'][s]\n",
    "        features.remove(v)\n",
    "\n",
    "        selected.append(v)\n",
    "    \n",
    "    # 선택된 변수와 step_df 결과 반환\n",
    "    return selected, step_df"
   ]
  },
  {
   "cell_type": "markdown",
   "metadata": {
    "id": "vp6_CDIvaJ8I"
   },
   "source": [
    "### (2) 전진선택법 수행"
   ]
  },
  {
   "cell_type": "code",
   "execution_count": 9,
   "metadata": {
    "collapsed": true,
    "id": "X2_UhsQ0f25E",
    "jupyter": {
     "outputs_hidden": true
    },
    "tags": []
   },
   "outputs": [
    {
     "name": "stdout",
     "output_type": "stream",
     "text": [
      "Optimization terminated successfully.\n",
      "         Current function value: 0.693075\n",
      "         Iterations 3\n",
      "Optimization terminated successfully.\n",
      "         Current function value: 0.693062\n",
      "         Iterations 2\n",
      "Optimization terminated successfully.\n",
      "         Current function value: 0.683528\n",
      "         Iterations 4\n",
      "Optimization terminated successfully.\n",
      "         Current function value: 0.693007\n",
      "         Iterations 3\n",
      "Optimization terminated successfully.\n",
      "         Current function value: 0.684909\n",
      "         Iterations 2\n",
      "Optimization terminated successfully.\n",
      "         Current function value: 0.693042\n",
      "         Iterations 2\n",
      "Optimization terminated successfully.\n",
      "         Current function value: 0.686899\n",
      "         Iterations 4\n",
      "Optimization terminated successfully.\n",
      "         Current function value: 0.692565\n",
      "         Iterations 3\n",
      "Optimization terminated successfully.\n",
      "         Current function value: 0.692806\n",
      "         Iterations 4\n",
      "Optimization terminated successfully.\n",
      "         Current function value: 0.693137\n",
      "         Iterations 3\n",
      "Optimization terminated successfully.\n",
      "         Current function value: 0.691866\n",
      "         Iterations 4\n",
      "Optimization terminated successfully.\n",
      "         Current function value: 0.693146\n",
      "         Iterations 2\n",
      "Optimization terminated successfully.\n",
      "         Current function value: 0.693147\n",
      "         Iterations 1\n",
      "Optimization terminated successfully.\n",
      "         Current function value: 0.693015\n",
      "         Iterations 3\n",
      "Optimization terminated successfully.\n",
      "         Current function value: 0.692965\n",
      "         Iterations 3\n",
      "Optimization terminated successfully.\n",
      "         Current function value: 0.692882\n",
      "         Iterations 3\n",
      "Optimization terminated successfully.\n",
      "         Current function value: 0.692579\n",
      "         Iterations 3\n",
      "Optimization terminated successfully.\n",
      "         Current function value: 0.693046\n",
      "         Iterations 3\n",
      "Optimization terminated successfully.\n",
      "         Current function value: 0.693080\n",
      "         Iterations 3\n",
      "Optimization terminated successfully.\n",
      "         Current function value: 0.693058\n",
      "         Iterations 3\n",
      "Optimization terminated successfully.\n",
      "         Current function value: 0.679039\n",
      "         Iterations 4\n",
      "Optimization terminated successfully.\n",
      "         Current function value: 0.679064\n",
      "         Iterations 4\n",
      "Optimization terminated successfully.\n",
      "         Current function value: 0.682035\n",
      "         Iterations 4\n",
      "Optimization terminated successfully.\n",
      "         Current function value: 0.643056\n",
      "         Iterations 4\n",
      "Optimization terminated successfully.\n",
      "         Current function value: 0.679443\n",
      "         Iterations 4\n",
      "Optimization terminated successfully.\n",
      "         Current function value: 0.683317\n",
      "         Iterations 4\n",
      "Optimization terminated successfully.\n",
      "         Current function value: 0.674460\n",
      "         Iterations 4\n",
      "Optimization terminated successfully.\n",
      "         Current function value: 0.682313\n",
      "         Iterations 4\n",
      "Optimization terminated successfully.\n",
      "         Current function value: 0.682292\n",
      "         Iterations 4\n",
      "Optimization terminated successfully.\n",
      "         Current function value: 0.678103\n",
      "         Iterations 4\n",
      "Optimization terminated successfully.\n",
      "         Current function value: 0.680840\n",
      "         Iterations 4\n",
      "Optimization terminated successfully.\n",
      "         Current function value: 0.683068\n",
      "         Iterations 4\n",
      "Optimization terminated successfully.\n",
      "         Current function value: 0.679251\n",
      "         Iterations 4\n",
      "Optimization terminated successfully.\n",
      "         Current function value: 0.680933\n",
      "         Iterations 4\n",
      "Optimization terminated successfully.\n",
      "         Current function value: 0.681200\n",
      "         Iterations 4\n",
      "Optimization terminated successfully.\n",
      "         Current function value: 0.677933\n",
      "         Iterations 4\n",
      "Optimization terminated successfully.\n",
      "         Current function value: 0.682371\n",
      "         Iterations 4\n",
      "Optimization terminated successfully.\n",
      "         Current function value: 0.682062\n",
      "         Iterations 4\n",
      "Optimization terminated successfully.\n",
      "         Current function value: 0.682863\n",
      "         Iterations 4\n",
      "Optimization terminated successfully.\n",
      "         Current function value: 0.642039\n",
      "         Iterations 5\n",
      "Optimization terminated successfully.\n",
      "         Current function value: 0.635596\n",
      "         Iterations 4\n",
      "Optimization terminated successfully.\n",
      "         Current function value: 0.639711\n",
      "         Iterations 4\n",
      "Optimization terminated successfully.\n",
      "         Current function value: 0.635522\n",
      "         Iterations 4\n",
      "Optimization terminated successfully.\n",
      "         Current function value: 0.642894\n",
      "         Iterations 4\n",
      "Optimization terminated successfully.\n",
      "         Current function value: 0.642569\n",
      "         Iterations 5\n",
      "Optimization terminated successfully.\n",
      "         Current function value: 0.642966\n",
      "         Iterations 5\n",
      "Optimization terminated successfully.\n",
      "         Current function value: 0.642830\n",
      "         Iterations 5\n",
      "Optimization terminated successfully.\n",
      "         Current function value: 0.642966\n",
      "         Iterations 5\n",
      "Optimization terminated successfully.\n",
      "         Current function value: 0.641766\n",
      "         Iterations 5\n",
      "Optimization terminated successfully.\n",
      "         Current function value: 0.642866\n",
      "         Iterations 5\n",
      "Optimization terminated successfully.\n",
      "         Current function value: 0.642929\n",
      "         Iterations 5\n",
      "Optimization terminated successfully.\n",
      "         Current function value: 0.642750\n",
      "         Iterations 5\n",
      "Optimization terminated successfully.\n",
      "         Current function value: 0.642940\n",
      "         Iterations 5\n",
      "Optimization terminated successfully.\n",
      "         Current function value: 0.643014\n",
      "         Iterations 5\n",
      "Optimization terminated successfully.\n",
      "         Current function value: 0.643051\n",
      "         Iterations 5\n",
      "Optimization terminated successfully.\n",
      "         Current function value: 0.642672\n",
      "         Iterations 5\n",
      "Optimization terminated successfully.\n",
      "         Current function value: 0.643053\n",
      "         Iterations 5\n",
      "Optimization terminated successfully.\n",
      "         Current function value: 0.635399\n",
      "         Iterations 5\n",
      "Optimization terminated successfully.\n",
      "         Current function value: 0.634914\n",
      "         Iterations 4\n",
      "Optimization terminated successfully.\n",
      "         Current function value: 0.633893\n",
      "         Iterations 5\n",
      "Optimization terminated successfully.\n",
      "         Current function value: 0.635419\n",
      "         Iterations 4\n",
      "Optimization terminated successfully.\n",
      "         Current function value: 0.635464\n",
      "         Iterations 4\n",
      "Optimization terminated successfully.\n",
      "         Current function value: 0.635187\n",
      "         Iterations 5\n",
      "Optimization terminated successfully.\n",
      "         Current function value: 0.635504\n",
      "         Iterations 5\n",
      "Optimization terminated successfully.\n",
      "         Current function value: 0.634933\n",
      "         Iterations 5\n",
      "Optimization terminated successfully.\n",
      "         Current function value: 0.635116\n",
      "         Iterations 5\n",
      "Optimization terminated successfully.\n",
      "         Current function value: 0.635470\n",
      "         Iterations 4\n",
      "Optimization terminated successfully.\n",
      "         Current function value: 0.635439\n",
      "         Iterations 5\n",
      "Optimization terminated successfully.\n",
      "         Current function value: 0.635494\n",
      "         Iterations 5\n",
      "Optimization terminated successfully.\n",
      "         Current function value: 0.635521\n",
      "         Iterations 5\n",
      "Optimization terminated successfully.\n",
      "         Current function value: 0.635391\n",
      "         Iterations 5\n",
      "Optimization terminated successfully.\n",
      "         Current function value: 0.635503\n",
      "         Iterations 5\n",
      "Optimization terminated successfully.\n",
      "         Current function value: 0.635451\n",
      "         Iterations 5\n",
      "Optimization terminated successfully.\n",
      "         Current function value: 0.635483\n",
      "         Iterations 5\n",
      "Optimization terminated successfully.\n",
      "         Current function value: 0.633842\n",
      "         Iterations 5\n",
      "Optimization terminated successfully.\n",
      "         Current function value: 0.633406\n",
      "         Iterations 5\n",
      "Optimization terminated successfully.\n",
      "         Current function value: 0.633794\n",
      "         Iterations 5\n",
      "Optimization terminated successfully.\n",
      "         Current function value: 0.633753\n",
      "         Iterations 5\n",
      "Optimization terminated successfully.\n",
      "         Current function value: 0.633538\n",
      "         Iterations 5\n",
      "Optimization terminated successfully.\n",
      "         Current function value: 0.633890\n",
      "         Iterations 5\n",
      "Optimization terminated successfully.\n",
      "         Current function value: 0.633194\n",
      "         Iterations 5\n",
      "Optimization terminated successfully.\n",
      "         Current function value: 0.633579\n",
      "         Iterations 5\n",
      "Optimization terminated successfully.\n",
      "         Current function value: 0.633861\n",
      "         Iterations 5\n",
      "Optimization terminated successfully.\n",
      "         Current function value: 0.633765\n",
      "         Iterations 5\n",
      "Optimization terminated successfully.\n",
      "         Current function value: 0.633884\n",
      "         Iterations 5\n",
      "Optimization terminated successfully.\n",
      "         Current function value: 0.633888\n",
      "         Iterations 5\n",
      "Optimization terminated successfully.\n",
      "         Current function value: 0.633674\n",
      "         Iterations 5\n",
      "Optimization terminated successfully.\n",
      "         Current function value: 0.633874\n",
      "         Iterations 5\n",
      "Optimization terminated successfully.\n",
      "         Current function value: 0.633866\n",
      "         Iterations 5\n",
      "Optimization terminated successfully.\n",
      "         Current function value: 0.633847\n",
      "         Iterations 5\n",
      "Optimization terminated successfully.\n",
      "         Current function value: 0.633112\n",
      "         Iterations 5\n",
      "Optimization terminated successfully.\n",
      "         Current function value: 0.632641\n",
      "         Iterations 5\n",
      "Optimization terminated successfully.\n",
      "         Current function value: 0.633102\n",
      "         Iterations 5\n",
      "Optimization terminated successfully.\n",
      "         Current function value: 0.632954\n",
      "         Iterations 5\n",
      "Optimization terminated successfully.\n",
      "         Current function value: 0.632697\n",
      "         Iterations 5\n",
      "Optimization terminated successfully.\n",
      "         Current function value: 0.633174\n",
      "         Iterations 5\n",
      "Optimization terminated successfully.\n",
      "         Current function value: 0.633137\n",
      "         Iterations 5\n",
      "Optimization terminated successfully.\n",
      "         Current function value: 0.633162\n",
      "         Iterations 5\n",
      "Optimization terminated successfully.\n",
      "         Current function value: 0.633092\n",
      "         Iterations 5\n",
      "Optimization terminated successfully.\n",
      "         Current function value: 0.633175\n",
      "         Iterations 5\n",
      "Optimization terminated successfully.\n",
      "         Current function value: 0.633193\n",
      "         Iterations 5\n",
      "Optimization terminated successfully.\n",
      "         Current function value: 0.633016\n",
      "         Iterations 5\n",
      "Optimization terminated successfully.\n",
      "         Current function value: 0.633178\n",
      "         Iterations 5\n",
      "Optimization terminated successfully.\n",
      "         Current function value: 0.633151\n",
      "         Iterations 5\n",
      "Optimization terminated successfully.\n",
      "         Current function value: 0.633158\n",
      "         Iterations 5\n",
      "Optimization terminated successfully.\n",
      "         Current function value: 0.632593\n",
      "         Iterations 5\n",
      "Optimization terminated successfully.\n",
      "         Current function value: 0.632566\n",
      "         Iterations 5\n",
      "Optimization terminated successfully.\n",
      "         Current function value: 0.632521\n",
      "         Iterations 5\n",
      "Optimization terminated successfully.\n",
      "         Current function value: 0.632098\n",
      "         Iterations 5\n",
      "Optimization terminated successfully.\n",
      "         Current function value: 0.632599\n",
      "         Iterations 5\n",
      "Optimization terminated successfully.\n",
      "         Current function value: 0.632616\n",
      "         Iterations 5\n",
      "Optimization terminated successfully.\n",
      "         Current function value: 0.632617\n",
      "         Iterations 5\n",
      "Optimization terminated successfully.\n",
      "         Current function value: 0.632520\n",
      "         Iterations 5\n",
      "Optimization terminated successfully.\n",
      "         Current function value: 0.632636\n",
      "         Iterations 5\n",
      "Optimization terminated successfully.\n",
      "         Current function value: 0.632635\n",
      "         Iterations 5\n",
      "Optimization terminated successfully.\n",
      "         Current function value: 0.632427\n",
      "         Iterations 5\n",
      "Optimization terminated successfully.\n",
      "         Current function value: 0.632616\n",
      "         Iterations 5\n",
      "Optimization terminated successfully.\n",
      "         Current function value: 0.632613\n",
      "         Iterations 5\n",
      "Optimization terminated successfully.\n",
      "         Current function value: 0.632591\n",
      "         Iterations 5\n",
      "Optimization terminated successfully.\n",
      "         Current function value: 0.632043\n",
      "         Iterations 5\n",
      "Optimization terminated successfully.\n",
      "         Current function value: 0.632027\n",
      "         Iterations 5\n",
      "Optimization terminated successfully.\n",
      "         Current function value: 0.631949\n",
      "         Iterations 5\n",
      "Optimization terminated successfully.\n",
      "         Current function value: 0.632002\n",
      "         Iterations 5\n",
      "Optimization terminated successfully.\n",
      "         Current function value: 0.632098\n",
      "         Iterations 5\n",
      "Optimization terminated successfully.\n",
      "         Current function value: 0.632072\n",
      "         Iterations 5\n",
      "Optimization terminated successfully.\n",
      "         Current function value: 0.631997\n",
      "         Iterations 5\n",
      "Optimization terminated successfully.\n",
      "         Current function value: 0.632093\n",
      "         Iterations 5\n",
      "Optimization terminated successfully.\n",
      "         Current function value: 0.632092\n",
      "         Iterations 5\n",
      "Optimization terminated successfully.\n",
      "         Current function value: 0.631906\n",
      "         Iterations 5\n",
      "Optimization terminated successfully.\n",
      "         Current function value: 0.632075\n",
      "         Iterations 5\n",
      "Optimization terminated successfully.\n",
      "         Current function value: 0.632062\n",
      "         Iterations 5\n",
      "Optimization terminated successfully.\n",
      "         Current function value: 0.632051\n",
      "         Iterations 5\n"
     ]
    }
   ],
   "source": [
    "vars, result = forward_stepwise_logistic(x_train, y_train)"
   ]
  },
  {
   "cell_type": "markdown",
   "metadata": {
    "id": "b8831TsJaHFq"
   },
   "source": [
    "* 선택된 변수"
   ]
  },
  {
   "cell_type": "code",
   "execution_count": 10,
   "metadata": {
    "id": "ReDkDZMmaB8l"
   },
   "outputs": [
    {
     "data": {
      "text/plain": [
       "['OVERAGE',\n",
       " 'HOUSE',\n",
       " 'HANDSET_PRICE',\n",
       " 'LEFTOVER',\n",
       " 'REPORTED_SATISFACTION_very_sat',\n",
       " 'INCOME',\n",
       " 'REPORTED_SATISFACTION_sat']"
      ]
     },
     "execution_count": 10,
     "metadata": {},
     "output_type": "execute_result"
    }
   ],
   "source": [
    "vars"
   ]
  },
  {
   "cell_type": "code",
   "execution_count": 11,
   "metadata": {
    "id": "cOmUN6lwcgPS"
   },
   "outputs": [],
   "source": [
    "pd.set_option('display.width', None)\n",
    "pd.set_option('display.max_colwidth', -1)"
   ]
  },
  {
   "cell_type": "markdown",
   "metadata": {
    "id": "F4Z39MGUaZtQ"
   },
   "source": [
    "### (3) 모델링"
   ]
  },
  {
   "cell_type": "markdown",
   "metadata": {
    "id": "mB26yCqEabkL"
   },
   "source": [
    "* 전체 변수 "
   ]
  },
  {
   "cell_type": "code",
   "execution_count": 12,
   "metadata": {
    "id": "zqk4Me37aesP"
   },
   "outputs": [
    {
     "name": "stdout",
     "output_type": "stream",
     "text": [
      "0.6333333333333333\n",
      "              precision    recall  f1-score   support\n",
      "\n",
      "           0       0.62      0.68      0.65       738\n",
      "           1       0.65      0.59      0.62       762\n",
      "\n",
      "    accuracy                           0.63      1500\n",
      "   macro avg       0.63      0.63      0.63      1500\n",
      "weighted avg       0.64      0.63      0.63      1500\n",
      "\n"
     ]
    }
   ],
   "source": [
    "m1 = LogisticRegression()\n",
    "m1.fit(x_train, y_train)\n",
    "p1 = m1.predict(x_val)\n",
    "\n",
    "print(accuracy_score(y_val, p1))\n",
    "print(classification_report(y_val, p1))"
   ]
  },
  {
   "cell_type": "markdown",
   "metadata": {
    "id": "m_1EE72zatBw"
   },
   "source": [
    "* 전진선택법 변수"
   ]
  },
  {
   "cell_type": "code",
   "execution_count": 13,
   "metadata": {
    "id": "0rKoLRi1atBx"
   },
   "outputs": [
    {
     "name": "stdout",
     "output_type": "stream",
     "text": [
      "0.634\n",
      "              precision    recall  f1-score   support\n",
      "\n",
      "           0       0.62      0.68      0.65       738\n",
      "           1       0.66      0.59      0.62       762\n",
      "\n",
      "    accuracy                           0.63      1500\n",
      "   macro avg       0.64      0.63      0.63      1500\n",
      "weighted avg       0.64      0.63      0.63      1500\n",
      "\n"
     ]
    }
   ],
   "source": [
    "m2 = LogisticRegression()\n",
    "m2.fit(x_train[vars], y_train)\n",
    "p2 = m2.predict(x_val[vars])\n",
    "\n",
    "print(accuracy_score(y_val, p2))\n",
    "print(classification_report(y_val, p2))"
   ]
  },
  {
   "cell_type": "markdown",
   "metadata": {
    "id": "fFre1mi8dhcK"
   },
   "source": [
    "## 4.하이퍼파라미터 튜닝"
   ]
  },
  {
   "cell_type": "markdown",
   "metadata": {
    "id": "lqqbcYcleEa7"
   },
   "source": [
    "### (1) 필요한 함수 불러오기 "
   ]
  },
  {
   "cell_type": "code",
   "execution_count": 14,
   "metadata": {
    "id": "b4VHDaqBeGa7"
   },
   "outputs": [],
   "source": [
    "from sklearn.model_selection import RandomizedSearchCV, GridSearchCV"
   ]
  },
  {
   "cell_type": "markdown",
   "metadata": {
    "id": "4QhAEJoKeUph"
   },
   "source": [
    "### (2) Random Search\n",
    "\n",
    "① 값의 범위를 지정한다.  \n",
    "② 모델 선언(시도 횟수 지정)  \n",
    "③ 모델링(값의 범위 내에서 시도 횟수만큼 랜덤하게 선택해서 시도한다.)  \n",
    "④ 가장 성능이 좋은 값을 선정\n"
   ]
  },
  {
   "cell_type": "markdown",
   "metadata": {
    "id": "0QV5WwTsefwR"
   },
   "source": [
    "#### ① 값의 범위를 지정한다."
   ]
  },
  {
   "cell_type": "code",
   "execution_count": 15,
   "metadata": {
    "id": "uw_0xzoRqSWa"
   },
   "outputs": [
    {
     "data": {
      "text/plain": [
       "{'n_neighbors': range(1, 51), 'metric': ['euclidean', 'manhattan']}"
      ]
     },
     "execution_count": 15,
     "metadata": {},
     "output_type": "execute_result"
    }
   ],
   "source": [
    "# dictionary형태로 선언\n",
    "params = { 'n_neighbors' : range(1,51), 'metric' : ['euclidean', 'manhattan']  }\n",
    "params"
   ]
  },
  {
   "cell_type": "markdown",
   "metadata": {
    "id": "smGb7riKe7Fj"
   },
   "source": [
    "#### ② 모델 선언"
   ]
  },
  {
   "cell_type": "code",
   "execution_count": 16,
   "metadata": {
    "id": "aycGcFmIq2aq"
   },
   "outputs": [],
   "source": [
    "# 기본모델\n",
    "model = KNeighborsClassifier()\n",
    "\n",
    "# Random Search 설정.\n",
    "model_rs = RandomizedSearchCV(model\n",
    "                            , params              # hyperparameter 범위 지정.\n",
    "                            , cv=5                    # k-fold Cross Validation\n",
    "                            , n_iter=5                # Random하게 시도할 횟수\n",
    "                            )"
   ]
  },
  {
   "cell_type": "markdown",
   "metadata": {
    "id": "o7YpDODPfW-Y"
   },
   "source": [
    "#### ③ 모델링"
   ]
  },
  {
   "cell_type": "code",
   "execution_count": 17,
   "metadata": {
    "id": "LzX7OxZnoatr"
   },
   "outputs": [
    {
     "data": {
      "text/plain": [
       "RandomizedSearchCV(cv=5, estimator=KNeighborsClassifier(), n_iter=5,\n",
       "                   param_distributions={'metric': ['euclidean', 'manhattan'],\n",
       "                                        'n_neighbors': range(1, 51)})"
      ]
     },
     "execution_count": 17,
     "metadata": {},
     "output_type": "execute_result"
    }
   ],
   "source": [
    "# 학습 : model이 아니라 model_rs\n",
    "model_rs.fit(x_train_s, y_train)"
   ]
  },
  {
   "cell_type": "code",
   "execution_count": 18,
   "metadata": {
    "id": "DkUVXP_Loatt"
   },
   "outputs": [
    {
     "data": {
      "text/plain": [
       "{'mean_fit_time': array([0.00242186, 0.00235357, 0.00233359, 0.00215487, 0.00164871]),\n",
       " 'std_fit_time': array([0.00132386, 0.0008226 , 0.00032343, 0.00071886, 0.00044862]),\n",
       " 'mean_score_time': array([0.17676244, 0.117489  , 0.14517279, 0.12142558, 0.14835806]),\n",
       " 'std_score_time': array([0.06125358, 0.01478591, 0.01064934, 0.00560152, 0.01079946]),\n",
       " 'param_n_neighbors': masked_array(data=[26, 45, 37, 7, 45],\n",
       "              mask=[False, False, False, False, False],\n",
       "        fill_value='?',\n",
       "             dtype=object),\n",
       " 'param_metric': masked_array(data=['manhattan', 'euclidean', 'manhattan', 'euclidean',\n",
       "                    'manhattan'],\n",
       "              mask=[False, False, False, False, False],\n",
       "        fill_value='?',\n",
       "             dtype=object),\n",
       " 'params': [{'n_neighbors': 26, 'metric': 'manhattan'},\n",
       "  {'n_neighbors': 45, 'metric': 'euclidean'},\n",
       "  {'n_neighbors': 37, 'metric': 'manhattan'},\n",
       "  {'n_neighbors': 7, 'metric': 'euclidean'},\n",
       "  {'n_neighbors': 45, 'metric': 'manhattan'}],\n",
       " 'split0_test_score': array([0.63571429, 0.61428571, 0.64142857, 0.58142857, 0.64142857]),\n",
       " 'split1_test_score': array([0.61857143, 0.58428571, 0.61714286, 0.57857143, 0.61142857]),\n",
       " 'split2_test_score': array([0.62142857, 0.61142857, 0.64      , 0.56857143, 0.62714286]),\n",
       " 'split3_test_score': array([0.61      , 0.56857143, 0.62285714, 0.58      , 0.62      ]),\n",
       " 'split4_test_score': array([0.60285714, 0.57142857, 0.61714286, 0.57714286, 0.60714286]),\n",
       " 'mean_test_score': array([0.61771429, 0.59      , 0.62771429, 0.57714286, 0.62142857]),\n",
       " 'std_test_score': array([0.01112453, 0.01942017, 0.01082703, 0.00451754, 0.01215546]),\n",
       " 'rank_test_score': array([3, 4, 1, 5, 2])}"
      ]
     },
     "execution_count": 18,
     "metadata": {},
     "output_type": "execute_result"
    }
   ],
   "source": [
    "# 튜닝 결과\n",
    "model_rs.cv_results_"
   ]
  },
  {
   "cell_type": "code",
   "execution_count": 19,
   "metadata": {
    "id": "ygL2UHJE4inW"
   },
   "outputs": [
    {
     "data": {
      "text/plain": [
       "[{'n_neighbors': 26, 'metric': 'manhattan'},\n",
       " {'n_neighbors': 45, 'metric': 'euclidean'},\n",
       " {'n_neighbors': 37, 'metric': 'manhattan'},\n",
       " {'n_neighbors': 7, 'metric': 'euclidean'},\n",
       " {'n_neighbors': 45, 'metric': 'manhattan'}]"
      ]
     },
     "execution_count": 19,
     "metadata": {},
     "output_type": "execute_result"
    }
   ],
   "source": [
    "model_rs.cv_results_['params']"
   ]
  },
  {
   "cell_type": "code",
   "execution_count": 20,
   "metadata": {
    "id": "Ev8QMOLM4qM3"
   },
   "outputs": [
    {
     "data": {
      "text/plain": [
       "array([0.61771429, 0.59      , 0.62771429, 0.57714286, 0.62142857])"
      ]
     },
     "execution_count": 20,
     "metadata": {},
     "output_type": "execute_result"
    }
   ],
   "source": [
    "model_rs.cv_results_['mean_test_score']"
   ]
  },
  {
   "cell_type": "code",
   "execution_count": 21,
   "metadata": {
    "id": "WibiA2j9sRo_"
   },
   "outputs": [
    {
     "data": {
      "text/plain": [
       "{'n_neighbors': 37, 'metric': 'manhattan'}"
      ]
     },
     "execution_count": 21,
     "metadata": {},
     "output_type": "execute_result"
    }
   ],
   "source": [
    "# 최적의 파라미터\n",
    "model_rs.best_params_"
   ]
  },
  {
   "cell_type": "code",
   "execution_count": 22,
   "metadata": {
    "id": "tPwtq5L3vUmo"
   },
   "outputs": [
    {
     "data": {
      "text/plain": [
       "0.6277142857142857"
      ]
     },
     "execution_count": 22,
     "metadata": {},
     "output_type": "execute_result"
    }
   ],
   "source": [
    "# 그때의 성능\n",
    "model_rs.best_score_"
   ]
  },
  {
   "cell_type": "code",
   "execution_count": 23,
   "metadata": {
    "id": "99n6iBAGoatw"
   },
   "outputs": [
    {
     "name": "stdout",
     "output_type": "stream",
     "text": [
      "              precision    recall  f1-score   support\n",
      "\n",
      "           0       0.59      0.74      0.66       738\n",
      "           1       0.66      0.51      0.58       762\n",
      "\n",
      "    accuracy                           0.62      1500\n",
      "   macro avg       0.63      0.62      0.62      1500\n",
      "weighted avg       0.63      0.62      0.62      1500\n",
      "\n"
     ]
    }
   ],
   "source": [
    "# best 모델로 예측 및 평가\n",
    "pred = model_rs.predict(x_val_s)\n",
    "print(classification_report(y_val, pred))"
   ]
  },
  {
   "cell_type": "markdown",
   "metadata": {
    "id": "1WRLq_4tf-ve"
   },
   "source": [
    "### (3) 실습 : Random Search\n",
    "\n",
    "* decision tree로 튜닝을 시도해 봅시다.\n",
    "    * max_depth : 1~10\n",
    "    * min_samples_leaf : 10 ~ 100"
   ]
  },
  {
   "cell_type": "markdown",
   "metadata": {
    "id": "-lJcU4Xlf-ve"
   },
   "source": [
    "#### ① 값의 범위를 지정한다."
   ]
  },
  {
   "cell_type": "code",
   "execution_count": 24,
   "metadata": {
    "id": "5vbadH6Cf-ve"
   },
   "outputs": [
    {
     "data": {
      "text/plain": [
       "{'max_depth': range(1, 11), 'min_samples_leaf': range(10, 101, 10)}"
      ]
     },
     "execution_count": 24,
     "metadata": {},
     "output_type": "execute_result"
    }
   ],
   "source": [
    "# dictionary형태로 선언\n",
    "params = { 'max_depth' : range(1, 11), 'min_samples_leaf' : range(10, 101, 10) }\n",
    "params"
   ]
  },
  {
   "cell_type": "markdown",
   "metadata": {
    "id": "VlSVAR-7f-vf"
   },
   "source": [
    "#### ② 모델 선언"
   ]
  },
  {
   "cell_type": "code",
   "execution_count": 25,
   "metadata": {
    "id": "i0S0er2Af-vf"
   },
   "outputs": [],
   "source": [
    "model_dt = DecisionTreeClassifier()\n",
    "\n",
    "random_dt = RandomizedSearchCV( model_dt,\n",
    "                                params,\n",
    "                                cv=5,\n",
    "                                n_iter=10\n",
    "                              )"
   ]
  },
  {
   "cell_type": "markdown",
   "metadata": {
    "id": "1oTmve_lf-vf"
   },
   "source": [
    "#### ③ 모델링"
   ]
  },
  {
   "cell_type": "code",
   "execution_count": 26,
   "metadata": {
    "id": "O121oftOf-vf"
   },
   "outputs": [
    {
     "data": {
      "text/plain": [
       "RandomizedSearchCV(cv=5, estimator=DecisionTreeClassifier(),\n",
       "                   param_distributions={'max_depth': range(1, 11),\n",
       "                                        'min_samples_leaf': range(10, 101, 10)})"
      ]
     },
     "execution_count": 26,
     "metadata": {},
     "output_type": "execute_result"
    }
   ],
   "source": [
    "random_dt.fit(x_train, y_train)"
   ]
  },
  {
   "cell_type": "code",
   "execution_count": 27,
   "metadata": {
    "id": "mzVCpqpCf-vf"
   },
   "outputs": [
    {
     "data": {
      "text/plain": [
       "{'mean_fit_time': array([0.0229444 , 0.00753055, 0.01309013, 0.01646419, 0.01029286,\n",
       "        0.01169648, 0.02117491, 0.00625792, 0.01326976, 0.01587529]),\n",
       " 'std_fit_time': array([0.00389714, 0.00137963, 0.00242957, 0.00158586, 0.0003259 ,\n",
       "        0.00037124, 0.00090423, 0.00100052, 0.00086239, 0.00081711]),\n",
       " 'mean_score_time': array([0.00771313, 0.00361533, 0.00413394, 0.0037396 , 0.00319071,\n",
       "        0.00303946, 0.00313182, 0.00331178, 0.00269065, 0.00294113]),\n",
       " 'std_score_time': array([0.0040283 , 0.00078789, 0.00119596, 0.00105262, 0.00039995,\n",
       "        0.00064032, 0.0002476 , 0.00096198, 0.00039234, 0.00058094]),\n",
       " 'param_min_samples_leaf': masked_array(data=[20, 60, 50, 50, 80, 90, 10, 10, 10, 50],\n",
       "              mask=[False, False, False, False, False, False, False, False,\n",
       "                    False, False],\n",
       "        fill_value='?',\n",
       "             dtype=object),\n",
       " 'param_max_depth': masked_array(data=[6, 1, 3, 5, 3, 4, 10, 1, 4, 8],\n",
       "              mask=[False, False, False, False, False, False, False, False,\n",
       "                    False, False],\n",
       "        fill_value='?',\n",
       "             dtype=object),\n",
       " 'params': [{'min_samples_leaf': 20, 'max_depth': 6},\n",
       "  {'min_samples_leaf': 60, 'max_depth': 1},\n",
       "  {'min_samples_leaf': 50, 'max_depth': 3},\n",
       "  {'min_samples_leaf': 50, 'max_depth': 5},\n",
       "  {'min_samples_leaf': 80, 'max_depth': 3},\n",
       "  {'min_samples_leaf': 90, 'max_depth': 4},\n",
       "  {'min_samples_leaf': 10, 'max_depth': 10},\n",
       "  {'min_samples_leaf': 10, 'max_depth': 1},\n",
       "  {'min_samples_leaf': 10, 'max_depth': 4},\n",
       "  {'min_samples_leaf': 50, 'max_depth': 8}],\n",
       " 'split0_test_score': array([0.72      , 0.64285714, 0.70285714, 0.72142857, 0.70285714,\n",
       "        0.70285714, 0.66857143, 0.64285714, 0.70571429, 0.70714286]),\n",
       " 'split1_test_score': array([0.68142857, 0.61571429, 0.69714286, 0.68285714, 0.69714286,\n",
       "        0.70285714, 0.66142857, 0.61571429, 0.69      , 0.68      ]),\n",
       " 'split2_test_score': array([0.67428571, 0.60142857, 0.68      , 0.67285714, 0.68      ,\n",
       "        0.68      , 0.65571429, 0.60142857, 0.67428571, 0.69285714]),\n",
       " 'split3_test_score': array([0.65857143, 0.59714286, 0.69428571, 0.68571429, 0.69428571,\n",
       "        0.70857143, 0.66142857, 0.59714286, 0.68857143, 0.68571429]),\n",
       " 'split4_test_score': array([0.68714286, 0.61285714, 0.69142857, 0.68      , 0.69142857,\n",
       "        0.69285714, 0.63714286, 0.61285714, 0.68857143, 0.69571429]),\n",
       " 'mean_test_score': array([0.68428571, 0.614     , 0.69314286, 0.68857143, 0.69314286,\n",
       "        0.69742857, 0.65685714, 0.614     , 0.68942857, 0.69228571]),\n",
       " 'std_test_score': array([0.02026357, 0.0159949 , 0.00758086, 0.01697537, 0.00758086,\n",
       "        0.01007725, 0.01066752, 0.0159949 , 0.0099632 , 0.00924055]),\n",
       " 'rank_test_score': array([7, 9, 2, 6, 2, 1, 8, 9, 5, 4])}"
      ]
     },
     "execution_count": 27,
     "metadata": {},
     "output_type": "execute_result"
    }
   ],
   "source": [
    "random_dt.cv_results_"
   ]
  },
  {
   "cell_type": "code",
   "execution_count": 28,
   "metadata": {
    "id": "CkkdSVR6f-vf"
   },
   "outputs": [
    {
     "data": {
      "text/plain": [
       "{'min_samples_leaf': 90, 'max_depth': 4}"
      ]
     },
     "execution_count": 28,
     "metadata": {},
     "output_type": "execute_result"
    }
   ],
   "source": [
    "random_dt.best_params_"
   ]
  },
  {
   "cell_type": "code",
   "execution_count": 29,
   "metadata": {
    "id": "IgR9dSA_d6f6"
   },
   "outputs": [
    {
     "data": {
      "text/plain": [
       "0.6974285714285715"
      ]
     },
     "execution_count": 29,
     "metadata": {},
     "output_type": "execute_result"
    }
   ],
   "source": [
    "random_dt.best_score_"
   ]
  },
  {
   "cell_type": "code",
   "execution_count": 30,
   "metadata": {},
   "outputs": [
    {
     "name": "stdout",
     "output_type": "stream",
     "text": [
      "              precision    recall  f1-score   support\n",
      "\n",
      "           0       0.74      0.61      0.67       738\n",
      "           1       0.68      0.79      0.73       762\n",
      "\n",
      "    accuracy                           0.70      1500\n",
      "   macro avg       0.71      0.70      0.70      1500\n",
      "weighted avg       0.71      0.70      0.70      1500\n",
      "\n"
     ]
    }
   ],
   "source": [
    "pred_dt = random_dt.predict(x_val)\n",
    "print(classification_report(y_val, pred_dt))"
   ]
  },
  {
   "cell_type": "markdown",
   "metadata": {
    "id": "wzN7zbnJhmAt"
   },
   "source": [
    "### (4) Grid Search\n",
    "\n",
    "① 값의 범위를 지정한다.  \n",
    "② 모델링(값의 범위 내에서 모든 조합을 다 시도한다.)  \n",
    "③ 가장 성능이 좋은 값을 선정\n"
   ]
  },
  {
   "cell_type": "markdown",
   "metadata": {
    "id": "E7AOo0wxhmA0"
   },
   "source": [
    "#### ① 값의 범위를 지정한다."
   ]
  },
  {
   "cell_type": "code",
   "execution_count": 31,
   "metadata": {
    "id": "CkVVoyWFhmA0"
   },
   "outputs": [
    {
     "data": {
      "text/plain": [
       "{'n_neighbors': range(3, 31, 2), 'metric': ['euclidean', 'manhattan']}"
      ]
     },
     "execution_count": 31,
     "metadata": {},
     "output_type": "execute_result"
    }
   ],
   "source": [
    "# dictionary형태로 선언\n",
    "params = { 'n_neighbors' : range(3,31,2), 'metric' : ['euclidean', 'manhattan']  }\n",
    "params"
   ]
  },
  {
   "cell_type": "markdown",
   "metadata": {
    "id": "qA_g34P3hmA1"
   },
   "source": [
    "#### ② 모델 선언"
   ]
  },
  {
   "cell_type": "code",
   "execution_count": 32,
   "metadata": {
    "id": "A0Zceq-LhmA1"
   },
   "outputs": [],
   "source": [
    "# 기본모델\n",
    "model = KNeighborsClassifier()\n",
    "\n",
    "# Random Search 설정.\n",
    "model_gs = GridSearchCV(model, params, cv=5)"
   ]
  },
  {
   "cell_type": "markdown",
   "metadata": {
    "id": "lu2BRGzQhmA1"
   },
   "source": [
    "#### ③ 모델링"
   ]
  },
  {
   "cell_type": "code",
   "execution_count": 33,
   "metadata": {
    "id": "XtI3d8uZhmA1"
   },
   "outputs": [
    {
     "data": {
      "text/plain": [
       "GridSearchCV(cv=5, estimator=KNeighborsClassifier(),\n",
       "             param_grid={'metric': ['euclidean', 'manhattan'],\n",
       "                         'n_neighbors': range(3, 31, 2)})"
      ]
     },
     "execution_count": 33,
     "metadata": {},
     "output_type": "execute_result"
    }
   ],
   "source": [
    "# 학습 : model이 아니라 model_rs\n",
    "model_gs.fit(x_train_s, y_train)"
   ]
  },
  {
   "cell_type": "code",
   "execution_count": 34,
   "metadata": {
    "id": "RnrtbCidhmA1"
   },
   "outputs": [
    {
     "data": {
      "text/plain": [
       "{'mean_fit_time': array([0.00220532, 0.00314784, 0.00222387, 0.00197401, 0.00222158,\n",
       "        0.00154262, 0.0017077 , 0.00222635, 0.00259542, 0.00178494,\n",
       "        0.00219545, 0.00277929, 0.00200057, 0.00219979, 0.00161357,\n",
       "        0.0019814 , 0.00185056, 0.00164137, 0.00161147, 0.0019371 ,\n",
       "        0.00156631, 0.00149841, 0.00156832, 0.00118895, 0.00152073,\n",
       "        0.00237818, 0.00258255, 0.00279961]),\n",
       " 'std_fit_time': array([0.00039508, 0.00192747, 0.00038646, 0.00013412, 0.00039307,\n",
       "        0.00056543, 0.00036365, 0.00097148, 0.00081982, 0.00040694,\n",
       "        0.00076792, 0.00066924, 0.0010922 , 0.0007385 , 0.00046808,\n",
       "        0.00068034, 0.00041195, 0.00055816, 0.00037578, 0.00136196,\n",
       "        0.0005249 , 0.00044634, 0.00054259, 0.00038981, 0.00086636,\n",
       "        0.0013597 , 0.0017492 , 0.00212915]),\n",
       " 'mean_score_time': array([0.10562644, 0.1190062 , 0.12048712, 0.10403876, 0.10503707,\n",
       "        0.1052207 , 0.11230321, 0.13342309, 0.11725149, 0.09938478,\n",
       "        0.10191307, 0.11040101, 0.10751557, 0.11074257, 0.10282502,\n",
       "        0.10813818, 0.10398798, 0.14172068, 0.11673508, 0.10786557,\n",
       "        0.10560241, 0.10984378, 0.11028285, 0.10962653, 0.10939431,\n",
       "        0.10704803, 0.13287373, 0.11266022]),\n",
       " 'std_score_time': array([0.00601038, 0.00465591, 0.00995197, 0.00494866, 0.00878538,\n",
       "        0.0109013 , 0.01742572, 0.03469088, 0.01571901, 0.00617034,\n",
       "        0.00750148, 0.01008569, 0.00719412, 0.00832376, 0.00791672,\n",
       "        0.00402678, 0.00305025, 0.03965313, 0.00501868, 0.00665944,\n",
       "        0.00389612, 0.0054798 , 0.00416524, 0.00259297, 0.00372111,\n",
       "        0.00766114, 0.02413298, 0.00151924]),\n",
       " 'param_metric': masked_array(data=['euclidean', 'euclidean', 'euclidean', 'euclidean',\n",
       "                    'euclidean', 'euclidean', 'euclidean', 'euclidean',\n",
       "                    'euclidean', 'euclidean', 'euclidean', 'euclidean',\n",
       "                    'euclidean', 'euclidean', 'manhattan', 'manhattan',\n",
       "                    'manhattan', 'manhattan', 'manhattan', 'manhattan',\n",
       "                    'manhattan', 'manhattan', 'manhattan', 'manhattan',\n",
       "                    'manhattan', 'manhattan', 'manhattan', 'manhattan'],\n",
       "              mask=[False, False, False, False, False, False, False, False,\n",
       "                    False, False, False, False, False, False, False, False,\n",
       "                    False, False, False, False, False, False, False, False,\n",
       "                    False, False, False, False],\n",
       "        fill_value='?',\n",
       "             dtype=object),\n",
       " 'param_n_neighbors': masked_array(data=[3, 5, 7, 9, 11, 13, 15, 17, 19, 21, 23, 25, 27, 29, 3,\n",
       "                    5, 7, 9, 11, 13, 15, 17, 19, 21, 23, 25, 27, 29],\n",
       "              mask=[False, False, False, False, False, False, False, False,\n",
       "                    False, False, False, False, False, False, False, False,\n",
       "                    False, False, False, False, False, False, False, False,\n",
       "                    False, False, False, False],\n",
       "        fill_value='?',\n",
       "             dtype=object),\n",
       " 'params': [{'metric': 'euclidean', 'n_neighbors': 3},\n",
       "  {'metric': 'euclidean', 'n_neighbors': 5},\n",
       "  {'metric': 'euclidean', 'n_neighbors': 7},\n",
       "  {'metric': 'euclidean', 'n_neighbors': 9},\n",
       "  {'metric': 'euclidean', 'n_neighbors': 11},\n",
       "  {'metric': 'euclidean', 'n_neighbors': 13},\n",
       "  {'metric': 'euclidean', 'n_neighbors': 15},\n",
       "  {'metric': 'euclidean', 'n_neighbors': 17},\n",
       "  {'metric': 'euclidean', 'n_neighbors': 19},\n",
       "  {'metric': 'euclidean', 'n_neighbors': 21},\n",
       "  {'metric': 'euclidean', 'n_neighbors': 23},\n",
       "  {'metric': 'euclidean', 'n_neighbors': 25},\n",
       "  {'metric': 'euclidean', 'n_neighbors': 27},\n",
       "  {'metric': 'euclidean', 'n_neighbors': 29},\n",
       "  {'metric': 'manhattan', 'n_neighbors': 3},\n",
       "  {'metric': 'manhattan', 'n_neighbors': 5},\n",
       "  {'metric': 'manhattan', 'n_neighbors': 7},\n",
       "  {'metric': 'manhattan', 'n_neighbors': 9},\n",
       "  {'metric': 'manhattan', 'n_neighbors': 11},\n",
       "  {'metric': 'manhattan', 'n_neighbors': 13},\n",
       "  {'metric': 'manhattan', 'n_neighbors': 15},\n",
       "  {'metric': 'manhattan', 'n_neighbors': 17},\n",
       "  {'metric': 'manhattan', 'n_neighbors': 19},\n",
       "  {'metric': 'manhattan', 'n_neighbors': 21},\n",
       "  {'metric': 'manhattan', 'n_neighbors': 23},\n",
       "  {'metric': 'manhattan', 'n_neighbors': 25},\n",
       "  {'metric': 'manhattan', 'n_neighbors': 27},\n",
       "  {'metric': 'manhattan', 'n_neighbors': 29}],\n",
       " 'split0_test_score': array([0.58285714, 0.57857143, 0.58142857, 0.58285714, 0.57142857,\n",
       "        0.57857143, 0.57428571, 0.59      , 0.59142857, 0.59      ,\n",
       "        0.59857143, 0.58857143, 0.59142857, 0.58285714, 0.57714286,\n",
       "        0.60428571, 0.58285714, 0.59571429, 0.60428571, 0.61285714,\n",
       "        0.60571429, 0.60857143, 0.60571429, 0.61571429, 0.62714286,\n",
       "        0.63285714, 0.63      , 0.62857143]),\n",
       " 'split1_test_score': array([0.57714286, 0.59857143, 0.57857143, 0.57714286, 0.57857143,\n",
       "        0.58714286, 0.59428571, 0.59285714, 0.6       , 0.59142857,\n",
       "        0.60142857, 0.60571429, 0.58571429, 0.58571429, 0.58142857,\n",
       "        0.59285714, 0.59714286, 0.59714286, 0.60428571, 0.58857143,\n",
       "        0.59857143, 0.60428571, 0.61      , 0.62285714, 0.61428571,\n",
       "        0.62      , 0.61571429, 0.62142857]),\n",
       " 'split2_test_score': array([0.55428571, 0.56857143, 0.56857143, 0.55714286, 0.54428571,\n",
       "        0.56285714, 0.57714286, 0.56714286, 0.56857143, 0.57857143,\n",
       "        0.59      , 0.58142857, 0.58428571, 0.59142857, 0.54857143,\n",
       "        0.57714286, 0.58      , 0.57428571, 0.59714286, 0.59      ,\n",
       "        0.59428571, 0.60571429, 0.60714286, 0.62      , 0.61571429,\n",
       "        0.61285714, 0.62857143, 0.63142857]),\n",
       " 'split3_test_score': array([0.6       , 0.57857143, 0.58      , 0.57857143, 0.58142857,\n",
       "        0.58285714, 0.59285714, 0.6       , 0.57857143, 0.57857143,\n",
       "        0.57714286, 0.57571429, 0.56857143, 0.56857143, 0.59      ,\n",
       "        0.58285714, 0.61      , 0.61142857, 0.60857143, 0.60571429,\n",
       "        0.60571429, 0.59428571, 0.59428571, 0.60857143, 0.61285714,\n",
       "        0.60714286, 0.61571429, 0.61428571]),\n",
       " 'split4_test_score': array([0.58      , 0.57285714, 0.57714286, 0.57142857, 0.56428571,\n",
       "        0.56142857, 0.56571429, 0.56285714, 0.55714286, 0.56428571,\n",
       "        0.56285714, 0.57142857, 0.56857143, 0.57285714, 0.56857143,\n",
       "        0.6       , 0.58857143, 0.57857143, 0.57714286, 0.59142857,\n",
       "        0.59285714, 0.59428571, 0.59142857, 0.58571429, 0.58      ,\n",
       "        0.58428571, 0.60285714, 0.59428571]),\n",
       " 'mean_test_score': array([0.57885714, 0.57942857, 0.57714286, 0.57342857, 0.568     ,\n",
       "        0.57457143, 0.58085714, 0.58257143, 0.57914286, 0.58057143,\n",
       "        0.586     , 0.58457143, 0.57971429, 0.58028571, 0.57314286,\n",
       "        0.59142857, 0.59171429, 0.59142857, 0.59828571, 0.59771429,\n",
       "        0.59942857, 0.60142857, 0.60171429, 0.61057143, 0.61      ,\n",
       "        0.61142857, 0.61857143, 0.618     ]),\n",
       " 'std_test_score': array([0.01463571, 0.01028571, 0.00451754, 0.008926  , 0.0132665 ,\n",
       "        0.01051335, 0.0110509 , 0.0147745 , 0.01537557, 0.00979796,\n",
       "        0.01432566, 0.01203397, 0.0094069 , 0.00839825, 0.01409588,\n",
       "        0.01018202, 0.01085714, 0.01349225, 0.01119037, 0.00975621,\n",
       "        0.00546604, 0.00599319, 0.00741757, 0.01332789, 0.01583074,\n",
       "        0.01606111, 0.00993859, 0.0132665 ]),\n",
       " 'rank_test_score': array([23, 21, 24, 26, 28, 25, 17, 16, 22, 18, 14, 15, 20, 19, 27, 13, 11,\n",
       "        12,  9, 10,  8,  7,  6,  4,  5,  3,  1,  2])}"
      ]
     },
     "execution_count": 34,
     "metadata": {},
     "output_type": "execute_result"
    }
   ],
   "source": [
    "# 튜닝 결과\n",
    "model_gs.cv_results_"
   ]
  },
  {
   "cell_type": "code",
   "execution_count": 35,
   "metadata": {
    "id": "B7KakeYkhmA1"
   },
   "outputs": [
    {
     "data": {
      "text/plain": [
       "[{'metric': 'euclidean', 'n_neighbors': 3},\n",
       " {'metric': 'euclidean', 'n_neighbors': 5},\n",
       " {'metric': 'euclidean', 'n_neighbors': 7},\n",
       " {'metric': 'euclidean', 'n_neighbors': 9},\n",
       " {'metric': 'euclidean', 'n_neighbors': 11},\n",
       " {'metric': 'euclidean', 'n_neighbors': 13},\n",
       " {'metric': 'euclidean', 'n_neighbors': 15},\n",
       " {'metric': 'euclidean', 'n_neighbors': 17},\n",
       " {'metric': 'euclidean', 'n_neighbors': 19},\n",
       " {'metric': 'euclidean', 'n_neighbors': 21},\n",
       " {'metric': 'euclidean', 'n_neighbors': 23},\n",
       " {'metric': 'euclidean', 'n_neighbors': 25},\n",
       " {'metric': 'euclidean', 'n_neighbors': 27},\n",
       " {'metric': 'euclidean', 'n_neighbors': 29},\n",
       " {'metric': 'manhattan', 'n_neighbors': 3},\n",
       " {'metric': 'manhattan', 'n_neighbors': 5},\n",
       " {'metric': 'manhattan', 'n_neighbors': 7},\n",
       " {'metric': 'manhattan', 'n_neighbors': 9},\n",
       " {'metric': 'manhattan', 'n_neighbors': 11},\n",
       " {'metric': 'manhattan', 'n_neighbors': 13},\n",
       " {'metric': 'manhattan', 'n_neighbors': 15},\n",
       " {'metric': 'manhattan', 'n_neighbors': 17},\n",
       " {'metric': 'manhattan', 'n_neighbors': 19},\n",
       " {'metric': 'manhattan', 'n_neighbors': 21},\n",
       " {'metric': 'manhattan', 'n_neighbors': 23},\n",
       " {'metric': 'manhattan', 'n_neighbors': 25},\n",
       " {'metric': 'manhattan', 'n_neighbors': 27},\n",
       " {'metric': 'manhattan', 'n_neighbors': 29}]"
      ]
     },
     "execution_count": 35,
     "metadata": {},
     "output_type": "execute_result"
    }
   ],
   "source": [
    "model_gs.cv_results_['params']"
   ]
  },
  {
   "cell_type": "code",
   "execution_count": 36,
   "metadata": {
    "id": "bweqbwp4hmA2"
   },
   "outputs": [
    {
     "data": {
      "text/plain": [
       "array([0.57885714, 0.57942857, 0.57714286, 0.57342857, 0.568     ,\n",
       "       0.57457143, 0.58085714, 0.58257143, 0.57914286, 0.58057143,\n",
       "       0.586     , 0.58457143, 0.57971429, 0.58028571, 0.57314286,\n",
       "       0.59142857, 0.59171429, 0.59142857, 0.59828571, 0.59771429,\n",
       "       0.59942857, 0.60142857, 0.60171429, 0.61057143, 0.61      ,\n",
       "       0.61142857, 0.61857143, 0.618     ])"
      ]
     },
     "execution_count": 36,
     "metadata": {},
     "output_type": "execute_result"
    }
   ],
   "source": [
    "model_gs.cv_results_['mean_test_score']"
   ]
  },
  {
   "cell_type": "code",
   "execution_count": 37,
   "metadata": {
    "id": "6m0F5W3IhmA2"
   },
   "outputs": [
    {
     "data": {
      "text/plain": [
       "{'metric': 'manhattan', 'n_neighbors': 27}"
      ]
     },
     "execution_count": 37,
     "metadata": {},
     "output_type": "execute_result"
    }
   ],
   "source": [
    "# 최적의 파라미터\n",
    "model_gs.best_params_"
   ]
  },
  {
   "cell_type": "code",
   "execution_count": 38,
   "metadata": {
    "id": "1aaAI6PshmA2"
   },
   "outputs": [
    {
     "data": {
      "text/plain": [
       "0.6185714285714285"
      ]
     },
     "execution_count": 38,
     "metadata": {},
     "output_type": "execute_result"
    }
   ],
   "source": [
    "# 그때의 성능\n",
    "model_gs.best_score_"
   ]
  },
  {
   "cell_type": "code",
   "execution_count": 39,
   "metadata": {
    "id": "aW3lOKgKhmA2"
   },
   "outputs": [
    {
     "name": "stdout",
     "output_type": "stream",
     "text": [
      "              precision    recall  f1-score   support\n",
      "\n",
      "           0       0.59      0.72      0.65       738\n",
      "           1       0.65      0.51      0.57       762\n",
      "\n",
      "    accuracy                           0.61      1500\n",
      "   macro avg       0.62      0.61      0.61      1500\n",
      "weighted avg       0.62      0.61      0.61      1500\n",
      "\n"
     ]
    }
   ],
   "source": [
    "# best 모델로 예측 및 평가\n",
    "pred = model_gs.predict(x_val_s)\n",
    "print(classification_report(y_val, pred))"
   ]
  },
  {
   "cell_type": "markdown",
   "metadata": {
    "id": "DobFs64hhmA2"
   },
   "source": [
    "### (5) 실습 : Grid Search\n",
    "\n",
    "* decision tree로 튜닝을 시도해 봅시다.\n",
    "    * max_depth : 1~10\n",
    "    * min_samples_leaf : 10 ~ 100"
   ]
  },
  {
   "cell_type": "markdown",
   "metadata": {
    "id": "vHvcEIqJhmA3"
   },
   "source": [
    "#### ① 값의 범위를 지정한다."
   ]
  },
  {
   "cell_type": "code",
   "execution_count": 65,
   "metadata": {
    "id": "A0fCwubihmA5"
   },
   "outputs": [],
   "source": [
    "params = {'max_depth' : range(1, 11), 'min_samples_leaf' : range(10, 101, 10)}"
   ]
  },
  {
   "cell_type": "markdown",
   "metadata": {
    "id": "tKoDEEbzhmA5"
   },
   "source": [
    "#### ② 모델 선언"
   ]
  },
  {
   "cell_type": "code",
   "execution_count": 79,
   "metadata": {},
   "outputs": [],
   "source": [
    "model = DecisionTreeClassifier()\n",
    "model_gs = GridSearchCV(model, params, cv = 5, verbose = 3)"
   ]
  },
  {
   "cell_type": "markdown",
   "metadata": {
    "id": "26SqSRbLhmA5"
   },
   "source": [
    "#### verbose\n",
    "    Controls the verbosity: the higher, the more messages.\n",
    "\n",
    "    - >1 : the computation time for each fold and parameter candidate is\n",
    "      displayed;\n",
    "    - >2 : the score is also displayed;\n",
    "    - >3 : the fold and candidate parameter indexes are also displayed\n",
    "      together with the starting time of the computation."
   ]
  },
  {
   "cell_type": "markdown",
   "metadata": {
    "id": "YT-krLWkhmA5"
   },
   "source": [
    "#### ③ 모델링"
   ]
  },
  {
   "cell_type": "code",
   "execution_count": 80,
   "metadata": {
    "collapsed": true,
    "id": "Sciat7vk7k1-",
    "jupyter": {
     "outputs_hidden": true
    },
    "tags": []
   },
   "outputs": [
    {
     "name": "stdout",
     "output_type": "stream",
     "text": [
      "Fitting 5 folds for each of 100 candidates, totalling 500 fits\n",
      "[CV 1/5] END ...............max_depth=1, min_samples_leaf=10; total time=   0.0s\n",
      "[CV 2/5] END ...............max_depth=1, min_samples_leaf=10; total time=   0.0s\n",
      "[CV 3/5] END ...............max_depth=1, min_samples_leaf=10; total time=   0.0s\n",
      "[CV 4/5] END ...............max_depth=1, min_samples_leaf=10; total time=   0.0s\n",
      "[CV 5/5] END ...............max_depth=1, min_samples_leaf=10; total time=   0.0s\n",
      "[CV 1/5] END ...............max_depth=1, min_samples_leaf=20; total time=   0.0s\n",
      "[CV 2/5] END ...............max_depth=1, min_samples_leaf=20; total time=   0.0s\n",
      "[CV 3/5] END ...............max_depth=1, min_samples_leaf=20; total time=   0.0s\n",
      "[CV 4/5] END ...............max_depth=1, min_samples_leaf=20; total time=   0.0s\n",
      "[CV 5/5] END ...............max_depth=1, min_samples_leaf=20; total time=   0.0s\n",
      "[CV 1/5] END ...............max_depth=1, min_samples_leaf=30; total time=   0.0s\n",
      "[CV 2/5] END ...............max_depth=1, min_samples_leaf=30; total time=   0.0s\n",
      "[CV 3/5] END ...............max_depth=1, min_samples_leaf=30; total time=   0.0s\n",
      "[CV 4/5] END ...............max_depth=1, min_samples_leaf=30; total time=   0.0s\n",
      "[CV 5/5] END ...............max_depth=1, min_samples_leaf=30; total time=   0.0s\n",
      "[CV 1/5] END ...............max_depth=1, min_samples_leaf=40; total time=   0.0s\n",
      "[CV 2/5] END ...............max_depth=1, min_samples_leaf=40; total time=   0.0s\n",
      "[CV 3/5] END ...............max_depth=1, min_samples_leaf=40; total time=   0.0s\n",
      "[CV 4/5] END ...............max_depth=1, min_samples_leaf=40; total time=   0.0s\n",
      "[CV 5/5] END ...............max_depth=1, min_samples_leaf=40; total time=   0.0s\n",
      "[CV 1/5] END ...............max_depth=1, min_samples_leaf=50; total time=   0.0s\n",
      "[CV 2/5] END ...............max_depth=1, min_samples_leaf=50; total time=   0.0s\n",
      "[CV 3/5] END ...............max_depth=1, min_samples_leaf=50; total time=   0.0s\n",
      "[CV 4/5] END ...............max_depth=1, min_samples_leaf=50; total time=   0.0s\n",
      "[CV 5/5] END ...............max_depth=1, min_samples_leaf=50; total time=   0.0s\n",
      "[CV 1/5] END ...............max_depth=1, min_samples_leaf=60; total time=   0.0s\n",
      "[CV 2/5] END ...............max_depth=1, min_samples_leaf=60; total time=   0.0s\n",
      "[CV 3/5] END ...............max_depth=1, min_samples_leaf=60; total time=   0.0s\n",
      "[CV 4/5] END ...............max_depth=1, min_samples_leaf=60; total time=   0.0s\n",
      "[CV 5/5] END ...............max_depth=1, min_samples_leaf=60; total time=   0.0s\n",
      "[CV 1/5] END ...............max_depth=1, min_samples_leaf=70; total time=   0.0s\n",
      "[CV 2/5] END ...............max_depth=1, min_samples_leaf=70; total time=   0.0s\n",
      "[CV 3/5] END ...............max_depth=1, min_samples_leaf=70; total time=   0.0s\n",
      "[CV 4/5] END ...............max_depth=1, min_samples_leaf=70; total time=   0.0s\n",
      "[CV 5/5] END ...............max_depth=1, min_samples_leaf=70; total time=   0.0s\n",
      "[CV 1/5] END ...............max_depth=1, min_samples_leaf=80; total time=   0.0s\n",
      "[CV 2/5] END ...............max_depth=1, min_samples_leaf=80; total time=   0.0s\n",
      "[CV 3/5] END ...............max_depth=1, min_samples_leaf=80; total time=   0.0s\n",
      "[CV 4/5] END ...............max_depth=1, min_samples_leaf=80; total time=   0.0s\n",
      "[CV 5/5] END ...............max_depth=1, min_samples_leaf=80; total time=   0.0s\n",
      "[CV 1/5] END ...............max_depth=1, min_samples_leaf=90; total time=   0.0s\n",
      "[CV 2/5] END ...............max_depth=1, min_samples_leaf=90; total time=   0.0s\n",
      "[CV 3/5] END ...............max_depth=1, min_samples_leaf=90; total time=   0.0s\n",
      "[CV 4/5] END ...............max_depth=1, min_samples_leaf=90; total time=   0.0s\n",
      "[CV 5/5] END ...............max_depth=1, min_samples_leaf=90; total time=   0.0s\n",
      "[CV 1/5] END ..............max_depth=1, min_samples_leaf=100; total time=   0.0s\n",
      "[CV 2/5] END ..............max_depth=1, min_samples_leaf=100; total time=   0.0s\n",
      "[CV 3/5] END ..............max_depth=1, min_samples_leaf=100; total time=   0.0s\n",
      "[CV 4/5] END ..............max_depth=1, min_samples_leaf=100; total time=   0.0s\n",
      "[CV 5/5] END ..............max_depth=1, min_samples_leaf=100; total time=   0.0s\n",
      "[CV 1/5] END ...............max_depth=2, min_samples_leaf=10; total time=   0.0s\n",
      "[CV 2/5] END ...............max_depth=2, min_samples_leaf=10; total time=   0.0s\n",
      "[CV 3/5] END ...............max_depth=2, min_samples_leaf=10; total time=   0.0s\n",
      "[CV 4/5] END ...............max_depth=2, min_samples_leaf=10; total time=   0.0s\n",
      "[CV 5/5] END ...............max_depth=2, min_samples_leaf=10; total time=   0.0s\n",
      "[CV 1/5] END ...............max_depth=2, min_samples_leaf=20; total time=   0.0s\n",
      "[CV 2/5] END ...............max_depth=2, min_samples_leaf=20; total time=   0.0s\n",
      "[CV 3/5] END ...............max_depth=2, min_samples_leaf=20; total time=   0.0s\n",
      "[CV 4/5] END ...............max_depth=2, min_samples_leaf=20; total time=   0.0s\n",
      "[CV 5/5] END ...............max_depth=2, min_samples_leaf=20; total time=   0.0s\n",
      "[CV 1/5] END ...............max_depth=2, min_samples_leaf=30; total time=   0.0s\n",
      "[CV 2/5] END ...............max_depth=2, min_samples_leaf=30; total time=   0.0s\n",
      "[CV 3/5] END ...............max_depth=2, min_samples_leaf=30; total time=   0.0s\n",
      "[CV 4/5] END ...............max_depth=2, min_samples_leaf=30; total time=   0.0s\n",
      "[CV 5/5] END ...............max_depth=2, min_samples_leaf=30; total time=   0.0s\n",
      "[CV 1/5] END ...............max_depth=2, min_samples_leaf=40; total time=   0.0s\n",
      "[CV 2/5] END ...............max_depth=2, min_samples_leaf=40; total time=   0.0s\n",
      "[CV 3/5] END ...............max_depth=2, min_samples_leaf=40; total time=   0.0s\n",
      "[CV 4/5] END ...............max_depth=2, min_samples_leaf=40; total time=   0.0s\n",
      "[CV 5/5] END ...............max_depth=2, min_samples_leaf=40; total time=   0.0s\n",
      "[CV 1/5] END ...............max_depth=2, min_samples_leaf=50; total time=   0.0s\n",
      "[CV 2/5] END ...............max_depth=2, min_samples_leaf=50; total time=   0.0s\n",
      "[CV 3/5] END ...............max_depth=2, min_samples_leaf=50; total time=   0.0s\n",
      "[CV 4/5] END ...............max_depth=2, min_samples_leaf=50; total time=   0.0s\n",
      "[CV 5/5] END ...............max_depth=2, min_samples_leaf=50; total time=   0.0s\n",
      "[CV 1/5] END ...............max_depth=2, min_samples_leaf=60; total time=   0.0s\n",
      "[CV 2/5] END ...............max_depth=2, min_samples_leaf=60; total time=   0.0s\n",
      "[CV 3/5] END ...............max_depth=2, min_samples_leaf=60; total time=   0.0s\n",
      "[CV 4/5] END ...............max_depth=2, min_samples_leaf=60; total time=   0.0s\n",
      "[CV 5/5] END ...............max_depth=2, min_samples_leaf=60; total time=   0.0s\n",
      "[CV 1/5] END ...............max_depth=2, min_samples_leaf=70; total time=   0.0s\n",
      "[CV 2/5] END ...............max_depth=2, min_samples_leaf=70; total time=   0.0s\n",
      "[CV 3/5] END ...............max_depth=2, min_samples_leaf=70; total time=   0.0s\n",
      "[CV 4/5] END ...............max_depth=2, min_samples_leaf=70; total time=   0.0s\n",
      "[CV 5/5] END ...............max_depth=2, min_samples_leaf=70; total time=   0.0s\n",
      "[CV 1/5] END ...............max_depth=2, min_samples_leaf=80; total time=   0.0s\n",
      "[CV 2/5] END ...............max_depth=2, min_samples_leaf=80; total time=   0.0s\n",
      "[CV 3/5] END ...............max_depth=2, min_samples_leaf=80; total time=   0.0s\n",
      "[CV 4/5] END ...............max_depth=2, min_samples_leaf=80; total time=   0.0s\n",
      "[CV 5/5] END ...............max_depth=2, min_samples_leaf=80; total time=   0.0s\n",
      "[CV 1/5] END ...............max_depth=2, min_samples_leaf=90; total time=   0.0s\n",
      "[CV 2/5] END ...............max_depth=2, min_samples_leaf=90; total time=   0.0s\n",
      "[CV 3/5] END ...............max_depth=2, min_samples_leaf=90; total time=   0.0s\n",
      "[CV 4/5] END ...............max_depth=2, min_samples_leaf=90; total time=   0.0s\n",
      "[CV 5/5] END ...............max_depth=2, min_samples_leaf=90; total time=   0.0s\n",
      "[CV 1/5] END ..............max_depth=2, min_samples_leaf=100; total time=   0.0s\n",
      "[CV 2/5] END ..............max_depth=2, min_samples_leaf=100; total time=   0.0s\n",
      "[CV 3/5] END ..............max_depth=2, min_samples_leaf=100; total time=   0.0s\n",
      "[CV 4/5] END ..............max_depth=2, min_samples_leaf=100; total time=   0.0s\n",
      "[CV 5/5] END ..............max_depth=2, min_samples_leaf=100; total time=   0.0s\n",
      "[CV 1/5] END ...............max_depth=3, min_samples_leaf=10; total time=   0.0s\n",
      "[CV 2/5] END ...............max_depth=3, min_samples_leaf=10; total time=   0.0s\n",
      "[CV 3/5] END ...............max_depth=3, min_samples_leaf=10; total time=   0.0s\n",
      "[CV 4/5] END ...............max_depth=3, min_samples_leaf=10; total time=   0.0s\n",
      "[CV 5/5] END ...............max_depth=3, min_samples_leaf=10; total time=   0.0s\n",
      "[CV 1/5] END ...............max_depth=3, min_samples_leaf=20; total time=   0.0s\n",
      "[CV 2/5] END ...............max_depth=3, min_samples_leaf=20; total time=   0.0s\n",
      "[CV 3/5] END ...............max_depth=3, min_samples_leaf=20; total time=   0.0s\n",
      "[CV 4/5] END ...............max_depth=3, min_samples_leaf=20; total time=   0.0s\n",
      "[CV 5/5] END ...............max_depth=3, min_samples_leaf=20; total time=   0.0s\n",
      "[CV 1/5] END ...............max_depth=3, min_samples_leaf=30; total time=   0.0s\n",
      "[CV 2/5] END ...............max_depth=3, min_samples_leaf=30; total time=   0.0s\n",
      "[CV 3/5] END ...............max_depth=3, min_samples_leaf=30; total time=   0.0s\n",
      "[CV 4/5] END ...............max_depth=3, min_samples_leaf=30; total time=   0.0s\n",
      "[CV 5/5] END ...............max_depth=3, min_samples_leaf=30; total time=   0.0s\n",
      "[CV 1/5] END ...............max_depth=3, min_samples_leaf=40; total time=   0.0s\n",
      "[CV 2/5] END ...............max_depth=3, min_samples_leaf=40; total time=   0.0s\n",
      "[CV 3/5] END ...............max_depth=3, min_samples_leaf=40; total time=   0.0s\n",
      "[CV 4/5] END ...............max_depth=3, min_samples_leaf=40; total time=   0.0s\n",
      "[CV 5/5] END ...............max_depth=3, min_samples_leaf=40; total time=   0.0s\n",
      "[CV 1/5] END ...............max_depth=3, min_samples_leaf=50; total time=   0.0s\n",
      "[CV 2/5] END ...............max_depth=3, min_samples_leaf=50; total time=   0.0s\n",
      "[CV 3/5] END ...............max_depth=3, min_samples_leaf=50; total time=   0.0s\n",
      "[CV 4/5] END ...............max_depth=3, min_samples_leaf=50; total time=   0.0s\n",
      "[CV 5/5] END ...............max_depth=3, min_samples_leaf=50; total time=   0.0s\n",
      "[CV 1/5] END ...............max_depth=3, min_samples_leaf=60; total time=   0.0s\n",
      "[CV 2/5] END ...............max_depth=3, min_samples_leaf=60; total time=   0.0s\n",
      "[CV 3/5] END ...............max_depth=3, min_samples_leaf=60; total time=   0.0s\n",
      "[CV 4/5] END ...............max_depth=3, min_samples_leaf=60; total time=   0.0s\n",
      "[CV 5/5] END ...............max_depth=3, min_samples_leaf=60; total time=   0.0s\n",
      "[CV 1/5] END ...............max_depth=3, min_samples_leaf=70; total time=   0.0s\n",
      "[CV 2/5] END ...............max_depth=3, min_samples_leaf=70; total time=   0.0s\n",
      "[CV 3/5] END ...............max_depth=3, min_samples_leaf=70; total time=   0.0s\n",
      "[CV 4/5] END ...............max_depth=3, min_samples_leaf=70; total time=   0.0s\n",
      "[CV 5/5] END ...............max_depth=3, min_samples_leaf=70; total time=   0.0s\n",
      "[CV 1/5] END ...............max_depth=3, min_samples_leaf=80; total time=   0.0s\n",
      "[CV 2/5] END ...............max_depth=3, min_samples_leaf=80; total time=   0.0s\n",
      "[CV 3/5] END ...............max_depth=3, min_samples_leaf=80; total time=   0.0s\n",
      "[CV 4/5] END ...............max_depth=3, min_samples_leaf=80; total time=   0.0s\n",
      "[CV 5/5] END ...............max_depth=3, min_samples_leaf=80; total time=   0.0s\n",
      "[CV 1/5] END ...............max_depth=3, min_samples_leaf=90; total time=   0.0s\n",
      "[CV 2/5] END ...............max_depth=3, min_samples_leaf=90; total time=   0.0s\n",
      "[CV 3/5] END ...............max_depth=3, min_samples_leaf=90; total time=   0.0s\n",
      "[CV 4/5] END ...............max_depth=3, min_samples_leaf=90; total time=   0.0s\n",
      "[CV 5/5] END ...............max_depth=3, min_samples_leaf=90; total time=   0.0s\n",
      "[CV 1/5] END ..............max_depth=3, min_samples_leaf=100; total time=   0.0s\n",
      "[CV 2/5] END ..............max_depth=3, min_samples_leaf=100; total time=   0.0s\n",
      "[CV 3/5] END ..............max_depth=3, min_samples_leaf=100; total time=   0.0s\n",
      "[CV 4/5] END ..............max_depth=3, min_samples_leaf=100; total time=   0.0s\n",
      "[CV 5/5] END ..............max_depth=3, min_samples_leaf=100; total time=   0.0s\n",
      "[CV 1/5] END ...............max_depth=4, min_samples_leaf=10; total time=   0.0s\n",
      "[CV 2/5] END ...............max_depth=4, min_samples_leaf=10; total time=   0.0s\n",
      "[CV 3/5] END ...............max_depth=4, min_samples_leaf=10; total time=   0.0s\n",
      "[CV 4/5] END ...............max_depth=4, min_samples_leaf=10; total time=   0.0s\n",
      "[CV 5/5] END ...............max_depth=4, min_samples_leaf=10; total time=   0.0s\n",
      "[CV 1/5] END ...............max_depth=4, min_samples_leaf=20; total time=   0.0s\n",
      "[CV 2/5] END ...............max_depth=4, min_samples_leaf=20; total time=   0.0s\n",
      "[CV 3/5] END ...............max_depth=4, min_samples_leaf=20; total time=   0.0s\n",
      "[CV 4/5] END ...............max_depth=4, min_samples_leaf=20; total time=   0.0s\n",
      "[CV 5/5] END ...............max_depth=4, min_samples_leaf=20; total time=   0.0s\n",
      "[CV 1/5] END ...............max_depth=4, min_samples_leaf=30; total time=   0.0s\n",
      "[CV 2/5] END ...............max_depth=4, min_samples_leaf=30; total time=   0.0s\n",
      "[CV 3/5] END ...............max_depth=4, min_samples_leaf=30; total time=   0.0s\n",
      "[CV 4/5] END ...............max_depth=4, min_samples_leaf=30; total time=   0.0s\n",
      "[CV 5/5] END ...............max_depth=4, min_samples_leaf=30; total time=   0.0s\n",
      "[CV 1/5] END ...............max_depth=4, min_samples_leaf=40; total time=   0.0s\n",
      "[CV 2/5] END ...............max_depth=4, min_samples_leaf=40; total time=   0.0s\n",
      "[CV 3/5] END ...............max_depth=4, min_samples_leaf=40; total time=   0.0s\n",
      "[CV 4/5] END ...............max_depth=4, min_samples_leaf=40; total time=   0.0s\n",
      "[CV 5/5] END ...............max_depth=4, min_samples_leaf=40; total time=   0.0s\n",
      "[CV 1/5] END ...............max_depth=4, min_samples_leaf=50; total time=   0.0s\n",
      "[CV 2/5] END ...............max_depth=4, min_samples_leaf=50; total time=   0.0s\n",
      "[CV 3/5] END ...............max_depth=4, min_samples_leaf=50; total time=   0.0s\n",
      "[CV 4/5] END ...............max_depth=4, min_samples_leaf=50; total time=   0.0s\n",
      "[CV 5/5] END ...............max_depth=4, min_samples_leaf=50; total time=   0.0s\n",
      "[CV 1/5] END ...............max_depth=4, min_samples_leaf=60; total time=   0.0s\n",
      "[CV 2/5] END ...............max_depth=4, min_samples_leaf=60; total time=   0.0s\n",
      "[CV 3/5] END ...............max_depth=4, min_samples_leaf=60; total time=   0.0s\n",
      "[CV 4/5] END ...............max_depth=4, min_samples_leaf=60; total time=   0.0s\n",
      "[CV 5/5] END ...............max_depth=4, min_samples_leaf=60; total time=   0.0s\n",
      "[CV 1/5] END ...............max_depth=4, min_samples_leaf=70; total time=   0.0s\n",
      "[CV 2/5] END ...............max_depth=4, min_samples_leaf=70; total time=   0.0s\n",
      "[CV 3/5] END ...............max_depth=4, min_samples_leaf=70; total time=   0.0s\n",
      "[CV 4/5] END ...............max_depth=4, min_samples_leaf=70; total time=   0.0s\n",
      "[CV 5/5] END ...............max_depth=4, min_samples_leaf=70; total time=   0.0s\n",
      "[CV 1/5] END ...............max_depth=4, min_samples_leaf=80; total time=   0.0s\n",
      "[CV 2/5] END ...............max_depth=4, min_samples_leaf=80; total time=   0.0s\n",
      "[CV 3/5] END ...............max_depth=4, min_samples_leaf=80; total time=   0.0s\n",
      "[CV 4/5] END ...............max_depth=4, min_samples_leaf=80; total time=   0.0s\n",
      "[CV 5/5] END ...............max_depth=4, min_samples_leaf=80; total time=   0.0s\n",
      "[CV 1/5] END ...............max_depth=4, min_samples_leaf=90; total time=   0.0s\n",
      "[CV 2/5] END ...............max_depth=4, min_samples_leaf=90; total time=   0.0s\n",
      "[CV 3/5] END ...............max_depth=4, min_samples_leaf=90; total time=   0.0s\n",
      "[CV 4/5] END ...............max_depth=4, min_samples_leaf=90; total time=   0.0s\n",
      "[CV 5/5] END ...............max_depth=4, min_samples_leaf=90; total time=   0.0s\n",
      "[CV 1/5] END ..............max_depth=4, min_samples_leaf=100; total time=   0.0s\n",
      "[CV 2/5] END ..............max_depth=4, min_samples_leaf=100; total time=   0.0s\n",
      "[CV 3/5] END ..............max_depth=4, min_samples_leaf=100; total time=   0.0s\n",
      "[CV 4/5] END ..............max_depth=4, min_samples_leaf=100; total time=   0.0s\n",
      "[CV 5/5] END ..............max_depth=4, min_samples_leaf=100; total time=   0.0s\n",
      "[CV 1/5] END ...............max_depth=5, min_samples_leaf=10; total time=   0.0s\n",
      "[CV 2/5] END ...............max_depth=5, min_samples_leaf=10; total time=   0.0s\n",
      "[CV 3/5] END ...............max_depth=5, min_samples_leaf=10; total time=   0.0s\n",
      "[CV 4/5] END ...............max_depth=5, min_samples_leaf=10; total time=   0.0s\n",
      "[CV 5/5] END ...............max_depth=5, min_samples_leaf=10; total time=   0.0s\n",
      "[CV 1/5] END ...............max_depth=5, min_samples_leaf=20; total time=   0.0s\n",
      "[CV 2/5] END ...............max_depth=5, min_samples_leaf=20; total time=   0.0s\n",
      "[CV 3/5] END ...............max_depth=5, min_samples_leaf=20; total time=   0.0s\n",
      "[CV 4/5] END ...............max_depth=5, min_samples_leaf=20; total time=   0.0s\n",
      "[CV 5/5] END ...............max_depth=5, min_samples_leaf=20; total time=   0.0s\n",
      "[CV 1/5] END ...............max_depth=5, min_samples_leaf=30; total time=   0.0s\n",
      "[CV 2/5] END ...............max_depth=5, min_samples_leaf=30; total time=   0.0s\n",
      "[CV 3/5] END ...............max_depth=5, min_samples_leaf=30; total time=   0.0s\n",
      "[CV 4/5] END ...............max_depth=5, min_samples_leaf=30; total time=   0.0s\n",
      "[CV 5/5] END ...............max_depth=5, min_samples_leaf=30; total time=   0.0s\n",
      "[CV 1/5] END ...............max_depth=5, min_samples_leaf=40; total time=   0.0s\n",
      "[CV 2/5] END ...............max_depth=5, min_samples_leaf=40; total time=   0.0s\n",
      "[CV 3/5] END ...............max_depth=5, min_samples_leaf=40; total time=   0.0s\n",
      "[CV 4/5] END ...............max_depth=5, min_samples_leaf=40; total time=   0.0s\n",
      "[CV 5/5] END ...............max_depth=5, min_samples_leaf=40; total time=   0.0s\n",
      "[CV 1/5] END ...............max_depth=5, min_samples_leaf=50; total time=   0.0s\n",
      "[CV 2/5] END ...............max_depth=5, min_samples_leaf=50; total time=   0.0s\n",
      "[CV 3/5] END ...............max_depth=5, min_samples_leaf=50; total time=   0.0s\n",
      "[CV 4/5] END ...............max_depth=5, min_samples_leaf=50; total time=   0.0s\n",
      "[CV 5/5] END ...............max_depth=5, min_samples_leaf=50; total time=   0.0s\n",
      "[CV 1/5] END ...............max_depth=5, min_samples_leaf=60; total time=   0.0s\n",
      "[CV 2/5] END ...............max_depth=5, min_samples_leaf=60; total time=   0.0s\n",
      "[CV 3/5] END ...............max_depth=5, min_samples_leaf=60; total time=   0.0s\n",
      "[CV 4/5] END ...............max_depth=5, min_samples_leaf=60; total time=   0.0s\n",
      "[CV 5/5] END ...............max_depth=5, min_samples_leaf=60; total time=   0.0s\n",
      "[CV 1/5] END ...............max_depth=5, min_samples_leaf=70; total time=   0.0s\n",
      "[CV 2/5] END ...............max_depth=5, min_samples_leaf=70; total time=   0.0s\n",
      "[CV 3/5] END ...............max_depth=5, min_samples_leaf=70; total time=   0.0s\n",
      "[CV 4/5] END ...............max_depth=5, min_samples_leaf=70; total time=   0.0s\n",
      "[CV 5/5] END ...............max_depth=5, min_samples_leaf=70; total time=   0.0s\n",
      "[CV 1/5] END ...............max_depth=5, min_samples_leaf=80; total time=   0.0s\n",
      "[CV 2/5] END ...............max_depth=5, min_samples_leaf=80; total time=   0.0s\n",
      "[CV 3/5] END ...............max_depth=5, min_samples_leaf=80; total time=   0.0s\n",
      "[CV 4/5] END ...............max_depth=5, min_samples_leaf=80; total time=   0.0s\n",
      "[CV 5/5] END ...............max_depth=5, min_samples_leaf=80; total time=   0.0s\n",
      "[CV 1/5] END ...............max_depth=5, min_samples_leaf=90; total time=   0.0s\n",
      "[CV 2/5] END ...............max_depth=5, min_samples_leaf=90; total time=   0.0s\n",
      "[CV 3/5] END ...............max_depth=5, min_samples_leaf=90; total time=   0.0s\n",
      "[CV 4/5] END ...............max_depth=5, min_samples_leaf=90; total time=   0.0s\n",
      "[CV 5/5] END ...............max_depth=5, min_samples_leaf=90; total time=   0.0s\n",
      "[CV 1/5] END ..............max_depth=5, min_samples_leaf=100; total time=   0.0s\n",
      "[CV 2/5] END ..............max_depth=5, min_samples_leaf=100; total time=   0.0s\n",
      "[CV 3/5] END ..............max_depth=5, min_samples_leaf=100; total time=   0.0s\n",
      "[CV 4/5] END ..............max_depth=5, min_samples_leaf=100; total time=   0.0s\n",
      "[CV 5/5] END ..............max_depth=5, min_samples_leaf=100; total time=   0.0s\n",
      "[CV 1/5] END ...............max_depth=6, min_samples_leaf=10; total time=   0.0s\n",
      "[CV 2/5] END ...............max_depth=6, min_samples_leaf=10; total time=   0.0s\n",
      "[CV 3/5] END ...............max_depth=6, min_samples_leaf=10; total time=   0.0s\n",
      "[CV 4/5] END ...............max_depth=6, min_samples_leaf=10; total time=   0.0s\n",
      "[CV 5/5] END ...............max_depth=6, min_samples_leaf=10; total time=   0.0s\n",
      "[CV 1/5] END ...............max_depth=6, min_samples_leaf=20; total time=   0.0s\n",
      "[CV 2/5] END ...............max_depth=6, min_samples_leaf=20; total time=   0.0s\n",
      "[CV 3/5] END ...............max_depth=6, min_samples_leaf=20; total time=   0.0s\n",
      "[CV 4/5] END ...............max_depth=6, min_samples_leaf=20; total time=   0.0s\n",
      "[CV 5/5] END ...............max_depth=6, min_samples_leaf=20; total time=   0.0s\n",
      "[CV 1/5] END ...............max_depth=6, min_samples_leaf=30; total time=   0.0s\n",
      "[CV 2/5] END ...............max_depth=6, min_samples_leaf=30; total time=   0.0s\n",
      "[CV 3/5] END ...............max_depth=6, min_samples_leaf=30; total time=   0.0s\n",
      "[CV 4/5] END ...............max_depth=6, min_samples_leaf=30; total time=   0.0s\n",
      "[CV 5/5] END ...............max_depth=6, min_samples_leaf=30; total time=   0.0s\n",
      "[CV 1/5] END ...............max_depth=6, min_samples_leaf=40; total time=   0.0s\n",
      "[CV 2/5] END ...............max_depth=6, min_samples_leaf=40; total time=   0.0s\n",
      "[CV 3/5] END ...............max_depth=6, min_samples_leaf=40; total time=   0.0s\n",
      "[CV 4/5] END ...............max_depth=6, min_samples_leaf=40; total time=   0.0s\n",
      "[CV 5/5] END ...............max_depth=6, min_samples_leaf=40; total time=   0.0s\n",
      "[CV 1/5] END ...............max_depth=6, min_samples_leaf=50; total time=   0.0s\n",
      "[CV 2/5] END ...............max_depth=6, min_samples_leaf=50; total time=   0.0s\n",
      "[CV 3/5] END ...............max_depth=6, min_samples_leaf=50; total time=   0.0s\n",
      "[CV 4/5] END ...............max_depth=6, min_samples_leaf=50; total time=   0.0s\n",
      "[CV 5/5] END ...............max_depth=6, min_samples_leaf=50; total time=   0.0s\n",
      "[CV 1/5] END ...............max_depth=6, min_samples_leaf=60; total time=   0.0s\n",
      "[CV 2/5] END ...............max_depth=6, min_samples_leaf=60; total time=   0.0s\n",
      "[CV 3/5] END ...............max_depth=6, min_samples_leaf=60; total time=   0.0s\n",
      "[CV 4/5] END ...............max_depth=6, min_samples_leaf=60; total time=   0.0s\n",
      "[CV 5/5] END ...............max_depth=6, min_samples_leaf=60; total time=   0.0s\n",
      "[CV 1/5] END ...............max_depth=6, min_samples_leaf=70; total time=   0.0s\n",
      "[CV 2/5] END ...............max_depth=6, min_samples_leaf=70; total time=   0.0s\n",
      "[CV 3/5] END ...............max_depth=6, min_samples_leaf=70; total time=   0.0s\n",
      "[CV 4/5] END ...............max_depth=6, min_samples_leaf=70; total time=   0.0s\n",
      "[CV 5/5] END ...............max_depth=6, min_samples_leaf=70; total time=   0.0s\n",
      "[CV 1/5] END ...............max_depth=6, min_samples_leaf=80; total time=   0.0s\n",
      "[CV 2/5] END ...............max_depth=6, min_samples_leaf=80; total time=   0.0s\n",
      "[CV 3/5] END ...............max_depth=6, min_samples_leaf=80; total time=   0.0s\n",
      "[CV 4/5] END ...............max_depth=6, min_samples_leaf=80; total time=   0.0s\n",
      "[CV 5/5] END ...............max_depth=6, min_samples_leaf=80; total time=   0.0s\n",
      "[CV 1/5] END ...............max_depth=6, min_samples_leaf=90; total time=   0.0s\n",
      "[CV 2/5] END ...............max_depth=6, min_samples_leaf=90; total time=   0.0s\n",
      "[CV 3/5] END ...............max_depth=6, min_samples_leaf=90; total time=   0.0s\n",
      "[CV 4/5] END ...............max_depth=6, min_samples_leaf=90; total time=   0.0s\n",
      "[CV 5/5] END ...............max_depth=6, min_samples_leaf=90; total time=   0.0s\n",
      "[CV 1/5] END ..............max_depth=6, min_samples_leaf=100; total time=   0.0s\n",
      "[CV 2/5] END ..............max_depth=6, min_samples_leaf=100; total time=   0.0s\n",
      "[CV 3/5] END ..............max_depth=6, min_samples_leaf=100; total time=   0.0s\n",
      "[CV 4/5] END ..............max_depth=6, min_samples_leaf=100; total time=   0.0s\n",
      "[CV 5/5] END ..............max_depth=6, min_samples_leaf=100; total time=   0.0s\n",
      "[CV 1/5] END ...............max_depth=7, min_samples_leaf=10; total time=   0.0s\n",
      "[CV 2/5] END ...............max_depth=7, min_samples_leaf=10; total time=   0.0s\n",
      "[CV 3/5] END ...............max_depth=7, min_samples_leaf=10; total time=   0.0s\n",
      "[CV 4/5] END ...............max_depth=7, min_samples_leaf=10; total time=   0.0s\n",
      "[CV 5/5] END ...............max_depth=7, min_samples_leaf=10; total time=   0.0s\n",
      "[CV 1/5] END ...............max_depth=7, min_samples_leaf=20; total time=   0.0s\n",
      "[CV 2/5] END ...............max_depth=7, min_samples_leaf=20; total time=   0.0s\n",
      "[CV 3/5] END ...............max_depth=7, min_samples_leaf=20; total time=   0.0s\n",
      "[CV 4/5] END ...............max_depth=7, min_samples_leaf=20; total time=   0.0s\n",
      "[CV 5/5] END ...............max_depth=7, min_samples_leaf=20; total time=   0.0s\n",
      "[CV 1/5] END ...............max_depth=7, min_samples_leaf=30; total time=   0.0s\n",
      "[CV 2/5] END ...............max_depth=7, min_samples_leaf=30; total time=   0.0s\n",
      "[CV 3/5] END ...............max_depth=7, min_samples_leaf=30; total time=   0.0s\n",
      "[CV 4/5] END ...............max_depth=7, min_samples_leaf=30; total time=   0.0s\n",
      "[CV 5/5] END ...............max_depth=7, min_samples_leaf=30; total time=   0.0s\n",
      "[CV 1/5] END ...............max_depth=7, min_samples_leaf=40; total time=   0.0s\n",
      "[CV 2/5] END ...............max_depth=7, min_samples_leaf=40; total time=   0.0s\n",
      "[CV 3/5] END ...............max_depth=7, min_samples_leaf=40; total time=   0.0s\n",
      "[CV 4/5] END ...............max_depth=7, min_samples_leaf=40; total time=   0.0s\n",
      "[CV 5/5] END ...............max_depth=7, min_samples_leaf=40; total time=   0.0s\n",
      "[CV 1/5] END ...............max_depth=7, min_samples_leaf=50; total time=   0.0s\n",
      "[CV 2/5] END ...............max_depth=7, min_samples_leaf=50; total time=   0.0s\n",
      "[CV 3/5] END ...............max_depth=7, min_samples_leaf=50; total time=   0.0s\n",
      "[CV 4/5] END ...............max_depth=7, min_samples_leaf=50; total time=   0.0s\n",
      "[CV 5/5] END ...............max_depth=7, min_samples_leaf=50; total time=   0.0s\n",
      "[CV 1/5] END ...............max_depth=7, min_samples_leaf=60; total time=   0.0s\n",
      "[CV 2/5] END ...............max_depth=7, min_samples_leaf=60; total time=   0.0s\n",
      "[CV 3/5] END ...............max_depth=7, min_samples_leaf=60; total time=   0.0s\n",
      "[CV 4/5] END ...............max_depth=7, min_samples_leaf=60; total time=   0.0s\n",
      "[CV 5/5] END ...............max_depth=7, min_samples_leaf=60; total time=   0.0s\n",
      "[CV 1/5] END ...............max_depth=7, min_samples_leaf=70; total time=   0.0s\n",
      "[CV 2/5] END ...............max_depth=7, min_samples_leaf=70; total time=   0.0s\n",
      "[CV 3/5] END ...............max_depth=7, min_samples_leaf=70; total time=   0.0s\n",
      "[CV 4/5] END ...............max_depth=7, min_samples_leaf=70; total time=   0.0s\n",
      "[CV 5/5] END ...............max_depth=7, min_samples_leaf=70; total time=   0.0s\n",
      "[CV 1/5] END ...............max_depth=7, min_samples_leaf=80; total time=   0.0s\n",
      "[CV 2/5] END ...............max_depth=7, min_samples_leaf=80; total time=   0.0s\n",
      "[CV 3/5] END ...............max_depth=7, min_samples_leaf=80; total time=   0.0s\n",
      "[CV 4/5] END ...............max_depth=7, min_samples_leaf=80; total time=   0.0s\n",
      "[CV 5/5] END ...............max_depth=7, min_samples_leaf=80; total time=   0.0s\n",
      "[CV 1/5] END ...............max_depth=7, min_samples_leaf=90; total time=   0.0s\n",
      "[CV 2/5] END ...............max_depth=7, min_samples_leaf=90; total time=   0.0s\n",
      "[CV 3/5] END ...............max_depth=7, min_samples_leaf=90; total time=   0.0s\n",
      "[CV 4/5] END ...............max_depth=7, min_samples_leaf=90; total time=   0.0s\n",
      "[CV 5/5] END ...............max_depth=7, min_samples_leaf=90; total time=   0.0s\n",
      "[CV 1/5] END ..............max_depth=7, min_samples_leaf=100; total time=   0.0s\n",
      "[CV 2/5] END ..............max_depth=7, min_samples_leaf=100; total time=   0.0s\n",
      "[CV 3/5] END ..............max_depth=7, min_samples_leaf=100; total time=   0.0s\n",
      "[CV 4/5] END ..............max_depth=7, min_samples_leaf=100; total time=   0.0s\n",
      "[CV 5/5] END ..............max_depth=7, min_samples_leaf=100; total time=   0.0s\n",
      "[CV 1/5] END ...............max_depth=8, min_samples_leaf=10; total time=   0.0s\n",
      "[CV 2/5] END ...............max_depth=8, min_samples_leaf=10; total time=   0.0s\n",
      "[CV 3/5] END ...............max_depth=8, min_samples_leaf=10; total time=   0.0s\n",
      "[CV 4/5] END ...............max_depth=8, min_samples_leaf=10; total time=   0.0s\n",
      "[CV 5/5] END ...............max_depth=8, min_samples_leaf=10; total time=   0.0s\n",
      "[CV 1/5] END ...............max_depth=8, min_samples_leaf=20; total time=   0.0s\n",
      "[CV 2/5] END ...............max_depth=8, min_samples_leaf=20; total time=   0.0s\n",
      "[CV 3/5] END ...............max_depth=8, min_samples_leaf=20; total time=   0.0s\n",
      "[CV 4/5] END ...............max_depth=8, min_samples_leaf=20; total time=   0.0s\n",
      "[CV 5/5] END ...............max_depth=8, min_samples_leaf=20; total time=   0.0s\n",
      "[CV 1/5] END ...............max_depth=8, min_samples_leaf=30; total time=   0.0s\n",
      "[CV 2/5] END ...............max_depth=8, min_samples_leaf=30; total time=   0.0s\n",
      "[CV 3/5] END ...............max_depth=8, min_samples_leaf=30; total time=   0.0s\n",
      "[CV 4/5] END ...............max_depth=8, min_samples_leaf=30; total time=   0.0s\n",
      "[CV 5/5] END ...............max_depth=8, min_samples_leaf=30; total time=   0.0s\n",
      "[CV 1/5] END ...............max_depth=8, min_samples_leaf=40; total time=   0.0s\n",
      "[CV 2/5] END ...............max_depth=8, min_samples_leaf=40; total time=   0.0s\n",
      "[CV 3/5] END ...............max_depth=8, min_samples_leaf=40; total time=   0.0s\n",
      "[CV 4/5] END ...............max_depth=8, min_samples_leaf=40; total time=   0.0s\n",
      "[CV 5/5] END ...............max_depth=8, min_samples_leaf=40; total time=   0.0s\n",
      "[CV 1/5] END ...............max_depth=8, min_samples_leaf=50; total time=   0.0s\n",
      "[CV 2/5] END ...............max_depth=8, min_samples_leaf=50; total time=   0.0s\n",
      "[CV 3/5] END ...............max_depth=8, min_samples_leaf=50; total time=   0.0s\n",
      "[CV 4/5] END ...............max_depth=8, min_samples_leaf=50; total time=   0.0s\n",
      "[CV 5/5] END ...............max_depth=8, min_samples_leaf=50; total time=   0.0s\n",
      "[CV 1/5] END ...............max_depth=8, min_samples_leaf=60; total time=   0.0s\n",
      "[CV 2/5] END ...............max_depth=8, min_samples_leaf=60; total time=   0.0s\n",
      "[CV 3/5] END ...............max_depth=8, min_samples_leaf=60; total time=   0.0s\n",
      "[CV 4/5] END ...............max_depth=8, min_samples_leaf=60; total time=   0.0s\n",
      "[CV 5/5] END ...............max_depth=8, min_samples_leaf=60; total time=   0.0s\n",
      "[CV 1/5] END ...............max_depth=8, min_samples_leaf=70; total time=   0.0s\n",
      "[CV 2/5] END ...............max_depth=8, min_samples_leaf=70; total time=   0.0s\n",
      "[CV 3/5] END ...............max_depth=8, min_samples_leaf=70; total time=   0.0s\n",
      "[CV 4/5] END ...............max_depth=8, min_samples_leaf=70; total time=   0.0s\n",
      "[CV 5/5] END ...............max_depth=8, min_samples_leaf=70; total time=   0.0s\n",
      "[CV 1/5] END ...............max_depth=8, min_samples_leaf=80; total time=   0.0s\n",
      "[CV 2/5] END ...............max_depth=8, min_samples_leaf=80; total time=   0.0s\n",
      "[CV 3/5] END ...............max_depth=8, min_samples_leaf=80; total time=   0.0s\n",
      "[CV 4/5] END ...............max_depth=8, min_samples_leaf=80; total time=   0.0s\n",
      "[CV 5/5] END ...............max_depth=8, min_samples_leaf=80; total time=   0.0s\n",
      "[CV 1/5] END ...............max_depth=8, min_samples_leaf=90; total time=   0.0s\n",
      "[CV 2/5] END ...............max_depth=8, min_samples_leaf=90; total time=   0.0s\n",
      "[CV 3/5] END ...............max_depth=8, min_samples_leaf=90; total time=   0.0s\n",
      "[CV 4/5] END ...............max_depth=8, min_samples_leaf=90; total time=   0.0s\n",
      "[CV 5/5] END ...............max_depth=8, min_samples_leaf=90; total time=   0.0s\n",
      "[CV 1/5] END ..............max_depth=8, min_samples_leaf=100; total time=   0.0s\n",
      "[CV 2/5] END ..............max_depth=8, min_samples_leaf=100; total time=   0.0s\n",
      "[CV 3/5] END ..............max_depth=8, min_samples_leaf=100; total time=   0.0s\n",
      "[CV 4/5] END ..............max_depth=8, min_samples_leaf=100; total time=   0.0s\n",
      "[CV 5/5] END ..............max_depth=8, min_samples_leaf=100; total time=   0.0s\n",
      "[CV 1/5] END ...............max_depth=9, min_samples_leaf=10; total time=   0.0s\n",
      "[CV 2/5] END ...............max_depth=9, min_samples_leaf=10; total time=   0.0s\n",
      "[CV 3/5] END ...............max_depth=9, min_samples_leaf=10; total time=   0.0s\n",
      "[CV 4/5] END ...............max_depth=9, min_samples_leaf=10; total time=   0.0s\n",
      "[CV 5/5] END ...............max_depth=9, min_samples_leaf=10; total time=   0.0s\n",
      "[CV 1/5] END ...............max_depth=9, min_samples_leaf=20; total time=   0.0s\n",
      "[CV 2/5] END ...............max_depth=9, min_samples_leaf=20; total time=   0.0s\n",
      "[CV 3/5] END ...............max_depth=9, min_samples_leaf=20; total time=   0.0s\n",
      "[CV 4/5] END ...............max_depth=9, min_samples_leaf=20; total time=   0.0s\n",
      "[CV 5/5] END ...............max_depth=9, min_samples_leaf=20; total time=   0.0s\n",
      "[CV 1/5] END ...............max_depth=9, min_samples_leaf=30; total time=   0.0s\n",
      "[CV 2/5] END ...............max_depth=9, min_samples_leaf=30; total time=   0.0s\n",
      "[CV 3/5] END ...............max_depth=9, min_samples_leaf=30; total time=   0.0s\n",
      "[CV 4/5] END ...............max_depth=9, min_samples_leaf=30; total time=   0.0s\n",
      "[CV 5/5] END ...............max_depth=9, min_samples_leaf=30; total time=   0.0s\n",
      "[CV 1/5] END ...............max_depth=9, min_samples_leaf=40; total time=   0.0s\n",
      "[CV 2/5] END ...............max_depth=9, min_samples_leaf=40; total time=   0.0s\n",
      "[CV 3/5] END ...............max_depth=9, min_samples_leaf=40; total time=   0.0s\n",
      "[CV 4/5] END ...............max_depth=9, min_samples_leaf=40; total time=   0.0s\n",
      "[CV 5/5] END ...............max_depth=9, min_samples_leaf=40; total time=   0.0s\n",
      "[CV 1/5] END ...............max_depth=9, min_samples_leaf=50; total time=   0.0s\n",
      "[CV 2/5] END ...............max_depth=9, min_samples_leaf=50; total time=   0.0s\n",
      "[CV 3/5] END ...............max_depth=9, min_samples_leaf=50; total time=   0.0s\n",
      "[CV 4/5] END ...............max_depth=9, min_samples_leaf=50; total time=   0.0s\n",
      "[CV 5/5] END ...............max_depth=9, min_samples_leaf=50; total time=   0.0s\n",
      "[CV 1/5] END ...............max_depth=9, min_samples_leaf=60; total time=   0.0s\n",
      "[CV 2/5] END ...............max_depth=9, min_samples_leaf=60; total time=   0.0s\n",
      "[CV 3/5] END ...............max_depth=9, min_samples_leaf=60; total time=   0.0s\n",
      "[CV 4/5] END ...............max_depth=9, min_samples_leaf=60; total time=   0.0s\n",
      "[CV 5/5] END ...............max_depth=9, min_samples_leaf=60; total time=   0.0s\n",
      "[CV 1/5] END ...............max_depth=9, min_samples_leaf=70; total time=   0.0s\n",
      "[CV 2/5] END ...............max_depth=9, min_samples_leaf=70; total time=   0.0s\n",
      "[CV 3/5] END ...............max_depth=9, min_samples_leaf=70; total time=   0.0s\n",
      "[CV 4/5] END ...............max_depth=9, min_samples_leaf=70; total time=   0.0s\n",
      "[CV 5/5] END ...............max_depth=9, min_samples_leaf=70; total time=   0.0s\n",
      "[CV 1/5] END ...............max_depth=9, min_samples_leaf=80; total time=   0.0s\n",
      "[CV 2/5] END ...............max_depth=9, min_samples_leaf=80; total time=   0.0s\n",
      "[CV 3/5] END ...............max_depth=9, min_samples_leaf=80; total time=   0.0s\n",
      "[CV 4/5] END ...............max_depth=9, min_samples_leaf=80; total time=   0.0s\n",
      "[CV 5/5] END ...............max_depth=9, min_samples_leaf=80; total time=   0.0s\n",
      "[CV 1/5] END ...............max_depth=9, min_samples_leaf=90; total time=   0.0s\n",
      "[CV 2/5] END ...............max_depth=9, min_samples_leaf=90; total time=   0.0s\n",
      "[CV 3/5] END ...............max_depth=9, min_samples_leaf=90; total time=   0.0s\n",
      "[CV 4/5] END ...............max_depth=9, min_samples_leaf=90; total time=   0.0s\n",
      "[CV 5/5] END ...............max_depth=9, min_samples_leaf=90; total time=   0.0s\n",
      "[CV 1/5] END ..............max_depth=9, min_samples_leaf=100; total time=   0.0s\n",
      "[CV 2/5] END ..............max_depth=9, min_samples_leaf=100; total time=   0.0s\n",
      "[CV 3/5] END ..............max_depth=9, min_samples_leaf=100; total time=   0.0s\n",
      "[CV 4/5] END ..............max_depth=9, min_samples_leaf=100; total time=   0.0s\n",
      "[CV 5/5] END ..............max_depth=9, min_samples_leaf=100; total time=   0.0s\n",
      "[CV 1/5] END ..............max_depth=10, min_samples_leaf=10; total time=   0.0s\n",
      "[CV 2/5] END ..............max_depth=10, min_samples_leaf=10; total time=   0.0s\n",
      "[CV 3/5] END ..............max_depth=10, min_samples_leaf=10; total time=   0.0s\n",
      "[CV 4/5] END ..............max_depth=10, min_samples_leaf=10; total time=   0.0s\n",
      "[CV 5/5] END ..............max_depth=10, min_samples_leaf=10; total time=   0.0s\n",
      "[CV 1/5] END ..............max_depth=10, min_samples_leaf=20; total time=   0.0s\n",
      "[CV 2/5] END ..............max_depth=10, min_samples_leaf=20; total time=   0.0s\n",
      "[CV 3/5] END ..............max_depth=10, min_samples_leaf=20; total time=   0.0s\n",
      "[CV 4/5] END ..............max_depth=10, min_samples_leaf=20; total time=   0.0s\n",
      "[CV 5/5] END ..............max_depth=10, min_samples_leaf=20; total time=   0.0s\n",
      "[CV 1/5] END ..............max_depth=10, min_samples_leaf=30; total time=   0.0s\n",
      "[CV 2/5] END ..............max_depth=10, min_samples_leaf=30; total time=   0.0s\n",
      "[CV 3/5] END ..............max_depth=10, min_samples_leaf=30; total time=   0.0s\n",
      "[CV 4/5] END ..............max_depth=10, min_samples_leaf=30; total time=   0.0s\n",
      "[CV 5/5] END ..............max_depth=10, min_samples_leaf=30; total time=   0.0s\n",
      "[CV 1/5] END ..............max_depth=10, min_samples_leaf=40; total time=   0.0s\n",
      "[CV 2/5] END ..............max_depth=10, min_samples_leaf=40; total time=   0.0s\n",
      "[CV 3/5] END ..............max_depth=10, min_samples_leaf=40; total time=   0.0s\n",
      "[CV 4/5] END ..............max_depth=10, min_samples_leaf=40; total time=   0.0s\n",
      "[CV 5/5] END ..............max_depth=10, min_samples_leaf=40; total time=   0.0s\n",
      "[CV 1/5] END ..............max_depth=10, min_samples_leaf=50; total time=   0.0s\n",
      "[CV 2/5] END ..............max_depth=10, min_samples_leaf=50; total time=   0.0s\n",
      "[CV 3/5] END ..............max_depth=10, min_samples_leaf=50; total time=   0.0s\n",
      "[CV 4/5] END ..............max_depth=10, min_samples_leaf=50; total time=   0.0s\n",
      "[CV 5/5] END ..............max_depth=10, min_samples_leaf=50; total time=   0.0s\n",
      "[CV 1/5] END ..............max_depth=10, min_samples_leaf=60; total time=   0.0s\n",
      "[CV 2/5] END ..............max_depth=10, min_samples_leaf=60; total time=   0.0s\n",
      "[CV 3/5] END ..............max_depth=10, min_samples_leaf=60; total time=   0.0s\n",
      "[CV 4/5] END ..............max_depth=10, min_samples_leaf=60; total time=   0.0s\n",
      "[CV 5/5] END ..............max_depth=10, min_samples_leaf=60; total time=   0.0s\n",
      "[CV 1/5] END ..............max_depth=10, min_samples_leaf=70; total time=   0.0s\n",
      "[CV 2/5] END ..............max_depth=10, min_samples_leaf=70; total time=   0.0s\n",
      "[CV 3/5] END ..............max_depth=10, min_samples_leaf=70; total time=   0.0s\n",
      "[CV 4/5] END ..............max_depth=10, min_samples_leaf=70; total time=   0.0s\n",
      "[CV 5/5] END ..............max_depth=10, min_samples_leaf=70; total time=   0.0s\n",
      "[CV 1/5] END ..............max_depth=10, min_samples_leaf=80; total time=   0.0s\n",
      "[CV 2/5] END ..............max_depth=10, min_samples_leaf=80; total time=   0.0s\n",
      "[CV 3/5] END ..............max_depth=10, min_samples_leaf=80; total time=   0.0s\n",
      "[CV 4/5] END ..............max_depth=10, min_samples_leaf=80; total time=   0.0s\n",
      "[CV 5/5] END ..............max_depth=10, min_samples_leaf=80; total time=   0.0s\n",
      "[CV 1/5] END ..............max_depth=10, min_samples_leaf=90; total time=   0.0s\n",
      "[CV 2/5] END ..............max_depth=10, min_samples_leaf=90; total time=   0.0s\n",
      "[CV 3/5] END ..............max_depth=10, min_samples_leaf=90; total time=   0.0s\n",
      "[CV 4/5] END ..............max_depth=10, min_samples_leaf=90; total time=   0.0s\n",
      "[CV 5/5] END ..............max_depth=10, min_samples_leaf=90; total time=   0.0s\n",
      "[CV 1/5] END .............max_depth=10, min_samples_leaf=100; total time=   0.0s\n",
      "[CV 2/5] END .............max_depth=10, min_samples_leaf=100; total time=   0.0s\n",
      "[CV 3/5] END .............max_depth=10, min_samples_leaf=100; total time=   0.0s\n",
      "[CV 4/5] END .............max_depth=10, min_samples_leaf=100; total time=   0.0s\n",
      "[CV 5/5] END .............max_depth=10, min_samples_leaf=100; total time=   0.0s\n"
     ]
    },
    {
     "data": {
      "text/plain": [
       "GridSearchCV(cv=5, estimator=DecisionTreeClassifier(),\n",
       "             param_grid={'max_depth': range(1, 11),\n",
       "                         'min_samples_leaf': range(10, 101, 10)},\n",
       "             verbose=3)"
      ]
     },
     "execution_count": 80,
     "metadata": {},
     "output_type": "execute_result"
    }
   ],
   "source": [
    "model_gs.fit(x_train, y_train)"
   ]
  },
  {
   "cell_type": "code",
   "execution_count": 57,
   "metadata": {
    "id": "He7AMq8f7kz5"
   },
   "outputs": [
    {
     "data": {
      "text/plain": [
       "{'max_depth': 7, 'min_samples_leaf': 30}"
      ]
     },
     "execution_count": 57,
     "metadata": {},
     "output_type": "execute_result"
    }
   ],
   "source": [
    "model_gs.best_params_"
   ]
  },
  {
   "cell_type": "code",
   "execution_count": 58,
   "metadata": {
    "id": "FvzOJV_37kw_"
   },
   "outputs": [
    {
     "data": {
      "text/plain": [
       "0.7005714285714285"
      ]
     },
     "execution_count": 58,
     "metadata": {},
     "output_type": "execute_result"
    }
   ],
   "source": [
    "model_gs.best_score_"
   ]
  },
  {
   "cell_type": "code",
   "execution_count": 59,
   "metadata": {},
   "outputs": [
    {
     "data": {
      "text/plain": [
       "array([0.614     , 0.614     , 0.614     , 0.614     , 0.614     ,\n",
       "       0.614     , 0.614     , 0.614     , 0.614     , 0.614     ,\n",
       "       0.66142857, 0.66142857, 0.66142857, 0.66142857, 0.66142857,\n",
       "       0.66142857, 0.66142857, 0.66142857, 0.66142857, 0.66142857,\n",
       "       0.692     , 0.69314286, 0.69314286, 0.69314286, 0.69314286,\n",
       "       0.69314286, 0.69314286, 0.69314286, 0.69314286, 0.69514286,\n",
       "       0.68942857, 0.68857143, 0.68942857, 0.68971429, 0.68942857,\n",
       "       0.68914286, 0.69285714, 0.69342857, 0.69742857, 0.69314286,\n",
       "       0.686     , 0.69285714, 0.69514286, 0.69314286, 0.68857143,\n",
       "       0.688     , 0.69057143, 0.69085714, 0.69771429, 0.69342857,\n",
       "       0.67857143, 0.68428571, 0.68714286, 0.68657143, 0.69114286,\n",
       "       0.68742857, 0.69142857, 0.68971429, 0.69571429, 0.69228571,\n",
       "       0.67314286, 0.688     , 0.70057143, 0.69628571, 0.68971429,\n",
       "       0.686     , 0.69      , 0.69114286, 0.69542857, 0.69228571,\n",
       "       0.66571429, 0.688     , 0.694     , 0.694     , 0.69228571,\n",
       "       0.68657143, 0.69      , 0.69028571, 0.69542857, 0.69228571,\n",
       "       0.66485714, 0.686     , 0.698     , 0.69171429, 0.69114286,\n",
       "       0.68657143, 0.69      , 0.69028571, 0.69542857, 0.69228571,\n",
       "       0.65857143, 0.68457143, 0.69685714, 0.69057143, 0.69      ,\n",
       "       0.68657143, 0.69      , 0.69028571, 0.69542857, 0.69228571])"
      ]
     },
     "execution_count": 59,
     "metadata": {},
     "output_type": "execute_result"
    }
   ],
   "source": [
    "model_gs.cv_results_['mean_test_score'] # 시도했을 때 성능 값"
   ]
  },
  {
   "cell_type": "code",
   "execution_count": 60,
   "metadata": {
    "id": "OdolBuhy7kuL"
   },
   "outputs": [
    {
     "name": "stdout",
     "output_type": "stream",
     "text": [
      "              precision    recall  f1-score   support\n",
      "\n",
      "           0       0.66      0.70      0.68       738\n",
      "           1       0.69      0.66      0.68       762\n",
      "\n",
      "    accuracy                           0.68      1500\n",
      "   macro avg       0.68      0.68      0.68      1500\n",
      "weighted avg       0.68      0.68      0.68      1500\n",
      "\n"
     ]
    }
   ],
   "source": [
    "print(classification_report(y_val, pred_gs))"
   ]
  },
  {
   "cell_type": "code",
   "execution_count": 82,
   "metadata": {},
   "outputs": [
    {
     "name": "stdout",
     "output_type": "stream",
     "text": [
      "0.6786666666666666\n"
     ]
    }
   ],
   "source": [
    "print(accuracy_score(y_val, pred_gs))"
   ]
  },
  {
   "cell_type": "code",
   "execution_count": null,
   "metadata": {
    "id": "zwQfhIwt7krA"
   },
   "outputs": [],
   "source": [
    "# 데이터가 다르기 때문에 model_gs.best_score_와 accuracy_score(y_val, pred_gs)가 다를 수 있음"
   ]
  },
  {
   "cell_type": "code",
   "execution_count": null,
   "metadata": {},
   "outputs": [],
   "source": []
  },
  {
   "cell_type": "code",
   "execution_count": null,
   "metadata": {},
   "outputs": [],
   "source": []
  }
 ],
 "metadata": {
  "colab": {
   "authorship_tag": "ABX9TyN6Prk/6koXd+7LqYkAnr0v",
   "collapsed_sections": [],
   "name": "08과 성능튜닝.ipynb",
   "provenance": [],
   "toc_visible": true
  },
  "kernelspec": {
   "display_name": "Python 3",
   "language": "python",
   "name": "python3"
  },
  "language_info": {
   "codemirror_mode": {
    "name": "ipython",
    "version": 3
   },
   "file_extension": ".py",
   "mimetype": "text/x-python",
   "name": "python",
   "nbconvert_exporter": "python",
   "pygments_lexer": "ipython3",
   "version": "3.8.8"
  }
 },
 "nbformat": 4,
 "nbformat_minor": 4
}
