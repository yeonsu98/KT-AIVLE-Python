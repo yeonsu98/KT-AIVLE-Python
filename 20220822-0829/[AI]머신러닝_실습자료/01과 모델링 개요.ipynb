{
 "cells": [
  {
   "cell_type": "markdown",
   "metadata": {
    "id": "cVB9pY-v8uv5"
   },
   "source": [
    "# 모델링 개요 : 무작정 따라하기\n",
    "\n",
    "일단 모델링 해 봅시다.\n",
    "* 목표 : 모델링 코드를 외운다!"
   ]
  },
  {
   "cell_type": "markdown",
   "metadata": {
    "id": "0KPvKifMxfcD"
   },
   "source": [
    "## 0.환경준비"
   ]
  },
  {
   "cell_type": "code",
   "execution_count": 1,
   "metadata": {
    "id": "GVvCef6A8uv6"
   },
   "outputs": [],
   "source": [
    "#기본 라이브러리들\n",
    "import numpy as np   # 수치연산\n",
    "import pandas as pd  # 데이터프레임(2차원) \n",
    "import matplotlib.pyplot as plt  # 그래프\n",
    "from sklearn.model_selection import train_test_split  # 데이터 분할\n",
    "\n",
    "import warnings    # 경고메시지 제외\n",
    "warnings.filterwarnings(action='ignore')"
   ]
  },
  {
   "cell_type": "markdown",
   "metadata": {
    "id": "MatD1j8Ytgz5"
   },
   "source": [
    "## 1.데이터 로딩"
   ]
  },
  {
   "cell_type": "code",
   "execution_count": 2,
   "metadata": {
    "id": "2cDRR8ipdFn7"
   },
   "outputs": [
    {
     "data": {
      "text/html": [
       "<div>\n",
       "<style scoped>\n",
       "    .dataframe tbody tr th:only-of-type {\n",
       "        vertical-align: middle;\n",
       "    }\n",
       "\n",
       "    .dataframe tbody tr th {\n",
       "        vertical-align: top;\n",
       "    }\n",
       "\n",
       "    .dataframe thead th {\n",
       "        text-align: right;\n",
       "    }\n",
       "</style>\n",
       "<table border=\"1\" class=\"dataframe\">\n",
       "  <thead>\n",
       "    <tr style=\"text-align: right;\">\n",
       "      <th></th>\n",
       "      <th>TV</th>\n",
       "      <th>Radio</th>\n",
       "      <th>Newspaper</th>\n",
       "      <th>Sales</th>\n",
       "    </tr>\n",
       "  </thead>\n",
       "  <tbody>\n",
       "    <tr>\n",
       "      <th>0</th>\n",
       "      <td>230.1</td>\n",
       "      <td>37.8</td>\n",
       "      <td>69.2</td>\n",
       "      <td>22.1</td>\n",
       "    </tr>\n",
       "    <tr>\n",
       "      <th>1</th>\n",
       "      <td>44.5</td>\n",
       "      <td>39.3</td>\n",
       "      <td>45.1</td>\n",
       "      <td>10.4</td>\n",
       "    </tr>\n",
       "    <tr>\n",
       "      <th>2</th>\n",
       "      <td>17.2</td>\n",
       "      <td>45.9</td>\n",
       "      <td>69.3</td>\n",
       "      <td>9.3</td>\n",
       "    </tr>\n",
       "    <tr>\n",
       "      <th>3</th>\n",
       "      <td>151.5</td>\n",
       "      <td>41.3</td>\n",
       "      <td>58.5</td>\n",
       "      <td>18.5</td>\n",
       "    </tr>\n",
       "    <tr>\n",
       "      <th>4</th>\n",
       "      <td>180.8</td>\n",
       "      <td>10.8</td>\n",
       "      <td>58.4</td>\n",
       "      <td>12.9</td>\n",
       "    </tr>\n",
       "  </tbody>\n",
       "</table>\n",
       "</div>"
      ],
      "text/plain": [
       "      TV  Radio  Newspaper  Sales\n",
       "0  230.1   37.8       69.2   22.1\n",
       "1   44.5   39.3       45.1   10.4\n",
       "2   17.2   45.9       69.3    9.3\n",
       "3  151.5   41.3       58.5   18.5\n",
       "4  180.8   10.8       58.4   12.9"
      ]
     },
     "execution_count": 2,
     "metadata": {},
     "output_type": "execute_result"
    }
   ],
   "source": [
    "# 깃허브에 올려 놓은 예제 데이터를 가져와서 '데이터프레임'에 저장합니다.\n",
    "path = 'https://raw.githubusercontent.com/DA4BAM/dataset/master/advertising.csv'\n",
    "data = pd.read_csv(path)\n",
    "\n",
    "# 데이터프레임을 살짝 열어 봅니다.(상위 5개 행 조회)\n",
    "data.head()"
   ]
  },
  {
   "cell_type": "markdown",
   "metadata": {
    "id": "LOB3fy_a1LzW"
   },
   "source": [
    "* TV, Radio, Newspaper 광고비용 지출에 따른 판매액 데이터입니다.\n",
    "* 광고비용을 어떻게 지출하느냐에 따라 매출액은 어떻게 달라질까요?"
   ]
  },
  {
   "cell_type": "markdown",
   "metadata": {
    "id": "y9Q6jR6OZjUk"
   },
   "source": [
    "## 2.데이터 전처리"
   ]
  },
  {
   "cell_type": "markdown",
   "metadata": {
    "id": "oqbARUlraJ7M"
   },
   "source": [
    "1) 데이터를 X와 y로 나누기\n",
    "> * **X** : **features**, input, 조작변수, 요인, (독립변수)\n",
    "* **y** : **target**, output, 결과변수, label, (종속변수) "
   ]
  },
  {
   "cell_type": "markdown",
   "metadata": {
    "id": "aKrq4N0oaITC"
   },
   "source": [
    "![image.png](data:image/png;base64,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)"
   ]
  },
  {
   "cell_type": "code",
   "execution_count": 3,
   "metadata": {
    "id": "5dZ_WhcPZbwy"
   },
   "outputs": [],
   "source": [
    "# 1) 먼저 x와 y로 분할\n",
    "target = 'Sales'\n",
    "x = data.drop(target, axis=1) # .drop(   , inplace = True)\n",
    "y = data.loc[:, target] # : 처음부터 끝까지  data['Sales']"
   ]
  },
  {
   "cell_type": "code",
   "execution_count": 4,
   "metadata": {
    "id": "mY_OIDn8Eev8"
   },
   "outputs": [
    {
     "data": {
      "text/html": [
       "<div>\n",
       "<style scoped>\n",
       "    .dataframe tbody tr th:only-of-type {\n",
       "        vertical-align: middle;\n",
       "    }\n",
       "\n",
       "    .dataframe tbody tr th {\n",
       "        vertical-align: top;\n",
       "    }\n",
       "\n",
       "    .dataframe thead th {\n",
       "        text-align: right;\n",
       "    }\n",
       "</style>\n",
       "<table border=\"1\" class=\"dataframe\">\n",
       "  <thead>\n",
       "    <tr style=\"text-align: right;\">\n",
       "      <th></th>\n",
       "      <th>TV</th>\n",
       "      <th>Radio</th>\n",
       "      <th>Newspaper</th>\n",
       "    </tr>\n",
       "  </thead>\n",
       "  <tbody>\n",
       "    <tr>\n",
       "      <th>0</th>\n",
       "      <td>230.1</td>\n",
       "      <td>37.8</td>\n",
       "      <td>69.2</td>\n",
       "    </tr>\n",
       "    <tr>\n",
       "      <th>1</th>\n",
       "      <td>44.5</td>\n",
       "      <td>39.3</td>\n",
       "      <td>45.1</td>\n",
       "    </tr>\n",
       "    <tr>\n",
       "      <th>2</th>\n",
       "      <td>17.2</td>\n",
       "      <td>45.9</td>\n",
       "      <td>69.3</td>\n",
       "    </tr>\n",
       "    <tr>\n",
       "      <th>3</th>\n",
       "      <td>151.5</td>\n",
       "      <td>41.3</td>\n",
       "      <td>58.5</td>\n",
       "    </tr>\n",
       "    <tr>\n",
       "      <th>4</th>\n",
       "      <td>180.8</td>\n",
       "      <td>10.8</td>\n",
       "      <td>58.4</td>\n",
       "    </tr>\n",
       "  </tbody>\n",
       "</table>\n",
       "</div>"
      ],
      "text/plain": [
       "      TV  Radio  Newspaper\n",
       "0  230.1   37.8       69.2\n",
       "1   44.5   39.3       45.1\n",
       "2   17.2   45.9       69.3\n",
       "3  151.5   41.3       58.5\n",
       "4  180.8   10.8       58.4"
      ]
     },
     "execution_count": 4,
     "metadata": {},
     "output_type": "execute_result"
    }
   ],
   "source": [
    "x.head()"
   ]
  },
  {
   "cell_type": "code",
   "execution_count": 5,
   "metadata": {
    "id": "pVH9ln6jEhdk"
   },
   "outputs": [
    {
     "data": {
      "text/plain": [
       "0    22.1\n",
       "1    10.4\n",
       "2     9.3\n",
       "3    18.5\n",
       "4    12.9\n",
       "Name: Sales, dtype: float64"
      ]
     },
     "execution_count": 5,
     "metadata": {},
     "output_type": "execute_result"
    }
   ],
   "source": [
    "y.head()"
   ]
  },
  {
   "cell_type": "markdown",
   "metadata": {
    "id": "WoWtAmxQbzHs"
   },
   "source": [
    "2) train, validation, test로 분할"
   ]
  },
  {
   "cell_type": "markdown",
   "metadata": {
    "id": "kk4Yjmr7ciDh"
   },
   "source": [
    "![image.png](data:image/png;base64,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)"
   ]
  },
  {
   "cell_type": "code",
   "execution_count": 6,
   "metadata": {
    "id": "k4kbYeKSvJLJ"
   },
   "outputs": [],
   "source": [
    "# 2) 전체에서 train : test = 7 : 3 으로 나눕니다.\n",
    "x_train, x_test, y_train, y_test = train_test_split(x, y, test_size=0.3)"
   ]
  },
  {
   "cell_type": "markdown",
   "metadata": {
    "id": "BYr1vtpd8uw4"
   },
   "source": [
    "## 3.학습"
   ]
  },
  {
   "cell_type": "markdown",
   "metadata": {
    "id": "KU2oEv81FDBF"
   },
   "source": [
    "* 필요한 함수들 불러오기"
   ]
  },
  {
   "cell_type": "code",
   "execution_count": 7,
   "metadata": {
    "id": "oRB84_HE8uw5"
   },
   "outputs": [],
   "source": [
    "# 알고리즘 불러오기 : 선형회귀\n",
    "from sklearn.linear_model import LinearRegression\n",
    "\n",
    "# 회귀 모델 평가 함수 불러오기\n",
    "from sklearn.metrics import mean_absolute_error #평균 오차 의미"
   ]
  },
  {
   "cell_type": "markdown",
   "metadata": {
    "id": "sKtb5YdSFFCW"
   },
   "source": [
    "* 모델 선언하기"
   ]
  },
  {
   "cell_type": "code",
   "execution_count": 8,
   "metadata": {
    "id": "UCEKvUAu8uw7"
   },
   "outputs": [],
   "source": [
    "# 모델 선언 : 알고리즘을 어떻게 사용할지 설정\n",
    "model = LinearRegression()"
   ]
  },
  {
   "cell_type": "markdown",
   "metadata": {
    "id": "rkaRLvM7FGmx"
   },
   "source": [
    "* 학습"
   ]
  },
  {
   "cell_type": "code",
   "execution_count": 9,
   "metadata": {
    "id": "_GJ9dzdAaHkT"
   },
   "outputs": [
    {
     "data": {
      "text/plain": [
       "LinearRegression()"
      ]
     },
     "execution_count": 9,
     "metadata": {},
     "output_type": "execute_result"
    }
   ],
   "source": [
    "# 학습 : .fit   ==> 학습은 x와 y의 패턴을 찾아내는 과정입니다.\n",
    "model.fit(x_train, y_train)"
   ]
  },
  {
   "cell_type": "markdown",
   "metadata": {
    "id": "9Psj4F_d8uxA"
   },
   "source": [
    "## 4.예측\n",
    "* 학습의 결과 모델이 만들어 집니다.\n",
    "* 모델이 얼마나 정확한지 검증해 봅시다."
   ]
  },
  {
   "cell_type": "code",
   "execution_count": 10,
   "metadata": {
    "id": "ATRGnYZQ0kzB"
   },
   "outputs": [],
   "source": [
    "pred = model.predict(x_test)"
   ]
  },
  {
   "cell_type": "code",
   "execution_count": 11,
   "metadata": {
    "id": "D14VwnjRw6q7"
   },
   "outputs": [
    {
     "data": {
      "text/plain": [
       "array([ 9.98817024,  3.61715091, 14.15055506, 20.32786759,  9.88970156,\n",
       "       16.98836304, 11.13676607,  9.68768919, 11.51487468, 16.77605733,\n",
       "       11.9844579 , 10.45687197, 17.57315275, 12.85727346, 14.16494523,\n",
       "       18.24022581, 12.25875422,  3.25091475, 12.49553154, 16.60989863,\n",
       "       20.73837299, 13.69270679, 21.02522114, 22.03830416, 23.87851349,\n",
       "       17.24241737, 16.84324391, 14.22110481, 12.75868186, 10.0098125 ,\n",
       "        9.83985757, 22.89954101, 16.38865452, 13.90079567,  9.66622299,\n",
       "       14.16395529,  6.6165319 , 12.80808814,  9.73417037,  6.90326431,\n",
       "        5.19624946, 15.29883676, 10.30341301,  6.27455962,  4.10379802,\n",
       "       11.4030755 , 13.83694948, 11.20125779, 19.23406644, 10.75523052,\n",
       "       17.40764431, 17.16105089, 18.63095731, 14.0757542 , 15.6841725 ,\n",
       "       15.12560157, 19.25474537, 12.01168458,  8.12966643, 17.53686372])"
      ]
     },
     "execution_count": 11,
     "metadata": {},
     "output_type": "execute_result"
    }
   ],
   "source": [
    "pred"
   ]
  },
  {
   "cell_type": "markdown",
   "metadata": {
    "id": "8CYRhHl0a10K"
   },
   "source": [
    "## 5.평가"
   ]
  },
  {
   "cell_type": "code",
   "execution_count": 12,
   "metadata": {
    "id": "K_0TkLEEhON4"
   },
   "outputs": [
    {
     "data": {
      "text/plain": [
       "1.1282930424904485"
      ]
     },
     "execution_count": 12,
     "metadata": {},
     "output_type": "execute_result"
    }
   ],
   "source": [
    "# 평균 오차\n",
    "mean_absolute_error(y_test, pred)"
   ]
  },
  {
   "cell_type": "markdown",
   "metadata": {
    "id": "_Lw2IoZF0-DI"
   },
   "source": [
    "# 실습1 : Diamond Price 예측\n",
    "* 위 코드를 보면서 그대로 따라해보기\n",
    "* copy & paste 보다는 보면서 따라 코딩하기를 권장합니다."
   ]
  },
  {
   "cell_type": "markdown",
   "metadata": {
    "id": "GmppjPnTdUAR"
   },
   "source": [
    "## 1.데이터 로딩"
   ]
  },
  {
   "cell_type": "code",
   "execution_count": 13,
   "metadata": {
    "id": "AciE5g2adUAS"
   },
   "outputs": [
    {
     "data": {
      "text/html": [
       "<div>\n",
       "<style scoped>\n",
       "    .dataframe tbody tr th:only-of-type {\n",
       "        vertical-align: middle;\n",
       "    }\n",
       "\n",
       "    .dataframe tbody tr th {\n",
       "        vertical-align: top;\n",
       "    }\n",
       "\n",
       "    .dataframe thead th {\n",
       "        text-align: right;\n",
       "    }\n",
       "</style>\n",
       "<table border=\"1\" class=\"dataframe\">\n",
       "  <thead>\n",
       "    <tr style=\"text-align: right;\">\n",
       "      <th></th>\n",
       "      <th>carat</th>\n",
       "      <th>cut</th>\n",
       "      <th>color</th>\n",
       "      <th>clarity</th>\n",
       "      <th>depth</th>\n",
       "      <th>table</th>\n",
       "      <th>price</th>\n",
       "      <th>x</th>\n",
       "      <th>y</th>\n",
       "      <th>z</th>\n",
       "    </tr>\n",
       "  </thead>\n",
       "  <tbody>\n",
       "    <tr>\n",
       "      <th>50989</th>\n",
       "      <td>0.31</td>\n",
       "      <td>Ideal</td>\n",
       "      <td>G</td>\n",
       "      <td>VS2</td>\n",
       "      <td>61.6</td>\n",
       "      <td>55.0</td>\n",
       "      <td>544</td>\n",
       "      <td>4.37</td>\n",
       "      <td>4.39</td>\n",
       "      <td>2.70</td>\n",
       "    </tr>\n",
       "    <tr>\n",
       "      <th>42221</th>\n",
       "      <td>0.33</td>\n",
       "      <td>Ideal</td>\n",
       "      <td>E</td>\n",
       "      <td>IF</td>\n",
       "      <td>62.1</td>\n",
       "      <td>55.0</td>\n",
       "      <td>1289</td>\n",
       "      <td>4.43</td>\n",
       "      <td>4.46</td>\n",
       "      <td>2.76</td>\n",
       "    </tr>\n",
       "    <tr>\n",
       "      <th>42307</th>\n",
       "      <td>0.41</td>\n",
       "      <td>Ideal</td>\n",
       "      <td>F</td>\n",
       "      <td>VVS1</td>\n",
       "      <td>62.1</td>\n",
       "      <td>57.0</td>\n",
       "      <td>1295</td>\n",
       "      <td>4.75</td>\n",
       "      <td>4.79</td>\n",
       "      <td>2.96</td>\n",
       "    </tr>\n",
       "    <tr>\n",
       "      <th>27207</th>\n",
       "      <td>2.02</td>\n",
       "      <td>Very Good</td>\n",
       "      <td>F</td>\n",
       "      <td>SI1</td>\n",
       "      <td>62.7</td>\n",
       "      <td>59.0</td>\n",
       "      <td>17530</td>\n",
       "      <td>7.97</td>\n",
       "      <td>8.03</td>\n",
       "      <td>5.02</td>\n",
       "    </tr>\n",
       "    <tr>\n",
       "      <th>22207</th>\n",
       "      <td>1.50</td>\n",
       "      <td>Good</td>\n",
       "      <td>H</td>\n",
       "      <td>VS1</td>\n",
       "      <td>63.4</td>\n",
       "      <td>59.0</td>\n",
       "      <td>10256</td>\n",
       "      <td>7.20</td>\n",
       "      <td>7.29</td>\n",
       "      <td>4.59</td>\n",
       "    </tr>\n",
       "  </tbody>\n",
       "</table>\n",
       "</div>"
      ],
      "text/plain": [
       "       carat        cut color clarity  depth  table  price     x     y     z\n",
       "50989   0.31      Ideal     G     VS2   61.6   55.0    544  4.37  4.39  2.70\n",
       "42221   0.33      Ideal     E      IF   62.1   55.0   1289  4.43  4.46  2.76\n",
       "42307   0.41      Ideal     F    VVS1   62.1   57.0   1295  4.75  4.79  2.96\n",
       "27207   2.02  Very Good     F     SI1   62.7   59.0  17530  7.97  8.03  5.02\n",
       "22207   1.50       Good     H     VS1   63.4   59.0  10256  7.20  7.29  4.59"
      ]
     },
     "execution_count": 13,
     "metadata": {},
     "output_type": "execute_result"
    }
   ],
   "source": [
    "path = 'https://raw.githubusercontent.com/DA4BAM/dataset/master/diamonds.csv'\n",
    "data = pd.read_csv(path)\n",
    "data = data.sample(2000, random_state=2022)\n",
    "data.head()"
   ]
  },
  {
   "cell_type": "markdown",
   "metadata": {
    "id": "UMtewdq10VVp"
   },
   "source": [
    "## 2.데이터 전처리"
   ]
  },
  {
   "cell_type": "markdown",
   "metadata": {
    "id": "klJY7WaEx6Up"
   },
   "source": [
    "* 분할1 : x, y"
   ]
  },
  {
   "cell_type": "code",
   "execution_count": 14,
   "metadata": {
    "id": "W0_Icwx20VVp"
   },
   "outputs": [],
   "source": [
    "target = 'price'\n",
    "x = data.drop(target, axis=1)\n",
    "y = data.loc[:, target]"
   ]
  },
  {
   "cell_type": "markdown",
   "metadata": {
    "id": "Ego_oCBMxxj7"
   },
   "source": [
    "* 가변수화"
   ]
  },
  {
   "cell_type": "code",
   "execution_count": 15,
   "metadata": {
    "id": "X6nlqXxLyDiN"
   },
   "outputs": [],
   "source": [
    "col_cat = ['cut','color','clarity']\n",
    "x = pd.get_dummies(x, columns = col_cat, drop_first = True)"
   ]
  },
  {
   "cell_type": "code",
   "execution_count": 16,
   "metadata": {
    "id": "75vVrMdm0VVp"
   },
   "outputs": [],
   "source": [
    "x_train, x_test, y_train, y_test = train_test_split(x, y, test_size=0.3)"
   ]
  },
  {
   "cell_type": "markdown",
   "metadata": {
    "id": "CwLamPR_0VVq"
   },
   "source": [
    "## 3.학습"
   ]
  },
  {
   "cell_type": "code",
   "execution_count": 17,
   "metadata": {
    "id": "_M8h2OBc0VVq"
   },
   "outputs": [],
   "source": [
    "# 알고리즘 불러오기\n",
    "from sklearn.linear_model import LinearRegression\n",
    "\n",
    "# 회귀 모델 평가 함수 불러오기\n",
    "from sklearn.metrics import mean_absolute_error #평균 오차 의미"
   ]
  },
  {
   "cell_type": "code",
   "execution_count": 18,
   "metadata": {
    "id": "vtsJISFq0VVq"
   },
   "outputs": [],
   "source": [
    "# 모델 선언\n",
    "model = LinearRegression()"
   ]
  },
  {
   "cell_type": "code",
   "execution_count": 19,
   "metadata": {
    "id": "RiERzHOG0VVq"
   },
   "outputs": [
    {
     "data": {
      "text/plain": [
       "LinearRegression()"
      ]
     },
     "execution_count": 19,
     "metadata": {},
     "output_type": "execute_result"
    }
   ],
   "source": [
    "# 학습 : .fit\n",
    "model.fit(x_train, y_train)"
   ]
  },
  {
   "cell_type": "markdown",
   "metadata": {
    "id": "ecCazsKf0VVq"
   },
   "source": [
    "## 4.예측\n"
   ]
  },
  {
   "cell_type": "code",
   "execution_count": 21,
   "metadata": {
    "collapsed": true,
    "id": "s-lVkEo40VVq",
    "jupyter": {
     "outputs_hidden": true
    },
    "tags": []
   },
   "outputs": [
    {
     "data": {
      "text/plain": [
       "array([ 2.20501344e+03,  7.52856789e+02,  7.67317403e+03,  5.05654930e+02,\n",
       "        9.58922282e+03,  1.03311791e+04,  6.17537957e+02,  6.48866430e+03,\n",
       "        5.02781402e+03,  6.01440323e+03,  1.30545630e+04, -4.20115860e+02,\n",
       "        1.45458770e+03,  4.45953644e+03,  5.38351398e+03,  5.88822292e+03,\n",
       "        6.39912991e+03,  5.34878640e+03,  4.29684909e+03,  9.31210328e+01,\n",
       "        1.37340510e+04,  2.85873380e+02, -1.51496604e+03,  1.90055990e+03,\n",
       "        1.61345598e+03,  6.48643230e+03,  3.17379810e+03,  2.41688206e+03,\n",
       "        1.59183469e+03,  1.75556919e+03,  3.53265740e+03,  3.69387686e+02,\n",
       "       -1.20417423e+02,  5.31533551e+03,  7.84596076e+03,  5.94994362e+03,\n",
       "        1.43436441e+04,  7.41011029e+02,  4.62149721e+03,  7.62862776e+03,\n",
       "        9.52827694e+03,  2.22114117e+03,  5.05685776e+03,  1.68401287e+02,\n",
       "        8.07731615e+03,  1.50881660e+04,  4.22168234e+03,  5.44853731e+03,\n",
       "        1.59660784e+03,  1.65701446e+03,  1.38740739e+03,  1.83232498e+03,\n",
       "        3.92513428e+03,  1.91314236e+04,  2.00963398e+03,  7.84303403e+02,\n",
       "        4.67647603e+03,  3.88250729e+03,  6.27487774e+03,  6.14734581e+03,\n",
       "        1.37368967e+04,  3.83366402e+02,  7.88079655e+03, -2.08613746e+03,\n",
       "        7.58904406e+03,  4.33714507e+03,  2.44665587e+03,  8.77602978e+02,\n",
       "        1.52264232e+03,  2.21783774e+03,  5.38521342e+02,  2.52819945e+03,\n",
       "        1.13489759e+03,  1.44765920e+04,  3.99095380e+03,  5.74033517e+03,\n",
       "        2.62326432e+03,  7.09919466e+03,  1.16651738e+03,  5.63470699e+03,\n",
       "        4.99818606e+03,  3.16930900e+03,  9.39910722e+02,  2.26996167e+03,\n",
       "        7.88360471e+03, -2.00073297e+02,  1.57067330e+03,  7.72302674e+03,\n",
       "        3.98270948e+03,  3.34298641e+02,  1.23366453e+03,  4.81831833e+03,\n",
       "        7.49981874e+02,  2.33268008e+03,  1.11079058e+04,  3.44130771e+03,\n",
       "        1.26986280e+03, -3.19979341e+02,  8.35283305e+03,  2.48961072e+03,\n",
       "        7.47011673e+03,  3.46028316e+02, -5.93630565e+01,  9.27484934e+03,\n",
       "        5.33041913e+02,  5.92920763e+03,  2.01718345e+03,  6.68589398e+03,\n",
       "        4.14941501e+03,  3.01469011e+03,  1.43726196e+04,  3.55881124e+02,\n",
       "        2.01272302e+03,  1.13019417e+03,  5.91128939e+03,  8.38444770e+03,\n",
       "       -2.19106143e+02,  4.31590248e+02,  2.53061636e+03,  1.01603423e+03,\n",
       "        3.77713177e+03,  1.42980245e+03,  1.15632513e+03,  2.75102658e+02,\n",
       "        1.15803149e+04,  1.99642054e+03,  7.52469696e+03, -3.99020575e+02,\n",
       "        3.21623600e+03,  4.26770056e+03,  1.18027040e+04,  3.38126478e+03,\n",
       "        4.47380979e+02,  6.84021474e+03,  7.05448601e+02,  4.00419955e+03,\n",
       "        1.99742705e+02,  1.25682906e+03,  4.58859574e+02,  1.55168906e+03,\n",
       "        3.90652962e+03,  3.22194934e+03,  2.37050515e+03,  2.09086632e+03,\n",
       "        3.60548893e+03,  2.93803988e+03,  1.07708318e+04,  5.70786258e+03,\n",
       "        3.57750426e+03,  3.98043567e+03,  4.42504058e+03,  1.85171211e+03,\n",
       "        8.83151125e+03,  5.08126078e+03, -3.06569107e+03,  1.80683438e+03,\n",
       "        5.12365794e+03,  3.16035141e+03,  4.54501888e+03,  8.24385973e+02,\n",
       "        1.01802662e+03,  4.35611283e+02,  1.05470909e+04, -5.55725517e+00,\n",
       "        3.60209730e+03,  1.77694929e+03,  1.09475150e+03,  1.28783293e+04,\n",
       "        4.21100962e+03,  2.53003732e+03,  4.03651602e+03,  7.80068891e+03,\n",
       "        2.30860556e+03,  1.62452999e+03,  2.18801743e+03,  1.41097469e+02,\n",
       "        4.15492133e+03,  2.27829558e+03,  2.82749388e+03,  1.05442401e+04,\n",
       "        2.91695984e+03,  1.37989716e+04,  9.52007343e+02, -8.42009115e+02,\n",
       "        3.41151014e+03,  2.20886804e+03,  8.27206855e+03,  1.26783656e+03,\n",
       "        3.29286525e+03,  9.88234249e+03,  9.44700401e+03,  3.25750782e+03,\n",
       "       -2.21657589e+03,  2.92053984e+03,  2.62539987e+03,  8.95478444e+03,\n",
       "        7.11742286e+02,  9.42810864e+02,  5.95794024e+02,  3.26179681e+03,\n",
       "        7.84915135e+02,  5.07076589e+03,  3.44150335e+03,  7.53747225e+03,\n",
       "        2.40098273e+03,  9.28804460e+03,  2.81860766e+03,  3.20011878e+03,\n",
       "        1.10737277e+04,  8.57104944e+02,  1.96788485e+03,  8.62998486e+03,\n",
       "        1.65040984e+03,  1.54172589e+03,  1.46464453e+04,  4.78425968e+02,\n",
       "        3.67728899e+03,  2.59974960e+02,  2.33759911e+03,  1.86591345e+03,\n",
       "        6.64216831e+03,  4.95762737e+03,  7.65841847e+03,  9.36921552e+03,\n",
       "        1.41003119e+03,  3.59237384e+03,  9.52198244e+02,  6.26496211e+03,\n",
       "        7.48680208e+03,  3.55141932e+03,  2.25927687e+03, -9.35780337e+02,\n",
       "        5.54124839e+03,  4.28373131e+03, -1.21222097e+03,  3.35051755e+03,\n",
       "        8.33475365e+02,  2.21262807e+03,  9.60172600e+03,  1.33729265e+04,\n",
       "        4.98194301e+02,  1.25438923e+04,  3.72637371e+03,  4.78595793e+02,\n",
       "        2.19724508e+03,  6.47719454e+03,  1.23001942e+04,  5.63861904e+02,\n",
       "        5.27255842e+03,  1.70310032e+03,  1.09141356e+04,  6.04341401e+03,\n",
       "        2.73689423e+03,  1.76053542e+03,  2.43035265e+03,  5.82584589e+03,\n",
       "        4.83487613e+03,  4.42298489e+03,  6.76817616e+03,  4.11721853e+03,\n",
       "        6.43356132e+03,  5.53149219e+02,  1.51360928e+03,  1.53679641e+04,\n",
       "        1.18751458e+04,  1.45992464e+04,  2.49180303e+03,  3.24068382e+03,\n",
       "        3.65513396e+02,  4.65632805e+03,  4.32120917e+02,  3.25484509e+03,\n",
       "       -4.32901986e+02,  4.07294195e+03,  2.52442866e+03,  2.34580804e+03,\n",
       "        1.59820062e+02,  8.23793786e+03, -5.13914068e+02,  7.15594774e+03,\n",
       "        2.32013259e+03, -5.44584443e+02,  1.11439649e+04,  1.85151909e+03,\n",
       "        1.72135711e+03,  4.34781102e+03,  2.27357940e+03,  8.28428800e+03,\n",
       "        2.14157841e+03,  1.34560314e+04,  6.47640644e+02,  2.71840920e+03,\n",
       "        9.64711057e+03,  1.04516479e+04,  8.98494638e+02,  4.95127146e+02,\n",
       "       -1.65294376e+02,  1.57337182e+03,  3.46437908e+03, -3.76702417e+02,\n",
       "        1.10668276e+03, -1.86577854e+03,  6.46588167e+03,  1.27922391e+04,\n",
       "        4.93878115e+03,  3.32324333e+03, -6.40100901e+02,  2.20038211e+03,\n",
       "        3.66985707e+03,  7.23319889e+03,  1.43325454e+03,  3.03757468e+03,\n",
       "        5.78051234e+03,  7.10789031e+03,  1.39886382e+03,  2.15695612e+03,\n",
       "        1.92919164e+03,  7.49416516e+03,  3.63781660e+03,  3.66102858e+03,\n",
       "        1.70589211e+03,  1.44549367e+03, -6.55208445e+01, -2.69488869e+03,\n",
       "        4.83923189e+02,  8.65376031e+02,  5.87244632e+02,  7.12638755e+03,\n",
       "        2.81181892e+03,  1.85937066e+03,  6.60911454e+02,  3.45572991e+03,\n",
       "        1.36544295e+03,  5.58909872e+03,  3.32603730e+02,  8.41154088e+02,\n",
       "        3.50623246e+01,  1.57894364e+03, -2.97204515e+01,  1.84742544e+02,\n",
       "        5.97502105e+02,  1.34526586e+04,  1.55214613e+03,  1.90814093e+03,\n",
       "        2.92462477e+02,  7.42103393e+03, -1.59583484e+03,  5.59573683e+03,\n",
       "       -4.76613442e+02,  1.16558103e+04,  2.18774532e+03,  5.84936963e+02,\n",
       "        1.79373013e+03,  8.63732148e+02,  4.59471846e+03,  1.05869730e+03,\n",
       "        3.01290235e+03,  1.25381419e+03,  3.01710689e+03,  5.71401539e+02,\n",
       "        8.53043029e+03,  8.50374154e+03,  2.62860819e+02,  9.81410084e+02,\n",
       "        4.18829706e+03,  4.28607263e+03,  3.70340401e+03,  2.36576541e+03,\n",
       "        1.07341677e+03,  2.55356899e+03,  2.77212178e+02,  3.05536645e+03,\n",
       "        1.43382434e+03,  1.43999913e+03,  4.47525450e+03,  5.29692999e+03,\n",
       "        1.48280547e+03,  2.05724727e+03,  4.73377110e+03,  5.79063939e+03,\n",
       "        9.82166498e+03,  2.04495324e+03, -3.00437288e+02, -4.98814555e+02,\n",
       "       -7.25039480e+02,  8.07174435e+02,  1.13845754e+04,  2.80366676e+02,\n",
       "        3.43831513e+03,  1.13166881e+03,  2.30626604e+03,  8.70721831e+03,\n",
       "        6.08226549e+03,  2.78101842e+03, -1.65450835e+02,  1.41983179e+03,\n",
       "        2.07036890e+03,  2.82886837e+03,  4.36931575e+01,  1.90882726e+02,\n",
       "        1.07202268e+04,  3.10685271e+03, -2.51203863e+02,  2.04943624e+03,\n",
       "        9.04692415e+03,  6.48303710e+03,  1.36968275e+03,  9.83908609e+03,\n",
       "        2.16639612e+03,  2.46518468e+03,  6.27860262e+03,  1.73172616e+04,\n",
       "        2.27521697e+03,  9.99639577e+03,  1.81744775e+03,  1.70803891e+03,\n",
       "        6.38971963e+03,  4.26865124e+03,  2.62237868e+03,  1.08275198e+03,\n",
       "        2.67921616e+03,  1.99229349e+03,  4.28552612e+03,  3.19536473e+03,\n",
       "        1.34817490e+03,  4.55991660e+03,  3.58164816e+03,  6.50780827e+03,\n",
       "        8.23674274e+03,  2.40190983e+02,  4.07747394e+02,  3.67310446e+03,\n",
       "        8.21565054e+03,  4.67064314e+03,  3.47118329e+03,  1.00298780e+04,\n",
       "        3.87327338e+03,  2.37004874e+03, -1.16061181e+03,  6.38428744e+03,\n",
       "        1.73258023e+03, -4.15090748e+02,  1.88796211e+03,  8.62307395e+02,\n",
       "        7.10694614e+03,  9.39056725e+03,  4.25470906e+03,  2.27007338e+03,\n",
       "        2.38842614e+03,  1.05770344e+04,  1.82276340e+03,  3.43705640e+03,\n",
       "       -1.93540002e+03,  8.00523131e+03,  3.72409938e+02,  7.29490164e+03,\n",
       "        1.50569541e+03,  6.59708264e+03,  3.79345718e+03,  3.89681025e+02,\n",
       "        2.57038149e+03,  4.16230559e+03,  9.35707249e+02,  1.46207429e+04,\n",
       "        4.95903496e+03,  3.59617751e+02,  2.34332025e+03,  5.54610787e+03,\n",
       "        1.09016099e+04,  7.71735168e+02,  7.28185415e+02,  2.18351547e+03,\n",
       "        7.94192812e+03,  4.66379485e+03,  1.05109358e+03,  2.20827988e+03,\n",
       "        8.87203550e+02, -4.90158424e+02,  3.84874101e+03,  3.81448996e+02,\n",
       "       -9.37056344e+02,  6.31701855e+03,  4.99445989e+03,  1.43037886e+03,\n",
       "        1.39455699e+03,  1.06793045e+03,  1.00874059e+04,  9.05270665e+03,\n",
       "        2.35920771e+03,  8.61213939e+02,  4.75184666e+03,  3.74911781e+03,\n",
       "        1.06683116e+03,  1.80015507e+03,  2.94015076e+03, -7.92786650e+02,\n",
       "        6.13657872e+03,  6.12277568e+03,  4.96373472e+03,  5.08848947e+02,\n",
       "        4.34594892e+03,  4.92621808e+03,  3.69617613e+03,  1.11779269e+03,\n",
       "        3.61612206e+03,  1.76832774e+03,  5.26900280e+03,  2.68070065e+03,\n",
       "        8.01579579e+02,  2.13746896e+03,  1.15332733e+03,  2.51761223e+03,\n",
       "        6.38819738e+02,  7.62710853e+03,  9.01428517e+03,  1.22169695e+04,\n",
       "       -6.53071860e+01, -1.70239360e+02,  1.02040529e+02,  1.30777587e+04,\n",
       "        3.38797198e+03,  1.40328151e+04,  1.59498776e+03,  7.80846934e+02,\n",
       "        6.11198445e+03,  1.51253832e+03,  2.50848793e+03,  2.07746570e+03,\n",
       "        1.88647072e+02,  1.42812476e+04,  9.61666524e+02, -1.70669051e+02,\n",
       "        6.89562999e+02,  2.25210716e+03,  7.00759256e+03,  5.31217257e+02,\n",
       "        2.51451784e+03,  8.51411465e+02,  1.00709653e+03,  6.38035136e+03,\n",
       "        2.91294431e+03,  1.46872731e+04,  5.07841141e+03,  6.74152272e+02,\n",
       "        8.26665854e+03,  4.14309742e+03,  3.20710195e+03,  6.89548457e+03,\n",
       "        9.00327810e+02, -2.14028178e+02,  9.20109671e+02, -6.29444655e+02,\n",
       "        1.90715489e+03,  1.04415520e+04,  4.56469873e+03,  1.08402413e+04,\n",
       "        7.72854492e+02,  6.25783869e+03,  2.22151005e+03,  1.32918396e+03,\n",
       "       -2.06260944e+03,  1.94619175e+02,  5.19829472e+03, -6.63729518e+02,\n",
       "        7.47598841e+02,  5.92538887e+02,  1.14564996e+04,  6.69097882e+02,\n",
       "        1.18229418e+03,  3.71746789e+03,  8.36208065e+03,  1.24531510e+03,\n",
       "        1.12756710e+04,  7.46706681e+02,  5.09516372e+02,  6.21177916e+02,\n",
       "        1.64912108e+03,  3.93907986e+03,  9.11992128e+03, -4.88169090e+02,\n",
       "        1.56063941e+03,  4.46601853e+02,  1.86110833e+02,  3.72165225e+02,\n",
       "        3.31881811e+03,  2.13509837e+03,  9.68789528e+03,  1.74866207e+03,\n",
       "       -1.94606918e+01,  6.26350458e+03,  2.62436300e+03,  1.08102673e+03,\n",
       "        1.77717832e+03,  1.46636761e+04,  1.89287784e+03,  9.82356257e+03,\n",
       "        8.07620089e+03,  3.72322159e+03,  4.21313901e+03,  7.07206191e+03])"
      ]
     },
     "execution_count": 21,
     "metadata": {},
     "output_type": "execute_result"
    }
   ],
   "source": [
    "# 예측 : .predict\n",
    "pred = model.predict(x_test)\n",
    "pred"
   ]
  },
  {
   "cell_type": "markdown",
   "metadata": {
    "id": "bUD4WwTa0VVq"
   },
   "source": [
    "## 5.평가"
   ]
  },
  {
   "cell_type": "code",
   "execution_count": 22,
   "metadata": {
    "id": "BsUKWGtu0VVq"
   },
   "outputs": [
    {
     "data": {
      "text/plain": [
       "810.9111950866602"
      ]
     },
     "execution_count": 22,
     "metadata": {},
     "output_type": "execute_result"
    }
   ],
   "source": [
    "# 평균 오차 : mean_absolute_error(실제값, 예측값)\n",
    "mean_absolute_error(y_test, pred)"
   ]
  },
  {
   "cell_type": "markdown",
   "metadata": {
    "id": "VHAnE03gG662"
   },
   "source": [
    "# 실습2 : 보스톤시 타운별 집값 예측\n",
    "* 위 코드를 보면서 그대로 따라해보기\n",
    "* copy & paste 보다는 보면서 따라 코딩하기를 권장합니다."
   ]
  },
  {
   "cell_type": "markdown",
   "metadata": {
    "id": "etRNdifaJKPx"
   },
   "source": [
    "![image.png](data:image/png;base64,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)"
   ]
  },
  {
   "cell_type": "markdown",
   "metadata": {
    "id": "BLTKXwUSG664"
   },
   "source": [
    "## 1.데이터 로딩"
   ]
  },
  {
   "cell_type": "code",
   "execution_count": 23,
   "metadata": {
    "id": "yUMyYDOkG664"
   },
   "outputs": [
    {
     "data": {
      "text/html": [
       "<div>\n",
       "<style scoped>\n",
       "    .dataframe tbody tr th:only-of-type {\n",
       "        vertical-align: middle;\n",
       "    }\n",
       "\n",
       "    .dataframe tbody tr th {\n",
       "        vertical-align: top;\n",
       "    }\n",
       "\n",
       "    .dataframe thead th {\n",
       "        text-align: right;\n",
       "    }\n",
       "</style>\n",
       "<table border=\"1\" class=\"dataframe\">\n",
       "  <thead>\n",
       "    <tr style=\"text-align: right;\">\n",
       "      <th></th>\n",
       "      <th>crim</th>\n",
       "      <th>indus</th>\n",
       "      <th>chas</th>\n",
       "      <th>nox</th>\n",
       "      <th>rm</th>\n",
       "      <th>dis</th>\n",
       "      <th>tax</th>\n",
       "      <th>ptratio</th>\n",
       "      <th>lstat</th>\n",
       "      <th>medv</th>\n",
       "    </tr>\n",
       "  </thead>\n",
       "  <tbody>\n",
       "    <tr>\n",
       "      <th>0</th>\n",
       "      <td>0.00632</td>\n",
       "      <td>2.31</td>\n",
       "      <td>0</td>\n",
       "      <td>0.538</td>\n",
       "      <td>6.575</td>\n",
       "      <td>4.0900</td>\n",
       "      <td>296</td>\n",
       "      <td>15.3</td>\n",
       "      <td>4.98</td>\n",
       "      <td>24.0</td>\n",
       "    </tr>\n",
       "    <tr>\n",
       "      <th>1</th>\n",
       "      <td>0.02731</td>\n",
       "      <td>7.07</td>\n",
       "      <td>0</td>\n",
       "      <td>0.469</td>\n",
       "      <td>6.421</td>\n",
       "      <td>4.9671</td>\n",
       "      <td>242</td>\n",
       "      <td>17.8</td>\n",
       "      <td>9.14</td>\n",
       "      <td>21.6</td>\n",
       "    </tr>\n",
       "    <tr>\n",
       "      <th>2</th>\n",
       "      <td>0.02729</td>\n",
       "      <td>7.07</td>\n",
       "      <td>0</td>\n",
       "      <td>0.469</td>\n",
       "      <td>7.185</td>\n",
       "      <td>4.9671</td>\n",
       "      <td>242</td>\n",
       "      <td>17.8</td>\n",
       "      <td>4.03</td>\n",
       "      <td>34.7</td>\n",
       "    </tr>\n",
       "    <tr>\n",
       "      <th>3</th>\n",
       "      <td>0.03237</td>\n",
       "      <td>2.18</td>\n",
       "      <td>0</td>\n",
       "      <td>0.458</td>\n",
       "      <td>6.998</td>\n",
       "      <td>6.0622</td>\n",
       "      <td>222</td>\n",
       "      <td>18.7</td>\n",
       "      <td>2.94</td>\n",
       "      <td>33.4</td>\n",
       "    </tr>\n",
       "    <tr>\n",
       "      <th>4</th>\n",
       "      <td>0.06905</td>\n",
       "      <td>2.18</td>\n",
       "      <td>0</td>\n",
       "      <td>0.458</td>\n",
       "      <td>7.147</td>\n",
       "      <td>6.0622</td>\n",
       "      <td>222</td>\n",
       "      <td>18.7</td>\n",
       "      <td>5.33</td>\n",
       "      <td>36.2</td>\n",
       "    </tr>\n",
       "  </tbody>\n",
       "</table>\n",
       "</div>"
      ],
      "text/plain": [
       "      crim  indus  chas    nox     rm     dis  tax  ptratio  lstat  medv\n",
       "0  0.00632   2.31     0  0.538  6.575  4.0900  296     15.3   4.98  24.0\n",
       "1  0.02731   7.07     0  0.469  6.421  4.9671  242     17.8   9.14  21.6\n",
       "2  0.02729   7.07     0  0.469  7.185  4.9671  242     17.8   4.03  34.7\n",
       "3  0.03237   2.18     0  0.458  6.998  6.0622  222     18.7   2.94  33.4\n",
       "4  0.06905   2.18     0  0.458  7.147  6.0622  222     18.7   5.33  36.2"
      ]
     },
     "execution_count": 23,
     "metadata": {},
     "output_type": "execute_result"
    }
   ],
   "source": [
    "path = 'https://raw.githubusercontent.com/DA4BAM/dataset/master/boston.csv'\n",
    "cols = ['crim','indus','chas','nox','rm', 'dis', 'tax','ptratio','lstat','medv']\n",
    "data = pd.read_csv(path, usecols = cols)\n",
    "data.head()"
   ]
  },
  {
   "cell_type": "markdown",
   "metadata": {
    "id": "B-pJioaxG664"
   },
   "source": [
    "## 2.데이터 전처리"
   ]
  },
  {
   "cell_type": "code",
   "execution_count": 24,
   "metadata": {
    "id": "w6BJXaYbG664"
   },
   "outputs": [],
   "source": [
    "# 1) 먼저 x와 y로 분할\n",
    "target = 'medv'\n",
    "x = data.drop(target, axis=1)\n",
    "y = data.loc[:, target]"
   ]
  },
  {
   "cell_type": "code",
   "execution_count": 25,
   "metadata": {
    "id": "gZO2PXfJG665"
   },
   "outputs": [],
   "source": [
    "# 2) 전체에서 train : test = 7 : 3 으로 나눕니다.\n",
    "x_train, x_test, y_train, y_test = train_test_split(x, y, test_size=0.3)"
   ]
  },
  {
   "cell_type": "markdown",
   "metadata": {
    "id": "YjpgQUUXG665"
   },
   "source": [
    "## 3.학습"
   ]
  },
  {
   "cell_type": "code",
   "execution_count": 26,
   "metadata": {
    "id": "kCUDLIaMG665"
   },
   "outputs": [],
   "source": [
    "# 알고리즘 불러오기\n",
    "from sklearn.linear_model import LinearRegression\n",
    "\n",
    "# 회귀 모델 평가 함수 불러오기 : 평균오차\n",
    "from sklearn.metrics import mean_absolute_error"
   ]
  },
  {
   "cell_type": "code",
   "execution_count": 28,
   "metadata": {
    "id": "-sD354ezG665"
   },
   "outputs": [],
   "source": [
    "# 모델 선언\n",
    "model = LinearRegression()"
   ]
  },
  {
   "cell_type": "code",
   "execution_count": 29,
   "metadata": {
    "id": "YBFZZPHfG665"
   },
   "outputs": [
    {
     "data": {
      "text/plain": [
       "LinearRegression()"
      ]
     },
     "execution_count": 29,
     "metadata": {},
     "output_type": "execute_result"
    }
   ],
   "source": [
    "# 학습 : .fit\n",
    "model.fit(x_train, y_train)"
   ]
  },
  {
   "cell_type": "markdown",
   "metadata": {
    "id": "2v_qkYm6G665"
   },
   "source": [
    "## 4.예측\n"
   ]
  },
  {
   "cell_type": "code",
   "execution_count": 31,
   "metadata": {
    "id": "chAUQN-oG666"
   },
   "outputs": [],
   "source": [
    "# 예측 : .predict\n",
    "pred = model.predict(x_test)"
   ]
  },
  {
   "cell_type": "markdown",
   "metadata": {
    "id": "Ksa2_cHjG666"
   },
   "source": [
    "## 5.평가"
   ]
  },
  {
   "cell_type": "code",
   "execution_count": 32,
   "metadata": {
    "id": "KD681cuBG666"
   },
   "outputs": [
    {
     "data": {
      "text/plain": [
       "3.2500240951622557"
      ]
     },
     "execution_count": 32,
     "metadata": {},
     "output_type": "execute_result"
    }
   ],
   "source": [
    "# 평균 오차 : mean_absolute_error(실제값, 예측값)\n",
    "mean_absolute_error(y_test, pred)"
   ]
  },
  {
   "cell_type": "code",
   "execution_count": null,
   "metadata": {
    "id": "wtC6hMl3PKi3"
   },
   "outputs": [],
   "source": []
  }
 ],
 "metadata": {
  "colab": {
   "collapsed_sections": [],
   "name": "01과 모델링 개요.ipynb",
   "provenance": [],
   "toc_visible": true
  },
  "kernelspec": {
   "display_name": "Python 3",
   "language": "python",
   "name": "python3"
  },
  "language_info": {
   "codemirror_mode": {
    "name": "ipython",
    "version": 3
   },
   "file_extension": ".py",
   "mimetype": "text/x-python",
   "name": "python",
   "nbconvert_exporter": "python",
   "pygments_lexer": "ipython3",
   "version": "3.8.8"
  }
 },
 "nbformat": 4,
 "nbformat_minor": 4
}
