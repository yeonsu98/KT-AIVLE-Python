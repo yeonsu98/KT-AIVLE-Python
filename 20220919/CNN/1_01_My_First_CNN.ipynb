{
  "nbformat": 4,
  "nbformat_minor": 0,
  "metadata": {
    "colab": {
      "provenance": [],
      "collapsed_sections": []
    },
    "kernelspec": {
      "name": "python3",
      "display_name": "Python 3"
    },
    "gpuClass": "standard",
    "accelerator": "GPU"
  },
  "cells": [
    {
      "cell_type": "markdown",
      "metadata": {
        "id": "x8TZ1FxLB4xJ"
      },
      "source": [
        "# My First CNN on MNIST\n",
        "\n",
        "## 일단 Quick 하게!!\n",
        "\n",
        "코드는 정말 수루룩 끝난다!\n",
        "\n",
        "그래서 다시 한 번! 다음 그림을 보고 구조를 확실히 추적할 수 있어야 한다.\n",
        "\n",
        "* [Ex1](https://cdn-images-1.medium.com/max/1600/1*O9ulXVmjBustHGLi1zRthA.png)\n",
        "* [Ex2](https://cdn-images-1.medium.com/max/1600/1*jqKHgwZ8alM3K_JRYO_l4w.png)\n",
        "\n"
      ]
    },
    {
      "cell_type": "markdown",
      "metadata": {
        "id": "CcKmYCVBFNSN"
      },
      "source": [
        "### 라이브러리 로딩"
      ]
    },
    {
      "cell_type": "code",
      "metadata": {
        "id": "wY-LJviYFP1w"
      },
      "source": [
        "'''\n",
        "matplolib inline 명령어를 통해서\n",
        "matplot으로 그리는 플롯들을 주피터 노트북 내에서 볼 수 있게 해준다.\n",
        "포맷을 retina로 바꾸면 그래프의 화질이 훨씬 좋아진다.\n",
        "'''\n",
        "%matplotlib inline\n",
        "%config InlineBackend.figure_format = 'retina'\n",
        "\n",
        "'''\n",
        "라이브러리들을 불러오자.\n",
        "'''\n",
        "import numpy as np\n",
        "import pandas as pd\n",
        "import matplotlib.pyplot as plt\n",
        "import tensorflow as tf\n",
        "from tensorflow import keras\n",
        "\n",
        "from tensorflow.keras.callbacks import EarlyStopping\n",
        "from tensorflow.keras.layers import Dense, BatchNormalization, Dropout\n",
        "from tensorflow.keras import layers, models\n",
        "from tensorflow.keras import backend\n",
        "\n",
        "import random as rd\n",
        "from sklearn.metrics import accuracy_score"
      ],
      "execution_count": 1,
      "outputs": []
    },
    {
      "cell_type": "code",
      "metadata": {
        "id": "N3TWkoiOFRlV"
      },
      "source": [
        "(train_x, train_y), (test_x, test_y) = tf.keras.datasets.mnist.load_data()"
      ],
      "execution_count": 2,
      "outputs": []
    },
    {
      "cell_type": "code",
      "metadata": {
        "id": "8KNvSXY8FNWW",
        "colab": {
          "base_uri": "https://localhost:8080/"
        },
        "outputId": "fbc3472f-d828-42fb-85ef-4c623bbc2f32"
      },
      "source": [
        "print(train_x.shape, train_y.shape, test_x.shape, test_y.shape)"
      ],
      "execution_count": 3,
      "outputs": [
        {
          "output_type": "stream",
          "name": "stdout",
          "text": [
            "(60000, 28, 28) (60000,) (10000, 28, 28) (10000,)\n"
          ]
        }
      ]
    },
    {
      "cell_type": "code",
      "metadata": {
        "id": "BAd66i9TTRkG",
        "colab": {
          "base_uri": "https://localhost:8080/",
          "height": 302
        },
        "outputId": "f160ab85-1ca2-4a83-eeec-f03b6d5b81a2"
      },
      "source": [
        "'''\n",
        "Ctrl+Enter를 이용하여\n",
        "반복 실행 해보자!\n",
        "'''\n",
        "\n",
        "id = rd.randrange(0, 10000)\n",
        "\n",
        "print(f'id = {id}')\n",
        "print(f'다음 그림은 숫자 {test_y[id]} 입니다.')\n",
        "plt.imshow(test_x[id])\n",
        "plt.show()"
      ],
      "execution_count": 4,
      "outputs": [
        {
          "output_type": "stream",
          "name": "stdout",
          "text": [
            "id = 2432\n",
            "다음 그림은 숫자 2 입니다.\n"
          ]
        },
        {
          "output_type": "display_data",
          "data": {
            "text/plain": [
              "<Figure size 432x288 with 1 Axes>"
            ],
            "image/png": "[encoded data removed]"
          },
          "metadata": {
            "image/png": {
              "width": 251,
              "height": 248
            },
            "needs_background": "light"
          }
        }
      ]
    },
    {
      "cell_type": "markdown",
      "metadata": {
        "id": "nxjV4ytsM0Rq"
      },
      "source": [
        "### Convolutional Layer를 사용하기 위한 reshape!\n",
        "\n",
        "- **채널이 추가되어야 한다**"
      ]
    },
    {
      "cell_type": "code",
      "metadata": {
        "id": "Yndo0Z3BaCVi",
        "colab": {
          "base_uri": "https://localhost:8080/"
        },
        "outputId": "09f16d6a-4ba9-4885-bff0-6b8ed8c15624"
      },
      "source": [
        "train_x.shape, test_x.shape"
      ],
      "execution_count": 5,
      "outputs": [
        {
          "output_type": "execute_result",
          "data": {
            "text/plain": [
              "((60000, 28, 28), (10000, 28, 28))"
            ]
          },
          "metadata": {},
          "execution_count": 5
        }
      ]
    },
    {
      "cell_type": "code",
      "metadata": {
        "id": "vEJrcLBMaQuj",
        "colab": {
          "base_uri": "https://localhost:8080/"
        },
        "outputId": "28182c04-485b-4c37-fade-6b15a819345e"
      },
      "source": [
        "_, h, w = train_x.shape\n",
        "\n",
        "print(h, w)"
      ],
      "execution_count": 6,
      "outputs": [
        {
          "output_type": "stream",
          "name": "stdout",
          "text": [
            "28 28\n"
          ]
        }
      ]
    },
    {
      "cell_type": "code",
      "metadata": {
        "id": "99f0aagKM5Zl"
      },
      "source": [
        "train_x = train_x.reshape(-1, h, w, 1)\n",
        "test_x = test_x.reshape(-1, h, w, 1)"
      ],
      "execution_count": 7,
      "outputs": []
    },
    {
      "cell_type": "code",
      "source": [
        "train_x.shape"
      ],
      "metadata": {
        "colab": {
          "base_uri": "https://localhost:8080/"
        },
        "id": "kRh8EPYjiewo",
        "outputId": "d0e144f7-c080-4ba7-924e-5d07d22609be"
      },
      "execution_count": 8,
      "outputs": [
        {
          "output_type": "execute_result",
          "data": {
            "text/plain": [
              "(60000, 28, 28, 1)"
            ]
          },
          "metadata": {},
          "execution_count": 8
        }
      ]
    },
    {
      "cell_type": "markdown",
      "metadata": {
        "id": "viSln5pqGc0G"
      },
      "source": [
        "* 이미지가 0 ~ 1 사이 값을 갖도록 스케일 조정!"
      ]
    },
    {
      "cell_type": "code",
      "metadata": {
        "id": "wDay4MrZGkNl"
      },
      "source": [
        "max_n, min_n = train_x.max(), train_x.min()"
      ],
      "execution_count": 9,
      "outputs": []
    },
    {
      "cell_type": "code",
      "source": [
        "train_x = (train_x - min_n) / (max_n - min_n)\n",
        "test_x = (test_x - min_n) / (max_n - min_n)"
      ],
      "metadata": {
        "id": "nnY0HsgDiqyY"
      },
      "execution_count": 10,
      "outputs": []
    },
    {
      "cell_type": "code",
      "metadata": {
        "id": "DPFeq7FvGkyI",
        "colab": {
          "base_uri": "https://localhost:8080/"
        },
        "outputId": "ab5f180e-5e1e-4833-9744-907305b37ec9"
      },
      "source": [
        "train_x.max(), train_x.min()"
      ],
      "execution_count": 11,
      "outputs": [
        {
          "output_type": "execute_result",
          "data": {
            "text/plain": [
              "(1.0, 0.0)"
            ]
          },
          "metadata": {},
          "execution_count": 11
        }
      ]
    },
    {
      "cell_type": "code",
      "source": [
        "# train_y.shape"
      ],
      "metadata": {
        "colab": {
          "base_uri": "https://localhost:8080/"
        },
        "id": "vGV2FF3fi5vh",
        "outputId": "e2292806-bc43-48a0-a598-60cb1449f4da"
      },
      "execution_count": 18,
      "outputs": [
        {
          "output_type": "execute_result",
          "data": {
            "text/plain": [
              "(60000,)"
            ]
          },
          "metadata": {},
          "execution_count": 18
        }
      ]
    },
    {
      "cell_type": "code",
      "source": [
        "# from tensorflow.keras.utils import to_categorical"
      ],
      "metadata": {
        "id": "h4KV-HJDi8QH"
      },
      "execution_count": 19,
      "outputs": []
    },
    {
      "cell_type": "code",
      "source": [
        "# train_y = to_categorical(train_y, 10)\n",
        "# test_y = to_categorical(test_y, 10)"
      ],
      "metadata": {
        "id": "1_A9gaLci_-K"
      },
      "execution_count": 20,
      "outputs": []
    },
    {
      "cell_type": "code",
      "source": [
        "train_x.shape, train_y.shape"
      ],
      "metadata": {
        "colab": {
          "base_uri": "https://localhost:8080/"
        },
        "id": "77w8cRcQjGX6",
        "outputId": "1b81b321-d3d5-42d2-9a8a-e747ab6bb8c4"
      },
      "execution_count": 12,
      "outputs": [
        {
          "output_type": "execute_result",
          "data": {
            "text/plain": [
              "((60000, 28, 28, 1), (60000,))"
            ]
          },
          "metadata": {},
          "execution_count": 12
        }
      ]
    },
    {
      "cell_type": "markdown",
      "metadata": {
        "id": "SzNYHB8aGmIy"
      },
      "source": [
        "## Sequential API로 모델링\n",
        "\n",
        "CNN에 관한 것만 추가가 된다.\n",
        "[여기](https://keras.io/layers/convolutional/)를 적극적으로 참고하자\n",
        "\n",
        "- (Con, Con, Maxpool, BatchNorm, Dropout) * 2"
      ]
    },
    {
      "cell_type": "code",
      "source": [
        "from tensorflow.keras.backend import clear_session\n",
        "from tensorflow.keras.models import Sequential\n",
        "from tensorflow.keras.layers import Input, Dense, Flatten, BatchNormalization, Dropout, Conv2D, MaxPool2D"
      ],
      "metadata": {
        "id": "Ud3dgS-7jQ7i"
      },
      "execution_count": 14,
      "outputs": []
    },
    {
      "cell_type": "code",
      "metadata": {
        "id": "Zt3DEJ6fHDGo",
        "colab": {
          "base_uri": "https://localhost:8080/"
        },
        "outputId": "40b4e0df-33df-4530-a816-6ce3639a8a0c"
      },
      "source": [
        "# 1. 세션 클리어\n",
        "clear_session()\n",
        "\n",
        "# 2. 모델 발판 생성\n",
        "model = Sequential()\n",
        "\n",
        "# 3. 레이어 블록 조립\n",
        "model.add( Input(shape=(28,28,1)) )\n",
        "model.add( Conv2D(filters=32,           # feature map의 수\n",
        "                  kernel_size=(3,3),    # filter size\n",
        "                  strides=(1,1),        # 훑는 방식 결정\n",
        "                  padding='same',       # 0을 덧댄다\n",
        "                  activation='relu') )  # activation 주의!\n",
        "\n",
        "model.add( Conv2D(filters=32,         \n",
        "                  kernel_size=(3,3),    \n",
        "                  strides=(1,1),       \n",
        "                  padding='same',      \n",
        "                  activation='relu') )  \n",
        "\n",
        "model.add( MaxPool2D(pool_size=(2,2)) ) # feature map 사이즈 절반으로 줄이기! <- (2,2)의 값 중 가장 높은 것으로\n",
        "model.add( BatchNormalization() )       # 모델 학습에 유용한 레이어\n",
        "model.add( Dropout(0.2) )               # 학습 과정에서 노드 일부를 일부러 제외한다\n",
        "\n",
        "model.add( Conv2D(filters=64,           \n",
        "                  kernel_size=(3,3),    \n",
        "                  strides=(1,1),      \n",
        "                  padding='same',       \n",
        "                  activation='relu') )  \n",
        "model.add( Conv2D(filters=64,           \n",
        "                  kernel_size=(3,3),    \n",
        "                  strides=(1,1),        \n",
        "                  padding='same',       \n",
        "                  activation='relu') ) \n",
        "\n",
        "model.add( MaxPool2D(pool_size=(2,2)) )\n",
        "model.add( BatchNormalization() )       \n",
        "model.add( Dropout(0.2) )\n",
        "\n",
        "model.add( Flatten() )\n",
        "model.add( Dense(128, activation='relu') )\n",
        "model.add( Dense(10, activation='softmax') )\n",
        "\n",
        "# 4. 컴파일\n",
        "model.compile(loss=keras.losses.sparse_categorical_crossentropy, metrics=['accuracy'],\n",
        "              optimizer='adam')\n",
        "\n",
        "# 요약\n",
        "model.summary()"
      ],
      "execution_count": 15,
      "outputs": [
        {
          "output_type": "stream",
          "name": "stdout",
          "text": [
            "Model: \"sequential\"\n",
            "_________________________________________________________________\n",
            " Layer (type)                Output Shape              Param #   \n",
            "=================================================================\n",
            " conv2d (Conv2D)             (None, 28, 28, 32)        320       \n",
            "                                                                 \n",
            " conv2d_1 (Conv2D)           (None, 28, 28, 32)        9248      \n",
            "                                                                 \n",
            " max_pooling2d (MaxPooling2D  (None, 14, 14, 32)       0         \n",
            " )                                                               \n",
            "                                                                 \n",
            " batch_normalization (BatchN  (None, 14, 14, 32)       128       \n",
            " ormalization)                                                   \n",
            "                                                                 \n",
            " dropout (Dropout)           (None, 14, 14, 32)        0         \n",
            "                                                                 \n",
            " conv2d_2 (Conv2D)           (None, 14, 14, 64)        18496     \n",
            "                                                                 \n",
            " conv2d_3 (Conv2D)           (None, 14, 14, 64)        36928     \n",
            "                                                                 \n",
            " max_pooling2d_1 (MaxPooling  (None, 7, 7, 64)         0         \n",
            " 2D)                                                             \n",
            "                                                                 \n",
            " batch_normalization_1 (Batc  (None, 7, 7, 64)         256       \n",
            " hNormalization)                                                 \n",
            "                                                                 \n",
            " dropout_1 (Dropout)         (None, 7, 7, 64)          0         \n",
            "                                                                 \n",
            " flatten (Flatten)           (None, 3136)              0         \n",
            "                                                                 \n",
            " dense (Dense)               (None, 128)               401536    \n",
            "                                                                 \n",
            " dense_1 (Dense)             (None, 10)                1290      \n",
            "                                                                 \n",
            "=================================================================\n",
            "Total params: 468,202\n",
            "Trainable params: 468,010\n",
            "Non-trainable params: 192\n",
            "_________________________________________________________________\n"
          ]
        }
      ]
    },
    {
      "cell_type": "code",
      "metadata": {
        "id": "knZfBr3OPjap",
        "colab": {
          "base_uri": "https://localhost:8080/"
        },
        "outputId": "731bedb8-7ff1-4efa-e637-c60688de4439"
      },
      "source": [
        "# 데이터를 넣어서 학습시키자!\n",
        "history = model.fit(train_x, train_y, epochs=15, batch_size=1024,\n",
        "                    validation_split=0.2, verbose=1)"
      ],
      "execution_count": 16,
      "outputs": [
        {
          "output_type": "stream",
          "name": "stdout",
          "text": [
            "Epoch 1/15\n",
            "47/47 [==============================] - 8s 98ms/step - loss: 0.4364 - accuracy: 0.8742 - val_loss: 2.0837 - val_accuracy: 0.1402\n",
            "Epoch 2/15\n",
            "47/47 [==============================] - 3s 61ms/step - loss: 0.0688 - accuracy: 0.9788 - val_loss: 2.3453 - val_accuracy: 0.1217\n",
            "Epoch 3/15\n",
            "47/47 [==============================] - 3s 62ms/step - loss: 0.0434 - accuracy: 0.9860 - val_loss: 2.6123 - val_accuracy: 0.1086\n",
            "Epoch 4/15\n",
            "47/47 [==============================] - 3s 62ms/step - loss: 0.0339 - accuracy: 0.9899 - val_loss: 2.8091 - val_accuracy: 0.1277\n",
            "Epoch 5/15\n",
            "47/47 [==============================] - 3s 62ms/step - loss: 0.0260 - accuracy: 0.9914 - val_loss: 2.7910 - val_accuracy: 0.1653\n",
            "Epoch 6/15\n",
            "47/47 [==============================] - 3s 62ms/step - loss: 0.0215 - accuracy: 0.9933 - val_loss: 2.6364 - val_accuracy: 0.1542\n",
            "Epoch 7/15\n",
            "47/47 [==============================] - 3s 62ms/step - loss: 0.0175 - accuracy: 0.9944 - val_loss: 1.5259 - val_accuracy: 0.4201\n",
            "Epoch 8/15\n",
            "47/47 [==============================] - 3s 62ms/step - loss: 0.0147 - accuracy: 0.9953 - val_loss: 0.8970 - val_accuracy: 0.6728\n",
            "Epoch 9/15\n",
            "47/47 [==============================] - 3s 63ms/step - loss: 0.0129 - accuracy: 0.9961 - val_loss: 0.5487 - val_accuracy: 0.8215\n",
            "Epoch 10/15\n",
            "47/47 [==============================] - 3s 63ms/step - loss: 0.0110 - accuracy: 0.9965 - val_loss: 0.1455 - val_accuracy: 0.9550\n",
            "Epoch 11/15\n",
            "47/47 [==============================] - 3s 63ms/step - loss: 0.0093 - accuracy: 0.9968 - val_loss: 0.1006 - val_accuracy: 0.9672\n",
            "Epoch 12/15\n",
            "47/47 [==============================] - 3s 63ms/step - loss: 0.0083 - accuracy: 0.9972 - val_loss: 0.0486 - val_accuracy: 0.9847\n",
            "Epoch 13/15\n",
            "47/47 [==============================] - 3s 63ms/step - loss: 0.0072 - accuracy: 0.9978 - val_loss: 0.0518 - val_accuracy: 0.9840\n",
            "Epoch 14/15\n",
            "47/47 [==============================] - 3s 63ms/step - loss: 0.0068 - accuracy: 0.9979 - val_loss: 0.0339 - val_accuracy: 0.9895\n",
            "Epoch 15/15\n",
            "47/47 [==============================] - 3s 64ms/step - loss: 0.0068 - accuracy: 0.9979 - val_loss: 0.0306 - val_accuracy: 0.9921\n"
          ]
        }
      ]
    },
    {
      "cell_type": "code",
      "metadata": {
        "id": "FJMYuSnQPoqt",
        "colab": {
          "base_uri": "https://localhost:8080/"
        },
        "outputId": "00357ecc-9bf3-4d87-8315-6ec2d58d161e"
      },
      "source": [
        "performance_test = model.evaluate(test_x, test_y, batch_size=100)\n",
        "\n",
        "print(f'Test Loss : {performance_test[0]:.6f},  Test Accuracy : {performance_test[1]*100:.3f}%')"
      ],
      "execution_count": 17,
      "outputs": [
        {
          "output_type": "stream",
          "name": "stdout",
          "text": [
            "100/100 [==============================] - 1s 4ms/step - loss: 0.0238 - accuracy: 0.9932\n",
            "Test Loss : 0.023758,  Test Accuracy : 99.320%\n"
          ]
        }
      ]
    },
    {
      "cell_type": "code",
      "metadata": {
        "id": "H5Ir4b-DQ3VG",
        "colab": {
          "base_uri": "https://localhost:8080/",
          "height": 348
        },
        "outputId": "db23d586-6e15-462e-e55a-da3c49691189"
      },
      "source": [
        "if not isinstance(history, dict) :\n",
        "    history = history.history\n",
        "\n",
        "plt.figure(figsize=(10, 5))\n",
        "plt.plot(history['accuracy'])\n",
        "plt.plot(history['val_accuracy'])\n",
        "plt.title('Accuracy : Training vs Validation')\n",
        "plt.ylabel('Accuracy')\n",
        "plt.xlabel('Epoch')\n",
        "plt.legend(['Training', 'Validation'], loc=0)\n",
        "plt.show()"
      ],
      "execution_count": 18,
      "outputs": [
        {
          "output_type": "display_data",
          "data": {
            "text/plain": [
              "<Figure size 720x360 with 1 Axes>"
            ],
            "image/png": "[encoded data removed]"
          },
          "metadata": {
            "image/png": {
              "width": 608,
              "height": 331
            },
            "needs_background": "light"
          }
        }
      ]
    },
    {
      "cell_type": "code",
      "metadata": {
        "id": "mfiGA-DvQ42n",
        "colab": {
          "base_uri": "https://localhost:8080/",
          "height": 348
        },
        "outputId": "593bff87-f766-444f-9d96-203c670fff4a"
      },
      "source": [
        "if not isinstance(history, dict) :\n",
        "    history = history.history\n",
        "\n",
        "plt.figure(figsize=(10, 5))\n",
        "plt.plot(history['loss'])\n",
        "plt.plot(history['val_loss'])\n",
        "plt.title('Loss : Training vs Validation')\n",
        "plt.ylabel('Loss')\n",
        "plt.xlabel('Epoch')\n",
        "plt.legend(['Training', 'Validation'], loc=0)\n",
        "plt.show()"
      ],
      "execution_count": 21,
      "outputs": [
        {
          "output_type": "display_data",
          "data": {
            "text/plain": [
              "<Figure size 720x360 with 1 Axes>"
            ],
            "image/png": "[encoded data removed]"
          },
          "metadata": {
            "image/png": {
              "width": 608,
              "height": 331
            },
            "needs_background": "light"
          }
        }
      ]
    },
    {
      "cell_type": "markdown",
      "source": [
        "* 예측값 생성"
      ],
      "metadata": {
        "id": "IwBEu_E8HFzv"
      }
    },
    {
      "cell_type": "code",
      "metadata": {
        "id": "ErRidyIDTAXd",
        "colab": {
          "base_uri": "https://localhost:8080/"
        },
        "outputId": "a60a7d5f-2974-4fca-d125-accd67120601"
      },
      "source": [
        "pred_train = model.predict(train_x)\n",
        "pred_test = model.predict(test_x)\n",
        "\n",
        "single_pred_train = pred_train.argmax(axis=1)\n",
        "single_pred_test = pred_test.argmax(axis=1)\n",
        "\n",
        "logi_train_accuracy = accuracy_score(train_y, single_pred_train)\n",
        "logi_test_accuracy = accuracy_score(test_y, single_pred_test)\n",
        "\n",
        "print('CNN')\n",
        "print('트레이닝 정확도 : {:.2f}%'.format(logi_train_accuracy*100))\n",
        "print('테스트 정확도 : {:.2f}%'.format(logi_test_accuracy*100))"
      ],
      "execution_count": 20,
      "outputs": [
        {
          "output_type": "stream",
          "name": "stdout",
          "text": [
            "CNN\n",
            "트레이닝 정확도 : 99.78%\n",
            "테스트 정확도 : 99.32%\n"
          ]
        }
      ]
    },
    {
      "cell_type": "markdown",
      "source": [
        "## 숫자 이미지 시각화"
      ],
      "metadata": {
        "id": "5Kgp7c72rsRw"
      }
    },
    {
      "cell_type": "code",
      "metadata": {
        "id": "L3U38rGQTDx_",
        "colab": {
          "base_uri": "https://localhost:8080/",
          "height": 358
        },
        "outputId": "7c0e13fe-5e23-452e-e936-3987f00e5fd7"
      },
      "source": [
        "'''\n",
        "성능 확인을 위해\n",
        "Ctrl+Enter를 이용하여\n",
        "반복 실행 해보자!\n",
        "'''\n",
        "\n",
        "id = rd.randrange(0,10000)\n",
        "\n",
        "print(f'id = {id}')\n",
        "print(f'다음 그림은 숫자 {test_y[id]} 입니다.')\n",
        "print(f'모델의 예측 : {single_pred_test[id]}')\n",
        "print(f'모델의 카테고리별 확률 : {np.floor(pred_test[id]*100)}')\n",
        "\n",
        "if test_y[id] == single_pred_test[id] :\n",
        "    print('정답입니다')\n",
        "else : \n",
        "    print('틀렸어요')\n",
        "plt.imshow(test_x[id].reshape([28,-1]))\n",
        "plt.show()"
      ],
      "execution_count": 22,
      "outputs": [
        {
          "output_type": "stream",
          "name": "stdout",
          "text": [
            "id = 316\n",
            "다음 그림은 숫자 6 입니다.\n",
            "모델의 예측 : 6\n",
            "모델의 카테고리별 확률 : [ 0.  0.  0.  0.  0.  0. 99.  0.  0.  0.]\n",
            "정답입니다\n"
          ]
        },
        {
          "output_type": "display_data",
          "data": {
            "text/plain": [
              "<Figure size 432x288 with 1 Axes>"
            ],
            "image/png": "[encoded data removed]"
          },
          "metadata": {
            "image/png": {
              "width": 251,
              "height": 248
            },
            "needs_background": "light"
          }
        }
      ]
    },
    {
      "cell_type": "code",
      "metadata": {
        "id": "3RDJuEcbTAeg",
        "colab": {
          "base_uri": "https://localhost:8080/",
          "height": 358
        },
        "outputId": "9b7af00a-0737-44c1-cd79-04a40fca9c44"
      },
      "source": [
        "'''\n",
        "틀린 것만 관찰해보자!\n",
        "\n",
        "Ctrl+Enter를 이용하여\n",
        "반복 실행 해보자!\n",
        "'''\n",
        "\n",
        "true_false = (test_y==single_pred_test)\n",
        "f_id = np.where(true_false==False)[0]\n",
        "f_n = len(f_id)\n",
        "\n",
        "id = f_id[rd.randrange(0,f_n)]\n",
        "\n",
        "print(f'id = {id}')\n",
        "print(f'다음 그림은 숫자 {test_y[id]} 입니다.')\n",
        "print(f'모델의 예측 : {single_pred_test[id]}')\n",
        "print(f'모델의 카테고리별 확률 : {np.floor(pred_test[id]*100)}')\n",
        "\n",
        "if test_y[id] == single_pred_test[id] :\n",
        "    print('정답입니다')\n",
        "else : \n",
        "    print('틀렸어요')\n",
        "plt.imshow(test_x[id].reshape([28,-1]))\n",
        "plt.show()"
      ],
      "execution_count": 26,
      "outputs": [
        {
          "output_type": "stream",
          "name": "stdout",
          "text": [
            "id = 8316\n",
            "다음 그림은 숫자 7 입니다.\n",
            "모델의 예측 : 2\n",
            "모델의 카테고리별 확률 : [ 0.  0. 52.  0.  0.  0.  0. 47.  0.  0.]\n",
            "틀렸어요\n"
          ]
        },
        {
          "output_type": "display_data",
          "data": {
            "text/plain": [
              "<Figure size 432x288 with 1 Axes>"
            ],
            "image/png": "[encoded data removed]"
          },
          "metadata": {
            "image/png": {
              "width": 251,
              "height": 248
            },
            "needs_background": "light"
          }
        }
      ]
    },
    {
      "cell_type": "code",
      "metadata": {
        "id": "5hjk-EcuTAlE"
      },
      "source": [],
      "execution_count": null,
      "outputs": []
    }
  ]
}