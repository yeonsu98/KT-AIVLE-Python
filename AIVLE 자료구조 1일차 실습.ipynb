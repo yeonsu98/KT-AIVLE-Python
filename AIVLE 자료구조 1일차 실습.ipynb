{
 "cells": [
  {
   "cell_type": "markdown",
   "id": "0ffcf51b",
   "metadata": {},
   "source": [
    "### 20220728 AIVLE 자료구조 1일차 실습내용 입니다 ~"
   ]
  },
  {
   "cell_type": "markdown",
   "id": "c718863c",
   "metadata": {},
   "source": [
    "## 미니실습 1\n",
    "***\n",
    "네 정수의 최댓값을 구하는 코드와 함수 만들기"
   ]
  },
  {
   "cell_type": "code",
   "execution_count": 16,
   "id": "d8b46a31",
   "metadata": {},
   "outputs": [
    {
     "name": "stdout",
     "output_type": "stream",
     "text": [
      "네 정수를 입력하세요.\n",
      "a 정수를 입력하세요 : 4\n",
      "b 정수를 입력하세요 : 3\n",
      "c 정수를 입력하세요 : 2\n",
      "d 정수를 입력하세요 : 2\n",
      "최대값은 4 입니다.\n"
     ]
    }
   ],
   "source": [
    "## 네 정수의 최댓값을 구하는 코드\n",
    "def max4():\n",
    "    print(\"네 정수를 입력하세요.\")\n",
    "    a = input(\"a 정수를 입력하세요 : \")\n",
    "    b = input(\"b 정수를 입력하세요 : \")\n",
    "    c = input(\"c 정수를 입력하세요 : \")\n",
    "    d = input(\"d 정수를 입력하세요 : \")\n",
    "    \n",
    "    maximum = a\n",
    "    if b > maximum :\n",
    "        maximum = b\n",
    "    if c > maximum :\n",
    "        maximum = c\n",
    "    if d > maximum :\n",
    "        maximum = d\n",
    "        \n",
    "    return maximum\n",
    "\n",
    "print(f\"최대값은 {max4()} 입니다.\")"
   ]
  },
  {
   "cell_type": "markdown",
   "id": "4aa52281",
   "metadata": {},
   "source": [
    "## 미니실습 2"
   ]
  },
  {
   "cell_type": "code",
   "execution_count": null,
   "id": "44bdb01b",
   "metadata": {},
   "outputs": [],
   "source": []
  }
 ],
 "metadata": {
  "kernelspec": {
   "display_name": "Python 3",
   "language": "python",
   "name": "python3"
  },
  "language_info": {
   "codemirror_mode": {
    "name": "ipython",
    "version": 3
   },
   "file_extension": ".py",
   "mimetype": "text/x-python",
   "name": "python",
   "nbconvert_exporter": "python",
   "pygments_lexer": "ipython3",
   "version": "3.8.8"
  }
 },
 "nbformat": 4,
 "nbformat_minor": 5
}
