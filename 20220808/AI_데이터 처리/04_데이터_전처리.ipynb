{
 "cells": [
  {
   "cell_type": "markdown",
   "metadata": {
    "id": "cVB9pY-v8uv5"
   },
   "source": [
    "# 데이터 전처리\n",
    "\n",
    "#### 머신러닝 코드 구조 <br>\n",
    "\n",
    "![이미지](https://github.com/DA4BAM/dataset/blob/master/new_code.png?raw=true \"code step1\")\n",
    "\n"
   ]
  },
  {
   "cell_type": "markdown",
   "metadata": {
    "id": "jnCv9u_Wy9e1"
   },
   "source": [
    "## 00.환경준비"
   ]
  },
  {
   "cell_type": "markdown",
   "metadata": {
    "id": "O1uL0UIEzBPw"
   },
   "source": [
    "### 01.Import"
   ]
  },
  {
   "cell_type": "code",
   "execution_count": null,
   "metadata": {
    "id": "GVvCef6A8uv6"
   },
   "outputs": [],
   "source": [
    "# 라이브러리들을 불러오자.\n",
    "import numpy as np\n",
    "import pandas as pd\n",
    "import matplotlib.pyplot as plt"
   ]
  },
  {
   "cell_type": "markdown",
   "metadata": {
    "id": "VHy5s1OOzItm"
   },
   "source": [
    "### 02.data loading\n"
   ]
  },
  {
   "cell_type": "markdown",
   "metadata": {
    "id": "GXZ_7LzWWjvN"
   },
   "source": [
    "* 주가 데이터 가져오기"
   ]
  },
  {
   "cell_type": "code",
   "execution_count": null,
   "metadata": {
    "id": "3GgFpOB4zQ7h"
   },
   "outputs": [],
   "source": [
    "stock = pd.read_csv('https://raw.githubusercontent.com/DA4BAM/dataset/master/SK.csv') \n",
    "stock.drop('AdjClose', axis=1, inplace=True)\n",
    "\n",
    "exch_rate = pd.read_csv('https://raw.githubusercontent.com/DA4BAM/dataset/master/USD_KRW.csv')\n",
    "exch_rate.drop(['open', 'high', 'low'], axis=1, inplace=True)\n",
    "exch_rate.rename(columns={'date':'Date', 'close':'exch_Close', 'diff':'exch_Diff'},inplace=True)"
   ]
  },
  {
   "cell_type": "code",
   "execution_count": null,
   "metadata": {
    "id": "ktuNMfCvMody"
   },
   "outputs": [],
   "source": [
    "stock.head()"
   ]
  },
  {
   "cell_type": "code",
   "execution_count": null,
   "metadata": {
    "id": "CLZeo5UcMpq6"
   },
   "outputs": [],
   "source": [
    "exch_rate.head()"
   ]
  },
  {
   "cell_type": "markdown",
   "metadata": {
    "id": "HvjUgKI16zcl"
   },
   "source": [
    "* 하나의 데이터로 결합"
   ]
  },
  {
   "cell_type": "code",
   "execution_count": null,
   "metadata": {
    "id": "qmYaWr9ka_Gv"
   },
   "outputs": [],
   "source": [
    "data = pd.merge(stock, exch_rate, how='left', on='Date')\n",
    "\n",
    "data.head()"
   ]
  },
  {
   "cell_type": "markdown",
   "metadata": {
    "id": "ZJOddHq2zfcU"
   },
   "source": [
    "## 10.데이터 이해"
   ]
  },
  {
   "cell_type": "markdown",
   "metadata": {
    "id": "Vqr7zY5r8uwC"
   },
   "source": [
    "### 11.둘러보기"
   ]
  },
  {
   "cell_type": "code",
   "execution_count": null,
   "metadata": {
    "id": "Wzs1nS348uwE"
   },
   "outputs": [],
   "source": [
    "# 상/하위 몇개 행을 살펴 봅시다.\n",
    "\n",
    "data.head()"
   ]
  },
  {
   "cell_type": "code",
   "execution_count": null,
   "metadata": {
    "id": "1ZsXdcfp8uwI"
   },
   "outputs": [],
   "source": [
    "# 각 칼럼의 타입을 살펴 봅시다.\n",
    "\n",
    "data.dtypes"
   ]
  },
  {
   "cell_type": "code",
   "execution_count": null,
   "metadata": {
    "id": "4bD117Q3bVuf"
   },
   "outputs": [],
   "source": [
    "# 행, 열의 개수를 살펴 봅시다.\n",
    "\n",
    "data.shape"
   ]
  },
  {
   "cell_type": "markdown",
   "metadata": {
    "id": "EEMtr74j0N41"
   },
   "source": [
    "### 12.기초통계량"
   ]
  },
  {
   "cell_type": "code",
   "execution_count": null,
   "metadata": {
    "id": "LhAk04Uy4Occ"
   },
   "outputs": [],
   "source": [
    "# 숫자형 변수들의 통계량을 살펴 봅니다.\n",
    "\n",
    "data.describe()"
   ]
  },
  {
   "cell_type": "markdown",
   "metadata": {
    "id": "BsF_cjfK0Y5P"
   },
   "source": [
    "### 13.탐색하기"
   ]
  },
  {
   "cell_type": "markdown",
   "metadata": {
    "id": "wW0d0eGmCYJM"
   },
   "source": [
    "## 20.데이터 준비\n"
   ]
  },
  {
   "cell_type": "markdown",
   "metadata": {
    "id": "TfOiIj7lCfiG"
   },
   "source": [
    "### 21.변수 정리"
   ]
  },
  {
   "cell_type": "markdown",
   "metadata": {
    "id": "mIxcFuf0CoxF"
   },
   "source": [
    "### 22.NaN 처리"
   ]
  },
  {
   "cell_type": "code",
   "execution_count": null,
   "metadata": {
    "id": "ncZXe0SaXbzc"
   },
   "outputs": [],
   "source": [
    "# NaN 확인\n",
    "data.isnull().sum()"
   ]
  },
  {
   "cell_type": "code",
   "execution_count": null,
   "metadata": {
    "id": "VP_IIeLbJ9Nj"
   },
   "outputs": [],
   "source": [
    "data['Open'].isnull()"
   ]
  },
  {
   "cell_type": "code",
   "execution_count": null,
   "metadata": {
    "id": "6wS5Zn0eX0EE"
   },
   "outputs": [],
   "source": [
    "# NaN 행들을 확인해 봅시다.\n",
    "data.loc[data['Open'].isnull()]"
   ]
  },
  {
   "cell_type": "code",
   "execution_count": null,
   "metadata": {
    "id": "W46idBj6Oyiq"
   },
   "outputs": [],
   "source": [
    "data.loc[(data['Date']>='2019-11-12')&(data['Date']<='2019-11-20')]\n",
    "# 2019-11-14 는 목요일. 원인은 모르나 NaN으로 채워져 있음."
   ]
  },
  {
   "cell_type": "code",
   "execution_count": null,
   "metadata": {
    "id": "G7qWKGSeX60J"
   },
   "outputs": [],
   "source": [
    "# 어떻게 조치하는게 좋을까요?\n",
    "# 방법1 : 행을 제거한다.\n",
    "\n",
    "data1 = data.dropna(axis=0)\n",
    "data1.isnull().sum()"
   ]
  },
  {
   "cell_type": "code",
   "execution_count": null,
   "metadata": {
    "id": "lDyI7qr7RTxB"
   },
   "outputs": [],
   "source": [
    "data1.loc[(data1['Date']>='2019-11-12')&(data1['Date']<='2019-11-20')]"
   ]
  },
  {
   "cell_type": "code",
   "execution_count": null,
   "metadata": {
    "id": "kZtYH0v5YAnT"
   },
   "outputs": [],
   "source": [
    "# 방법2 : 이전 값으로 채운다. \n",
    "\n",
    "data2 = data.fillna(method='ffill')\n",
    "data2.isnull().sum()"
   ]
  },
  {
   "cell_type": "code",
   "execution_count": null,
   "metadata": {
    "id": "6aC1J35rRjTZ"
   },
   "outputs": [],
   "source": [
    "data2.loc[(data2['Date']>='2019-11-12')&(data2['Date']<='2019-11-20')]"
   ]
  },
  {
   "cell_type": "code",
   "execution_count": null,
   "metadata": {
    "id": "DfS1MC0ASupR"
   },
   "outputs": [],
   "source": [
    "# 방법3 : 앞뒤값의 중간값으로 채우기\n",
    "\n",
    "data3 = data.interpolate(method='linear')\n",
    "data3.isnull().sum()"
   ]
  },
  {
   "cell_type": "code",
   "execution_count": null,
   "metadata": {
    "id": "yNsnYTyIS-1a"
   },
   "outputs": [],
   "source": [
    "data3.loc[(data3['Date']>='2019-11-12')&(data3['Date']<='2019-11-20')]"
   ]
  },
  {
   "cell_type": "markdown",
   "metadata": {
    "id": "Bsr0xQauY2Wm"
   },
   "source": [
    "#### 실습 9 : NaN 조치"
   ]
  },
  {
   "cell_type": "markdown",
   "metadata": {
    "id": "BvCu9l2AvBBt"
   },
   "source": [
    "* Q1. 주가 데이터에서 NaN이 변수별로 몇 건씩 있는지 조사하시오."
   ]
  },
  {
   "cell_type": "code",
   "execution_count": null,
   "metadata": {
    "id": "jj7ZAhHhXaWk"
   },
   "outputs": [],
   "source": []
  },
  {
   "cell_type": "markdown",
   "metadata": {
    "id": "Gg3Ry0FfvHph"
   },
   "source": [
    "* Q2. NaN 행을 제거합니다. 제거해서 별도 데이터프레임으로 저장."
   ]
  },
  {
   "cell_type": "code",
   "execution_count": null,
   "metadata": {
    "id": "tRBOaSPvycNd"
   },
   "outputs": [],
   "source": []
  },
  {
   "cell_type": "markdown",
   "metadata": {
    "id": "VRKYGEFVvaid"
   },
   "source": [
    "* Q3. NaN 행에 이후 행의 값으로 채우고, 별도 데이터프레임으로 저장.\n",
    "    * method='bfill'"
   ]
  },
  {
   "cell_type": "code",
   "execution_count": null,
   "metadata": {
    "id": "2qvsNJIWCo9k"
   },
   "outputs": [],
   "source": []
  },
  {
   "cell_type": "markdown",
   "metadata": {
    "id": "Ur1Oht8Bvn2A"
   },
   "source": [
    "* Q4. NaN 행에 값을 0으로 채우고, 별도 데이터프레임으로 저장.\n",
    "    * .fillna(0)"
   ]
  },
  {
   "cell_type": "code",
   "execution_count": null,
   "metadata": {
    "id": "gpsHE674zBKB"
   },
   "outputs": [],
   "source": []
  },
  {
   "cell_type": "markdown",
   "metadata": {
    "id": "4AxoSgBMwAkY"
   },
   "source": [
    "* Q5. interpolate를 사용해보시오.\n",
    "    * .interpolate(method='linear')"
   ]
  },
  {
   "cell_type": "code",
   "execution_count": null,
   "metadata": {
    "id": "MG4JvtHINLur"
   },
   "outputs": [],
   "source": []
  },
  {
   "cell_type": "markdown",
   "metadata": {
    "id": "kHHqhLQIQATf"
   },
   "source": [
    "### 23.Feature Engineering"
   ]
  },
  {
   "cell_type": "markdown",
   "metadata": {
    "id": "3r2XbG71XwNZ"
   },
   "source": [
    "* 내일의 주가에 영향을 주는 요인은 무엇을까요?"
   ]
  },
  {
   "cell_type": "code",
   "execution_count": null,
   "metadata": {
    "id": "xNOy5sLhnGrH"
   },
   "outputs": [],
   "source": [
    "data2.head()"
   ]
  },
  {
   "cell_type": "markdown",
   "metadata": {
    "id": "WbkohCg7aoGZ"
   },
   "source": [
    "#### 1)날짜 데이터 다루기"
   ]
  },
  {
   "cell_type": "markdown",
   "metadata": {
    "id": "Uz3Lu2wzQATm"
   },
   "source": [
    "* 날짜 변수 만들기  \n",
    "    - 날짜변수를 만드는 이유!  \n",
    "        - 날짜로부터 추가 변수를 도출해내기 위해서 날짜 변수를 만듭니다.  \n",
    "        - 만약 추가변수 도출이 끝나면, 날짜변수는 제거합니다."
   ]
  },
  {
   "cell_type": "code",
   "execution_count": null,
   "metadata": {
    "id": "8TmovIJVnr1P"
   },
   "outputs": [],
   "source": [
    "data2.dtypes"
   ]
  },
  {
   "cell_type": "code",
   "execution_count": null,
   "metadata": {
    "id": "7JpfeiyiQATm"
   },
   "outputs": [],
   "source": [
    "# 문자열 형식을 날짜 형식으로 변환\n",
    "data2['Date'] = pd.to_datetime(data2['Date'])\n",
    "print(data2.dtypes)"
   ]
  },
  {
   "cell_type": "markdown",
   "metadata": {
    "id": "PO6XDUrnZJKQ"
   },
   "source": [
    "* data2.Date.dt.dayofweek  : The day of the week with Monday=0, Sunday=6.\n",
    "* data2.Date.dt.day_name() : 요일 이름\n",
    "* data2.Date.dt.week : 1~53주\n",
    "* data2.Date.dt.year\n",
    "* data2.Date.dt.month"
   ]
  },
  {
   "cell_type": "markdown",
   "metadata": {
    "id": "rk6y4PXdQATo"
   },
   "source": [
    "* 날짜로 부터 날짜요소 추출하기"
   ]
  },
  {
   "cell_type": "code",
   "execution_count": null,
   "metadata": {
    "id": "EYYC5GRrQATo"
   },
   "outputs": [],
   "source": [
    "# 요일을 추가해 봅시다. \n",
    "data2['WeekDay'] = data2.Date.dt.dayofweek\n",
    "data2.head()"
   ]
  },
  {
   "cell_type": "code",
   "execution_count": null,
   "metadata": {
    "id": "tDjQbrzifWFU"
   },
   "outputs": [],
   "source": [
    "# 요일 이름으로 다시 추가.\n",
    "data2['WeekDay'] = data2.Date.dt.day_name()\n",
    "data2.head()"
   ]
  },
  {
   "cell_type": "markdown",
   "metadata": {
    "id": "ZlCELT-_QATq"
   },
   "source": [
    "#### 2)이전 데이터 붙이기.  \n",
    "- .shift( )   : 예) 전날 주가, 전날 환율\n",
    "- .rolling( ) : 예)7일이동평균 주가"
   ]
  },
  {
   "cell_type": "code",
   "execution_count": null,
   "metadata": {
    "id": "BCQyy79LQATq"
   },
   "outputs": [],
   "source": [
    "# 전날 주가를 추가합니다.\n",
    "data2['Close_lag1'] = data2['Close'].shift() # default = 1\n",
    "data2.head()"
   ]
  },
  {
   "cell_type": "code",
   "execution_count": null,
   "metadata": {
    "id": "pvciFKNmcf3X"
   },
   "outputs": [],
   "source": [
    "# 7일 이동평균 주가\n",
    "data2['Close_MA7_lag1'] = data2['Close'].rolling(7, min_periods=1).mean().shift()\n",
    "data2.head()"
   ]
  },
  {
   "cell_type": "markdown",
   "metadata": {
    "id": "QVvQ2NYTd5wI"
   },
   "source": [
    "#### 실습 10 : feature engineering\n",
    "\n",
    "* data2 변수를 이용하여 문제를 푸시오"
   ]
  },
  {
   "cell_type": "markdown",
   "metadata": {
    "id": "T4yctRF1wxvv"
   },
   "source": [
    "* Q1. 월 데이터를 추가해보시오"
   ]
  },
  {
   "cell_type": "code",
   "execution_count": null,
   "metadata": {
    "id": "pZh4fNZFd5o8"
   },
   "outputs": [],
   "source": []
  },
  {
   "cell_type": "markdown",
   "metadata": {
    "id": "QFImXjz9xBp-"
   },
   "source": [
    "* Q2. 전날 거래량 컬럼, 전날 환율 증감 컬럼을 만드시오."
   ]
  },
  {
   "cell_type": "code",
   "execution_count": null,
   "metadata": {
    "id": "m9IyvNhyd5gU"
   },
   "outputs": [],
   "source": []
  },
  {
   "cell_type": "markdown",
   "metadata": {
    "id": "Ms3wYE5txZvE"
   },
   "source": [
    "* Q3. \"전날 주가 - 전전날 주가\" 컬럼을 만드시오."
   ]
  },
  {
   "cell_type": "code",
   "execution_count": null,
   "metadata": {
    "id": "9xWqgSK_d5XH"
   },
   "outputs": [],
   "source": []
  },
  {
   "cell_type": "markdown",
   "metadata": {
    "id": "yG4KpCHux9G2"
   },
   "source": [
    "* Q4. \"전날 종가 - 전날 시가\" 컬럼을 만드시오."
   ]
  },
  {
   "cell_type": "code",
   "execution_count": null,
   "metadata": {
    "id": "Aqh3r97UeLJ3"
   },
   "outputs": [],
   "source": []
  },
  {
   "cell_type": "markdown",
   "metadata": {
    "id": "qGo_mpoUyIgc"
   },
   "source": [
    "* Q5. 그 외 추가하고 싶은 변수를 1 ~ 3개 정도 더 추가해보세요."
   ]
  },
  {
   "cell_type": "code",
   "execution_count": null,
   "metadata": {
    "id": "1GrLxNDBdRex"
   },
   "outputs": [],
   "source": []
  },
  {
   "cell_type": "markdown",
   "metadata": {
    "id": "Foh3ZYTdQq7_"
   },
   "source": [
    "### 24.Dummy Variable\n",
    "* 범주형 변수를 숫자로 만드는 방법\n",
    "* pd.get_dummies, pd.concat, (Pandas Dataframe).drop\n",
    "* 불필요한 칼럼들 제거\n"
   ]
  },
  {
   "cell_type": "code",
   "execution_count": null,
   "metadata": {
    "id": "OnopbC3qQq8A"
   },
   "outputs": [],
   "source": [
    "# dummy variable\n",
    "\n",
    "dumm_weekday = pd.get_dummies(data2['WeekDay'], drop_first=True)"
   ]
  },
  {
   "cell_type": "code",
   "execution_count": null,
   "metadata": {
    "id": "x0wMJttyQq8A"
   },
   "outputs": [],
   "source": [
    "dumm_weekday.head()"
   ]
  },
  {
   "cell_type": "code",
   "execution_count": null,
   "metadata": {
    "id": "qJCSFa-eQq8A"
   },
   "outputs": [],
   "source": [
    "data3 = pd.concat([data2, dumm_weekday], axis=1)\n",
    "data3.head()"
   ]
  },
  {
   "cell_type": "markdown",
   "metadata": {
    "id": "rbPghHamQq8B"
   },
   "source": [
    "* 불필요한 변수를 제거합시다."
   ]
  },
  {
   "cell_type": "markdown",
   "metadata": {
    "id": "Rtlrx6P-grft"
   },
   "source": [
    "* 어떤 변수가 불필요한가요?  \n",
    "    - 날짜\n",
    "    - 전날로 뺀 변수의 원본\n",
    "    - 가변수화 한 변수의 원본\n",
    "    - 의미 없는 변수"
   ]
  },
  {
   "cell_type": "code",
   "execution_count": null,
   "metadata": {
    "id": "CyhktxgNQq8B"
   },
   "outputs": [],
   "source": [
    "# 칼럼삭제\n",
    "drop_x = ['Date','Open','High','Low','Volume','exch_Close','exch_Diff','WeekDay']\n",
    "data3.drop(drop_x, axis = 1, inplace = True)\n",
    "data3.head()"
   ]
  },
  {
   "cell_type": "code",
   "execution_count": null,
   "metadata": {
    "id": "N-ZH8imqe4hR"
   },
   "outputs": [],
   "source": [
    "# shift를 하다보내 행에 NaN이 다시 들어갔습니다. dropna로 제거합시다.\n",
    "data3 = data3.dropna(axis = 0)\n",
    "data3.head()"
   ]
  },
  {
   "cell_type": "markdown",
   "metadata": {
    "id": "9yerPxXufTDq"
   },
   "source": [
    "#### 실습 11 : dummy variable"
   ]
  },
  {
   "cell_type": "markdown",
   "metadata": {
    "id": "gVOdxY72yXSl"
   },
   "source": [
    "* Q1. 주가 데이터에서 월에 대하여 가변수화 합니다."
   ]
  },
  {
   "cell_type": "code",
   "execution_count": null,
   "metadata": {
    "id": "blCX1qTND6wl"
   },
   "outputs": [],
   "source": []
  },
  {
   "cell_type": "markdown",
   "metadata": {
    "id": "kwbimW0Dyn8l"
   },
   "source": [
    "* Q2. 가변수한 데이터를 기존 데이터와 결합합니다. ( concat )"
   ]
  },
  {
   "cell_type": "code",
   "execution_count": null,
   "metadata": {
    "id": "bRVfdATRAFlK"
   },
   "outputs": [],
   "source": []
  },
  {
   "cell_type": "markdown",
   "metadata": {
    "id": "RJO0iUVSzFeT"
   },
   "source": [
    "* Q3. 가변수화 하기 이전의 월 컬럼을 제거하세요."
   ]
  },
  {
   "cell_type": "code",
   "execution_count": null,
   "metadata": {
    "id": "Dq7YKS94AGgc"
   },
   "outputs": [],
   "source": []
  },
  {
   "cell_type": "markdown",
   "metadata": {
    "id": "NXwMq9aP0tEp"
   },
   "source": [
    "##### 간결한 방식"
   ]
  },
  {
   "cell_type": "code",
   "execution_count": null,
   "metadata": {
    "id": "jfwDe7sJ0z6A"
   },
   "outputs": [],
   "source": [
    "data3 = pd.get_dummies(data3, columns=['Month'], drop_first=True)"
   ]
  },
  {
   "cell_type": "code",
   "execution_count": null,
   "metadata": {
    "id": "f1rP94Kr1GfA"
   },
   "outputs": [],
   "source": [
    "data3.columns"
   ]
  },
  {
   "cell_type": "code",
   "execution_count": null,
   "metadata": {
    "id": "rd_RuRD14v6W"
   },
   "outputs": [],
   "source": [
    "data3.head()"
   ]
  },
  {
   "cell_type": "markdown",
   "metadata": {
    "id": "RB76YRCZh4TH"
   },
   "source": [
    "--------------------------------\n",
    "여기서 부터는 그냥 실행 해 볼 겁니다.  \n",
    "데이터를 얼추(!) 준비했으니, 모델링까지 수행해 봅니다."
   ]
  },
  {
   "cell_type": "markdown",
   "metadata": {
    "id": "RSOF5WWn8uwy"
   },
   "source": [
    "### 25.Data Split"
   ]
  },
  {
   "cell_type": "markdown",
   "metadata": {
    "id": "PMFw2PMMOsOO"
   },
   "source": [
    "sklearn의 데이터 분할 함수를 사용해 봅시다.\n",
    "\n",
    "* 요인, x, feature, 조작변수, 통제변수, 리스크백터, Input, (독립변수)\n",
    "* 결과, y, target, label, Output, (종속변수)"
   ]
  },
  {
   "cell_type": "code",
   "execution_count": null,
   "metadata": {
    "id": "uHnuBUJu8uwz"
   },
   "outputs": [],
   "source": [
    "from sklearn.model_selection import train_test_split"
   ]
  },
  {
   "cell_type": "code",
   "execution_count": null,
   "metadata": {
    "id": "4oYSYEtmKXZY"
   },
   "outputs": [],
   "source": [
    "# features와 target 분리\n",
    "X = data3.drop('Close', axis=1)\n",
    "y = data3.iloc[:, 0]"
   ]
  },
  {
   "cell_type": "code",
   "execution_count": null,
   "metadata": {
    "id": "TJZcPWrPO0_J"
   },
   "outputs": [],
   "source": [
    "# 전체에서 train : test = 7 : 3\n",
    "train_x, test_x, train_y, test_y = train_test_split(X, y, test_size=0.3, random_state=1)"
   ]
  },
  {
   "cell_type": "code",
   "execution_count": null,
   "metadata": {
    "id": "8GJ_-htx45EZ"
   },
   "outputs": [],
   "source": [
    "train_x.shape, train_y.shape"
   ]
  },
  {
   "cell_type": "markdown",
   "metadata": {
    "id": "xpmnf-v6RF0k"
   },
   "source": [
    "### 26.Scaling features\n",
    "\n",
    "\n"
   ]
  },
  {
   "cell_type": "code",
   "execution_count": null,
   "metadata": {
    "id": "gdwW7_F2hvRh"
   },
   "outputs": [],
   "source": [
    "from sklearn.preprocessing import MinMaxScaler"
   ]
  },
  {
   "cell_type": "code",
   "execution_count": null,
   "metadata": {
    "id": "aCrew3p2qhLz"
   },
   "outputs": [],
   "source": [
    "# 사용할 함수 선언\n",
    "scaler = MinMaxScaler()"
   ]
  },
  {
   "cell_type": "code",
   "execution_count": null,
   "metadata": {
    "id": "TPhCNZ0aqkUr"
   },
   "outputs": [],
   "source": [
    "# 함수 만들고\n",
    "scaler.fit(train_x)\n",
    "\n",
    "# 변환시키기\n",
    "train_x = scaler.transform(train_x)\n",
    "test_x = scaler.transform(test_x)\n"
   ]
  },
  {
   "cell_type": "markdown",
   "metadata": {
    "id": "zbwpz0ek8uw2"
   },
   "source": [
    "### 27.Dataframe to Numpy array"
   ]
  },
  {
   "cell_type": "markdown",
   "metadata": {
    "id": "BYr1vtpd8uw4"
   },
   "source": [
    "## 30.모델링"
   ]
  },
  {
   "cell_type": "markdown",
   "metadata": {
    "id": "Z31_h2AHGsjB"
   },
   "source": [
    "### 31.import"
   ]
  },
  {
   "cell_type": "code",
   "execution_count": null,
   "metadata": {
    "id": "oRB84_HE8uw5"
   },
   "outputs": [],
   "source": [
    "# Linear Regression\n",
    "from sklearn.linear_model import LinearRegression        # Linear Model\n",
    "from sklearn.metrics   import mean_squared_error         # Metric  MSE"
   ]
  },
  {
   "cell_type": "markdown",
   "metadata": {
    "id": "AvxoQdSTG1aV"
   },
   "source": [
    "### 32.모델선언"
   ]
  },
  {
   "cell_type": "code",
   "execution_count": null,
   "metadata": {
    "id": "UCEKvUAu8uw7"
   },
   "outputs": [],
   "source": [
    "# 모델 선언\n",
    "model = LinearRegression()"
   ]
  },
  {
   "cell_type": "markdown",
   "metadata": {
    "id": "muxufxrDG6k0"
   },
   "source": [
    "### 33.모델링(학습)"
   ]
  },
  {
   "cell_type": "code",
   "execution_count": null,
   "metadata": {
    "id": "HtRz5Gw6G7IH"
   },
   "outputs": [],
   "source": [
    "model.fit( train_x , train_y )"
   ]
  },
  {
   "cell_type": "markdown",
   "metadata": {
    "id": "p1wxcuSHHC9N"
   },
   "source": [
    "### 34.예측"
   ]
  },
  {
   "cell_type": "code",
   "execution_count": null,
   "metadata": {
    "id": "UgX-l3rgHDI7"
   },
   "outputs": [],
   "source": [
    "# 예측값을 뽑자.\n",
    "test_pred = model.predict(test_x)"
   ]
  },
  {
   "cell_type": "markdown",
   "metadata": {
    "id": "iiGs0Vn1HJdj"
   },
   "source": [
    "### 35.평가"
   ]
  },
  {
   "cell_type": "code",
   "execution_count": null,
   "metadata": {
    "id": "0ZRwQJXY8uw9"
   },
   "outputs": [],
   "source": [
    "# test set에서의 성능 확인\n",
    "mean_squared_error( test_y, test_pred, squared=False )"
   ]
  },
  {
   "cell_type": "markdown",
   "metadata": {
    "id": "023WrmgWilwf"
   },
   "source": [
    "나온 결과의 의미는?"
   ]
  }
 ],
 "metadata": {
  "colab": {
   "collapsed_sections": [
    "NXwMq9aP0tEp"
   ],
   "name": "03_데이터_전처리.ipynb",
   "provenance": []
  },
  "kernelspec": {
   "display_name": "Python 3",
   "language": "python",
   "name": "python3"
  },
  "language_info": {
   "codemirror_mode": {
    "name": "ipython",
    "version": 3
   },
   "file_extension": ".py",
   "mimetype": "text/x-python",
   "name": "python",
   "nbconvert_exporter": "python",
   "pygments_lexer": "ipython3",
   "version": "3.8.8"
  }
 },
 "nbformat": 4,
 "nbformat_minor": 1
}
