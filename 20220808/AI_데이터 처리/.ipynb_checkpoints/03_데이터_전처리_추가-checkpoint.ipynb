{
 "cells": [
  {
   "cell_type": "markdown",
   "metadata": {
    "id": "0SJP-uYxN0Lk"
   },
   "source": [
    "## 0.환경준비"
   ]
  },
  {
   "cell_type": "markdown",
   "metadata": {
    "id": "6dMK5CsEN0Lk"
   },
   "source": [
    "* 라이브러리 불러오기"
   ]
  },
  {
   "cell_type": "code",
   "execution_count": 1,
   "metadata": {
    "id": "Sma8Fku5N0Ll"
   },
   "outputs": [],
   "source": [
    "import pandas as pd\n",
    "import matplotlib.pyplot as plt\n",
    "import seaborn as sns"
   ]
  },
  {
   "cell_type": "code",
   "execution_count": 2,
   "metadata": {
    "id": "si-trqDhN0Lo"
   },
   "outputs": [
    {
     "data": {
      "text/html": [
       "<div>\n",
       "<style scoped>\n",
       "    .dataframe tbody tr th:only-of-type {\n",
       "        vertical-align: middle;\n",
       "    }\n",
       "\n",
       "    .dataframe tbody tr th {\n",
       "        vertical-align: top;\n",
       "    }\n",
       "\n",
       "    .dataframe thead th {\n",
       "        text-align: right;\n",
       "    }\n",
       "</style>\n",
       "<table border=\"1\" class=\"dataframe\">\n",
       "  <thead>\n",
       "    <tr style=\"text-align: right;\">\n",
       "      <th></th>\n",
       "      <th>PassengerId</th>\n",
       "      <th>Survived</th>\n",
       "      <th>Pclass</th>\n",
       "      <th>Title</th>\n",
       "      <th>Sex</th>\n",
       "      <th>Age</th>\n",
       "      <th>SibSp</th>\n",
       "      <th>Parch</th>\n",
       "      <th>Ticket</th>\n",
       "      <th>Fare</th>\n",
       "      <th>Cabin</th>\n",
       "      <th>Embarked</th>\n",
       "      <th>AgeGroup</th>\n",
       "      <th>Family</th>\n",
       "      <th>Mother</th>\n",
       "      <th>Fare2</th>\n",
       "    </tr>\n",
       "  </thead>\n",
       "  <tbody>\n",
       "    <tr>\n",
       "      <th>0</th>\n",
       "      <td>1</td>\n",
       "      <td>0</td>\n",
       "      <td>3</td>\n",
       "      <td>Mr</td>\n",
       "      <td>male</td>\n",
       "      <td>22.0</td>\n",
       "      <td>1</td>\n",
       "      <td>0</td>\n",
       "      <td>A/5 21171</td>\n",
       "      <td>7.2500</td>\n",
       "      <td>NaN</td>\n",
       "      <td>S</td>\n",
       "      <td>Age_20</td>\n",
       "      <td>2</td>\n",
       "      <td>0</td>\n",
       "      <td>7.2500</td>\n",
       "    </tr>\n",
       "    <tr>\n",
       "      <th>1</th>\n",
       "      <td>2</td>\n",
       "      <td>1</td>\n",
       "      <td>1</td>\n",
       "      <td>Mrs</td>\n",
       "      <td>female</td>\n",
       "      <td>38.0</td>\n",
       "      <td>1</td>\n",
       "      <td>0</td>\n",
       "      <td>PC 17599</td>\n",
       "      <td>71.2833</td>\n",
       "      <td>C85</td>\n",
       "      <td>C</td>\n",
       "      <td>Age_30</td>\n",
       "      <td>2</td>\n",
       "      <td>0</td>\n",
       "      <td>71.2833</td>\n",
       "    </tr>\n",
       "    <tr>\n",
       "      <th>2</th>\n",
       "      <td>3</td>\n",
       "      <td>1</td>\n",
       "      <td>3</td>\n",
       "      <td>Miss</td>\n",
       "      <td>female</td>\n",
       "      <td>26.0</td>\n",
       "      <td>0</td>\n",
       "      <td>0</td>\n",
       "      <td>STON/O2. 3101282</td>\n",
       "      <td>7.9250</td>\n",
       "      <td>NaN</td>\n",
       "      <td>S</td>\n",
       "      <td>Age_20</td>\n",
       "      <td>1</td>\n",
       "      <td>0</td>\n",
       "      <td>7.9250</td>\n",
       "    </tr>\n",
       "    <tr>\n",
       "      <th>3</th>\n",
       "      <td>4</td>\n",
       "      <td>1</td>\n",
       "      <td>1</td>\n",
       "      <td>Mrs</td>\n",
       "      <td>female</td>\n",
       "      <td>35.0</td>\n",
       "      <td>1</td>\n",
       "      <td>0</td>\n",
       "      <td>113803</td>\n",
       "      <td>53.1000</td>\n",
       "      <td>C123</td>\n",
       "      <td>S</td>\n",
       "      <td>Age_30</td>\n",
       "      <td>2</td>\n",
       "      <td>0</td>\n",
       "      <td>53.1000</td>\n",
       "    </tr>\n",
       "    <tr>\n",
       "      <th>4</th>\n",
       "      <td>5</td>\n",
       "      <td>0</td>\n",
       "      <td>3</td>\n",
       "      <td>Mr</td>\n",
       "      <td>male</td>\n",
       "      <td>35.0</td>\n",
       "      <td>0</td>\n",
       "      <td>0</td>\n",
       "      <td>373450</td>\n",
       "      <td>8.0500</td>\n",
       "      <td>NaN</td>\n",
       "      <td>S</td>\n",
       "      <td>Age_30</td>\n",
       "      <td>1</td>\n",
       "      <td>0</td>\n",
       "      <td>8.0500</td>\n",
       "    </tr>\n",
       "  </tbody>\n",
       "</table>\n",
       "</div>"
      ],
      "text/plain": [
       "   PassengerId  Survived  Pclass Title     Sex   Age  SibSp  Parch  \\\n",
       "0            1         0       3    Mr    male  22.0      1      0   \n",
       "1            2         1       1   Mrs  female  38.0      1      0   \n",
       "2            3         1       3  Miss  female  26.0      0      0   \n",
       "3            4         1       1   Mrs  female  35.0      1      0   \n",
       "4            5         0       3    Mr    male  35.0      0      0   \n",
       "\n",
       "             Ticket     Fare Cabin Embarked AgeGroup  Family  Mother    Fare2  \n",
       "0         A/5 21171   7.2500   NaN        S   Age_20       2       0   7.2500  \n",
       "1          PC 17599  71.2833   C85        C   Age_30       2       0  71.2833  \n",
       "2  STON/O2. 3101282   7.9250   NaN        S   Age_20       1       0   7.9250  \n",
       "3            113803  53.1000  C123        S   Age_30       2       0  53.1000  \n",
       "4            373450   8.0500   NaN        S   Age_30       1       0   8.0500  "
      ]
     },
     "execution_count": 2,
     "metadata": {},
     "output_type": "execute_result"
    }
   ],
   "source": [
    "# 타이타닉 데이터\n",
    "titanic = pd.read_csv('https://raw.githubusercontent.com/DA4BAM/dataset/master/titanic.1.csv')\n",
    "titanic.head()"
   ]
  },
  {
   "cell_type": "code",
   "execution_count": 3,
   "metadata": {
    "id": "NJMWHq5pQqyM"
   },
   "outputs": [
    {
     "data": {
      "text/html": [
       "<div>\n",
       "<style scoped>\n",
       "    .dataframe tbody tr th:only-of-type {\n",
       "        vertical-align: middle;\n",
       "    }\n",
       "\n",
       "    .dataframe tbody tr th {\n",
       "        vertical-align: top;\n",
       "    }\n",
       "\n",
       "    .dataframe thead th {\n",
       "        text-align: right;\n",
       "    }\n",
       "</style>\n",
       "<table border=\"1\" class=\"dataframe\">\n",
       "  <thead>\n",
       "    <tr style=\"text-align: right;\">\n",
       "      <th></th>\n",
       "      <th>Date</th>\n",
       "      <th>Open</th>\n",
       "      <th>High</th>\n",
       "      <th>Low</th>\n",
       "      <th>Close</th>\n",
       "      <th>Volume</th>\n",
       "      <th>DataSplit</th>\n",
       "      <th>Year</th>\n",
       "      <th>Month</th>\n",
       "      <th>Weekday</th>\n",
       "    </tr>\n",
       "  </thead>\n",
       "  <tbody>\n",
       "    <tr>\n",
       "      <th>0</th>\n",
       "      <td>2014-09-30</td>\n",
       "      <td>2023.18</td>\n",
       "      <td>2029.17</td>\n",
       "      <td>2007.30</td>\n",
       "      <td>2020.09</td>\n",
       "      <td>322812</td>\n",
       "      <td>0</td>\n",
       "      <td>2014</td>\n",
       "      <td>9</td>\n",
       "      <td>1</td>\n",
       "    </tr>\n",
       "    <tr>\n",
       "      <th>1</th>\n",
       "      <td>2014-10-01</td>\n",
       "      <td>2013.47</td>\n",
       "      <td>2013.47</td>\n",
       "      <td>1989.84</td>\n",
       "      <td>1991.54</td>\n",
       "      <td>351581</td>\n",
       "      <td>0</td>\n",
       "      <td>2014</td>\n",
       "      <td>10</td>\n",
       "      <td>2</td>\n",
       "    </tr>\n",
       "    <tr>\n",
       "      <th>2</th>\n",
       "      <td>2014-10-02</td>\n",
       "      <td>1984.43</td>\n",
       "      <td>1985.06</td>\n",
       "      <td>1966.17</td>\n",
       "      <td>1976.16</td>\n",
       "      <td>322656</td>\n",
       "      <td>0</td>\n",
       "      <td>2014</td>\n",
       "      <td>10</td>\n",
       "      <td>3</td>\n",
       "    </tr>\n",
       "    <tr>\n",
       "      <th>3</th>\n",
       "      <td>2014-10-06</td>\n",
       "      <td>1987.89</td>\n",
       "      <td>1988.39</td>\n",
       "      <td>1968.30</td>\n",
       "      <td>1968.39</td>\n",
       "      <td>325078</td>\n",
       "      <td>0</td>\n",
       "      <td>2014</td>\n",
       "      <td>10</td>\n",
       "      <td>0</td>\n",
       "    </tr>\n",
       "    <tr>\n",
       "      <th>4</th>\n",
       "      <td>2014-10-07</td>\n",
       "      <td>1979.83</td>\n",
       "      <td>1982.96</td>\n",
       "      <td>1966.22</td>\n",
       "      <td>1972.91</td>\n",
       "      <td>328234</td>\n",
       "      <td>0</td>\n",
       "      <td>2014</td>\n",
       "      <td>10</td>\n",
       "      <td>1</td>\n",
       "    </tr>\n",
       "  </tbody>\n",
       "</table>\n",
       "</div>"
      ],
      "text/plain": [
       "        Date     Open     High      Low    Close  Volume  DataSplit  Year  \\\n",
       "0 2014-09-30  2023.18  2029.17  2007.30  2020.09  322812          0  2014   \n",
       "1 2014-10-01  2013.47  2013.47  1989.84  1991.54  351581          0  2014   \n",
       "2 2014-10-02  1984.43  1985.06  1966.17  1976.16  322656          0  2014   \n",
       "3 2014-10-06  1987.89  1988.39  1968.30  1968.39  325078          0  2014   \n",
       "4 2014-10-07  1979.83  1982.96  1966.22  1972.91  328234          0  2014   \n",
       "\n",
       "   Month  Weekday  \n",
       "0      9        1  \n",
       "1     10        2  \n",
       "2     10        3  \n",
       "3     10        0  \n",
       "4     10        1  "
      ]
     },
     "execution_count": 3,
     "metadata": {},
     "output_type": "execute_result"
    }
   ],
   "source": [
    "# 코스피 지수\n",
    "stock = pd.read_csv('https://raw.githubusercontent.com/DA4BAM/dataset/master/KOSPI.csv')\n",
    "stock['Date'] = pd.to_datetime(stock['Date'])\n",
    "stock['Year'] = stock.Date.dt.year\n",
    "stock['Month'] = stock.Date.dt.month\n",
    "stock['Weekday'] = stock.Date.dt.weekday\n",
    "stock.head()"
   ]
  },
  {
   "cell_type": "markdown",
   "metadata": {
    "id": "24HAzukSN0Ls"
   },
   "source": [
    "## 1.교차표(pd.crosstab)\n",
    "\n",
    "범주 vs 범주 를 비교하고 분석하기 위해서는 먼저 **교차표**를 만들어야 합니다."
   ]
  },
  {
   "cell_type": "markdown",
   "metadata": {
    "id": "_ZAUjkluWcnp"
   },
   "source": [
    "* pd.crosstab(행, 열)"
   ]
  },
  {
   "cell_type": "code",
   "execution_count": null,
   "metadata": {
    "id": "PVVnjqcSYFWs"
   },
   "outputs": [],
   "source": [
    "# 두 범주별 빈도수를 교차표로 만들어 봅시다.\n",
    "pd.crosstab(titanic['Survived'], titanic['Sex'])"
   ]
  },
  {
   "cell_type": "code",
   "execution_count": null,
   "metadata": {
    "id": "Sz_WMRE0lZAs"
   },
   "outputs": [],
   "source": [
    "pd.crosstab(titanic['Survived'], titanic['Embarked'])"
   ]
  },
  {
   "cell_type": "markdown",
   "metadata": {
    "id": "F4YQ63QpXZKb"
   },
   "source": [
    "* pd.crosstab(행, 열, normalize =   )\n",
    "\n",
    "<img src='https://github.com/DA4BAM/image/blob/main/crosstab.png?raw=true' width=700/>\n"
   ]
  },
  {
   "cell_type": "markdown",
   "metadata": {
    "id": "CZX5a3xkICue"
   },
   "source": [
    "* x를 기준으로 y의 비율을 살펴본다."
   ]
  },
  {
   "cell_type": "code",
   "execution_count": null,
   "metadata": {
    "id": "xNNBmdowHt1T"
   },
   "outputs": [],
   "source": [
    "# pd.crosstab( y, x, normalize = 'columns') <== 권장!\n",
    "pd.crosstab(titanic['Survived'], titanic['Embarked'], normalize = 'columns')"
   ]
  },
  {
   "cell_type": "code",
   "execution_count": null,
   "metadata": {
    "id": "HqRdrSu-JBbX"
   },
   "outputs": [],
   "source": [
    "pd.crosstab(titanic['Survived'], titanic['Embarked'], normalize = 'index')"
   ]
  },
  {
   "cell_type": "code",
   "execution_count": null,
   "metadata": {
    "id": "S8yAEvtzJHEg"
   },
   "outputs": [],
   "source": [
    "pd.crosstab(titanic['Survived'], titanic['Embarked'], normalize = 'all')"
   ]
  },
  {
   "cell_type": "markdown",
   "metadata": {
    "id": "r1N9VhYY3Ffy"
   },
   "source": [
    "## 2.pivot + heatmap : 두 범주 집계 시각화\n",
    "\n",
    "https://seaborn.pydata.org/generated/seaborn.heatmap.html\n",
    "\n",
    "* 두 범주를 집계한 결과를 색의 농도로 표현해주는 그래프입니다.\n",
    "* 집계(groupby)와 피봇(pivot)을 먼저 만들어 줘야 합니다.\n",
    "* 여러 범주를 갖는 변수 비교 시 유용합니다.\n"
   ]
  },
  {
   "cell_type": "code",
   "execution_count": null,
   "metadata": {
    "id": "9lVJykexFzY6"
   },
   "outputs": [],
   "source": [
    "titanic.head()"
   ]
  },
  {
   "cell_type": "code",
   "execution_count": null,
   "metadata": {
    "id": "kH_1hcKxF5UD"
   },
   "outputs": [],
   "source": [
    "temp1 = titanic.groupby(['Embarked','Pclass'], as_index = False)['PassengerId'].count()\n",
    "temp1.head()"
   ]
  },
  {
   "cell_type": "code",
   "execution_count": null,
   "metadata": {
    "id": "PmlllQNFF-qE"
   },
   "outputs": [],
   "source": [
    "temp1.pivot('Embarked','Pclass', 'PassengerId')"
   ]
  },
  {
   "cell_type": "code",
   "execution_count": null,
   "metadata": {
    "id": "HcRi3BY3N0Lw"
   },
   "outputs": [],
   "source": [
    "temp1 = titanic.groupby(['Embarked','Pclass'], as_index = False)['PassengerId'].count()\n",
    "temp2 = temp1.pivot('Embarked','Pclass', 'PassengerId')\n",
    "print(temp2)\n",
    "\n",
    "sns.heatmap(temp2, annot = True)\n",
    "plt.show()"
   ]
  },
  {
   "cell_type": "code",
   "execution_count": null,
   "metadata": {
    "id": "Lh-zjizUQxlU"
   },
   "outputs": [],
   "source": [
    "# 값을 정수로, 구간 간격을 살짝 벌려서 그리자.\n",
    "sns.heatmap(temp2, annot = True, fmt = 'd', linewidth = .2)\n",
    "plt.show()"
   ]
  },
  {
   "cell_type": "markdown",
   "metadata": {
    "id": "n5Mj2ll8pHUr"
   },
   "source": [
    "* 추가 : pivot\n",
    "    * pivot 함수를 이용하여 집계된 데이터를 재구성할 수 있습니다.\n",
    "    * 문법 : dataframe.pivot(index, colums, values)\n"
   ]
  },
  {
   "cell_type": "markdown",
   "metadata": {
    "id": "CpEEnpSvSqfV"
   },
   "source": [
    "<img src='https://github.com/DA4BAM/image/blob/main/pivot.png?raw=true' width=600/>"
   ]
  },
  {
   "cell_type": "markdown",
   "metadata": {
    "id": "ofdnUubOQz8W"
   },
   "source": [
    "### 연도별, 월별 평균 주가"
   ]
  },
  {
   "cell_type": "markdown",
   "metadata": {
    "id": "JAAcW8AIIXUX"
   },
   "source": [
    "① [groupby] stock 데이터를 이용하여 year별, month별 평균 주가(close)를 집계하시오."
   ]
  },
  {
   "cell_type": "code",
   "execution_count": null,
   "metadata": {
    "id": "grEiSpmaIXUX"
   },
   "outputs": [],
   "source": [
    "temp1 = stock.groupby(['Year','Month'], as_index = False)['Close'].mean()"
   ]
  },
  {
   "cell_type": "markdown",
   "metadata": {
    "id": "YhcgLF4rIXUY"
   },
   "source": [
    "② [pivot]  'Year','Month', 'Close' 으로 피봇시키시오."
   ]
  },
  {
   "cell_type": "code",
   "execution_count": null,
   "metadata": {
    "id": "1HCKTv2hIXUY"
   },
   "outputs": [],
   "source": [
    "temp2 = temp1.pivot( 'Year','Month', 'Close')\n",
    "temp2"
   ]
  },
  {
   "cell_type": "markdown",
   "metadata": {
    "id": "Vv7NFfHwIXUY"
   },
   "source": [
    "③ heatmap을 그리시오."
   ]
  },
  {
   "cell_type": "code",
   "execution_count": null,
   "metadata": {
    "id": "F-T0Ai6SIXUY"
   },
   "outputs": [],
   "source": [
    "plt.figure(figsize = (15,6))\n",
    "sns.heatmap(temp2, annot = True, fmt = '.1f', linewidth = .2)\n",
    "plt.show()"
   ]
  },
  {
   "cell_type": "markdown",
   "metadata": {
    "id": "R-Ax6T2XRnmO"
   },
   "source": [
    "## 3.시계열 데이터"
   ]
  },
  {
   "cell_type": "code",
   "execution_count": null,
   "metadata": {
    "id": "eDnEon_QRpaL"
   },
   "outputs": [],
   "source": [
    "path = 'https://raw.githubusercontent.com/DA4BAM/dataset/master/retail_demand2.csv'\n",
    "data = pd.read_csv(path, usecols = ['date',\t'comp_sales'])\n",
    "data = data.loc[data['date']<= '2015-12-31'].reset_index(drop = True)\n",
    "data.columns = ['date',\t'sales']\n",
    "data.head(10)"
   ]
  },
  {
   "cell_type": "code",
   "execution_count": null,
   "metadata": {
    "id": "OW6EyFhIRqq_"
   },
   "outputs": [],
   "source": [
    "data['date'] = pd.to_datetime(data['date'])"
   ]
  },
  {
   "cell_type": "markdown",
   "metadata": {
    "id": "wy3Kf5te0hjV"
   },
   "source": [
    "### 1) 날짜 요소 뽑기"
   ]
  },
  {
   "cell_type": "markdown",
   "metadata": {
    "id": "oF3Cg16VPqLC"
   },
   "source": [
    "| 메서드 | 내용|\n",
    "|----|----|\n",
    "data['date'].dt.date         \t\t| YYYY-MM-DD(문자)\n",
    "data['date'].dt.year         \t\t| 연(4자리숫자)\n",
    "data['date'].dt.month        \t\t| 월(숫자)\n",
    "data['date'].dt.month_name()\t\t| 월(문자)\n",
    "data['date'].dt.day          \t\t| 일(숫자)\n",
    "data['date'].dt.time         \t\t| HH:MM:SS(문자)\n",
    "data['date'].dt.hour         \t\t| 시(숫자)\n",
    "data['date'].dt.minute       \t\t| 분(숫자)\n",
    "data['date'].dt.second       \t\t| 초(숫자)\n",
    "data['date'].dt.quarter       \t\t| 분기(숫자)\n",
    "data['date'].dt.day_name()  \t| 요일이름(문자)\n",
    "data['date'].dt.weekday       \t\t| 요일숫자(0-월, 1-화) (=dayofweek)\n",
    "data['date'].dt.weekofyear    \t\t| 연 기준 몇주째(숫자) (=week)\n",
    "data['date'].dt.dayofyear     \t\t| 연 기준 몇일째(숫자)\n",
    "data['date'].dt.days_in_month \t| 월 일수(숫자) (=daysinmonth)\n",
    "\n"
   ]
  },
  {
   "cell_type": "markdown",
   "metadata": {
    "id": "I6z5oXqK_i2Q"
   },
   "source": [
    "* 요일"
   ]
  },
  {
   "cell_type": "code",
   "execution_count": null,
   "metadata": {
    "id": "9uckqZPU0jvF"
   },
   "outputs": [],
   "source": [
    "data['date'].dt.day_name()"
   ]
  },
  {
   "cell_type": "code",
   "execution_count": null,
   "metadata": {
    "id": "W_K6WuG3AQHX"
   },
   "outputs": [],
   "source": [
    "# 문자열 길이를 첫 3글짜로 잘라서 저장하기\n",
    "# .str.slice(시작, 끝)\n",
    "data['date'].dt.day_name().str.slice(0, 3)"
   ]
  },
  {
   "cell_type": "code",
   "execution_count": null,
   "metadata": {
    "id": "APSlME5u0z6a"
   },
   "outputs": [],
   "source": [
    "data['weekday'] = data['date'].dt.day_name().str.slice(0, 3)\n",
    "data.head()"
   ]
  },
  {
   "cell_type": "markdown",
   "metadata": {
    "id": "pccDKSGd0kCE"
   },
   "source": [
    "### 2) shift"
   ]
  },
  {
   "cell_type": "code",
   "execution_count": null,
   "metadata": {
    "id": "rY-L3LbZB7yx"
   },
   "outputs": [],
   "source": [
    "temp = data[['date', 'sales']].copy()\n",
    "temp.head()"
   ]
  },
  {
   "cell_type": "code",
   "execution_count": null,
   "metadata": {
    "id": "W7D2Ga5nCFqG"
   },
   "outputs": [],
   "source": [
    "# shift(1)\n",
    "temp['lag1'] = temp['sales'].shift()\n",
    "\n",
    "# shift(2)\n",
    "temp['lag2'] = temp['sales'].shift(2)\n",
    "\n",
    "# shift(-1)\n",
    "temp['lag_1'] = temp['sales'].shift(-1)\n",
    "temp.head()"
   ]
  },
  {
   "cell_type": "markdown",
   "metadata": {
    "id": "WEQl-bOTAwij"
   },
   "source": [
    "* 7일 전 판매량"
   ]
  },
  {
   "cell_type": "code",
   "execution_count": null,
   "metadata": {
    "id": "v17H8LB10mHb"
   },
   "outputs": [],
   "source": [
    "data['lag7'] = data['y'].shift(7)\n",
    "data.head(10)"
   ]
  },
  {
   "cell_type": "markdown",
   "metadata": {
    "id": "osDzGk8r0mey"
   },
   "source": [
    "### 3) diff\n",
    "특정 시점 대비 증감"
   ]
  },
  {
   "cell_type": "code",
   "execution_count": null,
   "metadata": {
    "id": "KD2U0h7M0n8p"
   },
   "outputs": [],
   "source": [
    "temp = data[['date', 'sales']].copy()\n",
    "temp.head()"
   ]
  },
  {
   "cell_type": "code",
   "execution_count": null,
   "metadata": {
    "id": "SturPGHFDQJC"
   },
   "outputs": [],
   "source": [
    "# 전일대비 증감\n",
    "temp['Diff1'] = temp['sales'].diff()\n",
    "\n",
    "# 2일 전 대비 증가\n",
    "temp['Diff2'] = temp['sales'].diff(2)\n",
    "\n",
    "temp.head()"
   ]
  },
  {
   "cell_type": "markdown",
   "metadata": {
    "id": "9QSzkv9NDQqB"
   },
   "source": [
    "* 전일 대비 증감"
   ]
  },
  {
   "cell_type": "code",
   "execution_count": null,
   "metadata": {
    "id": "Te9KAMWEDRoB"
   },
   "outputs": [],
   "source": [
    "data['Diff1'] = data['sales'].diff()"
   ]
  },
  {
   "cell_type": "markdown",
   "metadata": {
    "id": "LkaycwiFDS7S"
   },
   "source": [
    "* 7일 대비 증가"
   ]
  },
  {
   "cell_type": "code",
   "execution_count": null,
   "metadata": {
    "id": "OtLdaxTsD1oX"
   },
   "outputs": [],
   "source": [
    "data['Diff7'] = data['sales'].diff(7)\n",
    "\n",
    "data.head(10)"
   ]
  },
  {
   "cell_type": "code",
   "execution_count": null,
   "metadata": {
    "id": "NQwMaJuMGO2J"
   },
   "outputs": [],
   "source": []
  }
 ],
 "metadata": {
  "colab": {
   "collapsed_sections": [],
   "name": "04_데이터_전처리_추가.ipynb",
   "provenance": []
  },
  "kernelspec": {
   "display_name": "Python 3",
   "language": "python",
   "name": "python3"
  },
  "language_info": {
   "codemirror_mode": {
    "name": "ipython",
    "version": 3
   },
   "file_extension": ".py",
   "mimetype": "text/x-python",
   "name": "python",
   "nbconvert_exporter": "python",
   "pygments_lexer": "ipython3",
   "version": "3.8.8"
  }
 },
 "nbformat": 4,
 "nbformat_minor": 1
}
