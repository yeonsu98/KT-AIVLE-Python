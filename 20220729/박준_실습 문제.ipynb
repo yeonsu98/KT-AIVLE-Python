{
 "cells": [
  {
   "cell_type": "code",
   "execution_count": 1,
   "id": "6fd90301",
   "metadata": {},
   "outputs": [
    {
     "name": "stdout",
     "output_type": "stream",
     "text": [
      "10 5\n",
      "1 2 6 7 7 5 4 3 2 1\n",
      "1 2 4 3 2 1 "
     ]
    }
   ],
   "source": [
    "N, X = map(int, input().split())  # N, X 를 입력받음\n",
    "data = list(map(int, input().split())) # 리스트를 입력받음\n",
    "\n",
    "answer = []\n",
    "\n",
    "for i in data:\n",
    "    if i < X:\n",
    "        answer.append(i)\n",
    "        \n",
    "for i in answer:\n",
    "    print(i, end=' ')"
   ]
  },
  {
   "cell_type": "code",
   "execution_count": null,
   "id": "959ae9da",
   "metadata": {},
   "outputs": [],
   "source": [
    "num = int(input())\n",
    "vote = input()\n",
    "a, b = 0, 0\n",
    "\n",
    "for i in vote:\n",
    "    if i == 'A':\n",
    "        a += 1\n",
    "    else: b += 1\n",
    "        \n",
    "if a == b:\n",
    "    print('Tie')\n",
    "elif a > b:\n",
    "    print('A')\n",
    "else: print('B')"
   ]
  },
  {
   "cell_type": "code",
   "execution_count": null,
   "id": "a3ae1052",
   "metadata": {},
   "outputs": [],
   "source": [
    "test = []\n",
    "\n",
    "while(True):\n",
    "    a, b = map(int, input().split())\n",
    "    if a == 0 and b == 0:\n",
    "        break\n",
    "    test.append(a)\n",
    "    test.append(b)\n",
    "\n",
    "for i in range(0, len(test), 2):\n",
    "    if test[i+1]%test[i] == 0:\n",
    "        print('factor')\n",
    "    elif test[i]%test[i+1] == 0:\n",
    "        print('multiple')\n",
    "    else: print('neither')"
   ]
  }
 ],
 "metadata": {
  "kernelspec": {
   "display_name": "Python 3",
   "language": "python",
   "name": "python3"
  },
  "language_info": {
   "codemirror_mode": {
    "name": "ipython",
    "version": 3
   },
   "file_extension": ".py",
   "mimetype": "text/x-python",
   "name": "python",
   "nbconvert_exporter": "python",
   "pygments_lexer": "ipython3",
   "version": "3.8.8"
  }
 },
 "nbformat": 4,
 "nbformat_minor": 5
}
