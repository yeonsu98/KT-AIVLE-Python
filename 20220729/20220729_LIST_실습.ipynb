{
 "cells": [
  {
   "cell_type": "code",
   "execution_count": 3,
   "id": "3dde70ed",
   "metadata": {},
   "outputs": [
    {
     "name": "stdout",
     "output_type": "stream",
     "text": [
      "7\n",
      "t\n",
      "FLAC\n"
     ]
    }
   ],
   "source": [
    "# 리스트 원소의 최댓값 구하기\n",
    "\n",
    "def max_of(a):\n",
    "    maximum = a[0]\n",
    "    \n",
    "    for i in range(1, len(a)):\n",
    "        if a[i]>maximum:\n",
    "            maximum = a[i]\n",
    "        \n",
    "    return maximum\n",
    "\n",
    "t= (4, 7, 5, 6, 3)\n",
    "s='string'\n",
    "a=['DTS', 'AAC', 'FLAC']\n",
    "\n",
    "print(f'{max_of(t)}')\n",
    "print(f'{max_of(s)}')\n",
    "print(f'{max_of(a)}')"
   ]
  },
  {
   "cell_type": "code",
   "execution_count": 4,
   "id": "a55c80b9",
   "metadata": {},
   "outputs": [
    {
     "name": "stdout",
     "output_type": "stream",
     "text": [
      "3\n",
      "g\n",
      "AAC\n"
     ]
    }
   ],
   "source": [
    "# 미니실습 1) 리스트 원소의 최솟값 구하기 함수 min_of()\n",
    "\n",
    "def min_of(a):\n",
    "    minimum = a[0]\n",
    "    \n",
    "    for i in range(1, len(a)):\n",
    "        if a[i] < minimum:\n",
    "            minimum = a[i]\n",
    "            \n",
    "    return minimum\n",
    "\n",
    "t= (4, 7, 5, 6, 3)\n",
    "s='string'\n",
    "a=['DTS', 'AAC', 'FLAC']\n",
    "\n",
    "print(f'{min_of(t)}')\n",
    "print(f'{min_of(s)}')\n",
    "print(f'{min_of(a)}')"
   ]
  },
  {
   "cell_type": "code",
   "execution_count": 6,
   "id": "8382c889",
   "metadata": {},
   "outputs": [
    {
     "name": "stdout",
     "output_type": "stream",
     "text": [
      "리스트의 최댓값을 구합니다.\n",
      "원소 수를 입력하세요 : 5\n",
      "1번째 원소를 입력하세요 : 1\n",
      "2번째 원소를 입력하세요 : 2\n",
      "3번째 원소를 입력하세요 : 3\n",
      "4번째 원소를 입력하세요 : 4\n",
      "5번째 원소를 입력하세요 : 5\n",
      "최댓값은 5 입니다.\n"
     ]
    }
   ],
   "source": [
    "# 사용자가 입력한 리스트에서 최댓값 출력하기\n",
    "\n",
    "print('리스트의 최댓값을 구합니다.')\n",
    "num = int(input('원소 수를 입력하세요 : '))\n",
    "a = [None]*num\n",
    "\n",
    "for i in range(len(a)):\n",
    "    a[i] = int(input(f'{i+1}번째 원소를 입력하세요 : '))\n",
    "    \n",
    "print(f'최댓값은 {max_of(a)} 입니다.')"
   ]
  },
  {
   "cell_type": "code",
   "execution_count": 9,
   "id": "58c2134f",
   "metadata": {},
   "outputs": [
    {
     "name": "stdout",
     "output_type": "stream",
     "text": [
      "리스트의 최댓값을 구합니다.\n",
      "End를 입력하면 원소 입력이 종료됩니다.\n",
      "1번째 원소를 입력하세요 : 1\n",
      "2번째 원소를 입력하세요 : 2\n",
      "3번째 원소를 입력하세요 : End\n",
      "최댓값은 2 입니다.\n"
     ]
    }
   ],
   "source": [
    "# 사용자가 입력한 리스트에서 최댓값 출력하기(리스트 크기 선언 안함)\n",
    "\n",
    "print('리스트의 최댓값을 구합니다.')\n",
    "print('End를 입력하면 원소 입력이 종료됩니다.')\n",
    "\n",
    "i=0\n",
    "a=[]\n",
    "\n",
    "while(True):\n",
    "    s = input(f'{i+1}번째 원소를 입력하세요 : ')\n",
    "    if s == 'End':\n",
    "        break\n",
    "        \n",
    "    a.append(int(s))\n",
    "    i += 1\n",
    "    \n",
    "print(f'최댓값은 {max_of(a)} 입니다.')"
   ]
  },
  {
   "cell_type": "code",
   "execution_count": 10,
   "id": "ad207b96",
   "metadata": {},
   "outputs": [
    {
     "name": "stdout",
     "output_type": "stream",
     "text": [
      "x[0]번째 이름 : John\n",
      "x[1]번째 이름 : George\n",
      "x[2]번째 이름 : Paul\n",
      "x[3]번째 이름 : Ringo\n"
     ]
    }
   ],
   "source": [
    "# enumerate 함수로 스캔\n",
    "\n",
    "x = ['John', 'George', 'Paul', 'Ringo']\n",
    "\n",
    "for i, name in enumerate(x):\n",
    "    print(f'x[{i}]번째 이름 : {name}')"
   ]
  },
  {
   "cell_type": "code",
   "execution_count": 11,
   "id": "3996a6f4",
   "metadata": {},
   "outputs": [
    {
     "name": "stdout",
     "output_type": "stream",
     "text": [
      "[7, 6, 9, 3, 1, 5, 2]\n"
     ]
    }
   ],
   "source": [
    "# pseudo code\n",
    "\n",
    "def reverse(a):\n",
    "    \n",
    "    n = len(a)\n",
    "    \n",
    "    for i in range(n//2):\n",
    "        a[i], a[n-i-1] = a[n-i-1], a[i]\n",
    "        \n",
    "    return a\n",
    "\n",
    "a = [2, 5, 1, 3, 9, 6, 7]\n",
    "\n",
    "print(reverse(a))"
   ]
  },
  {
   "cell_type": "code",
   "execution_count": 12,
   "id": "b1d1e641",
   "metadata": {},
   "outputs": [
    {
     "name": "stdout",
     "output_type": "stream",
     "text": [
      "리스트를 역순으로 정렬합니다.\n",
      "End를 입력하면 원소 입력이 종료됩니다.\n",
      "0번째 원소를 입력하세요 : 1\n",
      "1번째 원소를 입력하세요 : 2\n",
      "2번째 원소를 입력하세요 : 3\n",
      "3번째 원소를 입력하세요 : 4\n",
      "4번째 원소를 입력하세요 : 5\n",
      "5번째 원소를 입력하세요 : End\n",
      "역순으로 정렬한 배열의 값은 [5, 4, 3, 2, 1] 입니다.\n"
     ]
    }
   ],
   "source": [
    "# 미니실습 2) 리스트를 사용자로부터 \n",
    "# 입력받아서 역순으로 정렬하여 리스트의 원소를 출력하여라.\n",
    "\n",
    "print('리스트를 역순으로 정렬합니다.')\n",
    "print('End를 입력하면 원소 입력이 종료됩니다.')\n",
    "\n",
    "i=0\n",
    "a=[]\n",
    "\n",
    "while(True):\n",
    "    s = input(f'{i}번째 원소를 입력하세요 : ')\n",
    "    if s == 'End':\n",
    "        break\n",
    "        \n",
    "    a.append(int(s))\n",
    "    i += 1\n",
    "    \n",
    "print(f'역순으로 정렬한 배열의 값은 {reverse(a)} 입니다.')"
   ]
  },
  {
   "cell_type": "code",
   "execution_count": 13,
   "id": "35b1a68d",
   "metadata": {},
   "outputs": [
    {
     "name": "stdout",
     "output_type": "stream",
     "text": [
      "리스트의 최댓값을 구합니다.\n",
      "원소 수를 입력하세요 : 5\n",
      "1번째 원소를 입력하세요 : 1\n",
      "2번째 원소를 입력하세요 : 2\n",
      "3번째 원소를 입력하세요 : 3\n",
      "4번째 원소를 입력하세요 : 4\n",
      "5번째 원소를 입력하세요 : 5\n",
      "역순으로 정렬한 배열의 값은 [5, 4, 3, 2, 1] 입니다.\n"
     ]
    }
   ],
   "source": [
    "print('리스트의 최댓값을 구합니다.')\n",
    "num = int(input('원소 수를 입력하세요 : '))\n",
    "a = [None]*num\n",
    "\n",
    "for i in range(len(a)):\n",
    "    a[i] = int(input(f'{i+1}번째 원소를 입력하세요 : '))\n",
    "    \n",
    "print(f'역순으로 정렬한 배열의 값은 {reverse(a)} 입니다.')"
   ]
  },
  {
   "cell_type": "code",
   "execution_count": 41,
   "id": "f8a0f247",
   "metadata": {},
   "outputs": [
    {
     "name": "stdout",
     "output_type": "stream",
     "text": [
      "선형검색을 합니다.\n",
      "찾고자 하는 값을 입력하세요 : 7\n",
      "6번째에 값이 존재합니다.\n"
     ]
    }
   ],
   "source": [
    "# 선형 검색 - while 사용\n",
    "\n",
    "def linear_search(a, key):\n",
    "    \n",
    "    i = 0\n",
    "    \n",
    "    while(True):\n",
    "        if i == len(a):\n",
    "            return -1\n",
    "        if a[i] == key:\n",
    "            return i\n",
    "        i += 1\n",
    "        \n",
    "a = [2, 5, 1, 3, 9, 6, 7]\n",
    "\n",
    "print(\"선형검색을 합니다.\")\n",
    "num = int(input('찾고자 하는 값을 입력하세요 : '))\n",
    "\n",
    "if linear_search(a, num) == -1:\n",
    "    print(\"값이 존재하지 않습니다.\")\n",
    "else : print(f'{linear_search(a, num)}번째에 값이 존재합니다.')"
   ]
  },
  {
   "cell_type": "code",
   "execution_count": 45,
   "id": "20ad1ecb",
   "metadata": {},
   "outputs": [
    {
     "name": "stdout",
     "output_type": "stream",
     "text": [
      "선형검색을 합니다.\n",
      "찾고자 하는 값을 입력하세요 : 7\n",
      "6번째에 값이 존재합니다.\n"
     ]
    }
   ],
   "source": [
    "# 선형 검색 - for 사용\n",
    "\n",
    "def linear_search_for(a, key):\n",
    "    \n",
    "    i = 0\n",
    "    \n",
    "    for i in range(len(a)):\n",
    "        if a[i] == key:\n",
    "            return i\n",
    "    return -1\n",
    "    \n",
    "print(\"선형검색을 합니다.\")\n",
    "num = int(input('찾고자 하는 값을 입력하세요 : '))\n",
    "\n",
    "if linear_search_for(a, num) == -1:\n",
    "    print(\"값이 존재하지 않습니다.\")\n",
    "else : print(f'{linear_search_for(a, num)}번째에 값이 존재합니다.')"
   ]
  },
  {
   "cell_type": "code",
   "execution_count": 46,
   "id": "aa9b58c9",
   "metadata": {},
   "outputs": [
    {
     "name": "stdout",
     "output_type": "stream",
     "text": [
      "선형검색을 합니다.\n",
      "찾고자 하는 값을 입력하세요 : 7\n",
      "6번째에 값이 존재합니다.\n"
     ]
    }
   ],
   "source": [
    "# 보초 검색\n",
    "\n",
    "def sentinel_search(b, key):\n",
    "    \n",
    "    a = b.copy() \n",
    "    a.append(key)\n",
    "    i = 0\n",
    "    \n",
    "    while(True):\n",
    "        \n",
    "        if a[i] == key: \n",
    "            break\n",
    "        i += 1\n",
    "        \n",
    "    return -1 if i == len(b) else i\n",
    "\n",
    "b = [2, 5, 1, 3, 9, 6, 7]\n",
    "\n",
    "print(\"선형검색을 합니다.\")\n",
    "num = int(input('찾고자 하는 값을 입력하세요 : '))\n",
    "\n",
    "if sentinel_search(b, num) == -1:\n",
    "    print(\"값이 존재하지 않습니다.\")\n",
    "else : print(f'{sentinel_search(b, num)}번째에 값이 존재합니다.')"
   ]
  },
  {
   "cell_type": "code",
   "execution_count": 58,
   "id": "7fc069b7",
   "metadata": {},
   "outputs": [],
   "source": [
    "# 미니실습 3\n",
    "\n",
    "# 선형검색\n",
    "def seq_search_linear(a, key):\n",
    "    \n",
    "    i = 0\n",
    "    j = 0\n",
    "    while(True):\n",
    "        j += 1\n",
    "        if i == len(a):\n",
    "            return (-1, j)\n",
    "        j += 1\n",
    "        if a[i] == key:\n",
    "            return (i, j)\n",
    "        i += 1"
   ]
  },
  {
   "cell_type": "code",
   "execution_count": 59,
   "id": "89acc9eb",
   "metadata": {},
   "outputs": [],
   "source": [
    "# 보초검색\n",
    "def seq_search_sentinel(b, key):\n",
    "    \n",
    "    a = b.copy() \n",
    "    a.append(key)\n",
    "    i = 0\n",
    "    j = 0\n",
    "    while(True):\n",
    "        j += 1\n",
    "        if a[i] == key: \n",
    "            break\n",
    "        i += 1\n",
    "        \n",
    "    return (-1, j) if i == len(b) else (i, j)"
   ]
  },
  {
   "cell_type": "code",
   "execution_count": 60,
   "id": "f0b5ed56",
   "metadata": {},
   "outputs": [
    {
     "name": "stdout",
     "output_type": "stream",
     "text": [
      "선형검색 While 문에서 검색값은 a[6]에 있습니다.\n",
      "선형검색 보초법에서 검색값은 a[6]에 있습니다.\n",
      "선형검색 While 문에서 if문은 14만큼 실행되었습니다.\n",
      "선형검색 보초법에서 if문은 7만큼 실행되었습니다.\n"
     ]
    }
   ],
   "source": [
    "a = [2, 5, 1, 3, 9, 6, 7]\n",
    "\n",
    "index0, counter0 = seq_search_linear(a, 7)\n",
    "index1, counter1 = seq_search_sentinel(a, 7)\n",
    "\n",
    "if index0 == -1 and index1 == -1:\n",
    "    print('검색값을 갖는 원소가 존재하지 않습니다.')\n",
    "else:\n",
    "    print(f'선형검색 While 문에서 검색값은 a[{index0}]에 있습니다.')\n",
    "    print(f'선형검색 보초법에서 검색값은 a[{index1}]에 있습니다.')\n",
    "    print(f'선형검색 While 문에서 if문은 {counter0}만큼 실행되었습니다.')\n",
    "    print(f'선형검색 보초법에서 if문은 {counter1}만큼 실행되었습니다.')"
   ]
  },
  {
   "cell_type": "code",
   "execution_count": 53,
   "id": "2e164f2a",
   "metadata": {},
   "outputs": [
    {
     "data": {
      "text/plain": [
       "[1, 2, 3]"
      ]
     },
     "execution_count": 53,
     "metadata": {},
     "output_type": "execute_result"
    }
   ],
   "source": [
    "a = [1, 2, 3]\n",
    "b = a.copy() #깊은 복사\n",
    "\n",
    "b.append(4)\n",
    "\n",
    "a # 원본 a에는 영향을 주지 않음 [1,2,3]"
   ]
  },
  {
   "cell_type": "code",
   "execution_count": 54,
   "id": "64cce687",
   "metadata": {},
   "outputs": [
    {
     "data": {
      "text/plain": [
       "[1, 2, 3, 4]"
      ]
     },
     "execution_count": 54,
     "metadata": {},
     "output_type": "execute_result"
    }
   ],
   "source": [
    "a = [1, 2, 3]\n",
    "b = a #얕은 복사\n",
    "\n",
    "b.append(4)\n",
    "\n",
    "a # 원본 a에도 영향을 줌 [1,2,3,4]"
   ]
  },
  {
   "cell_type": "code",
   "execution_count": 62,
   "id": "2a5fae53",
   "metadata": {},
   "outputs": [
    {
     "name": "stdout",
     "output_type": "stream",
     "text": [
      "검색값은 a[6]에 있습니다.\n"
     ]
    }
   ],
   "source": [
    "# 이진 검색\n",
    "\n",
    "def binary_search(a, key):\n",
    "    pl = 0\n",
    "    pr = len(a)-1\n",
    "    \n",
    "    while(True):\n",
    "        pc = (pl+pr)//2\n",
    "        \n",
    "        if a[pc] == key:\n",
    "            return pc\n",
    "        elif key > a[pc]:\n",
    "            pl = pc + 1\n",
    "        else:\n",
    "            pr = pc - 1\n",
    "            \n",
    "        if pl > pr: break\n",
    "            \n",
    "    return -1\n",
    "\n",
    "a = [5, 7, 15, 28, 29, 31, 39, 58, 68, 70, 95]\n",
    "\n",
    "index = binary_search(a, 39)\n",
    "\n",
    "if index == -1:\n",
    "    print('검색값을 갖는 원소가 존재하지 않습니다.')\n",
    "else:\n",
    "    print(f'검색값은 a[{index}]에 있습니다.')"
   ]
  },
  {
   "cell_type": "markdown",
   "id": "182b76df",
   "metadata": {},
   "source": [
    "## 실습 1"
   ]
  },
  {
   "cell_type": "markdown",
   "id": "c27dcf0e",
   "metadata": {},
   "source": [
    "### Q) 2부터 1000사이의 수 중에서 소수를 리스트에 입력하고 출력하여라."
   ]
  },
  {
   "cell_type": "code",
   "execution_count": 67,
   "id": "007e6b11",
   "metadata": {},
   "outputs": [
    {
     "name": "stdout",
     "output_type": "stream",
     "text": [
      "소수는 [2, 3, 5, 7, 11, 13, 17, 19, 23, 29, 31, 37, 41, 43, 47, 53, 59, 61, 67, 71, 73, 79, 83, 89, 97, 101, 103, 107, 109, 113, 127, 131, 137, 139, 149, 151, 157, 163, 167, 173, 179, 181, 191, 193, 197, 199, 211, 223, 227, 229, 233, 239, 241, 251, 257, 263, 269, 271, 277, 281, 283, 293, 307, 311, 313, 317, 331, 337, 347, 349, 353, 359, 367, 373, 379, 383, 389, 397, 401, 409, 419, 421, 431, 433, 439, 443, 449, 457, 461, 463, 467, 479, 487, 491, 499, 503, 509, 521, 523, 541, 547, 557, 563, 569, 571, 577, 587, 593, 599, 601, 607, 613, 617, 619, 631, 641, 643, 647, 653, 659, 661, 673, 677, 683, 691, 701, 709, 719, 727, 733, 739, 743, 751, 757, 761, 769, 773, 787, 797, 809, 811, 821, 823, 827, 829, 839, 853, 857, 859, 863, 877, 881, 883, 887, 907, 911, 919, 929, 937, 941, 947, 953, 967, 971, 977, 983, 991, 997] 입니다\n"
     ]
    }
   ],
   "source": [
    "def sosu_def(a, b):\n",
    "    \n",
    "    sosu = []\n",
    "    \n",
    "    for i in range(a, b+1):\n",
    "        temp = []\n",
    "        for j in range(1, i+1):\n",
    "            if i%j == 0:\n",
    "                temp.append(j)\n",
    "        if len(temp) == 2:\n",
    "            sosu.append(i)\n",
    "            \n",
    "    return sosu\n",
    "\n",
    "print(f'소수는 {sosu_def(2, 1000)} 입니다')        "
   ]
  },
  {
   "cell_type": "code",
   "execution_count": 69,
   "id": "e169fe39",
   "metadata": {
    "scrolled": false
   },
   "outputs": [
    {
     "name": "stdout",
     "output_type": "stream",
     "text": [
      "소수는 [2, 3, 5, 7, 11, 13, 17, 19, 23, 29, 31, 37, 41, 43, 47, 53, 59, 61, 67, 71, 73, 79, 83, 89, 97, 101, 103, 107, 109, 113, 127, 131, 137, 139, 149, 151, 157, 163, 167, 173, 179, 181, 191, 193, 197, 199, 211, 223, 227, 229, 233, 239, 241, 251, 257, 263, 269, 271, 277, 281, 283, 293, 307, 311, 313, 317, 331, 337, 347, 349, 353, 359, 367, 373, 379, 383, 389, 397, 401, 409, 419, 421, 431, 433, 439, 443, 449, 457, 461, 463, 467, 479, 487, 491, 499, 503, 509, 521, 523, 541, 547, 557, 563, 569, 571, 577, 587, 593, 599, 601, 607, 613, 617, 619, 631, 641, 643, 647, 653, 659, 661, 673, 677, 683, 691, 701, 709, 719, 727, 733, 739, 743, 751, 757, 761, 769, 773, 787, 797, 809, 811, 821, 823, 827, 829, 839, 853, 857, 859, 863, 877, 881, 883, 887, 907, 911, 919, 929, 937, 941, 947, 953, 967, 971, 977, 983, 991, 997] 입니다\n"
     ]
    }
   ],
   "source": [
    "def sosu_def_1(a, b):\n",
    "    \n",
    "    sosu = []\n",
    "    \n",
    "    for i in range(a, b+1):\n",
    "        flag = 0\n",
    "        for j in range(2, i):\n",
    "            if i%j == 0:\n",
    "                flag = 1\n",
    "                break\n",
    "                \n",
    "        if flag == 0:\n",
    "            sosu.append(i)\n",
    "            \n",
    "    return sosu\n",
    "\n",
    "print(f'소수는 {sosu_def_1(2, 1000)} 입니다')  "
   ]
  },
  {
   "cell_type": "markdown",
   "id": "7000ee43",
   "metadata": {},
   "source": [
    "## 실습 2\n",
    "Q) 리스트를 사용자로부터 입력받아서 역순으로 정렬하여 리스트의 원소를 출력하여라.\n",
    "원소 수를 미리 묻지 말고 코드가 실행될 수 있도록하라."
   ]
  },
  {
   "cell_type": "code",
   "execution_count": 71,
   "id": "4f4e7004",
   "metadata": {},
   "outputs": [
    {
     "name": "stdout",
     "output_type": "stream",
     "text": [
      "리스트를 역순으로 정렬합니다.\n",
      "End를 입력하면 원소 입력이 종료됩니다.\n",
      "0번째 원소를 입력하세요 : 1\n",
      "1번째 원소를 입력하세요 : 2\n",
      "2번째 원소를 입력하세요 : 3\n",
      "3번째 원소를 입력하세요 : 4\n",
      "4번째 원소를 입력하세요 : 5\n",
      "5번째 원소를 입력하세요 : End\n",
      "역순으로 정렬한 배열의 값은 [5, 4, 3, 2, 1] 입니다.\n"
     ]
    }
   ],
   "source": [
    "print(\"리스트를 역순으로 정렬합니다.\")\n",
    "print('End를 입력하면 원소 입력이 종료됩니다.')\n",
    "\n",
    "i=0\n",
    "a=[]\n",
    "\n",
    "while(True):\n",
    "    s = input(f'{i}번째 원소를 입력하세요 : ')\n",
    "    if s == 'End':\n",
    "        break\n",
    "        \n",
    "    a.append(int(s))\n",
    "    i += 1\n",
    "    \n",
    "def reverse(a):\n",
    "    \n",
    "    n = len(a)\n",
    "    \n",
    "    for i in range(n//2):\n",
    "        a[i], a[n-i-1] = a[n-i-1], a[i]\n",
    "    \n",
    "    return a\n",
    "\n",
    "print(f'역순으로 정렬한 배열의 값은 {reverse(a)} 입니다.')"
   ]
  },
  {
   "cell_type": "code",
   "execution_count": null,
   "id": "281219b3",
   "metadata": {},
   "outputs": [],
   "source": []
  }
 ],
 "metadata": {
  "kernelspec": {
   "display_name": "Python 3",
   "language": "python",
   "name": "python3"
  },
  "language_info": {
   "codemirror_mode": {
    "name": "ipython",
    "version": 3
   },
   "file_extension": ".py",
   "mimetype": "text/x-python",
   "name": "python",
   "nbconvert_exporter": "python",
   "pygments_lexer": "ipython3",
   "version": "3.8.8"
  }
 },
 "nbformat": 4,
 "nbformat_minor": 5
}
